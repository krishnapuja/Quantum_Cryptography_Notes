{
 "cells": [
  {
   "cell_type": "markdown",
   "metadata": {
    "slideshow": {
     "slide_type": "slide"
    }
   },
   "source": [
    "# 1. The Basics of Complex Numbers \n",
    "\n",
    "### This lesson belongs to nanomodule 1 - unit 1\n",
    "\n",
    "\n",
    "<b>Learning Outcomes:</b>\n",
    "\n",
    "Upon completion of this lesson:\n",
    "\n",
    "1.1\tStudents will master the concept of complex number representations.\n",
    "\n",
    "1.2\tStudents will be able to perform basic additive and multiplicative operations on complex numbers.\n",
    "\n",
    "1.3\tStudents will be able to implement Python programs that perform basic operations of addition and multiplication on complex numbers.\n"
   ]
  },
  {
   "cell_type": "markdown",
   "metadata": {
    "slideshow": {
     "slide_type": "slide"
    }
   },
   "source": [
    "## 1.1 Warm-up\n",
    "\n",
    "Somethings to discuss:\n",
    "1. How would you solve equations such as $x^2+5x+6=0$ or $x^2+1=0$?\n",
    "2. Where do complex numbers fit in with respect to other number systems?\n",
    "3. Open discussions on systems that \"need\" complex numbers for description of system state (such as electromagnetic waves, electrical systems, etc.)"
   ]
  },
  {
   "cell_type": "markdown",
   "metadata": {
    "slideshow": {
     "slide_type": "slide"
    }
   },
   "source": [
    "## 1.2 Background\n",
    "\n",
    "In order to start understanding the theory behind quantum computing and cryptography, one needs to first understand what complex numbers are. It often comes as a surprise to many that complex numbers are deeply ingrained in quantum theory and nature for that matter!\n",
    "\n",
    "We usually work with the following number systems:\n",
    "<ul>\n",
    "     <li> Positive numbers, $\\mathbb{P} = {1, 2, 3, \\ldots}$ </li>\n",
    "     <li> Natural numbers, $\\mathbb{N} = {0, 1, 2, 3, \\ldots}$ </li>\n",
    "     <li> Integers, $\\mathbb{Z} = {\\ldots, -3, -2, -1, 0, 1, 2, 3, \\ldots}$ </li>\n",
    "     <li> Rational numbers, $\\mathbb{Q} = {\\frac{m}{n}|m\\in\\mathbb{Z}, n\\in\\mathbb{P}}$ </li>\n",
    "     <li> Real numbers, $\\mathbb{R} = \\mathbb{Q}\\cup{\\ldots,\\sqrt{2},\\ldots,e,\\ldots,\\pi,\\ldots,\\frac{e}{\\pi},\\ldots}$ </li>\n",
    "</ul>\n",
    "\n",
    "The last of these, set of real numbers, encompasses all the other types of number systems. So where do complex numbers come from and how do they fit in with the above commonly used number systems?"
   ]
  },
  {
   "cell_type": "markdown",
   "metadata": {
    "slideshow": {
     "slide_type": "slide"
    }
   },
   "source": [
    "## 1.3 Imaginary Numbers\n",
    "\n",
    "The birth of complex numbers is motivated by the desire to find solutions for polynomial equations. It is easy to see that some polynomials such as $x^2=-1$ do not have any solutions in real numbers. Mathematicians therefore had to take a leap of faith and assume that a solution to such equations does exist. In other words, there is a number that when squared will result in -1.\n",
    "\n",
    "They denoted this number by $i$, such that $i=\\sqrt{-1}$. Indeed, $i^2=-1$. Therefore, the solution to the above equation is $x=i$.\n",
    "\n",
    "This new number, $i$, clearly does not exist within the set of real numbers and is aptly called an *imaginary number*.\n",
    "\n",
    "We can use $i$ to do arithmetic operations. Therefore, $i^2=-1$, $i^3 = i\\times i\\times i = i^2\\times i=-1\\times i=-i$, $i^4=(i^2)^2=1$ and so on. Very soon a pattern emerges that can be used to compute higher powers of $i$."
   ]
  },
  {
   "cell_type": "markdown",
   "metadata": {
    "slideshow": {
     "slide_type": "slide"
    }
   },
   "source": [
    "## Quiz 1.1 Self Assessment Quiz \n",
    "<b>Maybe used for in-class hands-on practice.</b>\n",
    "\n",
    "<b><i>Run the code in the next cell to generate a interactive version of this quiz.</i></b>\n",
    "\n",
    "1. Solve for $x$ where $x^2+25=0$. Choose the right answer:\n",
    "\n",
    "    a. x=5i\n",
    "\n",
    "    b. x=-5i\n",
    "\n",
    "    c. x=i\n",
    "\n",
    "    d. x=5\n",
    "<br><br>\n",
    "2. Simplify $i^{225}$. (Hint: find a pattern)"
   ]
  },
  {
   "cell_type": "code",
   "execution_count": 1,
   "metadata": {
    "slideshow": {
     "slide_type": "slide"
    }
   },
   "outputs": [
    {
     "data": {
      "application/vnd.jupyter.widget-view+json": {
       "model_id": "307e6eada00240d5859a13c2fdd27c4c",
       "version_major": 2,
       "version_minor": 0
      },
      "text/plain": [
       "VBox(children=(HTML(value='<b><font size=\"+2\">Quiz 1.1 Self Assessment Quiz'), HTML(value='<b><font size=\"-1\"<…"
      ]
     },
     "execution_count": 1,
     "metadata": {},
     "output_type": "execute_result"
    }
   ],
   "source": [
    "%run src/Home  #This runs the file that has the quiz code"
   ]
  },
  {
   "cell_type": "markdown",
   "metadata": {
    "slideshow": {
     "slide_type": "slide"
    }
   },
   "source": [
    "## 1.4 Complex Numbers\n",
    "\n",
    "Now that we know what real numbers look like and what imaginary numbers look like, we can define a complex number as follows,\n",
    "\n",
    "*A <b>complex number</b> is a combination of real and imaginary numbers. Therefore, an expression $c=a+b\\times i = a+bi$, where $a$ and $b$ are real numbers is said to be a complex number. Here $bi=b\\times i$ is understood.*\n",
    "\n",
    "Note that when $a=0$, we only have $c=bi$ and is a valid complex number. Often $a$ is called the real part of $c$ and $b$ is called the imaginary part of $c$. The set of all complex numbers is denoted by $\\mathbb{C}$."
   ]
  },
  {
   "cell_type": "markdown",
   "metadata": {
    "slideshow": {
     "slide_type": "slide"
    }
   },
   "source": [
    "## 1.5 Operations on Complex Numbers\n",
    "\n",
    "Let's look at couple of operations on complex numbers: addition and multiplication,\n",
    "\n",
    "<b>Addition:</b> If $c_1 = a_1+b_1i$ and $c_2=a_2+b_2i$, then $c_1+c_2=(a_1+a_2)+(b_1+b_2)i$.\n",
    "\n",
    "<b>Multiplication:</b> If $c_1 = a_1+b_1i$ and $c_2=a_2+b_2i$, then $c_1\\times c_2=(a_1a_2-b_1b_2)+(a_1b_2+a_2b_1)i$.\n",
    "\n",
    "Therefore, $i$ is almost treated as a variable.\n",
    "\n",
    "Example:\n",
    "\n",
    "Let $c_1=5+11i$ and $c_2=3+8i$, then\n",
    "\n",
    "<ul>\n",
    "    <li> $c_1+c_2 = (5+3) + (11+8)i = 8+19i$</li>\n",
    "    <li> $c_1\\times c_2 = (5\\times3-11\\times8)+(5\\times8+11\\times3)i=-73+73i$ </li>\n",
    "</ul>"
   ]
  },
  {
   "cell_type": "markdown",
   "metadata": {
    "slideshow": {
     "slide_type": "slide"
    }
   },
   "source": [
    "## Quiz 1.2 Self Assessment Quiz\n",
    "<b>Maybe used for in-class hands-on practice.</b>\n",
    "\n",
    "<b><i>Run the code in the next cell to generate a interactive version of this quiz. Note that some of the problems are generated algorithmically and therefore provides many more practice exercises.</i></b>\n",
    "\n",
    "1\\. Solve for $x$, where $x^2+2x+10=0$.\n",
    "\n",
    "Let $c_1=2+50i$ and $c_2=3+\\frac{1}{2}i$, compute the following:\n",
    "\n",
    "2\\. $c_1+c_2$\n",
    "\n",
    "3\\. $c_1\\times c_2$\n",
    "\n",
    "4\\. $7\\times c_2$"
   ]
  },
  {
   "cell_type": "code",
   "execution_count": 18,
   "metadata": {
    "slideshow": {
     "slide_type": "slide"
    }
   },
   "outputs": [
    {
     "data": {
      "application/vnd.jupyter.widget-view+json": {
       "model_id": "9c0da319505a42bf94a2e714e7c76283",
       "version_major": 2,
       "version_minor": 0
      },
      "text/plain": [
       "VBox(children=(HTML(value='<b><font size=\"+2\">Quiz 1.2 Self Assessment Quiz'), HTML(value='<b><font size=\"-1\"<…"
      ]
     },
     "execution_count": 18,
     "metadata": {},
     "output_type": "execute_result"
    }
   ],
   "source": [
    "%run pyfiles/saquiz1_2  \n",
    "SAQuiz1_2"
   ]
  },
  {
   "cell_type": "code",
   "execution_count": 19,
   "metadata": {
    "slideshow": {
     "slide_type": "slide"
    }
   },
   "outputs": [
    {
     "data": {
      "application/vnd.jupyter.widget-view+json": {
       "model_id": "517e5e5635c24ad8afad509ed88542d7",
       "version_major": 2,
       "version_minor": 0
      },
      "text/plain": [
       "VBox(children=(VBox(children=(Label(value=''), HTML(value='<font size=\"+2\">Complete the exercises.</font>'), L…"
      ]
     },
     "execution_count": 19,
     "metadata": {},
     "output_type": "execute_result"
    }
   ],
   "source": [
    "%run pyfiles/saquiz1_3\n",
    "SAQuiz1_3"
   ]
  },
  {
   "cell_type": "markdown",
   "metadata": {
    "slideshow": {
     "slide_type": "slide"
    }
   },
   "source": [
    "## 1.6 Summary\n",
    "\n",
    "We learned about complex numbers and how to add and subtract complex numbers. Indeed, complex numbers have a very rich set of operations defined on them besides just addition and multiplication. We will learn about these and their geometrical interpretations in subsequent lessons."
   ]
  },
  {
   "cell_type": "markdown",
   "metadata": {
    "slideshow": {
     "slide_type": "slide"
    }
   },
   "source": [
    "### Final Quiz 1 is in a separate notebook with filename: finalquiz1.ipynb.\n",
    "\n",
    "Final quiz is intended to be completed and submitted to the instructor for grading. Solutions to final quizzes are available only to instructors upon request."
   ]
  },
  {
   "cell_type": "code",
   "execution_count": null,
   "metadata": {},
   "outputs": [],
   "source": []
  }
 ],
 "metadata": {
  "celltoolbar": "Slideshow",
  "kernelspec": {
   "display_name": "Python 3 (ipykernel)",
   "language": "python",
   "name": "python3"
  },
  "language_info": {
   "codemirror_mode": {
    "name": "ipython",
    "version": 3
   },
   "file_extension": ".py",
   "mimetype": "text/x-python",
   "name": "python",
   "nbconvert_exporter": "python",
   "pygments_lexer": "ipython3",
   "version": "3.11.7"
  }
 },
 "nbformat": 4,
 "nbformat_minor": 4
}
