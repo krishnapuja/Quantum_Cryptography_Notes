{
 "cells": [
  {
   "cell_type": "code",
   "execution_count": null,
   "metadata": {
    "scrolled": true,
    "slideshow": {
     "slide_type": "slide"
    }
   },
   "outputs": [],
   "source": [
    "%run src/Home_Page  #This runs the file that has Simulation options\n",
    "Get_Options"
   ]
  },
  {
   "cell_type": "code",
   "execution_count": 1,
   "metadata": {},
   "outputs": [
    {
     "name": "stdout",
     "output_type": "stream",
     "text": [
      "01110011\n",
      "      ┌───┐                                    \n",
      "q0_0: ┤ H ├──■────────────────────■────■────■──\n",
      "      └───┘┌─┴─┐ ░      ┌───┐ ░   │    │    │  \n",
      "q0_1: ─────┤ X ├─░───■──┤ H ├─░───■────┼────┼──\n",
      "      ┌───┐└───┘ ░ ┌─┴─┐└───┘ ░        │    │  \n",
      "q0_2: ┤ H ├──■───░─┤ X ├──────░───■────┼────┼──\n",
      "      └───┘┌─┴─┐ ░ └───┘┌───┐ ░   │    │    │  \n",
      "q0_3: ─────┤ X ├─░───■──┤ H ├─░───┼────■────┼──\n",
      "      ┌───┐└───┘ ░ ┌─┴─┐└───┘ ░   │         │  \n",
      "q0_4: ┤ H ├──■───░─┤ X ├──────░───┼────■────┼──\n",
      "      └───┘┌─┴─┐ ░ └───┘┌───┐ ░   │    │    │  \n",
      "q0_5: ─────┤ X ├─░───■──┤ H ├─░───┼────┼────■──\n",
      "      ┌───┐└───┘ ░ ┌─┴─┐└───┘ ░   │    │       \n",
      "q0_6: ┤ H ├──■───░─┤ X ├──────░───┼────┼────■──\n",
      "      └───┘┌─┴─┐ ░ └───┘      ░ ┌─┴─┐┌─┴─┐┌─┴─┐\n",
      "q0_7: ─────┤ X ├────────────────┤ X ├┤ X ├┤ X ├\n",
      "           └───┘                └───┘└───┘└───┘\n",
      "0 00001100 0\n",
      "1 11011111 1\n",
      "1 00111000 0\n",
      "1 01001000 0\n",
      "0 01101110 0\n",
      "0 11111011 1\n",
      "1 00001110 0\n",
      "1 01010100 0\n",
      "01000100\n",
      "01000100\n",
      "D D\n"
     ]
    },
    {
     "data": {
      "text/plain": [
       "<__main__.Home at 0x1d3d672a450>"
      ]
     },
     "execution_count": 1,
     "metadata": {},
     "output_type": "execute_result"
    }
   ],
   "source": [
    "%run src/Home\n",
    "Home()"
   ]
  },
  {
   "cell_type": "code",
   "execution_count": null,
   "metadata": {},
   "outputs": [],
   "source": []
  }
 ],
 "metadata": {
  "celltoolbar": "Slideshow",
  "kernelspec": {
   "display_name": "Python 3 (ipykernel)",
   "language": "python",
   "name": "python3"
  },
  "language_info": {
   "codemirror_mode": {
    "name": "ipython",
    "version": 3
   },
   "file_extension": ".py",
   "mimetype": "text/x-python",
   "name": "python",
   "nbconvert_exporter": "python",
   "pygments_lexer": "ipython3",
   "version": "3.12.2"
  }
 },
 "nbformat": 4,
 "nbformat_minor": 4
}
