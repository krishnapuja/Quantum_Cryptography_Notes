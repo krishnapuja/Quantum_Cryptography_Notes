{
 "cells": [
  {
   "cell_type": "code",
   "execution_count": null,
   "metadata": {
    "cell_details": {
     "cell_ID": "m12- QuantumSimulationSetup",
     "cell_alternates": [],
     "cell_concepts": [
      "Quantum Computing",
      "Quantum Simulation",
      "Interactive Visualization",
      "Numerical Computation",
      "Data Visualization"
     ],
     "cell_estimated_time": "2",
     "cell_interactive": "true",
     "cell_outcomes": [
      "Set up a quantum computing simulation environment using Python libraries",
      "Perform numerical computations relevant to quantum mechanics using numpy",
      "Create interactive visualizations to explore quantum systems with ipywidgets and matplotlib",
      "Understand the basics of using qutip for quantum system simulations"
     ],
     "cell_prereqs": [],
     "cell_type": [
      "code"
     ],
     "module_outcomes": [
      "Visualize qubits on the Bloch sphere and understand their geometric interpretation",
      "Apply polar form conversions to describe qubits in terms of angles on the Bloch sphere",
      "Comprehend the limitations of the Bloch sphere visualization for multiple qubits"
     ],
     "module_prereqs": [
      "Linear Algebra",
      "Trigonometry",
      "Quantum Mechanics Fundamentals"
     ],
     "module_title": [
      "Visualizing a Qubit"
     ]
    },
    "scrolled": true,
    "slideshow": {
     "slide_type": "skip"
    }
   },
   "outputs": [],
   "source": [
    "#It is important to run this cell before starting with this notebook\n",
    "#All imports are put here\n",
    "#from IPython.core.display import HTML\n",
    "import qutip as qt\n",
    "import numpy as np\n",
    "import ipywidgets as widgets   #you have to enable extensions for jupyter notebook after installing\n",
    "import sys\n",
    "from ipywidgets import interact\n",
    "\n",
    "import matplotlib.pyplot as plt"
   ]
  },
  {
   "cell_type": "markdown",
   "metadata": {
    "cell_details": {
     "cell_ID": "m12-LearningOutcome",
     "cell_alternates": [],
     "cell_concepts": [
      "Bloch Sphere",
      "Qubits",
      "Three Dimensional Interpretation",
      "Quantum Operations",
      "Ket Notation",
      "Polar Form"
     ],
     "cell_estimated_time": "1",
     "cell_interactive": "false",
     "cell_outcomes": [
      "Understand the Bloch sphere representation of qubits",
      "Learn how to map a generic qubit onto the Bloch sphere",
      "Grasp the significance of quantum operations as rotations on the Bloch sphere"
     ],
     "cell_prereqs": [],
     "cell_type": [
      "text"
     ],
     "module_outcomes": [
      "Visualize qubits on the Bloch sphere and understand their geometric interpretation",
      "Apply polar form conversions to describe qubits in terms of angles on the Bloch sphere",
      "Comprehend the limitations of the Bloch sphere visualization for multiple qubits"
     ],
     "module_prereqs": [
      "Linear Algebra",
      "Trigonometry",
      "Quantum Mechanics Fundamentals"
     ],
     "module_title": [
      "Visualizing a Qubit"
     ]
    },
    "slideshow": {
     "slide_type": "slide"
    }
   },
   "source": [
    "# 12. Visualizing a qubit\n",
    "\n",
    "### nanomodule 12 - unit 2\n",
    "\n"
   ]
  },
  {
   "cell_type": "markdown",
   "metadata": {
    "cell_details": {
     "cell_ID": "m12-BlochSphere",
     "cell_alternates": [],
     "cell_concepts": [
      "Bloch Sphere",
      "Qubits",
      "Three Dimensional Interpretation",
      "Quantum Operations",
      "Ket Notation",
      "Polar Form"
     ],
     "cell_estimated_time": "1",
     "cell_interactive": "false",
     "cell_outcomes": [
      "Understand the Bloch sphere representation of qubits",
      "Learn how to map a generic qubit onto the Bloch sphere",
      "Grasp the significance of quantum operations as rotations on the Bloch sphere"
     ],
     "cell_prereqs": [
      "m9-QuantumTheoryAtWork",
      "m10-KetNotation"
     ],
     "cell_type": [
      "text"
     ],
     "module_outcomes": [
      "Visualize qubits on the Bloch sphere and understand their geometric interpretation",
      "Apply polar form conversions to describe qubits in terms of angles on the Bloch sphere",
      "Comprehend the limitations of the Bloch sphere visualization for multiple qubits"
     ],
     "module_prereqs": [
      "Linear Algebra",
      "Trigonometry",
      "Quantum Mechanics Fundamentals"
     ],
     "module_title": [
      "Visualizing a Qubit"
     ]
    },
    "editable": true,
    "slideshow": {
     "slide_type": "slide"
    },
    "tags": []
   },
   "source": [
    "## 12.1 Bloch Sphere\n",
    "\n",
    "Qubits have an interesting three dimensional interpretation. Called the <b><i>Bloch sphere</i></b> every qubit can be thought of as a point on its surface and every operation as rotation of the sphere. It, however, works only for a single qubit. For multiple qubits, it becomes very difficult to visualize higher dimensions.\n",
    "\n",
    "Let's start from our Ket notation and figure out how to map it onto a Block sphere. Consider a generic qubit $|\\psi\\rangle = \\alpha|0\\rangle+\\beta|1\\rangle$ where $|\\alpha|^2+|\\beta|^2=1$. A three dimensional ball of finite radius (here radius is 1) has only two degrees of freedom (think plant Earth with latitude and longitude). Here, we will use the angles the vector representing a qubit makes with the $x$ and the $z$ axis.\n",
    "\n",
    "Rewriting $\\alpha$ and $\\beta$ in the polar form, $\\alpha=r_0e^{i\\phi_0}$ and $\\beta=r_1e^{i\\phi_1}$ and so,\n",
    "$$|\\psi\\rangle=r_0e^{i\\phi_0}|0\\rangle+r_1e^{i\\phi_1}|1\\rangle$$\n",
    "\n",
    "There are still four real parameters: $r_0, r_1, \\phi_0$, and $\\phi_1$."
   ]
  },
  {
   "cell_type": "markdown",
   "metadata": {
    "cell_details": {
     "cell_ID": "m12-BlochSphereContd",
     "cell_alternates": [],
     "cell_concepts": [
      "Bloch Sphere",
      "Qubit Physical State",
      "Complex Multiplication",
      "Phase Elimination",
      "Real Parameters",
      "Normalization Condition"
     ],
     "cell_estimated_time": "2",
     "cell_interactive": "false",
     "cell_outcomes": [
      "Understand the effect of complex multiplication on the physical state of a qubit",
      "Learn the process of phase elimination to simplify the representation of a qubit",
      "Grasp the concept of normalization condition in reducing the parameters defining a qubit"
     ],
     "cell_prereqs": [
      "m12-BlochSphere"
     ],
     "cell_type": [
      "text"
     ],
     "module_outcomes": [
      "Apply complex number manipulation to simplify qubit representation",
      "Visualize and understand qubits on the Bloch sphere with reduced parameters",
      "Master the normalization condition and its implications for qubit representation"
     ],
     "module_prereqs": [
      "Linear Algebra",
      "Trigonometry",
      "Quantum Mechanics Fundamentals",
      "Complex Numbers"
     ],
     "module_title": [
      "Quantum State Representation and Visualization"
     ]
    },
    "slideshow": {
     "slide_type": "slide"
    }
   },
   "source": [
    "## Block Sphere Contd.\n",
    "\n",
    "We know that multiplying a qubit with a complex number, eg. $c|\\psi\\rangle$ does not change the physical state of the qubit therefore we will multiply our expression above with $c=e^{-i\\phi_0}$ and remove the phase attached to state $|0\\rangle$.\n",
    "\n",
    "$$e^{-i\\phi_0}|\\psi\\rangle=e^{-i\\phi_0}(r_0e^{i\\phi_0}|0\\rangle+r_1e^{i\\phi_1}|1\\rangle)=r_0|0\\rangle+r_1e^{i(\\phi_1-\\phi_0)}|1\\rangle$$\n",
    "\n",
    "We now have only three real parameters left $r_0, r_1$, and $\\phi=\\phi_0-\\phi_1$.\n",
    "\n",
    "Given that $|\\alpha|^2+|\\beta|^2=1 \\implies |r_0e^{i\\phi_0}|^2+|r_1e^{i\\phi_1}|^2 = 1 \\implies  |r_0|^2|e^{i\\phi_0}|^2+|r_1|^2|e^{i\\phi_1}|^2=1$.\n",
    "\n",
    "We, therefore, get $r_0^2+r_1^2=1$."
   ]
  },
  {
   "cell_type": "markdown",
   "metadata": {
    "cell_details": {
     "cell_ID": "m12-BlochSphereContd2",
     "cell_alternates": [],
     "cell_concepts": [
      "Bloch Sphere",
      "Qubit Physical State",
      "Complex Multiplication",
      "Phase Elimination",
      "Real Parameters",
      "Normalization Condition"
     ],
     "cell_estimated_time": "2",
     "cell_interactive": "false",
     "cell_outcomes": [
      "Understand the effect of complex multiplication on the physical state of a qubit",
      "Learn the process of phase elimination to simplify the representation of a qubit",
      "Grasp the concept of normalization condition in reducing the parameters defining a qubit"
     ],
     "cell_prereqs": [
      "m12-BlochSphereContd"
     ],
     "cell_type": [
      "text"
     ],
     "module_outcomes": [
      "Apply complex number manipulation to simplify qubit representation",
      "Visualize and understand qubits on the Bloch sphere with reduced parameters",
      "Master the normalization condition and its implications for qubit representation"
     ],
     "module_prereqs": [
      "Linear Algebra",
      "Trigonometry",
      "Quantum Mechanics Fundamentals",
      "Complex Numbers"
     ],
     "module_title": [
      "Quantum State Representation and Visualization"
     ]
    },
    "slideshow": {
     "slide_type": "slide"
    }
   },
   "source": [
    "## Block Sphere Contd.\n",
    "\n",
    "If we rename them as $r_0=cos(\\theta)$ and $r_1=sin(\\theta)$. Substituting we get,\n",
    "\n",
    "$$|\\psi\\rangle=cos(\\theta)|0\\rangle+e^{i\\phi}sin(\\theta)|1\\rangle$$\n",
    "\n",
    "which only has two free parameters $\\theta$ and $\\phi$. Therefore, the qubit can then be plotted in a Bloch sphere as shown in the interactive simulation below.\n",
    "\n",
    "We see in the simulation below that $0\\leq\\phi<2\\pi$ and $0\\leq\\theta<\\frac{\\pi}{2}$ are enough to cover all possible qubits. Given just $\\theta$ and $\\phi$ we can compute $x,y$, and $z$ as follows,\n",
    "$$x=cos(\\phi)\\cdot sin(2\\theta)$$\n",
    "$$y=sin(2\\theta)\\cdot sin(\\phi)$$\n",
    "$$z=cos(2\\theta)$$"
   ]
  },
  {
   "cell_type": "code",
   "execution_count": null,
   "metadata": {
    "cell_details": {
     "cell_ID": "m12-BlochSphereVisualization",
     "cell_alternates": [],
     "cell_concepts": [
      "Bloch Sphere",
      "Qubit Representation",
      "Free Parameters",
      "Theta",
      "Phi",
      "Interactive Simulation"
     ],
     "cell_estimated_time": "2",
     "cell_interactive": "true",
     "cell_outcomes": [
      "Rename parameters for simplicity in mapping qubits onto the Bloch sphere",
      "Understand how a qubit is represented on the Bloch sphere using two free parameters",
      "Learn to compute the necessary components of a qubit given theta and phi for Bloch sphere visualization"
     ],
     "cell_prereqs": [
      "m12-BlochSphere",
      "m12-BlochSphereContd",
      "m12-BlochSphereContd2"
     ],
     "cell_type": [
      "text",
      "interactive"
     ],
     "module_outcomes": [
      "Visualize and understand the complete state of a qubit using the Bloch sphere",
      "Master the mathematical transformation of qubit components for Bloch sphere plotting",
      "Interactively explore the geometric representation of qubits"
     ],
     "module_prereqs": [
      "Linear Algebra",
      "Trigonometry",
      "Quantum Mechanics Fundamentals",
      "Complex Numbers"
     ],
     "module_title": [
      "Quantum State Representation and Visualization"
     ]
    },
    "slideshow": {
     "slide_type": "slide"
    }
   },
   "outputs": [],
   "source": [
    "def ket_to_bloch(t,p):\n",
    "    r = 1    #radius of the vector, 1 for block sphere\n",
    "    x = r * np.cos(p) * np.sin(2*t)\n",
    "    y = r * np.sin(2*t) * np.sin(p)\n",
    "    z = r * np.cos(2*t)\n",
    "    return [x,y,z]\n",
    "\n",
    "def displayBlochSphere(theta=45, phi=45, azimuth=-60, elevation=30 ):\n",
    "    bs = qt.Bloch()\n",
    "    bs.view = [azimuth, elevation]\n",
    "    t=theta*np.pi/180   #convert to radians\n",
    "    p=phi*np.pi/180     #convert to radians\n",
    "    vec=ket_to_bloch(t,p)    \n",
    "    bs.add_vectors(vec)\n",
    "    bs.show()"
   ]
  },
  {
   "cell_type": "code",
   "execution_count": null,
   "metadata": {
    "cell_details": {
     "cell_ID": "m12-InteractiveBlochSphereSimulation",
     "cell_alternates": [],
     "cell_concepts": [
      "Bloch Sphere",
      "Interactive Simulation",
      "Qubit Visualization",
      "Spherical Coordinates",
      "View Manipulation"
     ],
     "cell_estimated_time": "2",
     "cell_interactive": "true",
     "cell_outcomes": [
      "Simulate an interactive Bloch sphere to visualize qubit states",
      "Manipulate theta and phi parameters to explore qubit orientation on the Bloch sphere",
      "Adjust azimuth and elevation to view the Bloch sphere from different perspectives"
     ],
     "cell_prereqs": [
      "m12-BlochSphere",
      "m12-BlochSphereContd",
      "m12-BlochSphereContd2"
     ],
     "cell_type": [
      "code",
      "interactive"
     ],
     "module_outcomes": [
      "Engage with the geometric representation of qubits on the Bloch sphere through interactive simulation",
      "Develop a deeper understanding of qubit orientations and their implications in quantum computing",
      "Master the use of interactive Python tools for quantum simulations"
     ],
     "module_prereqs": [
      "Linear Algebra",
      "Trigonometry",
      "Quantum Mechanics Fundamentals",
      "Python Programming"
     ],
     "module_title": [
      "Quantum State Representation and Visualization"
     ]
    },
    "slideshow": {
     "slide_type": "slide"
    }
   },
   "outputs": [],
   "source": [
    "#Run this cell to simulate an interactive Bloch sphere\n",
    "interact(displayBlochSphere, theta=(0,90,5), phi=(0,360,10), azimuth=(-180,180,10), elevation=(0,180,10))"
   ]
  },
  {
   "cell_type": "markdown",
   "metadata": {
    "cell_details": {
     "cell_ID": "m12-GeometryOfBlochSphere",
     "cell_alternates": [],
     "cell_concepts": [
      "Bloch Sphere",
      "North Pole",
      "South Pole",
      "Theta Angle",
      "Phi Angle",
      "Quantum States",
      "Z Axis",
      "Equator"
     ],
     "cell_estimated_time": "1",
     "cell_interactive": "false",
     "cell_outcomes": [
      "Identify the north and south poles of the Bloch sphere and their corresponding quantum states",
      "Understand the geometric significance of theta and phi angles in the representation of qubits",
      "Visualize the orientation of qubit states on the Bloch sphere relative to the Z axis and the equator"
     ],
     "cell_prereqs": [
      "m12-BlochSphereVisualization",
      "m12-InteractiveBlochSphereSimulation"
     ],
     "cell_type": [
      "text"
     ],
     "module_outcomes": [
      "Grasp the geometric aspects of qubit representation on the Bloch sphere",
      "Apply the concepts of spherical coordinates to describe qubit orientations",
      "Enhance understanding of the spatial relationships between quantum states on the Bloch sphere"
     ],
     "module_prereqs": [
      "Linear Algebra",
      "Trigonometry",
      "Quantum Mechanics Fundamentals",
      "Complex Numbers"
     ],
     "module_title": [
      "Quantum State Representation and Visualization"
     ]
    },
    "slideshow": {
     "slide_type": "slide"
    }
   },
   "source": [
    "## Geometry of Bloch Sphere\n",
    "\n",
    "As can be seen from the simulation, the north pole of the sphere corresponds to $|0\\rangle$ and its polar opposite, south pole, is the state $|1\\rangle$. Further, $\\phi$ is the angle that $|\\psi\\rangle$ makes with the $z$ axis and $\\theta$ is the angle that $|\\psi\\rangle$ makes from the $x$ axis along the equator."
   ]
  },
  {
   "cell_type": "markdown",
   "metadata": {
    "cell_details": {
     "cell_ID": "m12-Simple2DRepresentation",
     "cell_alternates": [],
     "cell_concepts": [
      "Global Phase",
      "Qubit Representation",
      "2D Representation",
      "Unit Circle",
      "Normalized Qubits"
     ],
     "cell_estimated_time": "1",
     "cell_interactive": "false",
     "cell_outcomes": [
      "Understand the simplification of qubit representation to a 2D model",
      "Learn the significance of the global phase and its non-measurable effect on qubit representation",
      "Grasp the concept of normalization in the context of qubit representation on a unit circle"
     ],
     "cell_prereqs": [
      "m12-GeometryOfBlochSphere"
     ],
     "cell_type": [
      "text"
     ],
     "module_outcomes": [
      "Visualize qubits within the simplified framework of a 2D unit circle",
      "Apply normalization principles to understand qubit representations",
      "Acknowledge the practical aspects of omitting global phase in visual representations of qubits"
     ],
     "module_prereqs": [
      "Linear Algebra",
      "Complex Numbers",
      "Quantum Mechanics Fundamentals"
     ],
     "module_title": [
      "Quantum State Representation and Visualization"
     ]
    },
    "slideshow": {
     "slide_type": "slide"
    }
   },
   "source": [
    "## 12.2 Simple 2-D representation\n",
    "\n",
    "Since the global phase of the qubit has no measureable effect, often we will use a simple 2D representation of the qubit as shown below. The vector represents the qubit in a unit circle. Therefore, we are assuming that qubits are normalized."
   ]
  },
  {
   "cell_type": "code",
   "execution_count": null,
   "metadata": {
    "cell_details": {
     "cell_ID": "m12-BlochSphere2dVisualization",
     "cell_alternates": [],
     "cell_concepts": [
      "Bloch Sphere",
      "Qubit Representation",
      "Free Parameters",
      "Theta",
      "Phi",
      "Interactive Simulation"
     ],
     "cell_estimated_time": "2",
     "cell_interactive": "true",
     "cell_outcomes": [
      "Rename parameters for simplicity in mapping qubits onto the Bloch sphere",
      "Understand how a qubit is represented on the Bloch sphere using two free parameters",
      "Learn to compute the necessary components of a qubit given theta and phi for Bloch sphere visualization"
     ],
     "cell_prereqs": [
      "m12-Simple2DRepresentation"
     ],
     "cell_type": [
      "text",
      "interactive"
     ],
     "module_outcomes": [
      "Visualize and understand the complete state of a qubit using the Bloch sphere",
      "Master the mathematical transformation of qubit components for Bloch sphere plotting",
      "Interactively explore the geometric representation of qubits"
     ],
     "module_prereqs": [
      "Linear Algebra",
      "Trigonometry",
      "Quantum Mechanics Fundamentals",
      "Complex Numbers"
     ],
     "module_title": [
      "Quantum State Representation and Visualization"
     ]
    },
    "slideshow": {
     "slide_type": "slide"
    }
   },
   "outputs": [],
   "source": [
    "def ket_to_bloch2d(p):\n",
    "    r = 1    #radius of the vector, 1 for block sphere\n",
    "    x = r * np.cos(p)\n",
    "    y = r * np.sin(p)\n",
    "    z = 0\n",
    "    return [x,y,z]\n",
    "\n",
    "def displayUnitCircle2d(phi):\n",
    "    bs = qt.Bloch()\n",
    "    bs.view = [180, 90]\n",
    "    bs.zlabel = ['','']\n",
    "    p=phi*np.pi/180     #convert to radians\n",
    "    vec=ket_to_bloch2d(p)    \n",
    "    bs.add_vectors(vec)\n",
    "    bs.show()"
   ]
  },
  {
   "cell_type": "code",
   "execution_count": null,
   "metadata": {
    "cell_details": {
     "cell_ID": "m12-InteractiveBlochSphere2dSimulation",
     "cell_alternates": [],
     "cell_concepts": [
      "Bloch Sphere",
      "Interactive Simulation",
      "Qubit Visualization",
      "Spherical Coordinates",
      "View Manipulation"
     ],
     "cell_estimated_time": "2",
     "cell_interactive": "true",
     "cell_outcomes": [
      "Simulate an interactive Bloch sphere to visualize qubit states",
      "Manipulate theta and phi parameters to explore qubit orientation on the Bloch sphere",
      "Adjust azimuth and elevation to view the Bloch sphere from different perspectives"
     ],
     "cell_prereqs": [
      "m12-Simple2DRepresentation",
      "m12-BlochSphere2dVisualization"
     ],
     "cell_type": [
      "code",
      "interactive"
     ],
     "module_outcomes": [
      "Engage with the geometric representation of qubits on the Bloch sphere through interactive simulation",
      "Develop a deeper understanding of qubit orientations and their implications in quantum computing",
      "Master the use of interactive Python tools for quantum simulations"
     ],
     "module_prereqs": [
      "Linear Algebra",
      "Trigonometry",
      "Quantum Mechanics Fundamentals",
      "Python Programming",
      "ipywidgets"
     ],
     "module_title": [
      "Quantum State Representation and Visualization"
     ]
    },
    "slideshow": {
     "slide_type": "slide"
    }
   },
   "outputs": [],
   "source": [
    "#Run this cell to simulate an interactive unit circle\n",
    "interact(displayUnitCircle2d, phi=(0,360,10))"
   ]
  },
  {
   "cell_type": "code",
   "execution_count": null,
   "metadata": {
    "cell_details": {
     "cell_ID": "m12-UnitCircleVisualization",
     "cell_alternates": [],
     "cell_concepts": [
      "Bloch Sphere",
      "Qubit Representation",
      "Free Parameters",
      "Theta",
      "Phi",
      "Interactive Simulation"
     ],
     "cell_estimated_time": "2",
     "cell_interactive": "true",
     "cell_outcomes": [
      "Rename parameters for simplicity in mapping qubits onto the Bloch sphere",
      "Understand how a qubit is represented on the Bloch sphere using two free parameters",
      "Learn to compute the necessary components of a qubit given theta and phi for Bloch sphere visualization"
     ],
     "cell_prereqs": [
      "m12-BlochSphere",
      "m12-BlochSphereContd",
      "m12-BlochSphereContd2"
     ],
     "cell_type": [
      "text",
      "interactive"
     ],
     "module_outcomes": [
      "Visualize and understand the complete state of a qubit using the Bloch sphere",
      "Master the mathematical transformation of qubit components for Bloch sphere plotting",
      "Interactively explore the geometric representation of qubits"
     ],
     "module_prereqs": [
      "Linear Algebra",
      "Trigonometry",
      "Quantum Mechanics Fundamentals",
      "Complex Numbers"
     ],
     "module_title": [
      "Quantum State Representation and Visualization"
     ]
    },
    "slideshow": {
     "slide_type": "slide"
    }
   },
   "outputs": [],
   "source": [
    "def displayUnitCircle(phi=0):\n",
    "    ρ = 1\n",
    "    φ = phi*np.pi/180\n",
    "    plt.polar()\n",
    "    plt.ylim(0, 1)\n",
    "    plt.tick_params(labelleft=False)\n",
    "    plt.annotate(\"\", xy=(φ, ρ), xytext=(0,0), arrowprops=dict(arrowstyle=\"-|>\"))\n",
    "    plt.show()"
   ]
  },
  {
   "cell_type": "code",
   "execution_count": null,
   "metadata": {
    "cell_details": {
     "cell_ID": "m12-InteractiveUnitCircleSimulation",
     "cell_alternates": [],
     "cell_concepts": [
      "Bloch Sphere",
      "Interactive Simulation",
      "Qubit Visualization",
      "Spherical Coordinates",
      "View Manipulation"
     ],
     "cell_estimated_time": "2",
     "cell_interactive": "true",
     "cell_outcomes": [
      "Simulate an interactive Bloch sphere to visualize qubit states",
      "Manipulate theta and phi parameters to explore qubit orientation on the Bloch sphere",
      "Adjust azimuth and elevation to view the Bloch sphere from different perspectives"
     ],
     "cell_prereqs": [
      "m12-BlochSphere",
      "m12-BlochSphereContd",
      "m12-BlochSphereContd2",
      "m12-UnitCircleVisualization"
     ],
     "cell_type": [
      "code",
      "interactive"
     ],
     "module_outcomes": [
      "Engage with the geometric representation of qubits on the Bloch sphere through interactive simulation",
      "Develop a deeper understanding of qubit orientations and their implications in quantum computing",
      "Master the use of interactive Python tools for quantum simulations"
     ],
     "module_prereqs": [
      "Linear Algebra",
      "Trigonometry",
      "Quantum Mechanics Fundamentals",
      "Python Programming"
     ],
     "module_title": [
      "Quantum State Representation and Visualization"
     ]
    },
    "slideshow": {
     "slide_type": "slide"
    }
   },
   "outputs": [],
   "source": [
    "#Run this cell to simulate an interactive unit circle\n",
    "interact(displayUnitCircle, phi=(0,360,5))"
   ]
  },
  {
   "cell_type": "markdown",
   "metadata": {
    "slideshow": {
     "slide_type": "slide"
    }
   },
   "source": [
    "### End of nanomodule 12"
   ]
  }
 ],
 "metadata": {
  "celltoolbar": "Slideshow",
  "kernelspec": {
   "display_name": "Python 3 (ipykernel)",
   "language": "python",
   "name": "python3"
  },
  "language_info": {
   "codemirror_mode": {
    "name": "ipython",
    "version": 3
   },
   "file_extension": ".py",
   "mimetype": "text/x-python",
   "name": "python",
   "nbconvert_exporter": "python",
   "pygments_lexer": "ipython3",
   "version": "3.12.2"
  },
  "module_details": {
   "module_concepts": [],
   "module_outcomes": [
    "Student will understand the bloch Sphere reprenstation for a qubit.",
    "Student will be able to simulate bloch Sphere qubit",
    "Students will understand the notion of qubits and types of operations that can be applied to them.",
    "Student will be able to simulate the 2D representation"
   ],
   "module_outcomes_mapping": [
    [
     "m12-BlochSphere",
     "m12-BlochSphereContd",
     "m12-BlochSphereContd2"
    ],
    [
     "m12-BlochSphereVisualization",
     "m12-InteractiveBlochSphereSimulation",
     "m12-GeometryOfBlochSphere"
    ],
    [
     "m12-Simple2DRepresentation",
     "m12-BlochSphere2dVisualization",
     "m12-InteractiveBlochSphere2dSimulation",
     "m12-UnitCircleVisualization",
     "m12-InteractiveUnitCircleSimulation"
    ]
   ],
   "module_prereqs": [
    "Basic Probability",
    "Linear Algebra",
    "Introduction to Quantum Physics"
   ],
   "module_title": "From Probabilistic Systems to Quantum Systems"
  }
 },
 "nbformat": 4,
 "nbformat_minor": 4
}
