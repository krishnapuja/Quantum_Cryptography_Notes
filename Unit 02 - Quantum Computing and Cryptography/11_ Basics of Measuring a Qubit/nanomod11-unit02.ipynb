{
 "cells": [
  {
   "cell_type": "markdown",
   "metadata": {
    "cell_details": {
     "cell_ID": "m11-LearningOutcome",
     "cell_alternates": [],
     "cell_concepts": [
      "Measuring a Qubit",
      "Probability of Outcomes",
      "Transition Amplitudes",
      "Global Phase",
      "Local Phase"
     ],
     "cell_estimated_time": "2",
     "cell_interactive": "false",
     "cell_outcomes": [
      "Understand the basics of measuring a qubit",
      "Compute the probabilities of outcomes upon measurement",
      "Compute transition amplitudes from one state to another",
      "Understand the notion of global and local phase and their interpretations"
     ],
     "cell_prereqs": [],
     "cell_type": [
      "text"
     ],
     "module_outcomes": [
      "Grasp the foundational concepts involved in the measurement of a qubit",
      "Apply principles to compute probabilities and transition amplitudes in quantum systems",
      "Understand and interpret the significance of global and local phases in quantum mechanics"
     ],
     "module_prereqs": [
      "Linear Algebra",
      "Complex Numbers",
      "Introduction to Quantum Mechanics"
     ],
     "module_title": [
      "Basics of Measuring a Qubit"
     ]
    },
    "editable": true,
    "slideshow": {
     "slide_type": "slide"
    },
    "tags": []
   },
   "source": [
    "# 11. Basics of Measuring a Qubit\n",
    "\n",
    "### This lesson belongs to nanomodule 11 - unit 2\n",
    "\n",
    "<b>Learning Outcomes:</b>\n",
    "\n",
    "Upon completion of this lesson:\n",
    "\n",
    "11.1 Students will understand the basics of measuring a qubit.\n",
    "\n",
    "11.2 Students will be able to compute the probabilities of outcomes upon measurement.\n",
    "\n",
    "11.3 Student will be able to compute transition amplitudes from one state to the other.\n",
    "\n",
    "11.4 Student will understand the notion of global and local phase and their interpretations."
   ]
  },
  {
   "cell_type": "markdown",
   "metadata": {
    "cell_details": {
     "cell_ID": "m11-MeasuringAQubit",
     "cell_alternates": [],
     "cell_concepts": [
      "Single-Qubit Measurement",
      "Quantum State Collapse",
      "Orthonormal Basis",
      "Measurement Basis",
      "Loss of Information",
      "Probabilities of Collapse"
     ],
     "cell_estimated_time": "7",
     "cell_interactive": "false",
     "cell_outcomes": [
      "Understand the process and implications of measuring a single qubit",
      "Grasp the concept of orthonormal basis in the context of quantum measurement",
      "Learn how the measurement process changes the state of a quantum system",
      "Recognize the limitations of information extraction from a quantum state due to measurement"
     ],
     "cell_prereqs": [
      "m6-OrthogonalBasis",
      "m10-Qubits",
      "m10-QubitsAndMeasurement"
     ],
     "cell_type": [
      "text"
     ],
     "module_outcomes": [
      "Comprehend the foundational principles of qubit measurement",
      "Analyze the effects of measurement on quantum states and the resulting loss of information",
      "Acknowledge the empirical basis of quantum measurement principles and their practical implications"
     ],
     "module_prereqs": [
      "Linear Algebra",
      "Complex Numbers",
      "Introduction to Quantum Mechanics"
     ],
     "module_title": [
      "Basics of Measuring a Qubit"
     ]
    },
    "slideshow": {
     "slide_type": "slide"
    }
   },
   "source": [
    "## 11.1 Measuring a Qubit\n",
    "\n",
    "Let's discuss single-qubit measurements. So far we've said that a qubit $\\rvert\\psi\\rangle=\\alpha\\rvert0\\rangle+\\beta\\rvert1\\rangle$ collapses to $\\rvert0\\rangle$ with probability $\\rvert\\alpha\\rvert^2$ and to $\\left|1\\right>$ with probability $\\rvert\\beta\\rvert^2$.\n",
    "\n",
    "Quantum mechanics says that any device used to measure a two-state quantum system must have two states that are its preferred states that form an orthonormal basis for the corresponding two-dimensional vector space. We denote these by $\\{\\rvert v\\rangle, \\rvert v^\\perp\\rangle\\}$. Measurement then transforms the quantum state being measured into one of these two preferred states. And the probabilities for these transformations are given by the modulus squared of the corresponding amplitudes. Further, this property of quantum systems is based on empirical observations and not derived from any other physical laws.\n",
    "\n",
    "Therefore, we must specify the basis being used for measurement when we say \"measure a qubit\". If no basis is specified then a standard basis is assumed. \n",
    "\n",
    "Also, this implies that measurement changes the state of a quantum system. Consequently, if a qubit $\\rvert\\psi\\rangle=\\alpha\\rvert v\\rangle+\\beta\\rvert v^\\perp\\rangle$ is measured and it collapses to $\\rvert v^\\perp\\rangle$ then a second measurement in the same basis will always result in state $\\rvert v^\\perp\\rangle$ with probability 1 because now the amplitude of $\\rvert v\\rangle$ is zero.\n",
    "\n",
    "### Loss of information\n",
    "\n",
    "From the above discussion it is clear that unless the qubit is already in one of the basis states, a measurement will change the state of the qubit and the original state of the qubit will be lost forever.  \n",
    "\n",
    "Further, this postulate of quantum mechanics says that although a qubit has infinite possible states, we can only extract one bit of information out of it because the qubit has to collapse to one of the two possible basis states (representing one bit of information).\n",
    "\n",
    "Also, distinct quantum states may have same probabilities of collapse. For example, $\\frac{1}{\\sqrt{2}}(\\rvert0\\rangle+\\rvert1\\rangle)$, $\\frac{1}{\\sqrt{2}}(\\rvert0\\rangle-\\rvert1\\rangle)$ and $\\frac{1}{\\sqrt{2}}(i\\rvert0\\rangle-\\rvert1\\rangle)$ all have exactly the same probabilities of collapse in the standard basis but are completely distinct quantum states that behave differently in other circumstances."
   ]
  },
  {
   "cell_type": "markdown",
   "metadata": {
    "cell_details": {
     "cell_ID": "m11-TransitionAmplitudes",
     "cell_alternates": [],
     "cell_concepts": [
      "Transition Amplitudes",
      "Probabilities of Collapse",
      "Quantum State",
      "Inner Product",
      "State Transition"
     ],
     "cell_estimated_time": "2",
     "cell_interactive": "false",
     "cell_outcomes": [
      "Understand how to compute transition amplitudes for quantum states",
      "Learn the process of determining probabilities of state collapse through inner products",
      "Grasp the concept of state transition in quantum mechanics and how it's quantified"
     ],
     "cell_prereqs": [
      "m10-QubitsAndMeasurement"
     ],
     "cell_type": [
      "text"
     ],
     "module_outcomes": [
      "Apply knowledge of linear algebra to compute transition amplitudes in quantum systems",
      "Analyze the relationship between transition amplitudes and probabilities of quantum state collapse",
      "Master the mathematical framework underlying quantum state transitions"
     ],
     "module_prereqs": [
      "Linear Algebra",
      "Complex Numbers",
      "Introduction to Quantum Mechanics"
     ],
     "module_title": [
      "Basics of Measuring a Qubit"
     ]
    },
    "editable": true,
    "slideshow": {
     "slide_type": "slide"
    },
    "tags": []
   },
   "source": [
    "## 11.2 Transition Amplitudes\n",
    "\n",
    "So far we know how to compute the probabilities of collapse of a qubit given its state description. For example, given the qubit $\\begin{bmatrix}0\\\\1\\end{bmatrix}$, we know that it will collapse to state $|1\\rangle$ with probability 1. Another example was $\\begin{bmatrix}\\frac{1}{\\sqrt{2}}\\\\\\frac{1}{\\sqrt{2}}\\end{bmatrix}$ where the qubit would collapse to state $\\rvert0\\rangle$ or $\\rvert1\\rangle$ with equal probability. We found this by squaring the modulus of the coefficients in positions that represent states $\\rvert0\\rangle$ and $\\rvert1\\rangle$.\n",
    "\n",
    "Another way of thinking about the computation above is that we as asking: Given state $\\rvert\\psi\\rangle$ what are the transition amplitudes to states $\\rvert0\\rangle$ and $\\rvert1\\rangle$. It turns out we can compute this by taking the inner product of the vector with the state we would like to transition to. For example, given qubit $\\begin{bmatrix}0\\\\1\\end{bmatrix}$ the transition amplitudes to state $\\rvert0\\rangle$ is computed as: $\\langle0\\rvert1\\rangle$"
   ]
  },
  {
   "cell_type": "markdown",
   "metadata": {
    "cell_details": {
     "cell_ID": "m11-ComplexQubitTransition",
     "cell_alternates": [],
     "cell_concepts": [
      "Complex Qubit State",
      "Transition Amplitudes",
      "Probability of Collapse",
      "Dagger Operation",
      "Inner Product"
     ],
     "cell_estimated_time": "3",
     "cell_interactive": "false",
     "cell_outcomes": [
      "Calculate transition amplitudes for complex qubit states",
      "Understand the application of the dagger operation in computing inner products for complex vectors",
      "Determine probabilities of quantum state collapse to specific states"
     ],
     "cell_prereqs": [
      "m4-MatricesComplexVectorSpaces",
      "m11-TransitionAmplitudes"
     ],
     "cell_type": [
      "text"
     ],
     "module_outcomes": [
      "Master the computation of transition amplitudes for complex quantum states",
      "Apply complex number theory and linear algebra in quantum mechanics contexts",
      "Analyze and predict the outcomes of quantum state measurements"
     ],
     "module_prereqs": [
      "Linear Algebra",
      "Complex Numbers",
      "Introduction to Quantum Mechanics"
     ],
     "module_title": [
      "Basics of Measuring a Qubit"
     ]
    },
    "editable": true,
    "slideshow": {
     "slide_type": "slide"
    },
    "tags": []
   },
   "source": [
    "In general, however, the state of a qubit can be a complex vector. For example, $\\begin{bmatrix}\\frac{i}{2}\\\\-\\frac{\\sqrt{3}}{2}\\end{bmatrix}$ is a valid qubit state. Therefore, while taking the inner product recall that we need to apply the dagger operation. Therefore, the probability amplitude that state $\\begin{bmatrix}\\frac{i}{2}\\\\-\\frac{\\sqrt{3}}{2}\\end{bmatrix}$ will transition to state $\\begin{bmatrix}1\\\\0\\end{bmatrix}$ is given,\n",
    "\n",
    "$$\\left<\\begin{bmatrix}1\\\\0\\end{bmatrix}, \\begin{bmatrix}\\frac{i}{2}\\\\-\\frac{\\sqrt{3}}{2}\\end{bmatrix}\\right> = \\begin{bmatrix}1\\\\0\\end{bmatrix}^\\dagger\\begin{bmatrix}\\frac{i}{2}\\\\-\\frac{\\sqrt{3}}{2}\\end{bmatrix}=\\frac{i}{2}$$\n",
    "\n",
    "Therefore, the probability of \"seeing\" $\\rvert0\\rangle$ is $\\left|\\frac{i}{2}\\right|^2=\\frac{1}{4}$. This is exactly what we expected!\n",
    "\n",
    "We can compute the transition amplitude to $\\rvert1\\rangle$ as $\\left<\\begin{bmatrix}0\\\\1\\end{bmatrix}, \\begin{bmatrix}\\frac{i}{2}\\\\-\\frac{\\sqrt{3}}{2}\\end{bmatrix}\\right> = \\begin{bmatrix}0\\\\1\\end{bmatrix}^\\dagger\\begin{bmatrix}\\frac{i}{2}\\\\-\\frac{\\sqrt{3}}{2}\\end{bmatrix}=\\frac{-\\sqrt{3}}{2}$. Therefore, the probability of collapse to $\\rvert1\\rangle$ is $\\left|\\frac{-\\sqrt{3}}{2}\\right|^2=\\frac{3}{4}$."
   ]
  },
  {
   "cell_type": "markdown",
   "metadata": {
    "cell_details": {
     "cell_ID": "m11-GeneralTransitionAmplitudes",
     "cell_alternates": [],
     "cell_concepts": [
      "Probability Amplitude",
      "Transition Amplitude",
      "Orthogonal States",
      "Orthonormal Basis",
      "Quantum Measurement"
     ],
     "cell_estimated_time": "1",
     "cell_interactive": "false",
     "cell_outcomes": [
      "Calculate the probability amplitude of transitioning from one quantum state to another",
      "Understand the significance of orthogonal states in quantum mechanics",
      "Learn the importance of using an orthonormal basis in quantum measurements"
     ],
     "cell_prereqs": [
      "m6-OrthogonalBasis",
      "m11-TransitionAmplitudes"
     ],
     "cell_type": [
      "text"
     ],
     "module_outcomes": [
      "Comprehend the process and calculations involved in determining transition amplitudes",
      "Appreciate the role of orthonormal bases in ensuring distinguishable measurement outcomes",
      "Apply principles of orthogonality and superposition to understand quantum state measurements"
     ],
     "module_prereqs": [
      "Linear Algebra",
      "Complex Numbers",
      "Introduction to Quantum Mechanics"
     ],
     "module_title": [
      "Basics of Measuring a Qubit"
     ]
    },
    "slideshow": {
     "slide_type": "slide"
    }
   },
   "source": [
    "In general, the probability amplitude of transitioning from state $\\rvert\\psi\\rangle$ to state $\\rvert\\psi'\\rangle$ is computed as follows: $\\left<\\psi'\\rvert\\psi\\right>$. The probability is given by $\\left|\\left<\\psi'\\rvert\\psi\\right>\\right|^2$.\n",
    "\n",
    "The transition amplitudes between two states may be zero. This happens when the states are mutually orthogonal to each other. Therefore, orthogonal states are \"as far apart\" as possible and can be distinguished from each other with certainty. As a result, we often use orthonormal basis which guarantees that the result of a measurement is one of the basis states and never a superposition of the basis states."
   ]
  },
  {
   "cell_type": "markdown",
   "metadata": {
    "cell_details": {
     "cell_ID": "m11-ExampleTransitionAmplitude",
     "cell_alternates": [],
     "cell_concepts": [
      "Probability Amplitude",
      "Qubit Representation",
      "Orthonormal Basis",
      "Quantum State Collapse",
      "Inner Product",
      "Bra and Ket"
     ],
     "cell_estimated_time": "1",
     "cell_interactive": "false",
     "cell_outcomes": [
      "Demonstrate how to calculate the probability amplitude of a qubit collapsing to a specific state",
      "Apply the concept of orthonormal basis to represent qubits and compute transition probabilities",
      "Understand the procedure for computing inner products using bra-ket notation"
     ],
     "cell_prereqs": [
      "m11-TransitionAmplitudes",
      "m11-ComplexQubitTransition",
      "m11-GeneralTransitionAmplitudes"
     ],
     "cell_type": [
      "text"
     ],
     "module_outcomes": [
      "Master the calculation of transition probabilities in quantum mechanics",
      "Utilize bra-ket notation effectively to represent quantum states and their transitions",
      "Enhance understanding of quantum measurements through practical computation examples"
     ],
     "module_prereqs": [
      "Linear Algebra",
      "Complex Numbers",
      "Introduction to Quantum Mechanics"
     ],
     "module_title": [
      "Basics of Measuring a Qubit"
     ]
    },
    "editable": true,
    "slideshow": {
     "slide_type": "slide"
    },
    "tags": []
   },
   "source": [
    "Since we can represent any qubit $\\rvert\\psi\\rangle$ in the orthonormal basis $\\{\\rvert b_0\\rangle, \\rvert b_1\\rangle,\\ldots,b_{n-1}\\rangle\\}$ as,\n",
    "\n",
    "$$\\rvert\\psi\\rangle=b_0\\rvert b_0\\rangle+b_1\\rvert b_1\\rangle+\\ldots+b_{n-1}\\rvert b_{n-1}\\rangle$$\n",
    "\n",
    "Then the probability amplitude of $\\rvert\\psi\\rangle$ collapsing to state $\\rvert b_i\\rangle$ is given by, $b_i=\\left<b_i\\rvert\\psi\\right>$. Which gives $\\rvert b_i\\rvert^2$ as the probability of ending up in state $\\rvert b_i\\rangle$.\n",
    "\n",
    "<b>Example:</b> The probability amplitude of state $\\rvert\\psi\\rangle=\\frac{\\sqrt{2}}{2}\\begin{bmatrix}1\\\\i\\end{bmatrix}$ transitioning to state $\\rvert\\phi\\rangle=\\frac{\\sqrt{2}}{2}\\begin{bmatrix}i\\\\-1\\end{bmatrix}$ is computed as follows: Compute the bra of $\\rvert\\phi\\rangle$, $\\langle\\phi\\rvert=\\frac{\\sqrt{2}}{2}\\begin{bmatrix}-i&-1\\end{bmatrix}$, then the inner product with $\\rvert\\psi\\rangle$, $\\langle\\phi\\rvert\\psi\\rangle=-i$. "
   ]
  },
  {
   "cell_type": "markdown",
   "metadata": {
    "cell_details": {
     "cell_ID": "m11-GlobalAndRelativePhases",
     "cell_alternates": [],
     "cell_concepts": [
      "Global Phase",
      "Relative Phase",
      "Qubit Equivalence",
      "Quantum States",
      "Complex Numbers"
     ],
     "cell_estimated_time": "2",
     "cell_interactive": "false",
     "cell_outcomes": [
      "Understand the concept of global phase and its lack of physical significance",
      "Learn about relative phase and its impact on the uniqueness of quantum states",
      "Differentiate between qubits that are equivalent and those that are distinct due to relative phases"
     ],
     "cell_prereqs": [
      "m11-MeasuringAQubit"
     ],
     "cell_type": [
      "text"
     ],
     "module_outcomes": [
      "Comprehend the implications of global and relative phases on quantum state representations",
      "Analyze the equivalence and distinctiveness of quantum states based on phase information",
      "Apply the concepts of global and relative phases in quantum computing and cryptography"
     ],
     "module_prereqs": [
      "Linear Algebra",
      "Complex Numbers",
      "Introduction to Quantum Mechanics"
     ],
     "module_title": [
      "Basics of Measuring a Qubit"
     ]
    },
    "editable": true,
    "slideshow": {
     "slide_type": "slide"
    },
    "tags": []
   },
   "source": [
    "## 11.3 Global and Relative Phases\n",
    "\n",
    "<b>Global phase:</b> It turns out that two qubits that can be written as multiple of each other, for example $\\alpha\\left|0\\right>+\\beta\\left|1\\right>=c\\cdot(\\alpha'\\left|0\\right>+\\beta'\\left|1\\right>)$, where $c=e^{i\\phi}$ is a complex number, are said to be equivalent. Both the qubits represent the same state for all practical purposes. We call $c$ the global phase and it has no physical meaning.\n",
    "\n",
    "<b>Relative phase:</b> The relative phase of a qubit is defined as the complex number $e^{i\\phi}$ such that $\\frac{\\alpha}{\\beta}=e^{i\\phi}\\frac{\\rvert\\alpha\\rvert}{\\rvert\\beta\\rvert}$. Note that $\\rvert e^{i\\phi}\\rvert=1$ and therefore does not always show up in measurement. Two qubits that differ only in relative phases are considered distinct/unique qubits. For example, $\\alpha\\left|0\\right>+\\beta\\left|1\\right>$ and $e^{i\\phi}\\alpha\\left|0\\right>+\\beta\\left|1\\right>$ are different states."
   ]
  },
  {
   "cell_type": "markdown",
   "metadata": {
    "cell_details": {
     "cell_ID": "m11-Quiz-11.1",
     "cell_alternates": [],
     "cell_concepts": [
      "Measurement Outcomes",
      "Standard Basis",
      "Hadamard Basis",
      "Transition Amplitudes",
      "Qubit Equivalence",
      "Inner Product",
      "Global Phase",
      "Relative Phase"
     ],
     "cell_estimated_time": "7",
     "cell_interactive": "true",
     "cell_outcomes": [
      "Calculate measurement outcomes and transition amplitudes for given qubits in different bases",
      "Apply the inner product to compute transition amplitudes accurately",
      "Distinguish between equivalent and distinct quantum states based on global and relative phases"
     ],
     "cell_prereqs": [
      "m11-MeasuringAQubit",
      "m11-TransitionAmplitudes",
      "m11-ComplexQubitTransition",
      "m11-GeneralTransitionAmplitudes",
      "m11-ExampleTransitionAmplitude"
     ],
     "cell_type": [
      "text"
     ],
     "module_outcomes": [
      "Analyze and predict the outcomes of quantum measurements in various bases",
      "Demonstrate proficiency in computing transition amplitudes using inner product calculations",
      "Understand the concept of quantum state equivalence and distinctness"
     ],
     "module_prereqs": [
      "Linear Algebra",
      "Complex Numbers",
      "Introduction to Quantum Mechanics"
     ],
     "module_title": [
      "Basics of Measuring a Qubit"
     ]
    },
    "slideshow": {
     "slide_type": "slide"
    }
   },
   "source": [
    "## Quiz 11.1 (Self Assessment)\n",
    "\n",
    "1. Compute the probabilities of measurement outcomes for the following qubits with respect to the standard basis $\\{\\rvert0\\rangle, \\rvert1\\rangle\\}$ and the Hadamard basis $\\{\\rvert+\\rangle, \\rvert-\\rangle\\}$. Use the inner product to compute the transition amplitudes.\n",
    "\n",
    "    a. $-i\\rvert0\\rangle$\n",
    "    \n",
    "    b. $\\frac{i}{\\sqrt{2}}(\\rvert0\\rangle+\\rvert1\\rangle)$\n",
    "    \n",
    "    c. $\\frac{-1}{\\sqrt{2}}(\\rvert+\\rangle-\\rvert-\\rangle)$\n",
    "    \n",
    "    d. $\\frac{1}{\\sqrt{2}}(\\rvert0\\rangle+e^{-i\\pi}\\rvert1\\rangle)$\n",
    "    \n",
    "    e. $\\frac{1}{\\sqrt{2}}(\\rvert1\\rangle-\\rvert0\\rangle)$\n",
    "    \n",
    "    f. $\\frac{1+i}{2}\\rvert+\\rangle+\\frac{1-i}{2}\\rvert-\\rangle$\n",
    "   \n",
    "3. Given the following qubits, which ones are the same state and which ones represent distinct states?\n",
    "\n",
    "    a. $-i\\rvert0\\rangle$ and $\\rvert0\\rangle$\n",
    "    \n",
    "    b. $\\rvert1\\rangle$ and $-\\rvert1\\rangle$\n",
    "    \n",
    "    c. $\\frac{-1}{\\sqrt{2}}(\\rvert0\\rangle+\\rvert1\\rangle)$ and $\\frac{i}{\\sqrt{2}}(\\rvert0\\rangle+\\rvert1\\rangle)$\n",
    "    \n",
    "    d. $\\frac{-1}{\\sqrt{2}}(\\rvert+\\rangle-\\rvert-\\rangle)$ and $\\frac{1}{\\sqrt{2}}(\\rvert-\\rangle-\\rvert+\\rangle)$\n",
    "    \n",
    "    e. $\\frac{1}{\\sqrt{2}}(\\rvert0\\rangle+e^{-i\\pi}\\rvert1\\rangle)$ and $\\frac{1}{\\sqrt{2}}(\\rvert1\\rangle-\\rvert0\\rangle)$\n"
   ]
  },
  {
   "cell_type": "markdown",
   "metadata": {
    "cell_details": {
     "cell_ID": "m11-finalQuiz-information",
     "cell_alternates": [],
     "cell_concepts": [],
     "cell_estimated_time": "1",
     "cell_interactive": "false",
     "cell_outcomes": [
      "Know the information about the final Quiz of this module"
     ],
     "cell_prereqs": [],
     "cell_type": [
      "text"
     ],
     "module_outcomes": [
      "Analyze and predict the outcomes of quantum measurements in various bases",
      "Demonstrate proficiency in computing transition amplitudes using inner product calculations",
      "Understand the concept of quantum state equivalence and distinctness"
     ],
     "module_prereqs": [
      "Linear Algebra",
      "Complex Numbers",
      "Introduction to Quantum Mechanics"
     ],
     "module_title": [
      "Basics of Measuring a Qubit"
     ]
    },
    "slideshow": {
     "slide_type": "slide"
    }
   },
   "source": [
    "### Final Quiz 11  is in a separate notebook with filename: finalquiz11.ipynb.\n",
    "\n",
    "Final quiz is intended to be completed and submitted to the instructor for grading. Solutions are available only to instructors upon request."
   ]
  }
 ],
 "metadata": {
  "celltoolbar": "Slideshow",
  "kernelspec": {
   "display_name": "Python 3 (ipykernel)",
   "language": "python",
   "name": "python3"
  },
  "language_info": {
   "codemirror_mode": {
    "name": "ipython",
    "version": 3
   },
   "file_extension": ".py",
   "mimetype": "text/x-python",
   "name": "python",
   "nbconvert_exporter": "python",
   "pygments_lexer": "ipython3",
   "version": "3.12.2"
  },
  "module_details": {
   "module_concepts": [],
   "module_outcomes": [
    "Students will understand the basics of measuring a qubit.",
    "Students will be able to compute the probabilities of outcomes upon measurement.",
    "Student will be able to compute transition amplitudes from one state to the other.",
    "Student will understand the notion of global and local phase and their interpretations."
   ],
   "module_outcomes_mapping": [
    [
     "m11-MeasuringAQubit"
    ],
    [
     "m11-MeasuringAQubit"
    ],
    [
     "m11-TransitionAmplitudes",
     "m11-ComplexQubitTransition",
     "m11-GeneralTransitionAmplitudes",
     "m11-ExampleTransitionAmplitude"
    ],
    [
     "m11-GlobalAndRelativePhases",
     "m11-Quiz-11.1"
    ]
   ],
   "module_prereqs": [
    "Linear Algebra",
    "Complex Numbers",
    "Introduction to Quantum Mechanics"
   ],
   "module_title": "Basics of Measuring a Qubit"
  }
 },
 "nbformat": 4,
 "nbformat_minor": 4
}
