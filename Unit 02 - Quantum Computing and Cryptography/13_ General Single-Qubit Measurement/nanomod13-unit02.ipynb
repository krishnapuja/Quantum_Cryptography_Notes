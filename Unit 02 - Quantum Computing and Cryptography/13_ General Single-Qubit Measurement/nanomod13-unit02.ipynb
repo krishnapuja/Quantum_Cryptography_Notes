{
 "cells": [
  {
   "cell_type": "markdown",
   "metadata": {
    "cell_details": {
     "cell_ID": "m13-LearningOutcome",
     "cell_alternates": [],
     "cell_concepts": [
      "Projective Measurements",
      "Measurement Postulate",
      "Projection Operators",
      "Outcome Probabilities",
      "Density Matrix",
      "Quantum Mechanics"
     ],
     "cell_estimated_time": "1",
     "cell_interactive": "false",
     "cell_outcomes": [
      "Understand the theory behind projective measurements in quantum mechanics",
      "Grasp the measurement postulate specific to projective measurements",
      "Compute projection operators for different bases",
      "Calculate probabilities of measurement outcomes using projection operators",
      "Learn density matrix formulation and apply it to projective measurements"
     ],
     "cell_prereqs": [],
     "cell_type": [
      "text"
     ],
     "module_outcomes": [
      "Master the principles and applications of projective measurements in quantum mechanics",
      "Apply mathematical tools to analyze quantum measurement outcomes",
      "Utilize density matrix formulation for a deeper understanding of quantum states and measurements"
     ],
     "module_prereqs": [
      "Linear Algebra",
      "Complex Numbers",
      "Quantum Mechanics Fundamentals"
     ],
     "module_title": [
      "General Single-Qubit Measurement"
     ]
    },
    "slideshow": {
     "slide_type": "slide"
    }
   },
   "source": [
    "# 13. General Single-Qubit Measurement\n",
    "\n",
    "### This lesson belongs to nanomodule 13 - unit 2\n",
    "\n",
    "\n",
    "<b>Learning Outcomes: </b>\n",
    "\n",
    "Upon completion of this lesson:\n",
    "\n",
    "13.1 Students will understand the theory behind projective measurements.\n",
    "\n",
    "13.2 Students will understand the measurement postulate in quantum mechanics for projective measurements.\n",
    "\n",
    "13.3 Students will be able to compute the projection operators for a basis.\n",
    "\n",
    "13.4 Students will be able to calculate the probabilities of outcomes for a given basis using projection operator and determine the final state of the qubit.\n",
    "\n",
    "13.5 Students will understand the density matrix formulation and will be able to apply it for projective measurements.\n"
   ]
  },
  {
   "cell_type": "markdown",
   "metadata": {
    "cell_details": {
     "cell_ID": "m13-QuantumMeasurements",
     "cell_alternates": [],
     "cell_concepts": [
      "Quantum Measurements",
      "Single-Qubit Measurements",
      "Basis-State Measurements",
      "Projective Measurements",
      "von Neumann Measurements",
      "POVM Measurements"
     ],
     "cell_estimated_time": "1",
     "cell_interactive": "false",
     "cell_outcomes": [
      "Introduce the general theory behind single-qubit measurements in quantum mechanics",
      "Differentiate between the three types of quantum measurements",
      "Focus on understanding projective or von Neumann measurements"
     ],
     "cell_prereqs": [
      "m10-QubitsAndMeasurement"
     ],
     "cell_type": [
      "text"
     ],
     "module_outcomes": [
      "Grasp the fundamental concepts of quantum measurement theory",
      "Distinguish between various quantum measurement types and their applications",
      "Deepen knowledge on projective measurements and their significance in quantum mechanics"
     ],
     "module_prereqs": [
      "Quantum Mechanics Fundamentals",
      "Linear Algebra"
     ],
     "module_title": [
      "General Single-Qubit Measurement"
     ]
    },
    "editable": true,
    "slideshow": {
     "slide_type": "slide"
    },
    "tags": []
   },
   "source": [
    "## 13.1 Quantum Measurements\n",
    "\n",
    "Here we discuss the general theory behind single-qubit measurements. It has no counterpart in classical domain. There are three types of quantum measurements: The basis-state measurements, projection or von Neumann measurements and the POVM measurements. We focus on projective measurements."
   ]
  },
  {
   "cell_type": "markdown",
   "metadata": {
    "cell_details": {
     "cell_ID": "m13-ComputingTheProjection",
     "cell_alternates": [],
     "cell_concepts": [
      "Projection",
      "Orthonormal Basis",
      "Qubit Representation",
      "Inner Product",
      "Pure State"
     ],
     "cell_estimated_time": "1",
     "cell_interactive": "false",
     "cell_outcomes": [
      "Compute the projection of a qubit onto a basis state",
      "Apply the concept of orthonormal basis to simplify the projection computation",
      "Understand the mathematical representation of qubit projection on pure states"
     ],
     "cell_prereqs": [
      "m6-InnerProduct",
      "m6-OrthogonalVectors",
      "m6-OrthogonalBasis",
      "m6-Projection",
      "m13-QuantumMeasurements"
     ],
     "cell_type": [
      "text"
     ],
     "module_outcomes": [
      "Master the process of computing projections in quantum mechanics",
      "Apply linear algebra techniques to analyze projections of qubits",
      "Comprehend the significance of orthonormal basis in quantum measurement computations"
     ],
     "module_prereqs": [
      "Linear Algebra",
      "Quantum Mechanics Fundamentals"
     ],
     "module_title": [
      "General Single-Qubit Measurement"
     ]
    },
    "editable": true,
    "slideshow": {
     "slide_type": "slide"
    },
    "tags": []
   },
   "source": [
    "## 13.2 Computing the Projection\n",
    "\n",
    "Given a qubit $\\rvert\\psi\\rangle$ and set of orthonormal basis states $B=\\{\\rvert b_1\\rangle, \\rvert b_2\\rangle, \\ldots, \\rvert b_{n}\\rangle\\}$, we can express the qubit as,\n",
    "\n",
    "$$\\rvert\\psi\\rangle=c_1\\rvert b_1\\rangle+c_2\\rvert b_2\\rangle+\\ldots+c_n \\rvert b_{n}\\rangle$$\n",
    "\n",
    "where $c_i\\in\\mathbb{C}$. The projection of $\\rvert\\psi\\rangle$ on state $\\rvert b_i\\rangle$ can be calculated by taking the left inner product as shown below:\n",
    "\n",
    "$$\\langle b_i\\rvert\\psi\\rangle=\\sum_{b_j}\\langle b_i\\rvert c_j\\rvert b_j\\rangle=c_j\\langle b_i\\rvert b_j\\rangle$$\n",
    "\n",
    "Since the basis set is orthonormal, $\\langle b_i\\rvert b_j\\rangle=1$ only when $i=j$ and zero otherwise. Therefore, the inner product reduces to:\n",
    "\n",
    "$$\\langle b_i\\rvert\\psi\\rangle=c_i$$\n",
    "\n",
    "Therefore $c_i$ is the projection of $\\rvert\\psi\\rangle$ on the pure state $\\rvert b_i\\rangle$."
   ]
  },
  {
   "cell_type": "markdown",
   "metadata": {
    "cell_details": {
     "cell_ID": "m13-TheProjectionOperators",
     "cell_alternates": [],
     "cell_concepts": [
      "Projection Operator",
      "Qubit Projection",
      "Kronecker Delta",
      "Basis Components",
      "Quantum Mechanics"
     ],
     "cell_estimated_time": "1",
     "cell_interactive": "false",
     "cell_outcomes": [
      "Define and understand the concept of a projection operator in quantum mechanics",
      "Apply projection operators to qubits for projecting onto specific basis states",
      "Comprehend the mathematical framework and implications of using projection operators"
     ],
     "cell_prereqs": [
      "m13-ComputingTheProjection"
     ],
     "cell_type": [
      "text"
     ],
     "module_outcomes": [
      "Master the use and significance of projection operators in quantum state analysis",
      "Analyze and compute the effects of projection on qubit states within a given basis",
      "Enhance understanding of quantum measurement theory through the application of projection operators"
     ],
     "module_prereqs": [
      "Linear Algebra",
      "Quantum Mechanics Fundamentals"
     ],
     "module_title": [
      "General Single-Qubit Measurement"
     ]
    },
    "slideshow": {
     "slide_type": "slide"
    }
   },
   "source": [
    "## 13.3 The Projection Operators\n",
    "\n",
    "We define a projection operator $U_{b}=\\rvert b\\rangle\\langle b\\rvert$ that projects any qubit onto the state $\\rvert b\\rangle$. We can verify that,\n",
    "\n",
    "$$U_{b}=(\\rvert b\\rangle\\langle b\\rvert)\\rvert b\\rangle=\\rvert b\\rangle\\langle b\\rvert b\\rangle=\\rvert b\\rangle\\delta_{bb}=\\rvert b\\rangle$$\n",
    "\n",
    "where $\\delta_{bb}$ is the Kronecker delta.\n",
    "\n",
    "Given the expansion of qubit $\\rvert\\psi\\rangle$ in terms of components of basis $B$, above, we can apply the corresponding projection operator $U_{b_i}$ to $\\rvert\\psi\\rangle$ as follows,\n",
    "\n",
    "$$U_{b_i}\\rvert\\psi\\rangle=(\\rvert b_i\\rangle\\langle b_i\\rvert)\\sum_{b_j}c_j\\rvert b_j\\rangle=\\sum_{b_j}c_j\\rvert b_i\\rangle\\langle b_i\\rvert b_j\\rangle=\\rvert b_i\\rangle\\sum_{b_j}c_j\\delta_{b_ib_j}=c_i\\rvert b_i\\rangle$$\n",
    "\n",
    "We see that application of the projection operator $U_{b_i}$ projects $\\rvert\\psi\\rangle$ onto the basis component; the projection being $c_i\\rvert b_i\\rangle$. Given this result, we can rewrite the expression for $\\rvert\\psi\\rangle$ as follows,\n",
    "\n",
    "$$\\rvert\\psi\\rangle=\\left(\\sum_{b_i}\\rvert b_i\\rangle\\langle b_i\\rvert\\right)\\rvert\\psi\\rangle$$"
   ]
  },
  {
   "cell_type": "markdown",
   "metadata": {
    "cell_details": {
     "cell_ID": "m13-MeasurementOperatorIdentity",
     "cell_alternates": [],
     "cell_concepts": [
      "Measurement Operator",
      "Projection Operator",
      "Identity Matrix",
      "Pure States",
      "Repeated Measurements"
     ],
     "cell_estimated_time": "1",
     "cell_interactive": "false",
     "cell_outcomes": [
      "Understand the relationship between projection operators and the identity operator in quantum mechanics",
      "Grasp the concept that projecting a state twice yields the same result as projecting it once",
      "Learn that repeated measurements in the same basis produce consistent results"
     ],
     "cell_prereqs": [
      "m13-TheProjectionOperators"
     ],
     "cell_type": [
      "text"
     ],
     "module_outcomes": [
      "Comprehend the construction and significance of the measurement operator in quantum measurements",
      "Analyze the properties of projection operators and their effect on quantum states",
      "Acknowledge the foundational principles of quantum mechanics reflected in measurement consistency"
     ],
     "module_prereqs": [
      "Linear Algebra",
      "Quantum Mechanics Fundamentals"
     ],
     "module_title": [
      "General Single-Qubit Measurement"
     ]
    },
    "slideshow": {
     "slide_type": "slide"
    }
   },
   "source": [
    "From the above relation we see that the measurement operator $\\sum_{b_i} U_{b_i}=I$, where $I$ is the identity matrix. In other words, the sum of the projection operator over pure states is the identity operator.\n",
    "\n",
    "It is interesting to note that $U_b^2=U_b$. Therefore, projecting a state twice is the same as projecting the state once. It will produce the same result. In other words, repeated measurements of a state in the same basis produces the same result again and again."
   ]
  },
  {
   "cell_type": "markdown",
   "metadata": {
    "cell_details": {
     "cell_ID": "m13-ExampleProjectionOperators",
     "cell_alternates": [],
     "cell_concepts": [
      "Projection Operators Example",
      "Standard Basis",
      "Qubit Representation",
      "Quantum Mechanics"
     ],
     "cell_estimated_time": "1",
     "cell_interactive": "false",
     "cell_outcomes": [
      "Calculate the projection of a specific qubit onto the standard basis using projection operators",
      "Demonstrate the application of projection operators to determine the outcome probabilities for a given qubit state",
      "Apply knowledge of quantum mechanics and linear algebra to solve practical problems"
     ],
     "cell_prereqs": [
      "m13-TheProjectionOperators",
      "m13-MeasurementOperatorIdentity"
     ],
     "cell_type": [
      "text"
     ],
     "module_outcomes": [
      "Master the practical application of projection operators in quantum measurement",
      "Enhance problem-solving skills in the context of quantum state analysis",
      "Deepen understanding of the measurement process in quantum mechanics"
     ],
     "module_prereqs": [
      "Linear Algebra",
      "Quantum Mechanics Fundamentals",
      "Complex Numbers"
     ],
     "module_title": [
      "General Single-Qubit Measurement"
     ]
    },
    "slideshow": {
     "slide_type": "slide"
    }
   },
   "source": [
    "### Example\n",
    "\n",
    "Consider qubit $\\rvert\\psi\\rangle=\\frac{1}{\\sqrt{3}}\\rvert0\\rangle+\\frac{\\sqrt{2}}{\\sqrt{3}}\\rvert1\\rangle$. Denote the projection operators for the standard basis as $U_{\\rvert0\\rangle}$ and $U_{\\rvert1\\rangle}$ then,\n",
    "\n",
    "$$U_{\\rvert0\\rangle}=\\rvert0\\rangle\\langle0\\rvert$$ and\n",
    "\n",
    "$$U_{\\rvert1\\rangle}=\\rvert1\\rangle\\langle1\\rvert$$"
   ]
  },
  {
   "cell_type": "markdown",
   "metadata": {
    "cell_details": {
     "cell_ID": "m13-ApplyingProjectionOperators",
     "cell_alternates": [],
     "cell_concepts": [
      "Projection Operators Application",
      "Qubit Analysis",
      "Standard Basis Projection",
      "Quantum State Probabilities",
      "Inner Product Calculation"
     ],
     "cell_estimated_time": "1",
     "cell_interactive": "false",
     "cell_outcomes": [
      "Apply projection operators to a given qubit to compute outcomes in the standard basis",
      "Calculate the probabilities of the qubit collapsing to each basis state upon measurement",
      "Demonstrate the mathematical process of determining a quantum state's measurement outcomes"
     ],
     "cell_prereqs": [
      "m13-TheProjectionOperators",
      "m13-MeasurementOperatorIdentity",
      "m13-ExampleProjectionOperators"
     ],
     "cell_type": [
      "text"
     ],
     "module_outcomes": [
      "Master the application of projection operators in the context of quantum measurements",
      "Analyze and predict the behavior of quantum states upon measurement",
      "Utilize mathematical principles to solve problems related to quantum state projections and measurement outcomes"
     ],
     "module_prereqs": [
      "Linear Algebra",
      "Quantum Mechanics Fundamentals",
      "Complex Numbers"
     ],
     "module_title": [
      "General Single-Qubit Measurement"
     ]
    },
    "slideshow": {
     "slide_type": "slide"
    }
   },
   "source": [
    "Applying these projection operators to $\\rvert\\psi\\rangle$ we get,\n",
    "\n",
    "$$U_{\\rvert0\\rangle}\\rvert\\psi\\rangle=\\rvert0\\rangle\\langle0\\rvert\\left(\\frac{1}{\\sqrt{3}}\\rvert0\\rangle+\\frac{\\sqrt{2}}{\\sqrt{3}}\\rvert1\\rangle\\right)=\\frac{1}{\\sqrt{3}}\\rvert0\\rangle\\langle0\\rvert0\\rangle+\\frac{\\sqrt{2}}{\\sqrt{3}}\\rvert0\\rangle\\langle0\\rvert1\\rangle=\\frac{1}{\\sqrt{3}}\\rvert0\\rangle\\langle0\\rvert0\\rangle=\\frac{1}{\\sqrt{3}}\\rvert0\\rangle$$\n",
    "\n",
    "Similarly,\n",
    "$$U_{\\rvert1\\rangle}\\rvert\\psi\\rangle=\\frac{\\sqrt{2}}{\\sqrt{3}}\\rvert1\\rangle$$\n"
   ]
  },
  {
   "cell_type": "markdown",
   "metadata": {
    "cell_details": {
     "cell_ID": "m13-QuantumMeasurementPostulate",
     "cell_alternates": [],
     "cell_concepts": [
      "Quantum Measurement Postulate",
      "Measurement Operators",
      "State Space",
      "Measurement Outcome Probability",
      "Post-Measurement State",
      "Orthonormal Basis",
      "Projective Measurement"
     ],
     "cell_estimated_time": "1",
     "cell_interactive": "false",
     "cell_outcomes": [
      "Understand the quantum measurement postulate and its implications on the measurement process",
      "Calculate the probability of different measurement outcomes and the post-measurement state of a quantum system",
      "Recognize the condition under which the measurement postulate simplifies to projective measurement"
     ],
     "cell_prereqs": [],
     "cell_type": [
      "text"
     ],
     "module_outcomes": [
      "Comprehend the foundational principles of quantum measurement as described by the measurement postulate",
      "Apply the measurement postulate to analyze quantum systems and predict measurement outcomes",
      "Relate the general framework of quantum measurement to the specific case of projective measurements"
     ],
     "module_prereqs": [
      "Linear Algebra",
      "Quantum Mechanics Fundamentals",
      "Complex Numbers"
     ],
     "module_title": [
      "General Single-Qubit Measurement"
     ]
    },
    "slideshow": {
     "slide_type": "slide"
    }
   },
   "source": [
    "## Quantum Measurement Postulate\n",
    "\n",
    "Consider a collection of measurement operators $\\{M_m\\}$, on the state space of the system being measured and the state $\\rvert\\psi\\rangle$ of the quantum system just before measurement. Index $m$ refers the $m^{th}$ measurement outcome that may occur. Then the probability that $m$ occurs is given by,\n",
    "\n",
    "$$p(m)=\\langle\\psi\\rvert M_m^\\dagger M_m\\rvert\\psi\\rangle$$ \n",
    "\n",
    "and post-measurement state of the system is,\n",
    "\n",
    "$$\\frac{M_m\\rvert\\psi\\rangle}{\\sqrt{\\langle\\psi\\rvert M_m^\\dagger M_m\\rvert\\psi\\rangle}}$$\n",
    "\n",
    "Since the probabilities of each outcome must add to 1, $\\sum_m p(m)=\\sum_m\\langle\\psi\\rvert M_m^\\dagger M_m\\rvert\\psi\\rangle=1$, it implies that $\\sum_m M_m^\\dagger M_m=I$.\n",
    "\n",
    "Therefore, if the basis used is orthonormal then the measurement postulate reduces to projective measurement that we've discussed so far."
   ]
  },
  {
   "cell_type": "markdown",
   "metadata": {
    "cell_details": {
     "cell_ID": "m13-ComputationalBasisMeasurement",
     "cell_alternates": [],
     "cell_concepts": [
      "Projection Operators",
      "Measurement Operators",
      "Computational Basis",
      "Hermitian Operators",
      "Quantum State",
      "Measurement Outcome Probability"
     ],
     "cell_estimated_time": "1",
     "cell_interactive": "false",
     "cell_outcomes": [
      "Identify the projection operators as measurement operators for the computational or standard basis",
      "Understand the properties of Hermitian operators in the context of quantum measurements",
      "Calculate the probabilities of obtaining specific measurement outcomes for a given quantum state"
     ],
     "cell_prereqs": [
      "m13-QuantumMeasurementPostulate"
     ],
     "cell_type": [
      "text"
     ],
     "module_outcomes": [
      "Apply measurement operators to determine outcomes in the computational basis",
      "Analyze the role of Hermitian operators in the framework of quantum measurement",
      "Master the computation of measurement outcome probabilities for quantum states"
     ],
     "module_prereqs": [
      "Linear Algebra",
      "Quantum Mechanics Fundamentals",
      "Complex Numbers"
     ],
     "module_title": [
      "General Single-Qubit Measurement"
     ]
    },
    "slideshow": {
     "slide_type": "slide"
    }
   },
   "source": [
    "The two projection operators discussed above form the measurement operators for the computational/standard basis. $M_0=\\rvert0\\rangle\\langle0\\rvert$ and $M_1=\\rvert1\\rangle\\langle1\\rvert$. Both the measurement operators here are Hermitian operators. Therefore, $M_0^2=M_0$ and $M_1^2=M_1$. The completeness relation above states that $M_0^\\dagger M_0+M_1^\\dagger M_1= M_0+M_1=I$.\n",
    "\n",
    "Consider a state $\\psi=\\frac{i}{\\sqrt{4}}\\rvert0\\rangle+\\frac{i+\\sqrt{2}}{\\sqrt{4}}\\rvert1\\rangle$. Using the measurement postulate we see that the probability of obtaining a measurement outcome of 0 is,\n",
    "\n",
    "$$p(0)=\\langle\\psi\\rvert M_0^\\dagger M_0\\rvert\\psi\\rangle=\\langle\\psi\\rvert M_0\\rvert\\psi\\rangle=\\left|\\frac{i}{\\sqrt{4}}\\right|^2=\\frac{1}{4}$$\n",
    "\n",
    "Similarly, the probability of obtaining outcome 1 is $p(1)=\\left|\\frac{i+\\sqrt{2}}{\\sqrt{4}}\\right|^2$."
   ]
  },
  {
   "cell_type": "markdown",
   "metadata": {
    "cell_details": {
     "cell_ID": "m13-PostMeasurementStates",
     "cell_alternates": [],
     "cell_concepts": [
      "Post Measurement State",
      "Global Phase",
      "Quantum State Transformation",
      "Measurement Outcome"
     ],
     "cell_estimated_time": "1",
     "cell_interactive": "false",
     "cell_outcomes": [
      "Calculate the post-measurement state of a quantum system for given outcomes",
      "Understand the role of global phase in the post-measurement state and its non-effect on the state",
      "Relate the post-measurement states to the computational basis states, acknowledging the insignificance of global phase"
     ],
     "cell_prereqs": [
      "m13-QuantumMeasurementPostulate",
      "m13-ComputationalBasisMeasurement"
     ],
     "cell_type": [
      "text"
     ],
     "module_outcomes": [
      "Comprehend the process of determining post-measurement states in quantum mechanics",
      "Apply principles of quantum mechanics to analyze the effects of measurement on a quantum system",
      "Recognize the practical implications of global phase differences in quantum states post-measurement"
     ],
     "module_prereqs": [
      "Linear Algebra",
      "Quantum Mechanics Fundamentals",
      "Complex Numbers"
     ],
     "module_title": [
      "General Single-Qubit Measurement"
     ]
    },
    "slideshow": {
     "slide_type": "slide"
    }
   },
   "source": [
    "When the measurement outcome is 0, the post measurement state becomes,\n",
    "\n",
    "$$\\frac{M_0\\rvert\\psi\\rangle}{\\left|\\frac{i}{\\sqrt{4}}\\right|}=\\frac{\\frac{i}{\\sqrt{4}}}{\\left|\\frac{i}{\\sqrt{4}}\\right|}\\rvert0\\rangle$$\n",
    "\n",
    "and when the measurement outcome is 1, the post measurement state becomes,\n",
    "\n",
    "$$\\frac{M_1\\rvert\\psi\\rangle}{\\left|\\frac{1}{2}\\right|}=\\frac{\\frac{i+\\sqrt{2}}{\\sqrt{4}}}{\\left|\\frac{i+\\sqrt{2}}{\\sqrt{4}}\\right|}\\rvert1\\rangle$$\n",
    "\n",
    "Since the above post-measurements states only differ in a global phase from $\\rvert0\\rangle$ and $\\rvert1\\rangle$ and global phase can be effectively ignored, the post measurement states are effectively $\\rvert0\\rangle$ and $\\rvert1\\rangle$."
   ]
  },
  {
   "cell_type": "markdown",
   "metadata": {
    "cell_details": {
     "cell_ID": " m13-quiz-13.1",
     "cell_alternates": [],
     "cell_concepts": [
      "Measurement Operators",
      "Basis Sets",
      "Probability of Collapse",
      "Final State",
      "Quantum Mechanics Practice"
     ],
     "cell_estimated_time": "5",
     "cell_interactive": "false",
     "cell_outcomes": [
      "Identify measurement operators for given basis sets",
      "Calculate the probability of collapse for specific qubits with respect to these operators",
      "Determine the final state of a qubit after measurement based on calculated probabilities"
     ],
     "cell_prereqs": [
      "m13-QuantumMeasurementPostulate",
      "m13-ComputationalBasisMeasurement",
      "m13-PostMeasurementStates"
     ],
     "cell_type": [
      "text"
     ],
     "module_outcomes": [
      "Enhance understanding of measurement operators and their applications in quantum measurements",
      "Apply quantum mechanics principles to solve practical problems involving quantum state collapse",
      "Master the computation of outcome probabilities and post-measurement states in quantum mechanics"
     ],
     "module_prereqs": [
      "Linear Algebra",
      "Quantum Mechanics Fundamentals",
      "Complex Numbers"
     ],
     "module_title": [
      "General Single-Qubit Measurement"
     ]
    },
    "slideshow": {
     "slide_type": "slide"
    }
   },
   "source": [
    "## Self-Assessment Quiz 1\n",
    "<b>Maybe used for in-class hands-on practice.</b>\n",
    "\n",
    "<b>1.1 What are the measurement operators for the following basis sets?</b>\n",
    "\n",
    "   1. $\\{\\rvert+\\rangle, \\rvert-\\rangle\\}$\n",
    "<br><br>    \n",
    "   2. $\\left\\{\\begin{bmatrix}\\frac{i\\sqrt{3}}{\\sqrt{5}}\\\\\\frac{\\sqrt{2}}{\\sqrt{5}}\\end{bmatrix}, \\begin{bmatrix}\\frac{\\sqrt{2}}{\\sqrt{5}}\\\\\\frac{i\\sqrt{3}}{\\sqrt{5}}\\end{bmatrix}\\right\\}$\n",
    "<br><br>    \n",
    "   3. $\\left\\{\\frac{1}{\\sqrt{3}}\\rvert+\\rangle-\\frac{\\sqrt{2}}{\\sqrt{3}}\\rvert-\\rangle, -\\frac{\\sqrt{2}}{\\sqrt{3}}\\rvert+\\rangle-\\frac{1}{\\sqrt{3}}\\rvert-\\rangle\\right\\}$\n",
    "<br>\n",
    "\n",
    "<b>1.2 For each of the measurement operators above, calculate the probability of collapse for the following qubits and the final state of the qubit after measurement.</b>\n",
    "<br>\n",
    "   1. $\\rvert+\\rangle$\n",
    "<br><br>         \n",
    "   2. $\\frac{i}{\\sqrt{3}}\\rvert0\\rangle-\\frac{\\sqrt{2}}{\\sqrt{3}}\\rvert1\\rangle$"
   ]
  },
  {
   "cell_type": "markdown",
   "metadata": {
    "cell_details": {
     "cell_ID": "m13-DensityMatrices",
     "cell_alternates": [],
     "cell_concepts": [
      "Density Matrices",
      "Quantum States",
      "Pure States",
      "Mixed States",
      "Probabilities",
      "Entangled Qubits",
      "Multi-Qubit Systems"
     ],
     "cell_estimated_time": "1",
     "cell_interactive": "false",
     "cell_outcomes": [
      "Introduce the concept of density matrices as an alternative representation of quantum states",
      "Explain the necessity of density matrices for describing mixed states and their probabilistic nature",
      "Understand the application of density matrices in representing individual qubits within entangled systems"
     ],
     "cell_prereqs": [],
     "cell_type": [
      "text"
     ],
     "module_outcomes": [
      "Grasp the fundamental principles and motivations behind the use of density matrices in quantum mechanics",
      "Apply the concept of density matrices to describe mixed and pure states, as well as parts of entangled systems",
      "Prepare for more advanced topics in quantum mechanics involving multi-qubit systems and entanglement"
     ],
     "module_prereqs": [
      "Linear Algebra",
      "Quantum Mechanics Fundamentals",
      "Complex Numbers"
     ],
     "module_title": [
      "General Single-Qubit Measurement"
     ]
    },
    "slideshow": {
     "slide_type": "slide"
    }
   },
   "source": [
    "## Density Matrices\n",
    "\n",
    "Density matrices present an alternate way to describe quantum states. There are two main motivations for this new representation. First, so far we have only been discussing pure states. But there can be instances where some process prepares different states with certain probabilities. For example, if we have a situation where a process prepares state $\\rvert\\psi_1\\rangle$ with probability $p_1$ and state $\\rvert\\psi_1\\rangle$ with probability $p_2$ then we need a way to accurately express this by taking both the state and probabilities into account. This is called a mixed state.\n",
    "\n",
    "Second motivation for density matrices comes from desire to represent the state of a qubit that is a part of an entangled set of qubits. We haven't discussed multi-qubit systems yet but we've alluded to the fact that if two quantum states cannot be represented as tensor product of individual states then they are entangled. Therefore it seems that it would be impossible to just write the state of one qubit by itself. Density matrices help us do this. We will discuss multi-qubit systems in more detail in upcoming lessons."
   ]
  },
  {
   "cell_type": "markdown",
   "metadata": {
    "cell_details": {
     "cell_ID": "m13-DensityMatricesMeasurementExample",
     "cell_alternates": [],
     "cell_concepts": [
      "Density Matrices",
      "Arbitrary Quantum State",
      "Mixed States",
      "Quantum System Probabilities",
      "Quantum Measurement",
      "Outcome Probabilities"
     ],
     "cell_estimated_time": "2",
     "cell_interactive": "false",
     "cell_outcomes": [
      "Derive density matrices for specific quantum states",
      "Understand how to represent mixed states with density matrices",
      "Calculate the probabilities of measurement outcomes for quantum states represented by density matrices"
     ],
     "cell_prereqs": [
      "m13-DensityMatrices"
     ],
     "cell_type": [
      "text"
     ],
     "module_outcomes": [
      "Apply density matrix formulation to analyze quantum systems and their measurement outcomes",
      "Comprehend mixed states and their representation via density matrices",
      "Master the calculation of outcome probabilities for systems represented by density matrices"
     ],
     "module_prereqs": [
      "Linear Algebra",
      "Quantum Mechanics Fundamentals",
      "Complex Numbers"
     ],
     "module_title": [
      "General Single-Qubit Measurement"
     ]
    },
    "editable": true,
    "slideshow": {
     "slide_type": "slide"
    },
    "tags": []
   },
   "source": [
    "The density matrix for an arbitrary quantum state is written as: $\\rho=\\rvert\\psi\\rangle\\langle\\psi\\rvert$. For example the density matrices for $\\rvert1\\rangle$ and $\\rvert+\\rangle=\\frac{\\rvert0\\rangle+\\rvert1\\rangle}{\\sqrt{2}}$ are given by,\n",
    "\n",
    "$$\\rvert1\\rangle\\langle1\\rvert=\\begin{bmatrix}0\\\\1\\end{bmatrix}\\begin{bmatrix}0&1\\end{bmatrix}=\\begin{bmatrix}0&0\\\\0&1\\end{bmatrix}$$\n",
    "\n",
    "$$\\rvert+\\rangle\\langle+\\rvert=\\frac{1}{\\sqrt{2}} \\begin{bmatrix}1\\\\1\\end{bmatrix} \\frac{1}{\\sqrt{2}} \\begin{bmatrix}1&1\\end{bmatrix} =\\frac{1}{2} \\begin{bmatrix}1&1\\\\1&1\\end{bmatrix}$$\n",
    "\n",
    "Now consider a system that produces state $\\rvert\\psi_1\\rangle=\\rvert0\\rangle$ with probability $p_1=\\frac{1}{5}$ and produces state $\\rvert\\psi_2\\rangle=\\rvert+\\rangle$ with probability $p_2=\\frac{4}{5}$. Therefore, such a quantum system is <b><i>not</i></b> in a superposition of $\\rvert\\psi_1\\rangle$ and $\\rvert\\psi_2\\rangle$ but in one of these two states with certain probability. In other words, it is a mixture of $\\rvert\\psi_1\\rangle$ and $\\rvert\\psi_2\\rangle$. Such a mixture can be described by a density matrix shown below,\n",
    "\n",
    "$$\\rho=p_1\\rvert\\psi_1\\rangle\\langle\\psi_1\\rvert+p_2\\rvert\\psi_2\\rangle\\langle\\psi_2\\rvert= \\frac{1}{5}\\rvert0\\rangle\\langle0\\rvert+ \\frac{4}{5}\\rvert+\\rangle\\langle+\\rvert$$\n",
    "\n",
    "#### Example of Measurement\n",
    "\n",
    "Let the system be in state $\\rvert\\psi_i\\rangle$, then the probabilities of outcomes $\\rvert0\\rangle$ and $\\rvert1\\rangle$ is given by,\n",
    "\n",
    "$$p_{0,i}=\\rvert\\langle0\\rvert\\psi_i\\rangle\\rvert^2=\\langle0\\rvert\\psi_i\\rangle\\langle\\psi_i\\rvert0\\rangle$$\n",
    "\n",
    "$$p_{1,i}=\\rvert\\langle1\\rvert\\psi_i\\rangle\\rvert^2=\\langle1\\rvert\\psi_i\\rangle\\langle\\psi_i\\rvert1\\rangle$$\n",
    "\n",
    "If, however, the system prepares state $\\rvert\\psi_i\\rangle$ with probability $p_i$, then the probabilities are given by,\n",
    "\n",
    "$$p(0)=\\sum_i p_i\\cdot p_{0,i}$$ \n",
    "and\n",
    "$$p(1)=\\sum_i p_i\\cdot p_{1,i}$$"
   ]
  },
  {
   "cell_type": "markdown",
   "metadata": {
    "cell_details": {
     "cell_ID": "m13-DensityMatricesExpansion",
     "cell_alternates": [],
     "cell_concepts": [
      "Density Matrix Expansion",
      "Matrix Multiplication",
      "Trace Operation",
      "Probability Calculations",
      "Quantum Mechanics"
     ],
     "cell_estimated_time": "2",
     "cell_interactive": "false",
     "cell_outcomes": [
      "Perform detailed expansions for calculating probabilities using density matrices",
      "Apply linear algebra techniques to density matrices for outcome probability calculations",
      "Interpret the mathematical results of density matrix expansions in the context of quantum measurements"
     ],
     "cell_prereqs": [
      "m13-DensityMatrices",
      "m13-DensityMatricesMeasurementExample"
     ],
     "cell_type": [
      "text"
     ],
     "module_outcomes": [
      "Deepen understanding of density matrix applications in quantum mechanics",
      "Master the computation and interpretation of measurement outcome probabilities",
      "Enhance skills in applying mathematical operations to quantum state analysis"
     ],
     "module_prereqs": [
      "Linear Algebra",
      "Quantum Mechanics Fundamentals",
      "Complex Numbers"
     ],
     "module_title": [
      "General Single-Qubit Measurement"
     ]
    },
    "slideshow": {
     "slide_type": "slide"
    }
   },
   "source": [
    "Expanding we get,\n",
    "\n",
    "$p(0)=\\sum_i p_i\\langle0\\rvert\\psi_i\\rangle\\langle\\psi_i\\rvert0\\rangle=\\langle0\\rvert \\left(\\sum_ip_i\\rvert\\psi_i\\rangle\\langle\\psi_i\\rvert\\right) \\rvert0\\rangle=\\langle0\\rvert\\rho\\rvert0\\rangle$\n",
    "\n",
    "Similarly,\n",
    "\n",
    "$p(1)=\\sum_i p_i\\langle1\\rvert\\psi_i\\rangle\\langle\\psi_i\\rvert1\\rangle=\\langle1\\rvert \\left(\\sum_ip_i\\rvert\\psi_i\\rangle\\langle\\psi_i\\rvert\\right) \\rvert1\\rangle=\\langle1\\rvert\\rho\\rvert1\\rangle$"
   ]
  },
  {
   "cell_type": "markdown",
   "metadata": {
    "cell_details": {
     "cell_ID": "m13-quiz-13.2",
     "cell_alternates": [],
     "cell_concepts": [
      "Density Matrices",
      "Qubit Preparation",
      "Probability Calculations",
      "Quantum System States",
      "Outcome Probabilities",
      "Density Matrix Formulation"
     ],
     "cell_estimated_time": "3",
     "cell_interactive": "false",
     "cell_outcomes": [
      "Compute density matrices for quantum systems based on the probability of qubit preparations",
      "Calculate outcome probabilities for given quantum system states using the density matrix approach",
      "Apply quantum mechanics principles to analyze and solve problems involving mixed state preparations and measurements"
     ],
     "cell_prereqs": [
      "m13-DensityMatrices",
      "m13-DensityMatricesMeasurementExample",
      "m13-DensityMatricesExpansion"
     ],
     "cell_type": [
      "text"
     ],
     "module_outcomes": [
      "Master the process of deriving density matrices for mixed quantum states",
      "Analyze quantum systems and predict measurement outcomes using density matrices",
      "Enhance problem-solving skills in quantum mechanics through practical application of density matrix concepts"
     ],
     "module_prereqs": [
      "Linear Algebra",
      "Quantum Mechanics Fundamentals",
      "Complex Numbers"
     ],
     "module_title": [
      "General Single-Qubit Measurement"
     ]
    },
    "slideshow": {
     "slide_type": "slide"
    }
   },
   "source": [
    "## Self Assessment Quiz 2\n",
    "<b>Maybe used for in-class hands-on practice.</b>\n",
    "\n",
    "<b>2.1 Compute the density matrices for the following scenarios where a source is preparing the following qubits:</b>\n",
    "\n",
    "   1. $\\rvert+\\rangle$ with probability $\\frac{1}{3}$ and $\\rvert-\\rangle$ with probability $\\frac{2}{3}$.\n",
    "   \n",
    "   2. $\\rvert0\\rangle$ with probability $\\frac{1}{5}$ and $\\rvert+\\rangle$ with probability $\\frac{4}{5}$.\n",
    "   \n",
    "   3. $\\rvert-\\rangle$ with probability $\\frac{1}{4}$, $\\rvert0\\rangle$ with probability $\\frac{1}{5}$ and $\\rvert+\\rangle$ with probability $1-(\\frac{1}{4}+\\frac{1}{5})$.\n",
    "   \n",
    "   4. $\\frac{1+\\sqrt{3}i}{\\sqrt{5}}\\rvert+\\rangle+\\frac{1}{\\sqrt{5}}\\rvert-\\rangle$ with probability $\\frac{9}{10}$ and $\\rvert0\\rangle$ with probability $\\frac{1}{10}$.\n",
    "   \n",
    "   5. $e^{i\\frac{\\pi}{4}}\\rvert1\\rangle$\n",
    " \n",
    "<b>2.2 Compute the probability of following outcomes, using density matrix formulation, for each of the quantum system states given above.</b>\n",
    "    \n",
    "   1. $\\rvert0\\rangle$\n",
    "   \n",
    "   2. $\\rvert+\\rangle$\n",
    "   \n",
    "   3. $\\frac{i}{\\sqrt{3}}\\rvert0\\rangle-\\frac{\\sqrt{2}}{\\sqrt{3}}\\rvert1\\rangle$\n"
   ]
  },
  {
   "cell_type": "markdown",
   "metadata": {
    "cell_details": {
     "cell_ID": "m13-finalQuiz-information",
     "cell_alternates": [],
     "cell_concepts": [],
     "cell_estimated_time": "1",
     "cell_interactive": "false",
     "cell_outcomes": [
      "Know the information about the final Quiz of this module"
     ],
     "cell_prereqs": [],
     "cell_type": [
      "text"
     ],
     "module_outcomes": [
      "Master the process of deriving density matrices for mixed quantum states",
      "Analyze quantum systems and predict measurement outcomes using density matrices",
      "Enhance problem-solving skills in quantum mechanics through practical application of density matrix concepts"
     ],
     "module_prereqs": [
      "Linear Algebra",
      "Quantum Mechanics Fundamentals",
      "Complex Numbers"
     ],
     "module_title": [
      "General Single-Qubit Measurement"
     ]
    },
    "slideshow": {
     "slide_type": "slide"
    }
   },
   "source": [
    "### Final Quiz 13  is in a separate notebook with filename: finalquiz13.ipynb.\n",
    "\n",
    "Final quiz is intended to be completed and submitted to the instructor for grading. Solutions are available to instructors upon request."
   ]
  }
 ],
 "metadata": {
  "celltoolbar": "Slideshow",
  "kernelspec": {
   "display_name": "Python 3 (ipykernel)",
   "language": "python",
   "name": "python3"
  },
  "language_info": {
   "codemirror_mode": {
    "name": "ipython",
    "version": 3
   },
   "file_extension": ".py",
   "mimetype": "text/x-python",
   "name": "python",
   "nbconvert_exporter": "python",
   "pygments_lexer": "ipython3",
   "version": "3.12.2"
  },
  "module_details": {
   "module_concepts": [],
   "module_outcomes": [
    "Students will understand the theory behind projective measurements.",
    "Students will understand the measurement postulate in quantum mechanics for projective measurements.",
    "Students will be able to compute the projection operators for a basis.",
    "Students will be able to calculate the probabilities of outcomes for a given basis using projection operator and determine the final state of the qubit.",
    "Students will understand the density matrix formulation and will be able to apply it for projective measurements."
   ],
   "module_outcomes_mapping": [
    [
     "m13-QuantumMeasurements",
     "m13-ComputingTheProjection"
    ],
    [
     "m13-ComputingTheProjection",
     "m13-TheProjectionOperators",
     "m13-MeasurementOperatorIdentity",
     "m13-ExampleProjectionOperators",
     "m13-ApplyingProjectionOperators"
    ],
    [
     "m13-QuantumMeasurementPostulate",
     "m13-ComputationalBasisMeasurement",
     "m13-PostMeasurementStates",
     "m13-quiz-13.1"
    ],
    [],
    [
     "m13-DensityMatrices",
     "m13-DensityMatricesMeasurementExample",
     "m13-DensityMatricesExpansion",
     "m13-quiz-13.2"
    ]
   ],
   "module_prereqs": [
    "Linear Algebra",
    "Complex Numbers",
    "Quantum Mechanics Fundamentals"
   ],
   "module_title": "General Single-Qubit Measurement"
  }
 },
 "nbformat": 4,
 "nbformat_minor": 4
}
