{
 "cells": [
  {
   "cell_type": "markdown",
   "metadata": {
    "cell_details": {
     "cell_ID": "m14-LearningOutcome",
     "cell_alternates": [],
     "cell_concepts": [
      "Single-Qubit Gates",
      "Quantum Operations",
      "Quantum Circuits",
      "Sequential Circuits",
      "Qubit Transformation"
     ],
     "cell_estimated_time": "1",
     "cell_interactive": "false",
     "cell_outcomes": [
      "Understand and apply common single-qubit operations and gates",
      "Build sequential quantum circuits for single qubits",
      "Compute the effect of a given sequential quantum circuit on a qubit"
     ],
     "cell_prereqs": [],
     "cell_type": [
      "text"
     ],
     "module_outcomes": [
      "Master the principles and application of single-qubit gates in quantum computing",
      "Design and analyze sequential quantum circuits involving single qubits",
      "Apply knowledge of quantum mechanics and linear algebra to simulate the effects of quantum operations on qubits"
     ],
     "module_prereqs": [
      "Linear Algebra",
      "Quantum Mechanics Fundamentals",
      "Complex Numbers"
     ],
     "module_title": [
      "Single-Qubit Gates and Operations"
     ]
    },
    "editable": true,
    "slideshow": {
     "slide_type": "slide"
    },
    "tags": []
   },
   "source": [
    "# 14. Single-Qubit Gates and Operations\n",
    "\n",
    "### This lesson belongs to nanomodule 14 - unit 2\n",
    "\n",
    "<b>Learning Outcomes: </b>\n",
    "\n",
    "Upon completion of this lesson:\n",
    "\n",
    "14.1 Students will understand and will be able to apply common single-qubit operations (gates).\n",
    "\n",
    "14.2 Students will be able to build sequential quantum circuits for single qubits.\n",
    "\n",
    "14.3 Students will be able to compute the effect of given sequential quantum circuit on a qubit."
   ]
  },
  {
   "cell_type": "markdown",
   "metadata": {
    "cell_details": {
     "cell_ID": "m14-TransformationsOnQubits",
     "cell_alternates": [],
     "cell_concepts": [
      "Qubit Transformations",
      "NOT Operation",
      "Identity Operation",
      "Unitary Matrices",
      "Quantum State Mapping",
      "Inner Product Preservation"
     ],
     "cell_estimated_time": "1",
     "cell_interactive": "false",
     "cell_outcomes": [
      "Understand how basic operations on qubits can be represented using unitary matrices",
      "Grasp the concept of a unitary operator mapping input quantum states to output quantum states",
      "Learn the significance of inner product preservation in unitary transformations"
     ],
     "cell_prereqs": [
      "m7-UnitaryMatrices"
     ],
     "cell_type": [
      "text"
     ],
     "module_outcomes": [
      "Comprehend the mathematical principles behind qubit transformations and quantum operations",
      "Apply the concept of unitary transformations to analyze the effects of operations on quantum states",
      "Master the understanding of unitary matrices and their properties in the context of quantum computing"
     ],
     "module_prereqs": [
      "Linear Algebra",
      "Quantum Mechanics Fundamentals",
      "Complex Numbers"
     ],
     "module_title": [
      "Single-Qubit Gates and Operations"
     ]
    },
    "editable": true,
    "slideshow": {
     "slide_type": "slide"
    },
    "tags": []
   },
   "source": [
    "## 14.1 Transformations on Qubits\n",
    "\n",
    "So far, we've seen some basic operations on qubits. We've eluded to the ability to apply NOT and identity operations and that all the quantum operations can be represented using unitary matrices. Therefore, an operator $U$ maps an input quantum state to an output quantum state,\n",
    "\n",
    "$$\\rvert\\psi_{out}\\rangle=U\\rvert\\psi_{in}\\rangle$$\n",
    "\n",
    "for some unitary matrix $U$. Since we are only considering single qubits at this point, the unitary matrices we are interested in are $2\\times2$ matrices. Further, since we restrict the length of the vectors representing qubits to be 1, we know that the inner product $\\langle\\psi\\rvert\\psi\\rangle=1$.\n",
    "\n",
    "Therefore, the unitary transformation must preserve the inner product.\n",
    "\n",
    "$\\langle\\psi_{out}\\rvert\\psi_{out}\\rangle=\\langle\\psi_{in}\\rvert U^\\dagger U\\rvert\\psi_{in}\\rangle=1$\n",
    "\n",
    "This happens when $U^\\dagger U=I$ and therefore $U$ is a unitary matrix."
   ]
  },
  {
   "cell_type": "markdown",
   "metadata": {
    "cell_details": {
     "cell_ID": "m14-SingleQubitTransformations",
     "cell_alternates": [],
     "cell_concepts": [
      "Single Qubit Transformations",
      "Hadamard Transform",
      "Rotation Operator",
      "Unitary Matrix",
      "Vector Rotation",
      "Quantum Computing"
     ],
     "cell_estimated_time": "1",
     "cell_interactive": "false",
     "cell_outcomes": [
      "Understand and apply the Hadamard transform for single qubit transformations",
      "Grasp the concept and application of the rotation operator in qubit transformations",
      "Verify the unitary property of rotation operators and analyze their effects on quantum states"
     ],
     "cell_prereqs": [],
     "cell_type": [
      "text"
     ],
     "module_outcomes": [
      "Master the application of key single qubit transformations in quantum computing",
      "Analyze the impact of various operators on qubit states, including rotation and Hadamard transforms",
      "Develop a deep understanding of the mathematical foundations underlying qubit operations"
     ],
     "module_prereqs": [
      "Linear Algebra",
      "Quantum Mechanics Fundamentals",
      "Complex Numbers"
     ],
     "module_title": [
      "Single-Qubit Gates and Operations"
     ]
    },
    "slideshow": {
     "slide_type": "slide"
    }
   },
   "source": [
    "## 14.2 Single Qubit Transformations\n",
    "\n",
    "#### Hadamard Transform\n",
    "\n",
    "We've seen the matrix $H=\\frac{1}{\\sqrt{2}}\\begin{bmatrix}1&1\\\\1&-1\\end{bmatrix}$ before. It was used as a transition matrix from standard basis to the Hadamard basis.\n",
    "\n",
    "#### Rotation Operator\n",
    "\n",
    "Consider the matrix $R(\\theta)=\\begin{bmatrix}\\cos\\frac{\\theta}{2}& -\\sin\\frac{\\theta}{2}\\\\ \\sin\\frac{\\theta}{2} & \\cos\\frac{\\theta}{2}\\end{bmatrix}$\n",
    "\n",
    "It is easy to verify that $R(\\theta)$ is unitary. It essentially rotates the vector by $\\theta$ degrees.\n",
    "\n",
    "$R(\\theta)\\rvert0\\rangle=\\begin{bmatrix}\\cos\\frac{\\theta}{2}& -\\sin\\frac{\\theta}{2}\\\\ \\sin\\frac{\\theta}{2} & \\cos\\frac{\\theta}{2}\\end{bmatrix}\\begin{bmatrix}1\\\\0\\end{bmatrix}=\\begin{bmatrix}\\cos\\frac{\\theta}{2}\\\\ \\sin\\frac{\\theta}{2}\\end{bmatrix}$\n",
    "\n",
    "and\n",
    "\n",
    "$R(\\theta)\\rvert1\\rangle=\\begin{bmatrix}\\cos\\frac{\\theta}{2}& -\\sin\\frac{\\theta}{2}\\\\ \\sin\\frac{\\theta}{2} & \\cos\\frac{\\theta}{2}\\end{bmatrix}\\begin{bmatrix}0\\\\1\\end{bmatrix}=\\begin{bmatrix}-\\sin\\frac{\\theta}{2}\\\\ \\cos\\frac{\\theta}{2}\\end{bmatrix}$\n",
    "\n",
    "Therefore, if we take $\\theta=\\frac{\\pi}{2}$, then we have $R(\\frac{\\pi}{4})$ and $R(\\frac{\\pi}{4})\\rvert0\\rangle=\\rvert+\\rangle$ and $R(\\frac{\\pi}{4})\\rvert1\\rangle=-\\rvert-\\rangle$."
   ]
  },
  {
   "cell_type": "markdown",
   "metadata": {
    "cell_details": {
     "cell_ID": "m14-PauliMatrices",
     "cell_alternates": [],
     "cell_concepts": [
      "Pauli Matrices",
      "Single Qubit Operations",
      "Quantum Mechanics",
      "Bit-Flip Operation",
      "Phase Flip",
      "Hermitian Operators",
      "Basis Transformation"
     ],
     "cell_estimated_time": "1",
     "cell_interactive": "false",
     "cell_outcomes": [
      "Understand the role and characteristics of Pauli matrices in quantum mechanics",
      "Learn the effects of Pauli matrices as single qubit operations, including bit-flip and phase-flip",
      "Analyze the behavior of Pauli matrices in different bases and their properties as Hermitian operators"
     ],
     "cell_prereqs": [],
     "cell_type": [
      "text"
     ],
     "module_outcomes": [
      "Master the application and implications of Pauli matrices in single qubit transformations",
      "Apply the concepts of bit-flip and phase-flip operations in quantum computing",
      "Develop a comprehensive understanding of the mathematical properties of Pauli matrices and their quantum mechanical significance"
     ],
     "module_prereqs": [
      "Linear Algebra",
      "Quantum Mechanics Fundamentals",
      "Complex Numbers"
     ],
     "module_title": [
      "Single-Qubit Gates and Operations"
     ]
    },
    "slideshow": {
     "slide_type": "slide"
    }
   },
   "source": [
    "## 14.3 Pauli Matrices\n",
    "\n",
    "Perhaps the three most famous matrices in quantum mechanics are the Pauli matrices denoted by $X, Y$ and $Z$. These are single qubit $2\\times2$ operations with following descriptions,\n",
    "\n",
    "$$X=\\begin{bmatrix}0&1\\\\1&0\\end{bmatrix}$$\n",
    "\n",
    "$$Z=\\begin{bmatrix}1&0\\\\0&-1\\end{bmatrix}$$\n",
    "\n",
    "$$Y=iXZ$$\n",
    "\n",
    "The $X$ transformation is nothing but the NOT operation and therefore called the bit-flip operation.\n",
    "\n",
    "The Pauli-$Z$ matrix flips the phase of $\\rvert1\\rangle$ in the standard basis. Its effect in other basis can be computed using linearity. \n",
    "\n",
    "$Z\\rvert0\\rangle=\\rvert0\\rangle$ and $Z\\rvert1\\rangle=-\\rvert1\\rangle$\n",
    "\n",
    "Note that in the Hadamard basis $Z\\rvert+\\rangle=\\rvert-\\rangle$ and viceversa. Therefore, it acts as the NOT operator in the Hadamard basis.\n",
    "\n",
    "The last Pauli operation performs both a phase and a bit flip operation, $Y=iXZ$. Here, $i$ makes the operation Hermitian. The action of Pauli-$Y$ is given by,\n",
    "\n",
    "$$Y\\rvert0\\rangle=iXZ\\rvert0\\rangle=i\\rvert1\\rangle$$\n",
    "\n",
    "$$Y\\rvert1\\rangle=-iXZ\\rvert0\\rangle=-iX\\rvert1\\rangle=-i\\rvert0\\rangle$$"
   ]
  },
  {
   "cell_type": "markdown",
   "metadata": {
    "cell_details": {
     "cell_ID": "m14-quiz-14.1",
     "cell_alternates": [],
     "cell_concepts": [
      "Pauli Gates",
      "Unitary Operations",
      "Phase Shift Gates",
      "Square-Root of NOT Gate",
      "Quantum Computing",
      "Proofs"
     ],
     "cell_estimated_time": "2",
     "cell_interactive": "false",
     "cell_outcomes": [
      "Prove the unitarity of Pauli gates",
      "Verify the properties of phase shift gates and the square-root of NOT gate",
      "Enhance understanding of fundamental quantum gates and their mathematical proofs"
     ],
     "cell_prereqs": [
      "m14-TransformationsOnQubits",
      "m14-SingleQubitTransformations",
      "m14-PauliMatrices"
     ],
     "cell_type": [
      "text"
     ],
     "module_outcomes": [
      "Demonstrate proficiency in verifying the unitarity of quantum gates",
      "Apply mathematical techniques to prove the properties of specific quantum gates",
      "Deepen the theoretical foundation in quantum computing through problem-solving and proofs"
     ],
     "module_prereqs": [
      "Linear Algebra",
      "Quantum Mechanics Fundamentals",
      "Complex Numbers"
     ],
     "module_title": [
      "Single-Qubit Gates and Operations"
     ]
    },
    "slideshow": {
     "slide_type": "slide"
    }
   },
   "source": [
    "## Self-Assessment Quiz 1\n",
    "<b>Maybe used for in-class hands-on practice.</b>\n",
    "\n",
    "In addition to the above gates, there are a few more that show up in literature quite often. These are: the phase shift gates $T=e^{i\\frac{\\pi}{8}}\\begin{bmatrix}e^{-i\\frac{\\pi}{8}}&0\\\\0&e^{i\\frac{\\pi}{8}}\\end{bmatrix}$ and $S=\\begin{bmatrix}1&0\\\\0&i\\end{bmatrix}$, the square-root of NOT gate $\\sqrt{NOT}=\\frac{1}{2}\\begin{bmatrix}1+i&1-i\\\\1-i&1+i\\end{bmatrix}$.\n",
    "\n",
    "1. Prove that all the Pauli gates are Unitary operations.\n",
    "\n",
    "2. Prove $H=\\frac{1}{\\sqrt{2}}(X+Z)$\n",
    "\n",
    "3. Prove $X=HZH$\n",
    "\n",
    "4. Prove $S=T^2$"
   ]
  },
  {
   "cell_type": "markdown",
   "metadata": {
    "cell_details": {
     "cell_ID": "m14-BuildingCircuits",
     "cell_alternates": [],
     "cell_concepts": [
      "Quantum Circuits",
      "Sequential Circuits",
      "Quantum Operators",
      "Pauli Gates",
      "Circuit Representation",
      "Linear Expression"
     ],
     "cell_estimated_time": "1",
     "cell_interactive": "false",
     "cell_outcomes": [
      "Understand the basic structure and flow of quantum circuits",
      "Learn how to represent sequential single-qubit operations in circuit form",
      "Grasp the convention of writing linear expressions for quantum circuits and their operations"
     ],
     "cell_prereqs": [
      "m14-PauliMatrices"
     ],
     "cell_type": [
      "text"
     ],
     "module_outcomes": [
      "Develop the ability to construct and analyze simple quantum circuits",
      "Apply knowledge of quantum mechanics to simulate the effects of sequential quantum gates on qubits",
      "Familiarize with the conventions used in quantum circuit diagrams and their mathematical representations"
     ],
     "module_prereqs": [
      "Linear Algebra",
      "Quantum Mechanics Fundamentals",
      "Complex Numbers"
     ],
     "module_title": [
      "Single-Qubit Gates and Operations"
     ]
    },
    "slideshow": {
     "slide_type": "slide"
    }
   },
   "source": [
    "## 14.4 Building Circuits\n",
    "\n",
    "Let's briefly build some simple sequential single-qubit circuits that are going to become the building blocks for larger circuits that are the primary way of expressing quantum algorithms.\n",
    "\n",
    "The general rule for quantum circuits is that the input enters the circuit on the left, gets processed through the various quantum operators and exits to the right. This is shown in figure 1 below,\n",
    "\n",
    "![Figure 1. Three single qubit gates: X, Z and Y are shown in circuit form.](images/nanomod14-fig1.png)\n",
    "<b>Figure 1.</b> Three single qubit gates: X, Z and Y are shown in circuit form.\n",
    "\n",
    "These gates can be connected in a sequence. For example if a qubit is first acted upon by the Pauli-Z gate and then by Pauli-X then the circuit is shown in figure 2.\n",
    "\n",
    "![Figure 2. Gates Z and X in sequence](images/nanomod14-fig2.png)\n",
    "<b>Figure 2.</b> Pauli-Z gate is applied to the qubit first followed by Pauli-X gate.\n",
    "\n",
    "Although, in the circuit diagram the input flows from left to right, when we write it as a linear expression we use the convention that the input vector is written to the right of the operator. For example if Pauli-Y is applied to $\\rvert0\\rangle$, we write $Y\\rvert0\\rangle$. As a result, the action of the circuit shown in figure 2 is written as,\n",
    "\n",
    "$$XZ\\rvert\\psi\\rangle$$\n",
    "\n",
    "where $\\rvert\\psi\\rangle$ is a single-qubit input. This looks the reverse of what is shown in the figure but is a little idiosyncrasy we have to get used to!\n"
   ]
  },
  {
   "cell_type": "markdown",
   "metadata": {
    "cell_details": {
     "cell_ID": "m14-ComputingCircuitOperation",
     "cell_alternates": [],
     "cell_concepts": [
      "Circuit Operation",
      "Operator Multiplication",
      "Quantum Circuit Effect",
      "Sequential Gate Operations",
      "Qubit Transformation"
     ],
     "cell_estimated_time": "1",
     "cell_interactive": "false",
     "cell_outcomes": [
      "Compute the overall effect of a quantum circuit on a qubit",
      "Apply the rule of operator multiplication to determine the output state of a qubit after circuit operations",
      "Understand the process of transforming a qubit through sequential gate operations in a quantum circuit"
     ],
     "cell_prereqs": [
      "m14-BuildingCircuits"
     ],
     "cell_type": [
      "text"
     ],
     "module_outcomes": [
      "Master the calculation of quantum circuit effects on qubits using operator multiplication",
      "Analyze and predict the outcomes of applying multiple sequential gates on a quantum state",
      "Develop a comprehensive understanding of the principles underlying quantum circuit operation"
     ],
     "module_prereqs": [
      "Linear Algebra",
      "Quantum Mechanics Fundamentals",
      "Complex Numbers"
     ],
     "module_title": [
      "Single-Qubit Gates and Operations"
     ]
    },
    "slideshow": {
     "slide_type": "slide"
    }
   },
   "source": [
    "## 14.5 Computing the Circuit Operation\n",
    "\n",
    "Given a circuit, we can compute the overall effect of the circuit on a qubit by simply multiplying the operators together (in order) and then applying them with the qubit. \n",
    "\n",
    "For example, the operations shown in the circuit for figure 2 reduces to $XZ=\\begin{bmatrix}0&1\\\\1&0\\end{bmatrix}\\begin{bmatrix}1&0\\\\0&-1\\end{bmatrix}=\\begin{bmatrix}0&-1\\\\1&0\\end{bmatrix}$. \n",
    "\n",
    "If $\\rvert\\psi\\rangle=\\rvert+\\rangle$, then the resulting output is $\\begin{bmatrix}0&-1\\\\1&0\\end{bmatrix}\\begin{bmatrix}\\frac{1}{\\sqrt{2}}\\\\\\frac{1}{\\sqrt{2}}\\end{bmatrix}=\\begin{bmatrix}-\\frac{1}{\\sqrt{2}}\\\\\\frac{1}{\\sqrt{2}}\\end{bmatrix}$.\n",
    "\n",
    "This rule applies to as many sequential gate operations as we'd like to apply on a qubit."
   ]
  },
  {
   "cell_type": "markdown",
   "metadata": {
    "cell_details": {
     "cell_ID": "m14-quiz-14.2",
     "cell_alternates": [],
     "cell_concepts": [
      "Circuit Effects",
      "Qubit Transformation",
      "Sequential Gates",
      "Pauli Gates",
      "Quantum Gates",
      "Quantum Observations"
     ],
     "cell_estimated_time": "2",
     "cell_interactive": "false",
     "cell_outcomes": [
      "Compute the effect of specified quantum circuits on given qubits",
      "Analyze the transformation of qubits through sequential application of quantum gates",
      "Develop observations based on the outcomes of circuit operations on qubits"
     ],
     "cell_prereqs": [
      "m14-BuildingCircuits",
      "m14-ComputingCircuitOperation"
     ],
     "cell_type": [
      "text"
     ],
     "module_outcomes": [
      "Apply knowledge of quantum gates to simulate their effects on qubits within circuits",
      "Master the analytical skills needed to deduce the effects of quantum circuits",
      "Enhance understanding of quantum computing through hands-on circuit computation and analysis"
     ],
     "module_prereqs": [
      "Linear Algebra",
      "Quantum Mechanics Fundamentals",
      "Complex Numbers"
     ],
     "module_title": [
      "Single-Qubit Gates and Operations"
     ]
    },
    "editable": true,
    "slideshow": {
     "slide_type": "slide"
    },
    "tags": []
   },
   "source": [
    "## Self-Assessment Quiz 2\n",
    "<b>Maybe used for in-class hands-on practice.</b>\n",
    "\n",
    "Compute the effect of the following circuit on each of the qubits given. Comment on your observations.\n",
    "\n",
    "![Gates Z and X in sequence.](images/nanomod14-fig1-sa2.png)\n",
    "\n",
    "![Gates square-root-of-NOT, X and T in sequence.](images/nanomod14-fig2-sa2.png)\n",
    "\n",
    "![The S gate.](images/nanomod14-fig3-sa2.png)\n",
    "\n",
    "![Gates T and T in sequence.](images/nanomod14-fig4-sa2.png)\n",
    "\n",
    "Qubits:\n",
    "\n",
    "1. $\\rvert0\\rangle$\n",
    "\n",
    "2. $\\rvert1\\rangle$\n",
    "\n",
    "3. $\\rvert+\\rangle$\n",
    "\n",
    "4. $\\rvert-\\rangle$"
   ]
  },
  {
   "cell_type": "markdown",
   "metadata": {
    "cell_details": {
     "cell_ID": "m14-finalQuiz-information",
     "cell_alternates": [],
     "cell_concepts": [],
     "cell_estimated_time": "1",
     "cell_interactive": "false",
     "cell_outcomes": [
      "Know the information about the final Quiz of this module"
     ],
     "cell_prereqs": [],
     "cell_type": [
      "text"
     ],
     "module_outcomes": [
      "Apply knowledge of quantum gates to simulate their effects on qubits within circuits",
      "Master the analytical skills needed to deduce the effects of quantum circuits",
      "Enhance understanding of quantum computing through hands-on circuit computation and analysis"
     ],
     "module_prereqs": [
      "Linear Algebra",
      "Quantum Mechanics Fundamentals",
      "Complex Numbers"
     ],
     "module_title": [
      "Single-Qubit Gates and Operations"
     ]
    },
    "slideshow": {
     "slide_type": "slide"
    }
   },
   "source": [
    "### Final Quiz 14 is in a separate notebook with filename: finalquiz14.ipynb.\n",
    "\n",
    "Final quiz is intended to be completed and submitted to the instructor for grading. Solutions are available only to instructors upon request."
   ]
  }
 ],
 "metadata": {
  "celltoolbar": "Slideshow",
  "kernelspec": {
   "display_name": "Python 3 (ipykernel)",
   "language": "python",
   "name": "python3"
  },
  "language_info": {
   "codemirror_mode": {
    "name": "ipython",
    "version": 3
   },
   "file_extension": ".py",
   "mimetype": "text/x-python",
   "name": "python",
   "nbconvert_exporter": "python",
   "pygments_lexer": "ipython3",
   "version": "3.12.2"
  },
  "module_details": {
   "module_concepts": [],
   "module_outcomes": [
    "Students will understand and will be able to apply common single-qubit operations (gates).",
    "Students will be able to build sequential quantum circuits for single qubits.",
    "Students will be able to compute the effect of given sequential quantum circuit on a qubit."
   ],
   "module_outcomes_mapping": [
    [
     "m14-TransformationsOnQubits",
     "m14-SingleQubitTransformations",
     "m14-PauliMatrices",
     "m14-quiz-14.1"
    ],
    [
     "m14-BuildingCircuits"
    ],
    [
     "m14-ComputingCircuitOperation",
     "m14-quiz-14.2"
    ]
   ],
   "module_prereqs": [
    "Linear Algebra",
    "Quantum Mechanics Fundamentals",
    "Complex Numbers"
   ],
   "module_title": "Single-Qubit Gates and Operations"
  }
 },
 "nbformat": 4,
 "nbformat_minor": 4
}
