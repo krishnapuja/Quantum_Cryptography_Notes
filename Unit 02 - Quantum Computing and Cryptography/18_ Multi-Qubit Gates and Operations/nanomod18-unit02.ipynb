{
 "cells": [
  {
   "cell_type": "markdown",
   "metadata": {
    "cell_details": {
     "cell_ID": "m18-LearningOutcomes",
     "cell_alternates": [],
     "cell_concepts": [
      "Multi-Qubit Gates",
      "Single Qubit Gates",
      "Quantum Operations",
      "Quantum Circuits"
     ],
     "cell_estimated_time": "1",
     "cell_interactive": "false",
     "cell_outcomes": [
      "Construct multi-qubit gates from single qubit gates",
      "Understand the operations of new multi-qubit gates",
      "Compute outputs of circuits consisting of multiple qubits"
     ],
     "cell_prereqs": [],
     "cell_type": [
      "text"
     ],
     "module_outcomes": [
      "Master the construction and function of multi-qubit gates in quantum computing",
      "Analyze the behavior and output of quantum circuits involving multiple qubits",
      "Develop proficiency in applying quantum operations to complex quantum systems"
     ],
     "module_prereqs": [
      "Linear Algebra",
      "Quantum Mechanics Fundamentals",
      "Single-Qubit Operations"
     ],
     "module_title": [
      "Multi-Qubit Gates and Operations"
     ]
    }
   },
   "source": [
    "# 18. Multi-Qubit Gates and Operations\n",
    "\n",
    "#### This is nanomodule 18 - unit 2\n",
    "\n",
    "**Learning objectives:**\n",
    "\n",
    "18.1. Students will be able to construct multi-qubit gates from single qubit gates.\n",
    "\n",
    "18.2. Students will understand the operations of new multi-qubit gates.\n",
    "\n",
    "18.3. Students will be able to compute outputs of circuits consisting of multiple qubits.\n",
    "***"
   ]
  },
  {
   "cell_type": "markdown",
   "metadata": {
    "cell_details": {
     "cell_ID": "m18-ComposingSingleQubitOperations",
     "cell_alternates": [],
     "cell_concepts": [
      "Single Qubit Gates",
      "Multi-Qubit Gates",
      "Tensor Product",
      "Pauli Gates",
      "Quantum Computing"
     ],
     "cell_estimated_time": "1",
     "cell_interactive": "false",
     "cell_outcomes": [
      "Learn how to compose multi-qubit operations from single qubit gates",
      "Understand the use of tensor products in creating complex quantum gates",
      "Apply knowledge of single qubit gates to construct operations on multi-qubit systems"
     ],
     "cell_prereqs": [],
     "cell_type": [
      "text"
     ],
     "module_outcomes": [
      "Master the technique of composing multi-qubit gates from single qubit operations",
      "Analyze the resulting quantum operations from the combination of single qubit gates on multi-qubit systems",
      "Develop skills in manipulating complex quantum systems through the application of tensor products and gate operations"
     ],
     "module_prereqs": [
      "Linear Algebra",
      "Quantum Mechanics Fundamentals"
     ],
     "module_title": [
      "Multi-Qubit Gates and Operations"
     ]
    }
   },
   "source": [
    "## 18.1 Composing Single Qubit Operations into Multi-qubit Operations\n",
    "\n",
    "We studied several single qubit gates before. In this nanomodule we will study multi-qubit gates.\n",
    "\n",
    "Note that just like we can create a multi-qubit system representation by taking the tensor product of individual qubit vectors, we can create large multi-qubit gates by taking tensor product of individual single qubit gates.\n",
    "\n",
    "For example, consider two qubits $\\rvert0\\rangle$ and $\\frac{\\rvert0\\rangle + \\rvert 1 \\rangle}{\\sqrt{2}}$ with Pauli gates $X$, $Z$ acting on them, respectively.\n",
    "\n",
    "Therefore,\n",
    "\n",
    "$X \\rvert 0 \\rangle = \\rvert 1 \\rangle$\n",
    "\n",
    "$Z \\Big(\\frac{\\rvert 0 \\rangle + \\rvert 1 \\rangle}{\\sqrt{2}}\\Big) = \\frac{\\rvert 0 \\rangle - \\rvert 1 \\rangle}{\\sqrt{2}}$\n",
    "\n",
    "In matrix form the calculations are. \n",
    "\n",
    "$X (\\rvert 0 \\rangle) = \\begin{bmatrix}0 & 1 \\\\ 1 & 0\\end{bmatrix}\\begin{bmatrix}1  \\\\ 0 \\end{bmatrix}=\\begin{bmatrix}0 \\\\ 1 \\end{bmatrix}$\n",
    "\n",
    "$Z \\Big(\\frac{\\rvert 0 \\rangle + \\rvert 1 \\rangle}{\\sqrt{2}}\\Big) =\\begin{bmatrix}1 & 0 \\\\ 0 & -1\\end{bmatrix}\\begin{bmatrix}\\frac{1}{\\sqrt{2}}  \\\\ \\frac{1}{\\sqrt{2}} \\end{bmatrix}=\\begin{bmatrix}\\frac{1}{\\sqrt{2}} \\\\ -\\frac{1}{\\sqrt{2}} \\end{bmatrix} $\n"
   ]
  },
  {
   "cell_type": "markdown",
   "metadata": {
    "cell_details": {
     "cell_ID": "m18-JointGateRepresentation",
     "cell_alternates": [],
     "cell_concepts": [
      "Joint States",
      "Gate Representation",
      "Quantum Transformations",
      "Parallel Operations",
      "Quantum Circuits"
     ],
     "cell_estimated_time": "1",
     "cell_interactive": "false",
     "cell_outcomes": [
      "Determine the joint gate representation for parallel operations on multi-qubit systems",
      "Understand how individual gate operations combine to form the overall transformation on joint states",
      "Visualize and analyze the circuit representation of parallel gate applications on multi-qubit systems"
     ],
     "cell_prereqs": [
      "m18-ComposingSingleQubitOperations"
     ],
     "cell_type": [
      "text"
     ],
     "module_outcomes": [
      "Comprehend the construction and analysis of joint gate operations in quantum computing",
      "Apply principles of quantum mechanics to evaluate the effects of parallel gate operations on joint states",
      "Prepare for advanced topics in quantum circuit design and optimization involving multi-qubit operations"
     ],
     "module_prereqs": [
      "Linear Algebra",
      "Quantum Mechanics Fundamentals"
     ],
     "module_title": [
      "Multi-Qubit Gates and Operations"
     ]
    }
   },
   "source": [
    "\n",
    "Now consider their joint states. Before applying the transformations their joint state is given by.\n",
    "\n",
    "$(\\rvert 0 \\rangle) \\otimes \\Big(\\frac{\\rvert 0 \\rangle + \\rvert 1 \\rangle}{\\sqrt{2}}\\Big) = \\frac{\\rvert 00 \\rangle + \\rvert 01\\rangle }{\\sqrt{2}}$\n",
    "\n",
    "What will be the joint gate representation? \n",
    "\n",
    "We are assuming these are being applied in parallel and therefore their circuit is given by.\n",
    "\n",
    "![](images/nanomod18-fig1.png)"
   ]
  },
  {
   "cell_type": "markdown",
   "metadata": {
    "cell_details": {
     "cell_ID": "m18-JointGateRepresentationConclusion",
     "cell_alternates": [],
     "cell_concepts": [
      "Joint Gate Representation",
      "Tensor Product",
      "Quantum Gates",
      "Quantum Computing",
      "Gate Transformations"
     ],
     "cell_estimated_time": "1",
     "cell_interactive": "false",
     "cell_outcomes": [
      "Understand the final representation of the joint gate through the tensor product of individual gates",
      "Learn the mathematical formulation for combining gate operations on multi-qubit systems",
      "Grasp the implications of joint gate operations for quantum computing and system transformations"
     ],
     "cell_prereqs": [
      "m18-ComposingSingleQubitOperations",
      "m18-JointGateRepresentation"
     ],
     "cell_type": [
      "text"
     ],
     "module_outcomes": [
      "Master the process of determining joint gate representations in multi-qubit quantum operations",
      "Develop an understanding of the complexity and power of multi-qubit gates in quantum computing",
      "Prepare for in-depth exploration of quantum algorithms and circuit design involving complex gate combinations"
     ],
     "module_prereqs": [
      "Linear Algebra",
      "Quantum Mechanics Fundamentals"
     ],
     "module_title": [
      "Multi-Qubit Gates and Operations"
     ]
    }
   },
   "source": [
    "The joint gate representation is then given by $X \\otimes Z$\n",
    "\n",
    "That is $ U = \\begin{bmatrix}0 & 1 \\\\ 1 & 0\\end{bmatrix} \\otimes \\begin{bmatrix}1 & 0 \\\\ 0 & -1\\end{bmatrix}$\n",
    "\n",
    "$U = \\begin{bmatrix}0 & 0 & 1 & 0 \\\\ 0 & 0 & 0 & -1 \\\\ 1 & 0 & 0 & 0 \\\\ 0 & -1 & 0 & 0\\end{bmatrix}$\n",
    "\n"
   ]
  },
  {
   "cell_type": "markdown",
   "metadata": {
    "cell_details": {
     "cell_ID": "m18-GateOperationOnJointQubits",
     "cell_alternates": [],
     "cell_concepts": [
      "Gate Operation",
      "Joint Qubit Representation",
      "Quantum State Transformation",
      "Quantum Computing"
     ],
     "cell_estimated_time": "1",
     "cell_interactive": "false",
     "cell_outcomes": [
      "Calculate the action of a two-qubit gate on the joint representation of qubits",
      "Verify the consistency of gate operations on joint states with individual qubit transformations",
      "Understand the process of quantum state transformation in multi-qubit systems through gate operations"
     ],
     "cell_prereqs": [
      "m18-ComposingSingleQubitOperations",
      "m18-JointGateRepresentation",
      "m18-JointGateRepresentationConclusion"
     ],
     "cell_type": [
      "text"
     ],
     "module_outcomes": [
      "Master the application and analysis of multi-qubit gate operations on quantum states",
      "Develop the ability to compute and interpret the outcomes of complex gate operations in quantum computing",
      "Prepare for the design and analysis of quantum circuits involving sophisticated multi-qubit transformations"
     ],
     "module_prereqs": [
      "Linear Algebra",
      "Quantum Mechanics Fundamentals"
     ],
     "module_title": [
      "Multi-Qubit Gates and Operations"
     ]
    },
    "editable": true,
    "slideshow": {
     "slide_type": "slide"
    },
    "tags": []
   },
   "source": [
    "\n",
    "\n",
    "The action of this two qubit gate can be computed on the joint qubit representation as follows,\n",
    "\n",
    "Before gate operation: $\\rvert \\psi_1 \\rangle = \\Big( \\frac{\\rvert 00 \\rangle + \\rvert 01 \\rangle}{\\sqrt{2}}\\Big) =  \\begin{bmatrix}\\frac{1}{\\sqrt{2}}\\\\ \\frac{1}{\\sqrt{2}}\\\\ 0 \\\\ 0\\end{bmatrix}$\n",
    "\n",
    "After gate operation: $\\rvert \\psi_2 \\rangle = U \\Big( \\frac{\\rvert 00 \\rangle + \\rvert 01 \\rangle}{\\sqrt{2}}\\Big) $\n",
    "\n",
    "$= \\begin{bmatrix}0 & 0 & 1 & 0 \\\\ 0 & 0 & 0 & -1 \\\\ 1 & 0 & 0 & 0 \\\\ 0 & -1 & 0 & 0\\end{bmatrix}\\begin{bmatrix}\\frac{1}{\\sqrt{2}}\\\\ \\frac{1}{\\sqrt{2}}\\\\ 0 \\\\ 0\\end{bmatrix} = \\begin{bmatrix}0\\\\ 0\\\\ \\frac{1}{\\sqrt{2}} \\\\ -\\frac{1}{\\sqrt{2}}\\end{bmatrix} = \\frac{\\rvert 10 \\rangle - \\rvert 11 \\rangle}{\\sqrt{2}}$\n",
    "\n",
    "$\\rvert \\psi_2 \\rangle$ is exactly the state we had computed by applying single qubit gates to individual qubits."
   ]
  },
  {
   "cell_type": "markdown",
   "metadata": {
    "cell_details": {
     "cell_ID": "m18-TrueMultiQubitGates",
     "cell_alternates": [],
     "cell_concepts": [
      "True Multi-Qubit Gates",
      "CNOT Gate",
      "Controlled-U Gate",
      "Toffoli Gate",
      "Fredkin Gate",
      "Quantum Gates",
      "Unitary Transformation"
     ],
     "cell_estimated_time": "1",
     "cell_interactive": "false",
     "cell_outcomes": [
      "Understand the concept of true multi-qubit gates that act on multiple qubits simultaneously",
      "Learn the matrix representation and effects of specific multi-qubit gates such as CNOT, Toffoli, and Fredkin",
      "Appreciate the utility of true multi-qubit gates in performing operations beyond the capability of single qubit gates"
     ],
     "cell_prereqs": [],
     "cell_type": [
      "text"
     ],
     "module_outcomes": [
      "Master the identification, representation, and application of true multi-qubit gates in quantum computing",
      "Analyze the functionality and advantages of using complex gates like CNOT, Toffoli, and Fredkin in quantum circuits",
      "Prepare for the design and analysis of quantum algorithms leveraging the unique capabilities of multi-qubit gates"
     ],
     "module_prereqs": [
      "Linear Algebra",
      "Quantum Mechanics Fundamentals"
     ],
     "module_title": [
      "Multi-Qubit Gates and Operations"
     ]
    }
   },
   "source": [
    "## 18.2 True Multi-Qubit Gates\n",
    "\n",
    "Although we created a multi-qubit gate by taking tensor product of single qubit gates and can continue this process with more and more gates, it may not seem that exciting!\n",
    "\n",
    "There are “true” multi-qubit gates that cannot be decomposed into individual single qubit gates and therefore __must__ act on multiple qubits together. This is very helpful and can be used to do things that single qubit gates cannot.  The most popular gate that will appear all over the place is a CNOT gate, short for controlled-NOT. In general, we can create an arbitrary controlled-U, gate where U is some 2x2 unitary transformation. Some other gates that appear are Toffoli gate (3 qubit gate) and Fredkin gate (3 qubit gate). Let’s discuss the matrix representation and effect of these gates on our qubits\n"
   ]
  },
  {
   "cell_type": "markdown",
   "metadata": {
    "cell_details": {
     "cell_ID": "m18-TheCNOTGate",
     "cell_alternates": [],
     "cell_concepts": [
      "CNOT Gate",
      "Entanglement",
      "Disentanglement",
      "Two Qubit Gate",
      "Control Qubit",
      "Target Qubit",
      "Quantum Computing"
     ],
     "cell_estimated_time": "1",
     "cell_interactive": "false",
     "cell_outcomes": [
      "Understand the structure and function of the CNOT gate in quantum computing",
      "Learn how the CNOT gate can be used to entangle and disentangle qubits",
      "Identify the roles of control and target qubits in the operation of the CNOT gate"
     ],
     "cell_prereqs": [
      "m18-TrueMultiQubitGates"
     ],
     "cell_type": [
      "text"
     ],
     "module_outcomes": [
      "Master the use and implications of the CNOT gate in the manipulation of qubit states",
      "Develop the skills to incorporate the CNOT gate into quantum circuits for specific computational tasks",
      "Prepare for advanced exploration of quantum entanglement and algorithms utilizing the CNOT and other multi-qubit gates"
     ],
     "module_prereqs": [
      "Linear Algebra",
      "Quantum Mechanics Fundamentals"
     ],
     "module_title": [
      "Multi-Qubit Gates and Operations"
     ]
    }
   },
   "source": [
    "### 18.2.1 The CNOT Gate\n",
    "\n",
    "This is the most popular gate. It can be used to entangle and dis-entangle two qubits. It is a two qubit gate and given by the following matrix \n",
    "\n",
    "$\\begin{bmatrix}1 & 0 & 0 & 0 \\\\ 0 & 1 & 0 & 0 \\\\ 0 & 0 & 0 & 1 \\\\ 0 & 0 & 1 & 0\\end{bmatrix}$\n",
    "\n",
    "In the circuit diagram it shows up as \n",
    "\n",
    "![](images/nanomod18-fig2.png)\n",
    "\n",
    "The top qubit becomes the control qubit and the bottom one is the target qubit."
   ]
  },
  {
   "cell_type": "markdown",
   "metadata": {
    "cell_details": {
     "cell_ID": "m18-CNOTGateExample",
     "cell_alternates": [],
     "cell_concepts": [
      "CNOT Gate Function",
      "Control Qubit",
      "Target Qubit",
      "Quantum Gates",
      "Quantum Computing",
      "Entanglement"
     ],
     "cell_estimated_time": "1",
     "cell_interactive": "false",
     "cell_outcomes": [
      "Illustrate the conditional operation of the CNOT gate based on the state of the control qubit",
      "Understand the resulting state of the target qubit after the CNOT gate operation",
      "Grasp the concept of entanglement as a result of conditional quantum gate operations"
     ],
     "cell_prereqs": [
      "m18-TheCNOTGate"
     ],
     "cell_type": [
      "text"
     ],
     "module_outcomes": [
      "Master the functional dynamics and applications of the CNOT gate in quantum circuits",
      "Develop the ability to predict and analyze the outcomes of applying the CNOT gate in various quantum states",
      "Prepare for advanced studies in quantum circuit design and the practical use of entanglement in quantum computing"
     ],
     "module_prereqs": [
      "Linear Algebra",
      "Quantum Mechanics Fundamentals"
     ],
     "module_title": [
      "Multi-Qubit Gates and Operations"
     ]
    }
   },
   "source": [
    "If the top qubit is a $\\rvert 0 \\rangle$ then nothing happens to the bottom qubit and if the top qubit is $\\rvert 1 \\rangle$ the bottom qubit is acted upon by an $X$ gate.\n",
    "\n",
    "Eg:\n",
    "![](images/nanomod18-fig3.png)\n"
   ]
  },
  {
   "cell_type": "markdown",
   "metadata": {
    "cell_details": {
     "cell_ID": "m18-CNOTGateXOR",
     "cell_alternates": [],
     "cell_concepts": [
      "CNOT Gate",
      "XOR Operation",
      "Basis Dependency",
      "Quantum States",
      "Quantum Computing"
     ],
     "cell_estimated_time": "1",
     "cell_interactive": "false",
     "cell_outcomes": [
      "Understand the operation of the CNOT gate in the context of the XOR logical function",
      "Grasp the basis dependency of the CNOT gate's 'unchangeability' of the control qubit",
      "Appreciate the nuances of applying classical logic notation to quantum operations"
     ],
     "cell_prereqs": [
      "m18-TheCNOTGate",
      "m18-CNOTGateExample"
     ],
     "cell_type": [
      "text"
     ],
     "module_outcomes": [
      "Master the analogy between the CNOT gate's function and the XOR operation in classical computing",
      "Develop a deeper understanding of quantum gate operations and their classical analogues",
      "Prepare for advanced exploration of quantum logic gates and their applications in quantum algorithms"
     ],
     "module_prereqs": [
      "Linear Algebra",
      "Quantum Mechanics Fundamentals"
     ],
     "module_title": [
      "Multi-Qubit Gates and Operations"
     ]
    }
   },
   "source": [
    "\n",
    "As you can see the top qubit remains unchanged. However, this “unchangeability” is basis dependent. \n",
    "\n",
    "The CNOT gate is also known as the XOR gate because its operation can be written as  \n",
    "\n",
    "$\\rvert x,y \\rangle \\rightarrow \\rvert x, x \\oplus y \\rangle$\n",
    "\n",
    "Where $x$ and $y$ are quantum states. \n",
    "\n",
    "We are, obviously, somewhat abusing the XOR notation here."
   ]
  },
  {
   "cell_type": "markdown",
   "metadata": {
    "cell_details": {
     "cell_ID": "m18-CNOTUnitaryInverse",
     "cell_alternates": [],
     "cell_concepts": [
      "CNOT Gate",
      "Unitary Transformation",
      "Inverse Operation",
      "Quantum Computing"
     ],
     "cell_estimated_time": "1",
     "cell_interactive": "false",
     "cell_outcomes": [
      "Recognize the CNOT gate as a unitary transformation",
      "Understand that the CNOT gate is its own inverse, allowing for reversible computing",
      "Appreciate the significance of unitary transformations in quantum computing for ensuring reversibility"
     ],
     "cell_prereqs": [
      "m18-TheCNOTGate",
      "m18-CNOTGateExample",
      "m18-CNOTGateXOR"
     ],
     "cell_type": [
      "text"
     ],
     "module_outcomes": [
      "Master the properties of the CNOT gate as a unitary and reversible operation",
      "Analyze the role of the CNOT gate in constructing reversible quantum circuits",
      "Prepare for the design and analysis of quantum algorithms leveraging the reversibility of quantum gates"
     ],
     "module_prereqs": [
      "Linear Algebra",
      "Quantum Mechanics Fundamentals"
     ],
     "module_title": [
      "Multi-Qubit Gates and Operations"
     ]
    }
   },
   "source": [
    "CNOT is also a unitary transformation and therefore its own inverse. \n",
    "\n",
    "![](images/nanomod18-fig4.png)\n"
   ]
  },
  {
   "cell_type": "markdown",
   "metadata": {
    "cell_details": {
     "cell_ID": "m18-CNOTBasisDependency",
     "cell_alternates": [],
     "cell_concepts": [
      "CNOT Gate",
      "Basis Dependency",
      "Hadamard Gate",
      "Quantum Circuits",
      "Quantum Computing"
     ],
     "cell_estimated_time": "1",
     "cell_interactive": "false",
     "cell_outcomes": [
      "Explore the basis dependency of the CNOT gate's operation within quantum circuits",
      "Challenge the assumption of reversibility in specific circuit configurations involving the CNOT and Hadamard gates",
      "Encourage the computation of circuit outputs for various qubit states to understand the nuanced behavior of quantum gates"
     ],
     "cell_prereqs": [
      "m18-TheCNOTGate",
      "m18-CNOTGateExample",
      "m18-CNOTGateXOR",
      "m18-CNOTUnitaryInverse"
     ],
     "cell_type": [
      "text"
     ],
     "module_outcomes": [
      "Comprehend the complex, basis-dependent behavior of the CNOT gate in combination with the Hadamard gate",
      "Develop critical thinking and problem-solving skills through computational exercises involving quantum circuits",
      "Prepare for advanced quantum computing topics, including gate combinations and circuit analysis"
     ],
     "module_prereqs": [
      "Linear Algebra",
      "Quantum Mechanics Fundamentals"
     ],
     "module_title": [
      "Multi-Qubit Gates and Operations"
     ]
    }
   },
   "source": [
    "However, we noted earlier that CNOT’s operation is basis dependent. Consider the following circuit:\n",
    "\n",
    "![CNOT is Basis Dependent](images/nanomod18-cnotBasisDepend.png)\n",
    "\n",
    "Since H is its own inverse, one might think we get back $\\rvert x\\rangle$ on the top line of the circuit. But this is not the case.\n",
    "\n",
    "We leave this as an exercise for the reader to compute the output of the above circuit for different values of $\\rvert x\\rangle$ and $\\rvert y\\rangle$."
   ]
  },
  {
   "cell_type": "markdown",
   "metadata": {
    "cell_details": {
     "cell_ID": "m18-CNOTForEntanglement",
     "cell_alternates": [],
     "cell_concepts": [
      "CNOT Gate",
      "Entanglement",
      "Superposition",
      "Bell Pairs",
      "Quantum Circuits",
      "Quantum Computing"
     ],
     "cell_estimated_time": "1",
     "cell_interactive": "false",
     "cell_outcomes": [
      "Understand how the CNOT gate can be used to entangle qubits when the control qubit is in superposition",
      "Learn the specific circuit configuration used to create Bell pairs with the CNOT gate",
      "Appreciate the role of input states in determining the outcome of entanglement processes"
     ],
     "cell_prereqs": [],
     "cell_type": [
      "text"
     ],
     "module_outcomes": [
      "Master the use of the CNOT gate for generating entanglement in quantum systems",
      "Develop skills in designing quantum circuits that leverage entanglement for quantum computing tasks",
      "Prepare for advanced studies in quantum information theory and entanglement-based quantum protocols"
     ],
     "module_prereqs": [
      "Linear Algebra",
      "Quantum Mechanics Fundamentals"
     ],
     "module_title": [
      "Multi-Qubit Gates and Operations"
     ]
    }
   },
   "source": [
    "## CNOT for entanglement\n",
    "\n",
    "If the control qubit is in superposition then the application of CNOT can result in entanglement of the control qubit and the target qubit.\n",
    "\n",
    "The circuit that is often used to create Bell pairs is \n",
    "\n",
    "![CNOT for Entanglement](images/nanomod18-cnotEntangle.png)\n",
    "\n",
    "Appropriate inputs result in different Bell pairs.\n"
   ]
  },
  {
   "cell_type": "markdown",
   "metadata": {
    "cell_details": {
     "cell_ID": "m18-GeneralControlledOperation",
     "cell_alternates": [],
     "cell_concepts": [
      "General Controlled Operation",
      "Quantum Circuit",
      "Controlled-U Gate",
      "Identity Matrix",
      "Quantum Gates"
     ],
     "cell_estimated_time": "1",
     "cell_interactive": "false",
     "cell_outcomes": [
      "Understand the concept and representation of general controlled operations in quantum computing",
      "Learn the matrix representation of a controlled operation involving an arbitrary quantum gate",
      "Grasp the significance of controlled operations in constructing complex quantum algorithms"
     ],
     "cell_prereqs": [],
     "cell_type": [
      "text"
     ],
     "module_outcomes": [
      "Master the construction and application of controlled quantum operations in quantum circuits",
      "Develop the ability to analyze and design quantum algorithms using controlled operations",
      "Prepare for advanced exploration of quantum computing techniques and circuit complexities"
     ],
     "module_prereqs": [
      "Linear Algebra",
      "Quantum Mechanics Fundamentals"
     ],
     "module_title": [
      "Multi-Qubit Gates and Operations"
     ]
    }
   },
   "source": [
    "## 18.2.2 General Controlled operation \n",
    "\n",
    "We can denote the circuit as follows\n",
    "\n",
    "![General Control U Gate](images/nanomod18-cntrlU.png)\n",
    "\n",
    "And the matrix is given by $\\begin{bmatrix}I & 0 \\\\ 0 & U \\end{bmatrix}$ where $I$ is the 2x2 identity matrix and $U$ is an arbitrary 2x2 quantum gate."
   ]
  },
  {
   "cell_type": "markdown",
   "metadata": {
    "cell_details": {
     "cell_ID": "m18-CNOTForSwap",
     "cell_alternates": [],
     "cell_concepts": [
      "CNOT Gate",
      "Teleportation",
      "IBM Quantum Simulator",
      "Swap Circuit",
      "Quantum Gates"
     ],
     "cell_estimated_time": "1",
     "cell_interactive": "false",
     "cell_outcomes": [
      "Preview the use of the CNOT gate in quantum teleportation",
      "Introduce a swap circuit constructed with CNOT gates",
      "Foreshadow the application of these concepts on a practical quantum computing platform"
     ],
     "cell_prereqs": [
      "m18-GeneralControlledOperation"
     ],
     "cell_type": [
      "text"
     ],
     "module_outcomes": [
      "Prepare for the study of quantum teleportation and its implementation",
      "Understand the role of CNOT gates in creating swap circuits within quantum algorithms",
      "Anticipate the practical application of quantum computing concepts on simulation platforms"
     ],
     "module_prereqs": [
      "Linear Algebra",
      "Quantum Mechanics Fundamentals"
     ],
     "module_title": [
      "Multi-Qubit Gates and Operations"
     ]
    }
   },
   "source": [
    "CNOT will be used in the exciting application of teleportation later. We will also provide a circuit built on the IBM quantum simulator.\n",
    "\n",
    "A swap circuit using these CNOTS is shown below. \n",
    "\n",
    "![CNOT for SWAP gate](images/nanomod18-cnotSwap.png)\n"
   ]
  },
  {
   "cell_type": "markdown",
   "metadata": {
    "cell_details": {
     "cell_ID": "m18-OtherMultiQubitGates",
     "cell_alternates": [],
     "cell_concepts": [
      "Toffoli Gate",
      "Fredkin Gate",
      "Multi-Qubit Gates",
      "Quantum Circuit",
      "Control Bits",
      "Target Bit",
      "AND Operation"
     ],
     "cell_estimated_time": "1",
     "cell_interactive": "false",
     "cell_outcomes": [
      "Understand the structure and function of the Toffoli and Fredkin gates in quantum computing",
      "Learn the operational dynamics of these gates, including the requirement for control bits to be on",
      "Grasp the application of complex multi-qubit operations in constructing quantum algorithms"
     ],
     "cell_prereqs": [
      "m18-CNOTForSwap"
     ],
     "cell_type": [
      "text"
     ],
     "module_outcomes": [
      "Master the identification, functionality, and application of the Toffoli and Fredkin gates",
      "Develop skills in designing quantum circuits that incorporate complex multi-qubit gates",
      "Prepare for advanced topics in quantum computing, focusing on the role of conditional operations in quantum algorithms"
     ],
     "module_prereqs": [
      "Linear Algebra",
      "Quantum Mechanics Fundamentals"
     ],
     "module_title": [
      "Multi-Qubit Gates and Operations"
     ]
    }
   },
   "source": [
    "## 18.3 Other Multi-Qubit Gates\n",
    "\n",
    "### 18.3.1 Toffoli Gate\n",
    "\n",
    "It is a 3-qubit gate and its circuit and operation are shown below.\n",
    "\n",
    "![Toffoli Circuit](images/nanomod18-toffoli.png)\n",
    "\n",
    "This gate has two control bits and one target bit. Both the control bits need to be on in order for the target bit to be affected\n",
    "\n",
    "$X \\wedge Y$ denotes an AND operation. \n",
    "\n",
    "### 18.3.2 Fredkin Gate\n",
    "\n",
    "The circuit and operation are given by.\n",
    "\n",
    "![Fredkin Cicuit](images/nanomod18-fredkin.png)\n"
   ]
  },
  {
   "cell_type": "markdown",
   "metadata": {
    "cell_details": {
     "cell_ID": "m18-UniversalGateSet",
     "cell_alternates": [],
     "cell_concepts": [
      "Universal Gate Set",
      "Logical Circuits Simulation",
      "NAND Gate",
      "AND Gate",
      "NOT Gate",
      "NOR Gate",
      "Toffoli Gate",
      "Fredkin Gate",
      "Quantum Universal Gate",
      "Hadamard Gate",
      "CNOT Gate",
      "Phase Shift",
      "Quantum Computing"
     ],
     "cell_estimated_time": "1",
     "cell_interactive": "false",
     "cell_outcomes": [
      "Understand the concept of a universal gate set in both classical and quantum circuits",
      "Learn which operations comprise a quantum universal gate set",
      "Appreciate the equivalency of certain gate sets in achieving universal computation in quantum computing"
     ],
     "cell_prereqs": [],
     "cell_type": [
      "text"
     ],
     "module_outcomes": [
      "Master the principles of universal computation in quantum computing using specific gate sets",
      "Develop an understanding of the significance of Hadamard, CNOT, and phase shift gates in quantum algorithms",
      "Prepare for advanced studies in quantum computing involving the design and analysis of quantum circuits using universal gates"
     ],
     "module_prereqs": [
      "Linear Algebra",
      "Quantum Mechanics Fundamentals"
     ],
     "module_title": [
      "Multi-Qubit Gates and Operations"
     ]
    }
   },
   "source": [
    "## 18.4 Universal Gate Set\n",
    "\n",
    "Universal gate set is the set of gates using which every logical circuit can be simulated.\n",
    "\n",
    "For example, in classical circuits NAND is a universal gate and so are AND and NOT taken together. NOR is also universal in classical circuits. Both Toffoli and Fredkin are classical universal gates. \n",
    "\n",
    "**Quantum Universal Gate:** In the quantum world the following operations together form a set of universal gates,\n",
    "\n",
    "$\\big\\{ H, CNOT, R(cos^{-1}(\\frac{3}{5}))\\big\\} $ i.e. Hadamard, CNOT, and a phase shift together for a universal set of gates. There are other quantum universal gate sets.\n"
   ]
  },
  {
   "cell_type": "markdown",
   "metadata": {
    "cell_details": {
     "cell_ID": "m18-endmodule-information",
     "cell_alternates": [],
     "cell_concepts": [],
     "cell_estimated_time": "1",
     "cell_interactive": "false",
     "cell_outcomes": [
      "Know the information about the final Quiz of this module"
     ],
     "cell_prereqs": [],
     "cell_type": [
      "text"
     ],
     "module_outcomes": [
      "Comprehend the quantum mechanics principles underlying the success of the CHSH game strategy",
      "Analyze the quantum advantage in achieving outcomes beyond classical limitations",
      "Prepare for advanced studies in quantum information theory, focusing on entanglement and nonlocal correlations"
     ],
     "module_prereqs": [
      "Quantum Mechanics Fundamentals",
      "Linear Algebra",
      "Probability"
     ],
     "module_title": [
      "The EPR Paradox and CHSH Game"
     ]
    }
   },
   "source": [
    "***\n",
    "***\n",
    "### End of nanomodule 18\n",
    "***\n",
    "***"
   ]
  }
 ],
 "metadata": {
  "celltoolbar": "Slideshow",
  "kernelspec": {
   "display_name": "Python 3 (ipykernel)",
   "language": "python",
   "name": "python3"
  },
  "language_info": {
   "codemirror_mode": {
    "name": "ipython",
    "version": 3
   },
   "file_extension": ".py",
   "mimetype": "text/x-python",
   "name": "python",
   "nbconvert_exporter": "python",
   "pygments_lexer": "ipython3",
   "version": "3.12.2"
  },
  "module_details": {
   "module_concepts": [],
   "module_outcomes": [
    "Students will be able to construct multi-qubit gates from single qubit gates.",
    "Students will understand the operations of new multi-qubit gates.",
    "Students will be able to compute outputs of circuits consisting of multiple qubits."
   ],
   "module_outcomes_mapping": [
    [
     "m18-ComposingSingleQubitOperations",
     "m18-JointGateRepresentation",
     "m18-JointGateRepresentationConclusion",
     "m18-GateOperationOnJointQubits"
    ],
    [
     "m18-TrueMultiQubitGates",
     "m18-TheCNOTGate",
     "m18-CNOTGateExample",
     "m18-CNOTGateXOR"
    ],
    [
     "m18-CNOTUnitaryInverse",
     "m18-CNOTBasisDependency",
     "m18-CNOTForEntanglement",
     "m18-GeneralControlledOperation",
     "m18-CNOTForSwap",
     "m18-OtherMultiQubitGates",
     "m18-UniversalGateSet"
    ]
   ],
   "module_prereqs": [
    "Linear Algebra",
    "Quantum Mechanics Fundamentals",
    "Single-Qubit Operations"
   ],
   "module_title": "Multi-Qubit Gates and Operations"
  }
 },
 "nbformat": 4,
 "nbformat_minor": 4
}
