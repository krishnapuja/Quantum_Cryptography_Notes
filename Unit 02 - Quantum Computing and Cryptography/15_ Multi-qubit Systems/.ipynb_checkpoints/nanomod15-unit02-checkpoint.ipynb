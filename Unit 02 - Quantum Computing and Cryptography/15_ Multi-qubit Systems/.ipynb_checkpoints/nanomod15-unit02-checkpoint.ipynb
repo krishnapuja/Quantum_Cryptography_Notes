{
 "cells": [
  {
   "cell_type": "markdown",
   "metadata": {
    "cell_details": {
     "cell_ID": "m15-LearningOutcome",
     "cell_alternates": [],
     "cell_concepts": [
      "Multi-Qubit Systems",
      "State Representation",
      "Basis Construction"
     ],
     "cell_estimated_time": "1",
     "cell_interactive": "false",
     "cell_outcomes": [
      "Represent the state of a multi-qubit system",
      "Construct the basis for a multi-qubit system"
     ],
     "cell_prereqs": [],
     "cell_type": [
      "text"
     ],
     "module_outcomes": [
      "Understand and apply concepts for representing multi-qubit systems",
      "Develop skills in constructing and utilizing the basis for multi-qubit systems in quantum computing"
     ],
     "module_prereqs": [
      "Linear Algebra",
      "Quantum Mechanics Fundamentals",
      "Single-Qubit Operations"
     ],
     "module_title": [
      "Multi-qubit Systems"
     ]
    },
    "slideshow": {
     "slide_type": "slide"
    }
   },
   "source": [
    "# 15. Multi-qubit Systems\n",
    "\n",
    "### This lesson belongs to nanomodule 15 - unit 2\n",
    "\n",
    "<b>Learning Outcomes: </b>\n",
    "\n",
    "15.1. Students will represent the state of a multi-qubit system.\n",
    "\n",
    "15.2. Students will be able to construct the basis for a multi-qubit system."
   ]
  },
  {
   "cell_type": "markdown",
   "metadata": {
    "cell_details": {
     "cell_ID": "m15-MultiQubitSystems",
     "cell_alternates": [],
     "cell_concepts": [
      "Multi-Qubit Systems",
      "Quantum Registers",
      "Quantum Computing",
      "Entangled Qubits",
      "EPR Pairs",
      "Quantum Cryptography",
      "Quantum Teleportation"
     ],
     "cell_estimated_time": "1",
     "cell_interactive": "false",
     "cell_outcomes": [
      "Understand the necessity and functionality of multi-qubit systems in quantum computing",
      "Learn about the concepts of entangled qubits and their applications in quantum cryptography and teleportation",
      "Appreciate the complexity and potential of multi-qubit operations, including gates that operate on multiple qubits"
     ],
     "cell_prereqs": [],
     "cell_type": [
      "text"
     ],
     "module_outcomes": [
      "Gain a comprehensive understanding of multi-qubit systems and their representation",
      "Explore the significant quantum computing concepts and technologies enabled by multi-qubit systems",
      "Prepare for advanced quantum computing topics, including quantum cryptography and teleportation"
     ],
     "module_prereqs": [
      "Linear Algebra",
      "Quantum Mechanics Fundamentals",
      "Single-Qubit Operations"
     ],
     "module_title": [
      "Multi-qubit Systems"
     ]
    },
    "editable": true,
    "slideshow": {
     "slide_type": "slide"
    },
    "tags": []
   },
   "source": [
    "## 15.1 Multi-qubit Systems\n",
    "\n",
    "As one can imagine, to do anything useful on a quantum computer we will have to deal with multiple qubits at any given time. For example a quantum computer may have a register that can hold 8 qubits at any given time. We already know how to represent the state of any single qubit in the register. However, if we can represent the state of the entire system we can do much more than what we've seen so far with the qubits. For example, we can now apply two or even three qubit gates that operate on more than one qubit at a time. We can also represent, what are called entangled qubits or EPR pairs after their discovers Einstein, Podolsky and Rosen. EPR pairs are very powerful tools in quantum cryptography and the famous application of quantum teleportation.\n"
   ]
  },
  {
   "cell_type": "markdown",
   "metadata": {
    "cell_details": {
     "cell_ID": "m15-ExponentialGrowthInStateSpace",
     "cell_alternates": [],
     "cell_concepts": [
      "Exponential Growth",
      "State Space",
      "Classical Systems",
      "Quantum Systems",
      "Entangled States",
      "Quantum Phenomenon",
      "Quantum Computation"
     ],
     "cell_estimated_time": "3",
     "cell_interactive": "false",
     "cell_outcomes": [
      "Understand the exponential growth in the state space of quantum systems with increasing qubits",
      "Compare and contrast the state space of classical and quantum systems",
      "Learn about entanglement as a fundamental quantum phenomenon with no classical counterpart"
     ],
     "cell_prereqs": [
      "m15-MultiQubitSystems"
     ],
     "cell_type": [
      "text"
     ],
     "module_outcomes": [
      "Comprehend the vast potential of quantum computing stemming from the exponential growth of state space",
      "Grasp the concept of entanglement and its significance in quantum computing",
      "Prepare for advanced discussions on quantum computing architectures and algorithms involving multi-qubit systems"
     ],
     "module_prereqs": [
      "Linear Algebra",
      "Quantum Mechanics Fundamentals"
     ],
     "module_title": [
      "Multi-qubit Systems"
     ]
    },
    "slideshow": {
     "slide_type": "slide"
    }
   },
   "source": [
    "### 15.2 Exponential Growth in State Space\n",
    "\n",
    "Unlike classical systems, the state space of a quantum system grows exponentially with the number of qubits. For example, there are at the most $2^n$ possible states of a system consisting of $n$-classical bits. However, a $n$-qubit quantum system can have many more states than just $2^n$. In fact, it can have infinite possible states!\n",
    "\n",
    "However, these large number of states are confined to a surprisingly small physical space in a quantum system. Another big difference between classical and quantum states is that if a classical system consists of $n$-bits (components) each of these $n$ components can be precisely and completely described independent of each other.\n",
    "\n",
    "Whereas the individual components of a quantum system may not (always) be describable separate from each other. These states (qubits) are called entangled states (qubits) and crucial ingredients in any quantum computation. Entanglement is a uniquely quantum phenomenon with no classical counterpart. In fact, most of the states in a multi-qubit quantum system are entangled!"
   ]
  },
  {
   "cell_type": "markdown",
   "metadata": {
    "cell_details": {
     "cell_ID": "m15-RepresentingAQubyte",
     "cell_alternates": [],
     "cell_concepts": [
      "Quantum Register",
      "Tensor Product",
      "Qubyte",
      "State Representation",
      "Vector Space",
      "Quantum Systems",
      "Dimensions"
     ],
     "cell_estimated_time": "1",
     "cell_interactive": "false",
     "cell_outcomes": [
      "Learn how to represent the state of a quantum register holding eight qubits, or a qubyte",
      "Understand the process and significance of taking the tensor product of individual qubit states",
      "Appreciate the resulting vector space dimensionality from combining qubits through tensor products"
     ],
     "cell_prereqs": [
      "m15-MultiQubitSystems"
     ],
     "cell_type": [
      "text"
     ],
     "module_outcomes": [
      "Master the concept of qubyte representation and the mathematical operations involved",
      "Develop an understanding of the complex vector spaces resulting from multi-qubit systems",
      "Prepare for advanced exploration of quantum computing algorithms and systems architecture involving multi-qubit registers"
     ],
     "module_prereqs": [
      "Linear Algebra",
      "Quantum Mechanics Fundamentals"
     ],
     "module_title": [
      "Multi-qubit Systems"
     ]
    },
    "slideshow": {
     "slide_type": "slide"
    }
   },
   "source": [
    "### Representing a qubyte\n",
    "\n",
    "In order to represent the state of a quantum register holding eight individual qubits, we take the tensor product of the individual qubit states,\n",
    "\n",
    "$\\begin{bmatrix}1\\\\0\\end{bmatrix}$, $\\begin{bmatrix}0\\\\1\\end{bmatrix}$, $\\begin{bmatrix}0\\\\1\\end{bmatrix}$, $\\begin{bmatrix}1\\\\0\\end{bmatrix}$, $\\begin{bmatrix}0\\\\1\\end{bmatrix}$, $\\begin{bmatrix}0\\\\1\\end{bmatrix}$, $\\begin{bmatrix}1\\\\0\\end{bmatrix}$, $\\begin{bmatrix}1\\\\0\\end{bmatrix}$\n",
    "\n",
    "=$\\rvert0\\rangle\\otimes\\rvert1\\rangle\\otimes\\rvert1\\rangle\\otimes\\rvert0\\rangle\\otimes\\rvert1\\rangle\\otimes\\rvert0\\rangle\\otimes\\rvert1\\rangle\\otimes\\rvert1\\rangle$\n",
    "\n",
    "In vector form, we write the state as $\\begin{matrix}00000000\\\\00000001\\\\\\vdots\\\\01101011\\\\01101100\\\\01101101\\\\\\vdots\\\\11111110\\\\11111111\\end{matrix}\\begin{bmatrix}0\\\\0\\\\\\vdots\\\\0\\\\1\\\\0\\\\\\vdots\\\\0\\\\0\\end{bmatrix}$\n",
    "\n",
    "The bits numbers outside the vector represent the position of that binary string in the vector.\n",
    "\n",
    "The vector space associated with the quantum systems combined through the tensor product, results in a vector space of $2^n$ dimensions."
   ]
  },
  {
   "cell_type": "markdown",
   "metadata": {
    "cell_details": {
     "cell_ID": "m15-TensorProductOfVectorSpacesRecap",
     "cell_alternates": [],
     "cell_concepts": [
      "Tensor Product",
      "Vector Spaces",
      "Basis Set",
      "Properties of Tensor Product",
      "Quantum Mechanics"
     ],
     "cell_estimated_time": "1",
     "cell_interactive": "false",
     "cell_outcomes": [
      "Recap the concept of tensor product of vector spaces and its significance in quantum mechanics",
      "Understand how to construct the basis set for the tensor product of two vector spaces",
      "Appreciate the notation and properties of tensor products in the context of quantum computing"
     ],
     "cell_prereqs": [
      "m8-TensorProduct",
      "m8-JointBasis"
     ],
     "cell_type": [
      "text"
     ],
     "module_outcomes": [
      "Deepen understanding of the mathematical framework underpinning quantum systems",
      "Apply knowledge of tensor products to explore the structure and representation of multi-qubit systems",
      "Prepare for advanced topics in quantum computing involving the manipulation and analysis of complex quantum states"
     ],
     "module_prereqs": [
      "Linear Algebra",
      "Quantum Mechanics Fundamentals"
     ],
     "module_title": [
      "Multi-qubit Systems"
     ]
    },
    "slideshow": {
     "slide_type": "slide"
    }
   },
   "source": [
    "### 15.3 Tensor Product of Vector Spaces (Recap)\n",
    "\n",
    "Given two vector spaces $V$ and $W$ with bases $B_1=\\{\\rvert v_1\\rangle, \\rvert v_2\\rangle, \\ldots, \\rvert v_m\\rangle\\}$ and $B_2=\\{\\rvert w_1\\rangle, \\rvert w_2\\rangle, \\ldots, \\rvert w_n\\rangle\\}$, respectively. Then the tensor product of the two vector spaces $V\\otimes W$ has a basis set consisting of elements of the form $\\rvert v_i\\rangle\\otimes \\rvert w_j\\rangle$. Here $\\otimes$ is the tensor product of two vectors.\n",
    "\n",
    "#### Example: \n",
    "\n",
    "Consider a vector space $V$ with basis $B_1=\\left\\{\\begin{bmatrix}0\\\\1\\end{bmatrix}, \\begin{bmatrix}1\\\\0\\end{bmatrix}\\right\\}$ and a vector space $W$ with basis $B_2=\\left\\{\\frac{1}{\\sqrt{2}}\\begin{bmatrix}1\\\\1\\end{bmatrix},\\frac{1}{\\sqrt{2}}\\begin{bmatrix}1\\\\-1\\end{bmatrix}\\right\\}$, then the basis for $V\\otimes W$ is given by $B_1\\otimes B_2=\\left\\{\\frac{1}{\\sqrt{2}}\\begin{bmatrix}0\\\\1\\end{bmatrix}\\otimes\\begin{bmatrix}1\\\\1\\end{bmatrix},\\ldots\\right\\}$\n",
    "\n",
    "Properties of tensor product can be found in earlier nanomodules.\n",
    "\n",
    "Recall that we often drop the symbol for tensor product when there is no ambiguity. For example, $\\rvert v\\rangle\\otimes\\rvert w\\rangle$ may be written as $\\rvert v\\rangle\\rvert w\\rangle$ and even $\\rvert vw\\rangle$."
   ]
  },
  {
   "cell_type": "markdown",
   "metadata": {
    "cell_details": {
     "cell_ID": "m15-OrthogonalBasis",
     "cell_alternates": [],
     "cell_concepts": [
      "Orthogonal Basis",
      "Orthonormal Bases",
      "Tensor Product",
      "Vector Spaces",
      "Dimensions"
     ],
     "cell_estimated_time": "1",
     "cell_interactive": "false",
     "cell_outcomes": [
      "Understand the orthonormal property of basis sets resulting from the tensor product of orthonormal bases",
      "Learn the dimensional properties of tensor products involving vector spaces",
      "Grasp the implications of tensor product dimensions on the complexity of quantum systems"
     ],
     "cell_prereqs": [
      "m6-OrthogonalBasis",
      "m8-Quiz-8.1",
      "m8-Quiz-8.1-interactive"
     ],
     "cell_type": [
      "text"
     ],
     "module_outcomes": [
      "Comprehend the construction and properties of orthonormal bases in multi-qubit systems",
      "Apply principles of linear algebra to analyze the structure and dimensionality of quantum states",
      "Prepare for advanced quantum computing concepts involving high-dimensional quantum systems"
     ],
     "module_prereqs": [
      "Linear Algebra",
      "Quantum Mechanics Fundamentals"
     ],
     "module_title": [
      "Multi-qubit Systems"
     ]
    },
    "slideshow": {
     "slide_type": "slide"
    }
   },
   "source": [
    "### Orthogonal Basis\n",
    "\n",
    "Now if the bases for $\\rvert v\\rangle$, $\\left\\{\\rvert v_i\\rangle\\right\\}$, are orthonormal and similarly bases for $\\rvert w\\rangle$, $\\left\\{\\rvert w_j\\rangle\\right\\}$, are orthonormal, then the basis for their tensor product is also orthonormal.\n",
    "\n",
    "Further, since the tensor product of two vectors $v$ and $w$ has a dimension of $dim(v)\\times dim(w)$, the tensor product of $n$ two-dimensional vector spaces has $2^n$ dimensions."
   ]
  },
  {
   "cell_type": "markdown",
   "metadata": {
    "cell_details": {
     "cell_ID": "m15-Decomposability",
     "cell_alternates": [],
     "cell_concepts": [
      "Decomposability",
      "Tensor Product",
      "Vector Spaces",
      "Linear Combination",
      "Quantum Mechanics"
     ],
     "cell_estimated_time": "1",
     "cell_interactive": "false",
     "cell_outcomes": [
      "Understand the concept of decomposability in the context of tensor products of vector spaces",
      "Recognize that not all elements in a tensor product space can be decomposed into simpler tensor products",
      "Grasp the implications of this limitation for analyzing and representing quantum states"
     ],
     "cell_prereqs": [
      "m15-OrthogonalBasis"
     ],
     "cell_type": [
      "text"
     ],
     "module_outcomes": [
      "Comprehend the challenges in decomposing elements of a tensor product space",
      "Analyze the structure and representation of quantum states in the framework of tensor product spaces",
      "Prepare for complex discussions on quantum state manipulation and entanglement"
     ],
     "module_prereqs": [
      "Linear Algebra",
      "Quantum Mechanics Fundamentals"
     ],
     "module_title": [
      "Multi-qubit Systems"
     ]
    },
    "slideshow": {
     "slide_type": "slide"
    }
   },
   "source": [
    "***\n",
    "***\n",
    "**Decomposability:** Given the above discussion it may seem that given any element in $V\\otimes W$, we should be able to write it as a tensor product of a vector (element) in $V$ and another element $W$. However, it turns out that for a majority of the cases, elements in $V\\otimes W$ cannot be decomposed in such a fashion! This may seem surprising because all the elements in $V\\otimes W$ are indeed linear combination of such elements.\n",
    "***\n",
    "***"
   ]
  },
  {
   "cell_type": "markdown",
   "metadata": {
    "cell_details": {
     "cell_ID": "m15-StateSpaceOfANQubitSystem",
     "cell_alternates": [],
     "cell_concepts": [
      "State Space",
      "N-Qubit System",
      "Standard Basis",
      "Vector Space",
      "Joint Quantum System"
     ],
     "cell_estimated_time": "1",
     "cell_interactive": "false",
     "cell_outcomes": [
      "Understand the representation of the state space for a joint n-qubit system",
      "Learn how to construct the basis for an n-qubit system in standard vector spaces",
      "Grasp the shorthand notation for representing joint quantum states"
     ],
     "cell_prereqs": [
      "m15-TensorProductOfVectorSpacesRecap"
     ],
     "cell_type": [
      "text"
     ],
     "module_outcomes": [
      "Master the concept of state space in multi-qubit quantum systems",
      "Develop skills in constructing and understanding the basis of n-qubit systems",
      "Prepare for complex quantum computing operations involving multi-qubit states"
     ],
     "module_prereqs": [
      "Linear Algebra",
      "Quantum Mechanics Fundamentals"
     ],
     "module_title": [
      "Multi-qubit Systems"
     ]
    },
    "slideshow": {
     "slide_type": "slide"
    }
   },
   "source": [
    "## 15.4 State Space of a n-qubit System\n",
    "\n",
    "Let's start with a small example. Given two qubits in standard basis $V$ and $W$, the states of the joint quantum system are represented by unit vectors in vector space $V\\otimes W$.\n",
    "\n",
    "The two basis are $V=\\{\\rvert0\\rangle, \\rvert1\\rangle\\}$ and $W=\\{\\rvert0\\rangle, \\rvert1\\rangle\\}$. Then the joint state has vectors in $V\\otimes W=\\{\\rvert0\\rangle\\otimes\\rvert0\\rangle, \\rvert0\\rangle\\otimes\\rvert1\\rangle, \\rvert1\\rangle\\otimes\\rvert0\\rangle, \\rvert1\\rangle\\otimes\\rvert1\\rangle\\}$.\n",
    "\n",
    "This is often written in short hand as $V\\otimes W=\\{\\rvert0\\rangle\\rvert0\\rangle, \\rvert0\\rangle\\rvert1\\rangle, \\rvert1\\rangle\\rvert0\\rangle, \\rvert1\\rangle\\rvert1\\rangle\\}=\\{\\rvert00\\rangle, \\rvert01\\rangle, \\rvert10\\rangle, \\rvert11\\rangle\\}$\n",
    "\n",
    "This can be easily generalized to $n$-qubits in standard vector spaces. The basis for such a joint system would be represented by\n",
    "\n",
    "$\\{\\rvert0\\rangle_{n-1}\\otimes\\rvert0\\rangle_{n-2}\\otimes\\ldots\\otimes\\rvert0\\rangle_1\\otimes\\rvert0\\rangle_0,\\\\\n",
    "\\rvert0\\rangle_{n-1}\\otimes\\rvert0\\rangle_{n-2}\\otimes\\ldots\\otimes\\rvert0\\rangle_1\\otimes\\rvert1\\rangle_0,\\\\\n",
    "\\rvert0\\rangle_{n-1}\\otimes\\rvert0\\rangle_{n-2}\\otimes\\ldots\\otimes\\rvert1\\rangle_1\\otimes\\rvert0\\rangle_0,\\\\\n",
    "\\vdots\\\\\n",
    "\\rvert1\\rangle_{n-1}\\otimes\\rvert1\\rangle_{n-2}\\otimes\\ldots\\otimes\\rvert1\\rangle_1\\otimes\\rvert1\\rangle_0\\}$\n",
    "\n",
    "which can be rewritten as,\n",
    "\n",
    "$\\{\\rvert00\\ldots00\\rangle, \\rvert00\\ldots01\\rangle, \\rvert00\\ldots10\\rangle, \\rvert11\\ldots11\\rangle\\}$"
   ]
  },
  {
   "cell_type": "markdown",
   "metadata": {
    "cell_details": {
     "cell_ID": "m15-WhichQubitBelongsToWhom",
     "cell_alternates": [],
     "cell_concepts": [
      "Quantum Protocols",
      "Qubit Ownership",
      "Joint Quantum System",
      "Subscripts",
      "Entity Control"
     ],
     "cell_estimated_time": "1",
     "cell_interactive": "false",
     "cell_outcomes": [
      "Understand how to represent joint quantum systems with qubits controlled by different entities",
      "Learn the notation and methods for keeping track of qubit ownership in multi-qubit systems",
      "Grasp the concept of representing complex quantum systems involving multiple controllers"
     ],
     "cell_prereqs": [
      "m15-StateSpaceOfANQubitSystem"
     ],
     "cell_type": [
      "text"
     ],
     "module_outcomes": [
      "Master the representation of multi-qubit systems with differentiated qubit control",
      "Apply notation techniques to specify ownership and control in joint quantum systems",
      "Prepare for the exploration of quantum protocols and computing architectures involving distributed qubit control"
     ],
     "module_prereqs": [
      "Linear Algebra",
      "Quantum Mechanics Fundamentals"
     ],
     "module_title": [
      "Multi-qubit Systems"
     ]
    },
    "slideshow": {
     "slide_type": "slide"
    }
   },
   "source": [
    "## 15.5 Which Qubit belongs to whom?\n",
    "\n",
    "Often in quantum protocols different entities (Alice, Bob and Eve) control different qubits. Or two different processors may hold these qubits in a quantum computer. In order to represent the joint state of such a system while keeping track of which qubit belongs to which entity we often make use of subscripts or other mechanisms as discussed below.\n",
    "\n",
    "For example, if in a 3 qubit system, the first qubit is controlled by Alice and the last two qubits are controlled by Bob then we may write it like,\n",
    "\n",
    "1. $\\frac{\\sqrt{3}}{\\sqrt{5}}\\rvert0\\rangle\\rvert11\\rangle+\\frac{\\sqrt{2}}{\\sqrt{5}}\\rvert1\\rangle\\rvert01\\rangle$, or\n",
    "2. $\\frac{\\sqrt{3}}{\\sqrt{5}}\\rvert0\\rangle_A\\rvert00\\rangle_B+\\frac{\\sqrt{2}}{\\sqrt{5}}\\rvert1\\rangle_A\\rvert01\\rangle_B$"
   ]
  },
  {
   "cell_type": "markdown",
   "metadata": {
    "cell_details": {
     "cell_ID": "m15-VectorNotationForJointState",
     "cell_alternates": [],
     "cell_concepts": [
      "Vector Notation",
      "Joint State Representation",
      "Qubit Order",
      "Dirac Notation",
      "Quantum Computing"
     ],
     "cell_estimated_time": "1",
     "cell_interactive": "false",
     "cell_outcomes": [
      "Understand the challenges of using vector notation to represent joint states in multi-qubit systems",
      "Learn the importance of establishing a well-defined order for qubits in joint state representation",
      "Grasp the method of representing joint states without ambiguity in the absence of subscripts or grouping in vector notation"
     ],
     "cell_prereqs": [
      "m15-WhichQubitBelongsToWhom"
     ],
     "cell_type": [
      "text"
     ],
     "module_outcomes": [
      "Navigate the complexities of joint state representation in multi-qubit systems",
      "Apply structured approaches to describe the states of quantum systems comprising multiple qubits",
      "Prepare for advanced quantum computing and communication scenarios involving complex state representations"
     ],
     "module_prereqs": [
      "Linear Algebra",
      "Quantum Mechanics Fundamentals"
     ],
     "module_title": [
      "Multi-qubit Systems"
     ]
    },
    "slideshow": {
     "slide_type": "slide"
    }
   },
   "source": [
    "If one wanted to use the vector notation to represent the joint state, things may get ambiguous because there is no way to put subscripts on the vector notation or group the qubits into Dirac notations. As a result, the order to qubits need to be well established.\n",
    "\n",
    "For example, given qubits $\\frac{1}{\\sqrt{2}}(\\rvert0\\rangle+\\rvert1\\rangle)$ and $\\rvert1\\rangle$ may be written as joint state $\\frac{1}{\\sqrt{2}}(\\rvert0\\rangle+\\rvert1\\rangle)\\otimes\\rvert1\\rangle=\\frac{1}{\\sqrt{2}}\\rvert01\\rangle+\\frac{1}{\\sqrt{2}}\\rvert11\\rangle$\n",
    "\n",
    "In vector form, this is written as,\n",
    "\n",
    "$$\\begin{bmatrix}\n",
    "0\\\\\n",
    "\\frac{1}{\\sqrt{2}}\\\\\n",
    "0\\\\\n",
    "\\frac{1}{\\sqrt{2}}\n",
    "\\end{bmatrix}$$\n",
    "\n",
    "The vectors in the standard basis for the joint state are given by,\n",
    "$$\\left\\{\\begin{bmatrix}1\\\\0\\\\0\\\\0\\end{bmatrix},\n",
    "\\begin{bmatrix}0\\\\1\\\\0\\\\0\\end{bmatrix},\n",
    "\\begin{bmatrix}0\\\\0\\\\1\\\\0\\end{bmatrix},\n",
    "\\begin{bmatrix}0\\\\0\\\\0\\\\1\\end{bmatrix}\\right\\}$$"
   ]
  },
  {
   "cell_type": "markdown",
   "metadata": {
    "cell_details": {
     "cell_ID": "m15-JointStateVectorForm",
     "cell_alternates": [],
     "cell_concepts": [
      "Vector Form",
      "Joint State",
      "Standard Basis",
      "Quantum Systems",
      "State Representation"
     ],
     "cell_estimated_time": "1",
     "cell_interactive": "false",
     "cell_outcomes": [
      "Express the joint state of multiple qubits in vector form, using the standard basis for representation",
      "Understand the construction and significance of the standard basis vectors in representing joint quantum states",
      "Learn the methodological approach to structuring and interpreting vector representations of quantum systems"
     ],
     "cell_prereqs": [
      "m15-WhichQubitBelongsToWhom",
      "m15-VectorNotationForJointState"
     ],
     "cell_type": [
      "text"
     ],
     "module_outcomes": [
      "Master the techniques for expressing and analyzing joint states of multi-qubit systems in vector form",
      "Develop an in-depth understanding of the basis and dimensionality considerations in quantum state representations",
      "Prepare for advanced studies in quantum computing involving complex multi-qubit interactions and entanglement"
     ],
     "module_prereqs": [
      "Linear Algebra",
      "Quantum Mechanics Fundamentals"
     ],
     "module_title": [
      "Multi-qubit Systems"
     ]
    },
    "slideshow": {
     "slide_type": "slide"
    }
   },
   "source": [
    "Although standard basis is used most often, other bases exist. One example is the Bell basis denoted by $\\{\\rvert\\phi^+\\rangle, \\rvert\\phi^-\\rangle, \\rvert\\psi^+\\rangle, \\rvert\\psi^-\\rangle\\}$ where,\n",
    "\n",
    "$\\rvert\\phi^+\\rangle = \\frac{1}{\\sqrt{2}}(\\rvert00\\rangle+\\rvert11\\rangle)$\n",
    "\n",
    "$\\rvert\\phi^-\\rangle = \\frac{1}{\\sqrt{2}}(\\rvert00\\rangle-\\rvert11\\rangle)$\n",
    "\n",
    "$\\rvert\\psi^+\\rangle = \\frac{1}{\\sqrt{2}}(\\rvert01\\rangle+\\rvert10\\rangle)$\n",
    "\n",
    "$\\rvert\\psi^-\\rangle = \\frac{1}{\\sqrt{2}}(\\rvert01\\rangle-\\rvert10\\rangle)$"
   ]
  },
  {
   "cell_type": "markdown",
   "metadata": {
    "cell_details": {
     "cell_ID": "m15-GlobalPhaseMultiQubit",
     "cell_alternates": [],
     "cell_concepts": [
      "Global Phase",
      "Joint Quantum States",
      "Qubit Representation",
      "Quantum Mechanics"
     ],
     "cell_estimated_time": "1",
     "cell_interactive": "false",
     "cell_outcomes": [
      "Understand the concept of global phase in the context of joint quantum states",
      "Recognize that quantum states differing only in a global phase represent the same physical state",
      "Apply the principle of global phase equivalence to multi-qubit systems"
     ],
     "cell_prereqs": [
      "m11-GlobalAndRelativePhases"
     ],
     "cell_type": [
      "text"
     ],
     "module_outcomes": [
      "Comprehend the significance of global phase differences in the representation of quantum states",
      "Master the interpretation of quantum state equivalence in multi-qubit systems",
      "Prepare for advanced quantum mechanics concepts involving state representation and transformation"
     ],
     "module_prereqs": [
      "Linear Algebra",
      "Quantum Mechanics Fundamentals"
     ],
     "module_title": [
      "Multi-qubit Systems"
     ]
    },
    "slideshow": {
     "slide_type": "slide"
    }
   },
   "source": [
    "## 15.6 Global Phase\n",
    "\n",
    "Just as in the case of single qubits, joint quantum states that differ only in a global phase represent the same qubit.\n",
    "\n",
    "For example,\n",
    "\n",
    "$$\\rvert01\\rangle\\sim e^{i\\phi}\\rvert01\\rangle$$\n",
    "\n",
    "$$\\frac{1}{\\sqrt{2}}(\\rvert00\\rangle+\\rvert11\\rangle)\\sim e^{i\\phi}(\\frac{1}{\\sqrt{2}}\\rvert00\\rangle+\\frac{1}{\\sqrt{2}}\\rvert11\\rangle)$$"
   ]
  },
  {
   "cell_type": "markdown",
   "metadata": {
    "cell_details": {
     "cell_ID": "m15-quiz-15.1",
     "cell_alternates": [],
     "cell_concepts": [
      "Joint State Representation",
      "Ket Notation",
      "Vector Notation",
      "Bell Basis"
     ],
     "cell_estimated_time": "2",
     "cell_interactive": "false",
     "cell_outcomes": [
      "Represent given qubits in joint state using both Ket and vector notations",
      "Translate specified quantum states into the Bell basis representation",
      "Apply knowledge of quantum state notation and transformation in practical exercises"
     ],
     "cell_prereqs": [
      "m15-GlobalPhaseMultiQubit"
     ],
     "cell_type": [
      "text"
     ],
     "module_outcomes": [
      "Master the techniques for expressing joint states of qubits in both Ket and vector forms",
      "Understand and utilize the Bell basis for representing quantum states",
      "Enhance problem-solving skills in quantum state representation and basis transformation"
     ],
     "module_prereqs": [
      "Linear Algebra",
      "Quantum Mechanics Fundamentals",
      "Complex Numbers"
     ],
     "module_title": [
      "Multi-qubit Systems"
     ]
    },
    "slideshow": {
     "slide_type": "slide"
    }
   },
   "source": [
    "***\n",
    "***\n",
    "## Quiz 15.1 Self Assessment Quiz\n",
    "\n",
    "1. Write the joint state representation of the following qubits in both Ket and vector notations.\n",
    "\n",
    "    a. $\\rvert0\\rangle$ and $\\frac{1}{\\sqrt{2}}(\\rvert0\\rangle+\\rvert1\\rangle)$\n",
    "\n",
    "    b. $\\frac{1}{\\sqrt{2}}(\\rvert0\\rangle-\\rvert1\\rangle)$ and $\\frac{i}{3}\\rvert1\\rangle$\n",
    "\n",
    "    c. $\\frac{1}{\\sqrt{3}}\\rvert0\\rangle+\\frac{i\\sqrt{2}}{\\sqrt{3}}\\rvert1\\rangle$, $\\rvert0\\rangle$ and $\\frac{1}{\\sqrt{2}}(\\rvert0\\rangle+\\rvert1\\rangle)$\n",
    "\n",
    "    d. $\\frac{2}{\\sqrt{3}}\\rvert0\\rangle$, $-\\rvert1\\rangle$, and $\\rvert-\\rangle$\n",
    "\n",
    "    e. $-\\rvert0\\rangle$ and $\\rvert1\\rangle$\n",
    "\n",
    "2. Write the following states in terms of the Bell basis.\n",
    "\n",
    "    a. $\\rvert00\\rangle$\n",
    "    \n",
    "    b. $\\rvert+\\rangle\\rvert-\\rangle$\n",
    "    \n",
    "    c. $\\frac{1}{\\sqrt{3}}(\\rvert00\\rangle+\\rvert01\\rangle+\\rvert10\\rangle)$"
   ]
  },
  {
   "cell_type": "markdown",
   "metadata": {
    "cell_details": {
     "cell_ID": "m15-finalQuiz-information",
     "cell_alternates": [],
     "cell_concepts": [],
     "cell_estimated_time": "1",
     "cell_interactive": "false",
     "cell_outcomes": [
      "Know the information about the final Quiz of this module"
     ],
     "cell_prereqs": [],
     "cell_type": [
      "text"
     ],
     "module_outcomes": [
      "Master the techniques for expressing joint states of qubits in both Ket and vector forms",
      "Understand and utilize the Bell basis for representing quantum states",
      "Enhance problem-solving skills in quantum state representation and basis transformation"
     ],
     "module_prereqs": [
      "Linear Algebra",
      "Quantum Mechanics Fundamentals",
      "Complex Numbers"
     ],
     "module_title": [
      "Multi-qubit Systems"
     ]
    },
    "slideshow": {
     "slide_type": "slide"
    }
   },
   "source": [
    "### Final Quiz 15 is in a separate notebook with filename: finalquiz15.ipynb.\n",
    "\n",
    "Final quiz is intended to be completed and submitted to the instructor for grading. Solutions are available only to instructors upon request."
   ]
  },
  {
   "cell_type": "markdown",
   "metadata": {
    "slideshow": {
     "slide_type": "slide"
    }
   },
   "source": [
    "***\n",
    "***\n",
    "### End of nanomodule 15\n",
    "***\n",
    "***"
   ]
  }
 ],
 "metadata": {
  "celltoolbar": "Slideshow",
  "kernelspec": {
   "display_name": "Python 3 (ipykernel)",
   "language": "python",
   "name": "python3"
  },
  "language_info": {
   "codemirror_mode": {
    "name": "ipython",
    "version": 3
   },
   "file_extension": ".py",
   "mimetype": "text/x-python",
   "name": "python",
   "nbconvert_exporter": "python",
   "pygments_lexer": "ipython3",
   "version": "3.12.2"
  },
  "module_details": {
   "module_concepts": [],
   "module_outcomes": [
    "Students will represent the state of a multi-qubit system.",
    "Students will be able to construct the basis for a multi-qubit system."
   ],
   "module_outcomes_mapping": [
    [],
    []
   ],
   "module_prereqs": [
    "Linear Algebra",
    "Quantum Mechanics Fundamentals",
    "Single-Qubit Operations"
   ],
   "module_title": "Multi-qubit Systems"
  }
 },
 "nbformat": 4,
 "nbformat_minor": 4
}
