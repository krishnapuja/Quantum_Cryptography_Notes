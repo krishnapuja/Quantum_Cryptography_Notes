{
 "cells": [
  {
   "cell_type": "markdown",
   "metadata": {
    "cell_details": {
     "cell_ID": "m9-LearningOutcomes",
     "cell_alternates": [],
     "cell_concepts": [
      "Probabilistic Systems",
      "Probability Vectors",
      "Qubits",
      "Light Photons as Qubits",
      "Measurement"
     ],
     "cell_estimated_time": "1",
     "cell_interactive": "false",
     "cell_outcomes": [
      "Know the outcomes of learning probabilistic to quantum systems"
     ],
     "cell_prereqs": [],
     "cell_type": [
      "text"
     ],
     "module_outcomes": [
      "Understand probabilistic systems and the creation and manipulation of probability vectors",
      "Comprehend the concept of qubits and the variety of operations applicable to them",
      "Learn to model light photons as qubits and explore their basic properties in the context of measurement"
     ],
     "module_prereqs": [
      "Basic Probability",
      "Linear Algebra",
      "Introduction to Quantum Physics"
     ],
     "module_title": [
      "From Probabilistic Systems to Quantum Systems"
     ]
    },
    "editable": true,
    "slideshow": {
     "slide_type": "slide"
    },
    "tags": []
   },
   "source": [
    "# 9. From Probabilistic Systems to Quantum Systems \n",
    "\n",
    "### This lesson belongs to nanomodule 9 - unit 2\n",
    "\n",
    "\n",
    "<b>Learning Outcomes:</b>\n",
    "\n",
    "Upon completion of this lesson:\n",
    "\n",
    "9.1 Students will understand the notion of probabilistic systems.\n",
    "\n",
    "9.2 Students will be able to create probability vectors for probabilistic systems and apply simple operations on them.\n",
    "\n",
    "9.3 Students will understand the notion of qubits and types of operations that can be applied to them.\n",
    "\n",
    "9.4 Students will understand the notion of modeling light photons as qubits and determine some of their basic properties with respect to measurement."
   ]
  },
  {
   "cell_type": "markdown",
   "metadata": {
    "cell_details": {
     "cell_ID": "m9-ProbabilisticModel",
     "cell_alternates": [],
     "cell_concepts": [
      "Probabilistic Model",
      "Classical Probabilistic System",
      "Probability Vector",
      "Positional Notation",
      "States of a System"
     ],
     "cell_estimated_time": "1",
     "cell_interactive": "false",
     "cell_outcomes": [
      "Understand the basics of a classical probabilistic system",
      "Learn how to represent the state of a system with a probability vector",
      "Grasp the concept of positional notation in the context of probabilistic and quantum states"
     ],
     "cell_prereqs": [
      "m4-background"
     ],
     "cell_type": [
      "text"
     ],
     "module_outcomes": [
      "Gain foundational understanding of probabilistic systems before delving into quantum mechanics",
      "Learn to create and manipulate probability vectors",
      "Understand abstract notions like positional notation for a succinct representation of quantum states"
     ],
     "module_prereqs": [
      "Basic Probability",
      "Linear Algebra",
      "Introduction to Quantum Physics"
     ],
     "module_title": [
      "From Probabilistic Systems to Quantum Systems"
     ]
    },
    "editable": true,
    "slideshow": {
     "slide_type": "slide"
    },
    "tags": []
   },
   "source": [
    "## 9.1 A Probabilistic Model\n",
    "\n",
    "Since probability is at the heart of quantum mechanics, before diving into quantum mechanics it is helpful to first consider a classical probabilistic system. This is <b><i>not</i></b> to say that classical probabilistic systems are equivalent to quantum systems, but some analogies are helpful to start with.\n",
    "\n",
    "Consider a physical system, called $S$, with some finite (non-empty set $\\tau$) of possible states. For instance, $\\tau=\\{0, 1\\}$, when the system $S$ represents a classical bit. Now assume that, for some reason, we do not exactly know what state $S$ is going to be in at any given moment. However, we do know what state it may probably be in. In other words, we know that at time $t$, $S$ may be in state 0 with probability $\\frac{4}{5}$ and in state 1 with probability $\\frac{1}{5}$.\n",
    "\n",
    "It is common to represent this type of knowledge about state of $S$ with a <i>probability vector</i>, which is essentially a $2\\times1$ vector with non-negative real numbers that sum to 1. In the above example, the associated probability vector for $S$ is, \n",
    "\n",
    "$$v = \\begin{array}{c} \\mathbf{0}\\\\ \\mathbf{1}\\\\ \\end{array}\n",
    "\\begin{bmatrix}\\frac{4}{5}\\\\ \\frac{1}{5}\\end{bmatrix}$$\n",
    "\n",
    "Here the bold numbers outside the vector represents the entry that is indexed by bit 0 and bit 1.\n",
    "\n",
    "<b>An abstract notion:</b> This practice of using \"positional notation\" where depending on which row we put a (complex/real) number in, denotes an entirely new state, will be very useful and turnout to be a succinct way of representing a large number of quantum states."
   ]
  },
  {
   "cell_type": "markdown",
   "metadata": {
    "cell_details": {
     "cell_ID": "m9-LookingAtTheStateMeasurement",
     "cell_alternates": [],
     "cell_concepts": [
      "Measurement",
      "State Observation",
      "Probability Vector Update",
      "Knowledge Change Upon Observation"
     ],
     "cell_estimated_time": "1",
     "cell_interactive": "false",
     "cell_outcomes": [
      "Understand how observation (measurement) affects our knowledge of a system's state",
      "Learn how the probability vector changes upon measurement",
      "Realize that measurement leads to a definitive knowledge of the system's state"
     ],
     "cell_prereqs": [],
     "cell_type": [
      "text"
     ],
     "module_outcomes": [
      "Deepen understanding of probabilistic systems by incorporating the concept of measurement",
      "Grasp how observations directly influence the probabilistic model of a system",
      "Learn to adjust probability vectors based on measurement outcomes"
     ],
     "module_prereqs": [
      "Basic Probability",
      "Linear Algebra",
      "Introduction to Quantum Physics"
     ],
     "module_title": [
      "From Probabilistic Systems to Quantum Systems"
     ]
    },
    "slideshow": {
     "slide_type": "slide"
    }
   },
   "source": [
    "## 9.2 \"Looking at the state\" (Measurement)\n",
    "\n",
    "Of course, the uncertainity in the knowledge of state of $S$ only persists until we actually \"look\" at the system. Once we look at the system, we will know exactly what state the system is in. Therefore, looking at the state of $S$ changes our knowledge about its state. Consequently, if we look at the system described by vector $v$ and find that the system is in state 0, the description of our knowledge changes from $v$ to a new probability vector $w$:\n",
    "\n",
    "$$ v=\\begin{bmatrix}\\frac{4}{5}\\\\ \\frac{1}{5}\\end{bmatrix}\\rightarrow w=\\begin{bmatrix}1\\\\0\\end{bmatrix}$$\n",
    "\n",
    "Vector $w$ just represents the fact that we know that system $S$ is in state 0. If instead of 0, we see a 1, the vector would be $\\begin{bmatrix}0\\\\1\\end{bmatrix}$."
   ]
  },
  {
   "cell_type": "markdown",
   "metadata": {
    "cell_details": {
     "cell_ID": "m9-quiz-9.1",
     "cell_alternates": [
      "m9-quiz-9.1-interactive"
     ],
     "cell_concepts": [
      "Self Assessment",
      "Probability Vector",
      "State Observation",
      "Knowledge Representation"
     ],
     "cell_estimated_time": "1",
     "cell_interactive": "true",
     "cell_outcomes": [
      "Assess understanding of the representation of probabilistic systems with probability vectors",
      "Evaluate comprehension of how observation affects the probability vector representation",
      "Test ability to construct and modify probability vectors based on system states and observations"
     ],
     "cell_prereqs": [
      "m9-ProbabilisticModel",
      "m9-LookingAtTheStateMeasurement"
     ],
     "cell_type": [
      "text"
     ],
     "module_outcomes": [
      "Master the representation and manipulation of probabilistic systems via probability vectors",
      "Understand the impact of measurement on the knowledge state of a probabilistic system",
      "Apply concepts of probability vectors in scenarios involving observation and state changes"
     ],
     "module_prereqs": [
      "Basic Probability",
      "Linear Algebra",
      "Introduction to Quantum Physics"
     ],
     "module_title": [
      "From Probabilistic Systems to Quantum Systems"
     ]
    },
    "slideshow": {
     "slide_type": "slide"
    }
   },
   "source": [
    "## Quiz 9.1 (Self Assessment)\n",
    "\n",
    "<b>Fill in the blanks:</b>\n",
    "\n",
    "1. If a two state system has $\\frac{3}{4}$ probability of being in state 0 then we can represent this with a probability vector __________________.\n",
    "\n",
    "2. If I \"look\" at a two state system and find it in state 1, then my knowledge of the state of the system is given by ________________.\n",
    "\n",
    "3. Consider a system that can be in states 1, 2 and 3. We know that at time $t$ the system may be in state 1 with probability $\\frac{1}{4}$, in state 2 with probability $\\frac{1}{2}$ and in state 3 with probability $\\frac{1}{4}$. The probability vector representing our system can be written as ____________________________.\n",
    "\n",
    "4. If we \"look\" at a three state system and find it in state 2, then the probability vector representing our knowledge is given by __________________________________."
   ]
  },
  {
   "cell_type": "code",
   "execution_count": null,
   "metadata": {
    "cell_details": {
     "cell_ID": "m9-quiz-9.1-interactive",
     "cell_alternates": [
      "m9-quiz-9.1"
     ],
     "cell_concepts": [
      "Self Assessment",
      "Probability Vector",
      "State Observation",
      "Knowledge Representation"
     ],
     "cell_estimated_time": "1",
     "cell_interactive": "true",
     "cell_outcomes": [
      "Assess understanding of the representation of probabilistic systems with probability vectors",
      "Evaluate comprehension of how observation affects the probability vector representation",
      "Test ability to construct and modify probability vectors based on system states and observations"
     ],
     "cell_prereqs": [
      "m9-ProbabilisticModel",
      "m9-LookingAtTheStateMeasurement"
     ],
     "cell_type": [
      "text"
     ],
     "module_outcomes": [
      "Master the representation and manipulation of probabilistic systems via probability vectors",
      "Understand the impact of measurement on the knowledge state of a probabilistic system",
      "Apply concepts of probability vectors in scenarios involving observation and state changes"
     ],
     "module_prereqs": [
      "Basic Probability",
      "Linear Algebra",
      "Introduction to Quantum Physics"
     ],
     "module_title": [
      "From Probabilistic Systems to Quantum Systems"
     ]
    }
   },
   "outputs": [],
   "source": [
    "%run pyfiles/saquiz9_1  #This runs the file that has the quiz code\n",
    "createQuiz9_1()"
   ]
  },
  {
   "cell_type": "markdown",
   "metadata": {
    "cell_details": {
     "cell_ID": "m9-Operation",
     "cell_alternates": [],
     "cell_concepts": [
      "Operations on Probabilistic Systems",
      "NOT Operation",
      "Identity Operation",
      "Matrix Representation",
      "Matrix-Vector Multiplication",
      "Probabilistic Operations"
     ],
     "cell_estimated_time": "1",
     "cell_interactive": "false",
     "cell_outcomes": [
      "Understand the concept of performing operations on a probabilistic system",
      "Learn how operations like NOT and identity can be represented by matrices",
      "Comprehend the effect of matrix-vector multiplication on the state of the system",
      "Grasp the concept of probabilistic operations and their matrix representation"
     ],
     "cell_prereqs": [
      "m4-MatrixMultiplication",
      "m4-IdentityMatrix"
     ],
     "cell_type": [
      "text"
     ],
     "module_outcomes": [
      "Understand and apply operations on probabilistic systems",
      "Manipulate probability vectors using matrix operations",
      "Grasp the concept and application of probabilistic operations within the framework of linear algebra"
     ],
     "module_prereqs": [
      "Basic Probability",
      "Linear Algebra",
      "Introduction to Quantum Physics"
     ],
     "module_title": [
      "From Probabilistic Systems to Quantum Systems"
     ]
    },
    "slideshow": {
     "slide_type": "slide"
    }
   },
   "source": [
    "## 9.3 Operation\n",
    "\n",
    "Let's discuss what kind of operations can be performed on the system $S$. Our knowledge of the state of the system is given by the probability vector $v$. Since it's a two state system, we can perform the usual operations such as NOT or identity operations (which amounts to doing nothing). We will see that all pysically meaningful operations can be represented by a matrix and the effect of the operation can be determined by the matrix-vector multiplication. For instance, \n",
    "$$\n",
    "\\mbox{NOT} = \\begin{bmatrix}0&1\\\\1&0\\end{bmatrix}\\mbox{   and   I} = \\begin{bmatrix}1&0\\\\0&1\\end{bmatrix}\n",
    "$$\n",
    "represent the NOT and identity operations, respectively. Applying the NOT operation to $v=\\begin{bmatrix}\\frac{4}{5}\\\\ \\frac{1}{5}\\end{bmatrix}$ we get,\n",
    "$$\n",
    "w=\\mbox{NOT}\\cdot v= \\begin{bmatrix}0&1\\\\1&0\\end{bmatrix}\\cdot\\begin{bmatrix}\\frac{4}{5}\\\\ \\frac{1}{5}\\end{bmatrix} = \\begin{bmatrix}\\frac{1}{5}\\\\ \\frac{4}{5}\\end{bmatrix}\n",
    "$$\n",
    "\n",
    "This means that now the probabilities of finding the system in state 0 and state 1 are reversed. Remember, we still haven't looked at the system.\n",
    "\n",
    "Further, we can also perform a NOT operation with a probability of $\\frac{3}{4}$ and do nothing with probability $1-\\frac{3}{4}=\\frac{1}{4}$. This last probabilistic application of NOT can be represented by the following matrix.\n",
    "$$\n",
    "\\mbox{NOT}_{prob} = \\begin{bmatrix}\\frac{1}{4}& \\frac{3}{4}\\\\\\frac{3}{4}& \\frac{1}{4}\\end{bmatrix}\n",
    "$$\n"
   ]
  },
  {
   "cell_type": "markdown",
   "metadata": {
    "cell_details": {
     "cell_ID": "m9-FromClassicalToQuantum",
     "cell_alternates": [],
     "cell_concepts": [
      "Quantum Systems",
      "State Representation",
      "Complex Numbers",
      "Quantum State Vectors",
      "Interference"
     ],
     "cell_estimated_time": "1",
     "cell_interactive": "false",
     "cell_outcomes": [
      "Understand the transition from classical to quantum state representations",
      "Learn the distinctions between classical and quantum systems, particularly the use of complex numbers in quantum states",
      "Grasp the concept of quantum states and how their probabilities are determined by the modulus squared of the vector elements",
      "Comprehend the phenomenon of interference in quantum mechanics"
     ],
     "cell_prereqs": [
      "m9-ProbabilisticModel",
      "m9-Operation"
     ],
     "cell_type": [
      "text"
     ],
     "module_outcomes": [
      "Deepen understanding of quantum mechanics fundamentals, focusing on quantum state representation",
      "Differentiate between classical probabilistic and quantum system representations",
      "Understand the role of complex numbers in quantum mechanics and the principle of interference"
     ],
     "module_prereqs": [
      "Basic Probability",
      "Linear Algebra",
      "Introduction to Quantum Physics",
      "Complex Numbers"
     ],
     "module_title": [
      "From Probabilistic Systems to Quantum Systems"
     ]
    },
    "slideshow": {
     "slide_type": "slide"
    }
   },
   "source": [
    "## 9.4 From Classical to Quantum\n",
    "\n",
    "So far we've seen that the state of classical systems can be described using probability vectors, where the elements are real numbers in $[0,1]$. \n",
    "\n",
    "We'll see that quantum systems are also represented using vectors such as these but with three major differences:\n",
    "\n",
    "1. The vectors are no longer just representing our \"knowledge\" of the state of the system, they <u>are</u> the system-state themselves.\n",
    "\n",
    "2. The elements of the vector are no longer restricted to real numbers. They are complex numbers.\n",
    "\n",
    "3. The elements of the vector representing the quantum states no longer add to 1 but their modulus squared does.\n",
    "\n",
    "Following are some examples of valid quantum states,\n",
    "$$\n",
    "\\begin{bmatrix}\\frac{i}{\\sqrt{2}}\\\\ \\frac{1}{\\sqrt{2}}\\end{bmatrix},\n",
    "\\begin{bmatrix}\\frac{2}{\\sqrt{5}}\\\\ \\frac{1}{\\sqrt{5}}\\end{bmatrix},\n",
    "\\begin{bmatrix}1\\\\0\\end{bmatrix},\n",
    "\\begin{bmatrix}0\\\\1\\end{bmatrix},\n",
    "\\begin{bmatrix}\\frac{\\sqrt{3}}{2}\\\\ \\frac{i}{2}\\end{bmatrix}\n",
    "$$\n",
    "\n",
    "One of the reasons that complex numbers are used is that probabilities based on real numbers can only increase. However, experimental evidence shows that sometimes quantum states \"cancel\" out each other. This is called \"interference\"."
   ]
  },
  {
   "cell_type": "markdown",
   "metadata": {
    "cell_details": {
     "cell_ID": "m9-ProbabilitiesAndUnitaryMatrices",
     "cell_alternates": [],
     "cell_concepts": [
      "Quantum States",
      "Complex Numbers",
      "Unitary Matrices",
      "Modulus Squared",
      "Complex Conjugate Transpose"
     ],
     "cell_estimated_time": "1",
     "cell_interactive": "false",
     "cell_outcomes": [
      "Understand the role of complex numbers in quantum state vectors and the importance of their modulus squared summing to 1",
      "Learn what unitary matrices are and their properties",
      "Grasp how unitary matrices are used in quantum mechanics to preserve the probabilistic nature of quantum states"
     ],
     "cell_prereqs": [
      "m4-MatricesComplexVectorSpaces",
      "m7-UnitaryMatrices"
     ],
     "cell_type": [
      "text"
     ],
     "module_outcomes": [
      "Master the mathematical foundations necessary for understanding quantum states and operations",
      "Learn the criteria for and examples of unitary matrices within the context of quantum mechanics",
      "Apply the concept of unitary transformations to quantum state vectors"
     ],
     "module_prereqs": [
      "Basic Probability",
      "Linear Algebra",
      "Introduction to Quantum Physics",
      "Complex Numbers"
     ],
     "module_title": [
      "From Probabilistic Systems to Quantum Systems"
     ]
    },
    "editable": true,
    "slideshow": {
     "slide_type": "slide"
    },
    "tags": []
   },
   "source": [
    "## 9.5 Probabilities and Unitary Matrices\n",
    "\n",
    "Since our formulation for quantum states includes complex entries, it turns out that the condition it must satisfy is that the modulus squared of the entries add to 1. All the above examples satisfy this requirement.\n",
    "\n",
    "With this requirement, the transition matrices need to be unitary matrices that will preserve the property that sum of modulus squared of the entries in a state vector is 1. Remember that a unitary matrix is a matrix $U$ such that $U\\cdot \\overline{U}^T=I$, where $\\overline{U}^T$ is the complex conjugate transpose of $U$. It is common to write $\\overline{U}^T$ as $U^\\dagger$. Examples of unitary matrices include,\n",
    "\n",
    "$$\\begin{bmatrix}\n",
    "\\frac{1}{\\sqrt{2}}&\\frac{1}{\\sqrt{2}}&0\\\\\n",
    "\\frac{-i}{\\sqrt{2}}&\\frac{i}{\\sqrt{2}}&0\\\\\n",
    "0&0&i\n",
    "\\end{bmatrix},\n",
    "\\begin{bmatrix}\n",
    "0&-i\\\\\n",
    "i&0\n",
    "\\end{bmatrix}, \\mbox{ and }\n",
    "\\begin{bmatrix}\n",
    "1&0\\\\\n",
    "0&-1\n",
    "\\end{bmatrix}\n",
    "$$\n"
   ]
  },
  {
   "cell_type": "markdown",
   "metadata": {
    "cell_details": {
     "cell_ID": "m9-GoingForwardsAndBackwardsInTime",
     "cell_alternates": [],
     "cell_concepts": [
      "Quantum Systems",
      "Time Evolution",
      "Reversibility",
      "Unitary Matrices"
     ],
     "cell_estimated_time": "1",
     "cell_interactive": "false",
     "cell_outcomes": [
      "Understand the concept of time evolution in quantum systems",
      "Learn that quantum systems are reversible, and this property is facilitated by unitary matrices",
      "Grasp how specific matrices can represent transitions forward and backward in time within quantum mechanics"
     ],
     "cell_prereqs": [
      "m9-ProbabilitiesAndUnitaryMatrices"
     ],
     "cell_type": [
      "text"
     ],
     "module_outcomes": [
      "Comprehend the time-dependent behavior of quantum systems",
      "Understand the principle of reversibility in quantum mechanics and its mathematical representation",
      "Apply the concept of unitary transformations to model quantum states over time"
     ],
     "module_prereqs": [
      "Basic Probability",
      "Linear Algebra",
      "Introduction to Quantum Physics",
      "Complex Numbers"
     ],
     "module_title": [
      "From Probabilistic Systems to Quantum Systems"
     ]
    },
    "slideshow": {
     "slide_type": "slide"
    }
   },
   "source": [
    "## 9.6 Going forwards and backwards in time\n",
    "\n",
    "If we consider $U$ to be the matrix that changes the state of the system from time $t$ to $t+1$, then $U^\\dagger$ takes it from $t$ to $t-1$. This makes quantum systems reversible."
   ]
  },
  {
   "cell_type": "markdown",
   "metadata": {
    "cell_details": {
     "cell_ID": "m9-quiz-9.2",
     "cell_alternates": [
      "m9-quiz-9.2-interactive"
     ],
     "cell_concepts": [
      "Quantum System State Vectors",
      "Quantum Operators",
      "Quantum System Reversibility"
     ],
     "cell_estimated_time": "1",
     "cell_interactive": "false",
     "cell_outcomes": [
      "Identify the nature of elements in vectors representing quantum system states",
      "Determine the types of matrices that serve as valid operators for quantum systems",
      "Explain the reversibility of quantum systems and the reasoning behind it"
     ],
     "cell_prereqs": [
      "m9-ProbabilitiesAndUnitaryMatrices",
      "m9-GoingForwardsAndBackwardsInTime"
     ],
     "cell_type": [
      "text"
     ],
     "module_outcomes": [
      "Deepen understanding of the representation and manipulation of quantum systems",
      "Clarify the role and properties of matrices in quantum operations",
      "Reinforce the concept of time reversibility in quantum mechanics"
     ],
     "module_prereqs": [
      "Basic Probability",
      "Linear Algebra",
      "Introduction to Quantum Physics",
      "Complex Numbers"
     ],
     "module_title": [
      "From Probabilistic Systems to Quantum Systems"
     ]
    },
    "slideshow": {
     "slide_type": "slide"
    }
   },
   "source": [
    "## Quiz 9.2 (Self Assessment)\n",
    "\n",
    "1. When quantum system states are represented using vectors, what are the elements of such a vector: complex numbers, real numbers or integers?\n",
    "\n",
    "2. What type of matrices are valid operators for a quantum system?\n",
    "\n",
    "3. Are quantum systems reversible? Why?"
   ]
  },
  {
   "cell_type": "code",
   "execution_count": null,
   "metadata": {
    "cell_details": {
     "cell_ID": "m9-quiz-9.2-interactive",
     "cell_alternates": [
      "m9-quiz-9.2"
     ],
     "cell_concepts": [
      "Quantum System State Vectors",
      "Quantum Operators",
      "Quantum System Reversibility"
     ],
     "cell_estimated_time": "1",
     "cell_interactive": "true",
     "cell_outcomes": [
      "Identify the nature of elements in vectors representing quantum system states",
      "Determine the types of matrices that serve as valid operators for quantum systems",
      "Explain the reversibility of quantum systems and the reasoning behind it"
     ],
     "cell_prereqs": [
      "m9-ProbabilitiesAndUnitaryMatrices",
      "m9-GoingForwardsAndBackwardsInTime"
     ],
     "cell_type": [
      "text"
     ],
     "module_outcomes": [
      "Deepen understanding of the representation and manipulation of quantum systems",
      "Clarify the role and properties of matrices in quantum operations",
      "Reinforce the concept of time reversibility in quantum mechanics"
     ],
     "module_prereqs": [
      "Basic Probability",
      "Linear Algebra",
      "Introduction to Quantum Physics",
      "Complex Numbers"
     ],
     "module_title": [
      "From Probabilistic Systems to Quantum Systems"
     ]
    }
   },
   "outputs": [],
   "source": [
    "%run pyfiles/saquiz9_2  #This runs the file that has the quiz code\n",
    "createQuiz9_2()"
   ]
  },
  {
   "cell_type": "markdown",
   "metadata": {
    "cell_details": {
     "cell_ID": "m9-PolarizedPhotonExperiment",
     "cell_alternates": [],
     "cell_concepts": [
      "Quantum Mechanics",
      "Polarized Photons",
      "Quantum Cryptography",
      "Qubit",
      "Quantum Measurement",
      "Experimental Setup"
     ],
     "cell_estimated_time": "5",
     "cell_interactive": "false",
     "cell_outcomes": [
      "Understand the quantum mechanical properties of photons",
      "Learn how polarized photons contribute to quantum cryptography",
      "Gain hands-on experience through a simple experiment illustrating the concept of a qubit",
      "Comprehend the principles of quantum measurement through observation of polarized light"
     ],
     "cell_prereqs": [],
     "cell_type": [
      "text"
     ],
     "module_outcomes": [
      "Explore the practical demonstration of quantum mechanical principles using polarized photons",
      "Understand the construction and implications of qubits for quantum computing and cryptography",
      "Examine the effects of quantum measurement in an accessible and educational setup"
     ],
     "module_prereqs": [
      "Basic Probability",
      "Linear Algebra",
      "Introduction to Quantum Physics",
      "Optics Fundamentals"
     ],
     "module_title": [
      "From Probabilistic Systems to Quantum Systems"
     ]
    }
   },
   "source": [
    "## 9.7 The Classroom Experiment: A Polarized Photon\n",
    "\n",
    "Photons exhibit quantum mechanical properties and enable most of quantum cryptography protocols and algorithms. Experiments with polarized photons can be done with ease, and low cost using a light source (say a laser pointer or a computer monitor screen) and three sheets of linearly polarizing filters (easily available on ebay/Amazon). This simple experiment directly leads to a formulation of the concept of a qubit and illustrates many interesting properties of quantum measurement. \n",
    "\n",
    "The experimental set up: Assuming you are using a laser pointer, shine the laser pointer at a screen and take a note of its intensity. Now place one of the polarizing filter sheets between the laser pointer and the screen as shown in figure 1. Assuming that the filter is vertically polarized as shown in the figure. You will see a dip in light intensity on the screen. This is because the polarizing filter filters out most of the photons and only allows the photons that are vertically polarized through it. Therefore, the photons that are hitting the screen are now vertically polarized. We will call the light intensity on the screen at this stage as bright.\n",
    "\n",
    "![nanomod9-fig1.png](images/nanomod9-fig1.png)\n",
    "\n",
    "<b>Figure 1.</b> Illustrates a unpolarized source of photons, a vertically polarizing filter and a screen. When the unpolarized photons hit the filter, only vertically polarized photons are allowed through and other polarizations are blocked. We consider the screen to be bright at this point.\n"
   ]
  },
  {
   "cell_type": "markdown",
   "metadata": {
    "cell_details": {
     "cell_ID": "m9-SecondFilterExperiment",
     "cell_alternates": [],
     "cell_concepts": [
      "Polarizing Filters",
      "Photon Polarization",
      "Quantum Experiment",
      "Orthogonal Filters",
      "Light Intensity Observation"
     ],
     "cell_estimated_time": "4",
     "cell_interactive": "false",
     "cell_outcomes": [
      "Predict the effect of adding a second, orthogonal polarizing filter to the experimental setup",
      "Understand the behavior of polarized light when passing through orthogonal polarizing filters",
      "Learn about the properties of light and photon polarization in a quantum mechanical context"
     ],
     "cell_prereqs": [
      "m9-PolarizedPhotonExperiment"
     ],
     "cell_type": [
      "text"
     ],
     "module_outcomes": [
      "Deepen understanding of quantum mechanical properties through practical experiments",
      "Illustrate the principles of light polarization and filter orientation effects",
      "Engage in hands-on learning to explore the quantum mechanical behavior of photons"
     ],
     "module_prereqs": [
      "Basic Probability",
      "Linear Algebra",
      "Introduction to Quantum Physics",
      "Optics Fundamentals"
     ],
     "module_title": [
      "From Probabilistic Systems to Quantum Systems"
     ]
    },
    "slideshow": {
     "slide_type": "slide"
    }
   },
   "source": [
    "Now the fun starts! Place the second polarizing filter in front of the one that you just placed. However, make sure that this filter points horizontally. Therefore, the two polarizing filters are now orthogonal to each other. What do you think will happen to the amount of light you see on the screen?\n",
    "\n",
    "![nanomod9-fig2.png](images/nanomod9-fig2.png)\n",
    "\n",
    "<b>Figure 2.</b> Illustrates the effect of placing a second filter (horizontally polarized) between the first filter and the screen. The screen now goes dark because only vertically polarized photons hit the second filter and being orthogonal to the filter are not allowed through."
   ]
  },
  {
   "cell_type": "markdown",
   "metadata": {
    "cell_details": {
     "cell_ID": "m9-ThirdFilterExperiment",
     "cell_alternates": [],
     "cell_concepts": [
      "Three-Filter Experiment",
      "Photon Polarization",
      "Light Intensity",
      "Quantum Mechanical Principles",
      "Experimental Observations"
     ],
     "cell_estimated_time": "3",
     "cell_interactive": "false",
     "cell_outcomes": [
      "Understand the outcome of adding a third filter in between two orthogonal polarizing filters and its impact on light intensity",
      "Explore the concept of photon polarization from a new perspective involving multiple filters",
      "Hypothesize about different scenarios regarding the third filter's orientation and predict the experimental outcomes"
     ],
     "cell_prereqs": [
      "m9-PolarizedPhotonExperiment",
      "m9-SecondFilterExperiment"
     ],
     "cell_type": [
      "text"
     ],
     "module_outcomes": [
      "Experimentally observe and analyze the quantum behavior of photons through a multi-filter setup",
      "Enhance comprehension of the quantum mechanical properties of light and its manipulation",
      "Engage critically with quantum phenomena and the counterintuitive outcomes of such experiments"
     ],
     "module_prereqs": [
      "Basic Probability",
      "Linear Algebra",
      "Introduction to Quantum Physics",
      "Optics Fundamentals"
     ],
     "module_title": [
      "From Probabilistic Systems to Quantum Systems"
     ]
    },
    "slideshow": {
     "slide_type": "slide"
    }
   },
   "source": [
    "You should expect to see absolutely no light come through at all now. This is because after the first filter the only photons that are coming through are vertically polarized. When the vertically polarized photons hit the filter that is aligned horizontally, all the photons are blocked! Hence no light reaches the screen.\n",
    "\n",
    "Now consider the third filter placed between the first and second filters as shown in figure 3. We’ve deliberately not drawn an arrow on the filter yet (for the direction of polarization).\n",
    "\n",
    "![nanomod9-fig3.png](images/nanomod9-fig3.png)\n",
    "\n",
    "<b>Figure 3.</b> Now we place a third filter between the vertically and horizontally polarized filter. We haven't chosen an angle of polarization for this new filter yet. Think of the different scenarios and their effect on the brightness of the screen."
   ]
  },
  {
   "cell_type": "markdown",
   "metadata": {
    "cell_details": {
     "cell_ID": "m9-FilterOrientationExperiment",
     "cell_alternates": [],
     "cell_concepts": [
      "Filter Orientation",
      "Photon Polarization",
      "Light Intensity",
      "Angle Dependence",
      "Quantum Experimentation"
     ],
     "cell_estimated_time": "5",
     "cell_interactive": "false",
     "cell_outcomes": [
      "Predict the effect of the third filter's orientation on the light intensity observed on the screen",
      "Understand the phenomenon that allows light to pass through when a third filter is introduced at an angle",
      "Learn about the dependency of light intensity on the angle of the third filter with respect to the first two"
     ],
     "cell_prereqs": [
      "m9-PolarizedPhotonExperiment",
      "m9-SecondFilterExperiment",
      "m9-ThirdFilterExperiment"
     ],
     "cell_type": [
      "text"
     ],
     "module_outcomes": [
      "Deepen experimental and theoretical understanding of photon polarization and its manipulation",
      "Explore the effects of polarization angle on photon behavior through hands-on experimentation",
      "Engage with quantum mechanical principles to explain counterintuitive experimental outcomes"
     ],
     "module_prereqs": [
      "Basic Probability",
      "Linear Algebra",
      "Introduction to Quantum Physics",
      "Optics Fundamentals"
     ],
     "module_title": [
      "From Probabilistic Systems to Quantum Systems"
     ]
    },
    "slideshow": {
     "slide_type": "slide"
    }
   },
   "source": [
    "Think about the following scenarios.\n",
    "\n",
    "1.\tFilter three is pointing upwards (aligned with filter 1).\n",
    "2.\tFilter three is pointing horizontally (aligned with filter 2).\n",
    "3.\tFilter three is off axis at some angle $\\theta$ with respect to the horizontal.\n",
    "\n",
    "Can you estimate how much light should you see on the screen for each of these cases?\n",
    "\n",
    "It is easy to see that when the third filter is aligned vertically or horizontally no light reaches the screen. However, it comes as a surprise that as we start rotating the third filter light starts to reach the screen! In fact, the spot on the screen keeps getting brighter and brighter until a certain angle $\\theta$ and then starts to reduce again. This is shown in figure 4.\n",
    "\n",
    "![nanomod9-fig4.png](images/nanomod9-fig4.png)\n",
    "\n",
    "<b>Figure 4.</b> This figure illustrates the effect of assuming the new filter being polarized at $45^\\circ$. For exaggerated effect we've shown the number of polarized photons reduce exactly by half at each step. Note that the photons emerging take on the polarization angle of the filter they just passed through. All previous polarization information is lost!"
   ]
  },
  {
   "cell_type": "markdown",
   "metadata": {
    "cell_details": {
     "cell_ID": "m9-quiz-9.3",
     "cell_alternates": [
      "m9-quiz-9.3-interactive"
     ],
     "cell_concepts": [
      "Middle Filter Polarization",
      "Optimal Polarization Angle",
      "Light Brightness"
     ],
     "cell_estimated_time": "4",
     "cell_interactive": "false",
     "cell_outcomes": [
      "Determine the optimal angle for the middle filter to achieve maximum screen brightness",
      "Calculate the angle for the middle filter that results in the screen being about half as bright"
     ],
     "cell_prereqs": [
      "m9-PolarizedPhotonExperiment",
      "m9-SecondFilterExperiment",
      "m9-ThirdFilterExperiment",
      "m9-FilterOrientationExperiment"
     ],
     "cell_type": [
      "text"
     ],
     "module_outcomes": [
      "Apply understanding of photon polarization and filter orientation to solve practical problems",
      "Analyze and solve for specific conditions within experimental setups",
      "Reinforce the concept of quantum mechanical behavior in light through self-assessment"
     ],
     "module_prereqs": [
      "Basic Probability",
      "Linear Algebra",
      "Introduction to Quantum Physics",
      "Optics Fundamentals"
     ],
     "module_title": [
      "From Probabilistic Systems to Quantum Systems"
     ]
    },
    "slideshow": {
     "slide_type": "slide"
    }
   },
   "source": [
    "## Quiz 9.3 (Self Assessment)\n",
    "What angle should the middle filter be polarized at so that the screen is:\n",
    "\n",
    "1. The brightest.\n",
    "2. About $\\frac{1}{3}$ bright."
   ]
  },
  {
   "cell_type": "code",
   "execution_count": null,
   "metadata": {
    "cell_details": {
     "cell_ID": "m9-quiz-9.3-interactive",
     "cell_alternates": [
      "m9-quiz-9.3"
     ],
     "cell_concepts": [
      "Middle Filter Polarization",
      "Optimal Polarization Angle",
      "Light Brightness"
     ],
     "cell_estimated_time": "10",
     "cell_interactive": "true",
     "cell_outcomes": [
      "Determine the optimal angle for the middle filter to achieve maximum screen brightness",
      "Calculate the angle for the middle filter that results in the screen being about half as bright"
     ],
     "cell_prereqs": [
      "m9-PolarizedPhotonExperiment",
      "m9-SecondFilterExperiment",
      "m9-ThirdFilterExperiment",
      "m9-FilterOrientationExperiment"
     ],
     "cell_type": [
      "text"
     ],
     "module_outcomes": [
      "Apply understanding of photon polarization and filter orientation to solve practical problems",
      "Analyze and solve for specific conditions within experimental setups",
      "Reinforce the concept of quantum mechanical behavior in light through self-assessment"
     ],
     "module_prereqs": [
      "Basic Probability",
      "Linear Algebra",
      "Introduction to Quantum Physics",
      "Optics Fundamentals"
     ],
     "module_title": [
      "From Probabilistic Systems to Quantum Systems"
     ]
    }
   },
   "outputs": [],
   "source": [
    "%run pyfiles/saquiz9_3  #This runs the file that has the quiz code\n",
    "createQuiz9_3()"
   ]
  },
  {
   "cell_type": "markdown",
   "metadata": {
    "cell_details": {
     "cell_ID": "m9-QuantumTheoryAtWork",
     "cell_alternates": [],
     "cell_concepts": [
      "Quantum Theory",
      "Photon Polarization",
      "Unit Vector",
      "Basis States",
      "Linear Combination",
      "Probability Amplitudes",
      "Superposition",
      "Quantum Measurement"
     ],
     "cell_estimated_time": "7",
     "cell_interactive": "false",
     "cell_outcomes": [
      "Understand the modeling of photon polarization states using unit vectors",
      "Learn how to represent arbitrary polarization states as linear combinations of basis states",
      "Grasp the concept of probability amplitudes and their role in determining the outcome of quantum measurements",
      "Explore the principle of superposition in the context of photon polarization"
     ],
     "cell_prereqs": [
      "m3-polarRepresentation"
     ],
     "cell_type": [
      "text"
     ],
     "module_outcomes": [
      "Apply quantum theory to understand and predict the behavior of photon polarization",
      "Analyze and compute the effects of quantum measurements on photon states",
      "Explore the foundational concepts of quantum mechanics such as superposition and probability amplitudes"
     ],
     "module_prereqs": [
      "Basic Probability",
      "Linear Algebra",
      "Introduction to Quantum Physics",
      "Complex Numbers"
     ],
     "module_title": [
      "From Probabilistic Systems to Quantum Systems"
     ]
    },
    "editable": true,
    "slideshow": {
     "slide_type": "slide"
    },
    "tags": []
   },
   "source": [
    "## 9.8 Quantum Theory at Work\n",
    "\n",
    "The photon’s polarization state can be modelled using a unit vector and the direction in which the vector is pointed represents the polarization. We can conveniently write the vertical and horizontal polarizations using the notations: $\\left|\\uparrow\\right>$ and $\\left|\\rightarrow\\right>$, respectively. These are show in figure 5. \n",
    "\n",
    "![nanomod9-fig5.png](images/nanomod9-fig5.png)\n",
    "\n",
    "<b>Figure 5.</b> This figure models the qubit (photon) in a two dimensional vector space. This modeling will be every useful throughout the course of our study.\n",
    "\n",
    "Now we can see that any other arbitrary polarization can be represented using a linear combination of these two basis states as follows: $\\left|\\phi\\right>=\\alpha\\left|\\uparrow\\right>+\\beta\\left|\\rightarrow\\right>$. Further, we can see that $\\alpha=cos\\theta$ and $\\beta=sin\\theta$ for our purposes. Therefore, it is straightforward to compute the “quantum mechanical” representation of a photon polarized at $\\theta$ degrees; other than $0^\\circ$ (horizontal) and $90^\\circ$ (verticle).\n",
    "\n",
    "The coefficients $\\alpha$ and $\\beta$ are called the probability amplitudes or just amplitudes. The reason is that when a photon $\\left|\\phi\\right>$ encounters, say, a horizontally polarizing filter then the probability that it will be transmitted is equal to $\\left|\\alpha\\right|^2$. Similarly, when the photon encounters a vertically polarizing filter, then the probability that it will be transmitted is given by $\\left|\\beta\\right|^2$. We take the modulus squared of the numbers here because in general the qubit can have complex amplitudes, but probabilities have to be positive. No one know why nature has chosen things to be this way but this is how they are!\n",
    "\n",
    "You can read Scott Aaronson’s interesting theory behind why things are the way they are on his blog: https://www.scottaaronson.com/democritus/lec9.html\n",
    "\n",
    "When $\\alpha$ and $\\beta$ are both non-zero we say that the photon is in the state of a <b><i>superposition</i></b>. And after measurement, the photon if it passes through takes on the new polarization irrespective of its previous state."
   ]
  },
  {
   "cell_type": "markdown",
   "metadata": {
    "cell_details": {
     "cell_ID": "m9-LightIntensityAndTransmissionProbability",
     "cell_alternates": [],
     "cell_concepts": [
      "Light Intensity",
      "Transmission Probability",
      "Photon Polarization",
      "Polarizing Filter Axis",
      "Quantum Probability"
     ],
     "cell_estimated_time": "1",
     "cell_interactive": "false",
     "cell_outcomes": [
      "Understand the relationship between the angle of photon polarization and the transmission probability through a polarizing filter",
      "Learn how transmission probability is affected by the photon's alignment with the filter's polarization axis",
      "Recognize the probabilistic nature of photon transmission and how it relates to quantum mechanics"
     ],
     "cell_prereqs": [
      "m9-QuantumTheoryAtWork"
     ],
     "cell_type": [
      "text"
     ],
     "module_outcomes": [
      "Comprehend how polarization angles affect light transmission probabilities",
      "Apply quantum mechanical principles to predict the behavior of photons in polarizing filters",
      "Analyze the probabilistic system of photon transmission through experimental observation"
     ],
     "module_prereqs": [
      "Basic Probability",
      "Linear Algebra",
      "Introduction to Quantum Physics",
      "Optics Fundamentals"
     ],
     "module_title": [
      "From Probabilistic Systems to Quantum Systems"
     ]
    },
    "slideshow": {
     "slide_type": "slide"
    }
   },
   "source": [
    "Going back to the light intensities on the screen. We see that the probability that a photon gets transmitted is given by the modulus squared of the angle it makes with the axis of the polarizing filter. It is easy to see that the transmission probability is maximized when the angle that incoming photon makes with the filter's axis of polarization is $45^\\circ$. At this angle, half the photons get transmitted and half get blocked. Therefore, figure 4 reduces the number of transmitted photons by half after every filter. Although, in real life it is a probabilistic system and never quite so exact!\n"
   ]
  },
  {
   "cell_type": "markdown",
   "metadata": {
    "cell_details": {
     "cell_ID": "m9-Conclusions",
     "cell_alternates": [],
     "cell_concepts": [
      "Quantum Mechanics",
      "Feynman Lectures",
      "Double Slit Experiment",
      "Qubit Model",
      "Open-Ended Discussion"
     ],
     "cell_estimated_time": "1",
     "cell_interactive": "false",
     "cell_outcomes": [
      "Reflect on the parallels between the double slit experiment and the three polarizing filters experiment",
      "Evaluate the constructed qubit model in comparison to Feynman's explanations",
      "Discuss the completeness and potential modifications needed for the qubit model to faithfully represent quantum systems"
     ],
     "cell_prereqs": [],
     "cell_type": [
      "text"
     ],
     "module_outcomes": [
      "Enhance understanding of quantum mechanics through comparison of experimental setups",
      "Deepen critical thinking on the representation and modeling of quantum systems",
      "Engage with foundational quantum physics texts to augment learning and comprehension"
     ],
     "module_prereqs": [
      "Basic Probability",
      "Linear Algebra",
      "Introduction to Quantum Physics",
      "Optics Fundamentals"
     ],
     "module_title": [
      "From Probabilistic Systems to Quantum Systems"
     ]
    },
    "slideshow": {
     "slide_type": "slide"
    }
   },
   "source": [
    "## 9.9 Conclusions\n",
    "\n",
    "Open-ended discussion: The legendary Richard Feynman gave some amazing lectures on the topic of quantum mechanics at Caltech in 1960s. These lectures have been made available for free by Caltech at the following link: http://www.feynmanlectures.caltech.edu/.\n",
    "\n",
    "Read Chapter 1: http://www.feynmanlectures.caltech.edu/III_01.html on double slit experiment.\n",
    "\n",
    "Draw parallels between the double slit experiment and the experiment we just discussed involving three filters. What observations can you make about the model of qubit that we constructed as compared to the one that Feynman constructs? Does our model need any modifications to faithfully represent a general qubit or is it \"complete\"?"
   ]
  }
 ],
 "metadata": {
  "celltoolbar": "Slideshow",
  "kernelspec": {
   "display_name": "Python 3 (ipykernel)",
   "language": "python",
   "name": "python3"
  },
  "language_info": {
   "codemirror_mode": {
    "name": "ipython",
    "version": 3
   },
   "file_extension": ".py",
   "mimetype": "text/x-python",
   "name": "python",
   "nbconvert_exporter": "python",
   "pygments_lexer": "ipython3",
   "version": "3.12.2"
  },
  "module_details": {
   "module_concepts": [],
   "module_outcomes": [
    "Students will understand the notion of probabilistic systems.",
    "Students will be able to create probability vectors for probabilistic systems and apply simple operations on them.",
    "Students will understand the notion of qubits and types of operations that can be applied to them.",
    "Student will understand about the Polarized Photon from a Classroom Experiment",
    "Students will understand the notion of modeling light photons as qubits and determine some of their basic properties with respect to measurement."
   ],
   "module_outcomes_mapping": [
    [
     "m9-ProbabilisticModel"
    ],
    [
     "m9-LookingAtTheStateMeasurement",
     "m9-quiz-9.1",
     "m9-quiz-9.1-interactive",
     "m9-Operation"
    ],
    [
     "m9-FromClassicalToQuantum",
     "m9-ProbabilitiesAndUnitaryMatrices",
     "m9-GoingForwardsAndBackwardsInTime",
     "m9-quiz-9.2",
     "m9-quiz-9.2-interactive"
    ],
    [
     "m9-PolarizedPhotonExperiment",
     "m9-SecondFilterExperiment",
     "m9-ThirdFilterExperiment",
     "m9-FilterOrientationExperiment",
     "m9-quiz-9.3",
     "m9-quiz-9.3-interactive"
    ],
    [
     "m9-QuantumTheoryAtWork",
     "m9-LightIntensityAndTransmissionProbability",
     "m9-Conclusions"
    ]
   ],
   "module_prereqs": [
    "Basic Probability",
    "Linear Algebra",
    "Introduction to Quantum Physics"
   ],
   "module_title": "From Probabilistic Systems to Quantum Systems"
  }
 },
 "nbformat": 4,
 "nbformat_minor": 4
}
