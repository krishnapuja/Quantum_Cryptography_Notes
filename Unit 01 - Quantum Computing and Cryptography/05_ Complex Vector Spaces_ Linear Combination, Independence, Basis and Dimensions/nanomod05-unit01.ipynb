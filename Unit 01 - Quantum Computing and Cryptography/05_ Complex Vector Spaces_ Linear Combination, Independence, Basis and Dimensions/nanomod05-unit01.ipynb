{
 "cells": [
  {
   "cell_type": "markdown",
   "metadata": {
    "cell_details": {
     "cell_ID": "m5-LearningOutcomes",
     "cell_alternates": [],
     "cell_concepts": [
      "Learning Outcomes"
     ],
     "cell_estimated_time": "1",
     "cell_interactive": "false",
     "cell_outcomes": [
      "Understand and apply the concept of linear independence in complex vector spaces",
      "Understand and apply the concept of basis and dimension of a complex vector space"
     ],
     "cell_prereqs": [],
     "cell_title": "Learning Outcomes",
     "cell_type": [
      "text"
     ],
     "module_outcomes": [
      "Understand advanced concepts in complex vector spaces including linear combinations, independence, basis, and dimensions",
      "Develop the ability to analyze complex vector spaces in terms of these advanced concepts"
     ],
     "module_prereqs": [
      "Linear Algebra",
      "Complex Numbers",
      "Introduction to Programming",
      "Python Basics",
      "Complex Vector Spaces"
     ],
     "module_title": [
      "Complex Vector Spaces Linear Combination, Independence, Basis and Dimensions"
     ]
    },
    "editable": true,
    "slideshow": {
     "slide_type": "slide"
    },
    "tags": []
   },
   "source": [
    "# 5. Complex Vector Spaces: Linear Combination, Independence, Basis and Dimensions\n",
    "\n",
    "### This lesson belongs to nanomodule 5 - unit 1\n",
    "\n",
    "\n",
    "<b>Learning Outcomes: </b>\n",
    "\n",
    "Upon completion of this lesson:\n",
    "\n",
    "5.1\tStudents will understand and apply the concept of linear independence.\n",
    "\n",
    "5.2\tStudents will understand and apply the concept of basis and dimension of a complex vector space.\n",
    "\n",
    "5.3 Students will understand and the apply the concept of transisition Matrices.\n"
   ]
  },
  {
   "cell_type": "markdown",
   "metadata": {
    "cell_details": {
     "cell_ID": "m5-LinearDependenceIndependence",
     "cell_alternates": [],
     "cell_concepts": [
      "Linear Dependence and Independence"
     ],
     "cell_estimated_time": "3",
     "cell_interactive": "false",
     "cell_outcomes": [
      "Understand the concepts of linear combination and linear independence in complex vector spaces",
      "Apply these concepts to analyze the structure of complex vector spaces"
     ],
     "cell_prereqs": [
      "m4-ComplexVectorSpaces"
     ],
     "cell_title": "Linear Dependence and Independence",
     "cell_type": [
      "text"
     ],
     "module_outcomes": [
      "Understand advanced concepts in complex vector spaces including linear combinations, independence, basis, and dimensions",
      "Develop the ability to analyze complex vector spaces in terms of these advanced concepts"
     ],
     "module_prereqs": [
      "Linear Algebra",
      "Complex Numbers",
      "Introduction to Programming",
      "Python Basics",
      "Complex Vector Spaces"
     ],
     "module_title": [
      "Complex Vector Spaces: Linear Combination, Independence, Basis and Dimensions"
     ]
    },
    "editable": true,
    "slideshow": {
     "slide_type": "slide"
    },
    "tags": []
   },
   "source": [
    "## 5.1 Linear Dependence and Independence\n",
    "\n",
    "<b>Linear Combination:</b> Given a complex vector space $\\mathbb{V}$, a vector $V$ is said to be a <b>linear combination</b> of the vectors $V_0, V_1, \\ldots, V_{n-1}$ if it can be written as,\n",
    "\n",
    "$$V=c_0\\cdot V_0+c_1\\cdot V_1+\\ldots+c_{n-1}\\cdot V_{n-1}$$\n",
    "\n",
    "for some complex coefficients $c_0, c_1,\\ldots, c_{n-1}$ in $\\mathbb{C}$.\n",
    "\n",
    "<b>Linear Independence:</b> Given a complex vector space $\\mathbb{V}$, a set of vectors $\\{V_0, V_1,\\ldots, V_{n-1}\\}$ are said to be <b>linearly independent</b> if the only way a linear combinations of these vectors results in $\\textbf{0}$ if all the coefficients are set to zero. \n",
    "\n",
    "That is, $c_0\\cdot V_0+c_1\\cdot V_1+\\ldots+c_{n-1}\\cdot V_{n-1}= \\mathbf{0}$ if and only if $c_0=c_1=\\ldots=c_{n-1}=0$."
   ]
  },
  {
   "cell_type": "markdown",
   "metadata": {
    "cell_details": {
     "cell_ID": "m5-ExamplesLinearDependenceIndependence",
     "cell_alternates": [],
     "cell_concepts": [
      "Linear Dependence and Independence"
     ],
     "cell_estimated_time": "3",
     "cell_interactive": "false",
     "cell_outcomes": [
      "Identify examples of linearly dependent and independent sets of vectors",
      "Apply criteria to determine linear dependence and independence"
     ],
     "cell_prereqs": [
      "m5-LinearDependenceIndependence"
     ],
     "cell_title": "Examples of Linear Dependence and Independence",
     "cell_type": [
      "text"
     ],
     "module_outcomes": [
      "Understand advanced concepts in complex vector spaces including linear combinations, independence, basis, and dimensions",
      "Develop the ability to analyze complex vector spaces in terms of these advanced concepts"
     ],
     "module_prereqs": [
      "Linear Algebra",
      "Complex Numbers",
      "Introduction to Programming",
      "Python Basics",
      "Complex Vector Spaces"
     ],
     "module_title": [
      "Complex Vector Spaces: Linear Combination, Independence, Basis and Dimensions"
     ]
    },
    "editable": true,
    "jp-MarkdownHeadingCollapsed": true,
    "slideshow": {
     "slide_type": "slide"
    },
    "tags": []
   },
   "source": [
    "## 5.2 Examples of Linear Dependence and Independence\n",
    "\n",
    "<b>Example 1:</b> The set of vectors $$\\left\\{\\begin{bmatrix}1\\\\1\\\\1\\end{bmatrix},\\begin{bmatrix}0\\\\1\\\\1\\end{bmatrix},\\begin{bmatrix}0\\\\0\\\\1\\end{bmatrix}\\right\\}$$\n",
    "is linearly independent but set of vectors\n",
    "$$\\left\\{\\begin{bmatrix}1\\\\1\\\\1\\end{bmatrix},\\begin{bmatrix}1\\\\1\\\\0\\end{bmatrix},\\begin{bmatrix}2\\\\2\\\\1\\end{bmatrix}\\right\\}$$\n",
    "is not linearly independent.\n",
    "\n",
    "It is left to the reader as an exercise to figure out how to determine if a set of vectors is linearly independent or not."
   ]
  },
  {
   "cell_type": "markdown",
   "metadata": {
    "cell_details": {
     "cell_ID": "m5-Quiz-5.1",
     "cell_alternates": [
      "m5-Quiz-5.1-interactive"
     ],
     "cell_concepts": [
      "Linear Dependence and Independence"
     ],
     "cell_estimated_time": "20",
     "cell_interactive": "true",
     "cell_outcomes": [
      "Show that a given set of vectors is not linearly independent",
      "Apply the concept of linear independence to specific examples"
     ],
     "cell_prereqs": [
      "m5-LinearDependenceIndependence",
      "m5-ExamplesLinearDependenceIndependence"
     ],
     "cell_title": "Self Assessment Quiz 1",
     "cell_type": [
      "quiz"
     ],
     "module_outcomes": [
      "Understand advanced concepts in complex vector spaces including linear combinations, independence, basis, and dimensions",
      "Develop the ability to analyze complex vector spaces in terms of these advanced concepts"
     ],
     "module_prereqs": [
      "Linear Algebra",
      "Complex Numbers",
      "Introduction to Programming",
      "Python Basics",
      "Complex Vector Spaces"
     ],
     "module_title": [
      "Complex Vector Spaces: Linear Combination, Independence, Basis and Dimensions"
     ]
    },
    "editable": true,
    "slideshow": {
     "slide_type": "slide"
    },
    "tags": []
   },
   "source": [
    "## Quiz 5.1 Self Assessment Quiz\n",
    "<b>Maybe used for in-class hands-on practice.</b>\n",
    "\n",
    "Show that the following set of vectors is not linearly independent,\n",
    "\n",
    "1. $\\begin{bmatrix}1\\\\1\\\\0\\end{bmatrix}$, $\\begin{bmatrix}1\\\\2\\\\-1\\end{bmatrix}$, $\\begin{bmatrix}1\\\\0\\\\1\\end{bmatrix}$\n",
    "<br><br>\n",
    "\n",
    "2. $\\begin{bmatrix}2\\\\-1\\\\1\\end{bmatrix}$, $\\begin{bmatrix}3\\\\-4\\\\-2\\end{bmatrix}$, $\\begin{bmatrix}5\\\\-10\\\\-8\\end{bmatrix}$\n"
   ]
  },
  {
   "cell_type": "code",
   "execution_count": null,
   "metadata": {
    "cell_details": {
     "cell_ID": "m5-Quiz-5.1-interative",
     "cell_alternates": [
      "m5-Quiz-5.1"
     ],
     "cell_concepts": [
      "Linear Dependence and Independence"
     ],
     "cell_estimated_time": "20",
     "cell_interactive": "true",
     "cell_outcomes": [
      "Show that a given set of vectors is not linearly independent",
      "Apply the concept of linear independence to specific examples"
     ],
     "cell_prereqs": [
      "m5-LinearDependenceIndependence",
      "m5-ExamplesLinearDependenceIndependence"
     ],
     "cell_title": "Self Assessment Quiz 1 interactive",
     "cell_type": [
      "quiz"
     ],
     "module_outcomes": [
      "Understand advanced concepts in complex vector spaces including linear combinations, independence, basis, and dimensions",
      "Develop the ability to analyze complex vector spaces in terms of these advanced concepts"
     ],
     "module_prereqs": [
      "Linear Algebra",
      "Complex Numbers",
      "Introduction to Programming",
      "Python Basics",
      "Complex Vector Spaces"
     ],
     "module_title": [
      "Complex Vector Spaces: Linear Combination, Independence, Basis and Dimensions"
     ]
    },
    "editable": true,
    "slideshow": {
     "slide_type": "slide"
    },
    "tags": []
   },
   "outputs": [],
   "source": [
    "%run pyfiles/saquiz5_1  #This runs the file that has the quiz code\n",
    "createQuiz5_1()"
   ]
  },
  {
   "cell_type": "markdown",
   "metadata": {
    "cell_details": {
     "cell_ID": "m5-Basis",
     "cell_alternates": [],
     "cell_concepts": [
      "Basis and Dimension"
     ],
     "cell_estimated_time": "3",
     "cell_interactive": "false",
     "cell_outcomes": [
      "Understand the concept of a basis in complex vector spaces",
      "Identify examples of basis sets, including orthonormal bases"
     ],
     "cell_prereqs": [
      "m5-LinearDependenceIndependence",
      "m5-ExamplesLinearDependenceIndependence"
     ],
     "cell_title": "Basis",
     "cell_type": [
      "text"
     ],
     "module_outcomes": [
      "Understand advanced concepts in complex vector spaces including linear combinations, independence, basis, and dimensions",
      "Develop the ability to analyze complex vector spaces in terms of these advanced concepts"
     ],
     "module_prereqs": [
      "Linear Algebra",
      "Complex Numbers",
      "Introduction to Programming",
      "Python Basics",
      "Complex Vector Spaces"
     ],
     "module_title": [
      "Complex Vector Spaces: Linear Combination, Independence, Basis and Dimensions"
     ]
    },
    "editable": true,
    "slideshow": {
     "slide_type": "slide"
    },
    "tags": []
   },
   "source": [
    "## 5.3 Basis\n",
    "\n",
    "<b>Definition:</b> A set of linearly independent vectors $B=\\{V_0, V_1, \\ldots,V_{n-1}\\}$ is called a <b>basis</b> of a complex vector space $\\mathbb{V}$ if every element in the vector space can be written as a linear combination of the vectors in the basis set $B$.\n",
    "\n",
    "For example,\n",
    "$$\\left\\{\\begin{bmatrix}1\\\\1\\\\1\\end{bmatrix},\\begin{bmatrix}0\\\\1\\\\1\\end{bmatrix},\\begin{bmatrix}0\\\\0\\\\1\\end{bmatrix}\\right\\}, \\mbox{ and }\n",
    "\\left\\{\\begin{bmatrix}1\\\\0\\\\0\\end{bmatrix},\\begin{bmatrix}0\\\\1\\\\0\\end{bmatrix},\\begin{bmatrix}0\\\\0\\\\1\\end{bmatrix}\\right\\}$$\n",
    "are two examples of a basis set for $\\mathbb{C}^3$.\n",
    "\n",
    "As seen above, basis for a given complex vector space is not unique. However, while there are many bases for a given complex vector space we will mostly work with orthonormal bases. That is, bases whose elements are of length 1 and are orthogonal to each other. In the examples above the second set is an orthonormal basis set."
   ]
  },
  {
   "cell_type": "markdown",
   "metadata": {
    "cell_details": {
     "cell_ID": "m5-Dimension",
     "cell_alternates": [],
     "cell_concepts": [
      "Basis and Dimension"
     ],
     "cell_estimated_time": "2",
     "cell_interactive": "false",
     "cell_outcomes": [
      "Understand the concept of the dimension of a complex vector space",
      "Relate the dimension to the number of vectors in a basis set"
     ],
     "cell_prereqs": [
      "m5-Basis"
     ],
     "cell_title": "Dimension",
     "cell_type": [
      "text"
     ],
     "module_outcomes": [
      "Understand advanced concepts in complex vector spaces including linear combinations, independence, basis, and dimensions",
      "Develop the ability to analyze complex vector spaces in terms of these advanced concepts"
     ],
     "module_prereqs": [
      "Linear Algebra",
      "Complex Numbers",
      "Introduction to Programming",
      "Python Basics",
      "Complex Vector Spaces"
     ],
     "module_title": [
      "Complex Vector Spaces: Linear Combination, Independence, Basis and Dimensions"
     ]
    },
    "editable": true,
    "slideshow": {
     "slide_type": "slide"
    },
    "tags": []
   },
   "source": [
    "## 5.4 Dimension\n",
    "\n",
    "<b>Definition:</b> The <b>dimension</b> of a complex vector space is the number of vectors in a basis of the vector space.\n",
    "\n",
    "For example, a complex vector space given by $\\mathbb{C}^n$ has dimension $n$ and $mn$ is the dimension of complex vector space given by $\\mathbb{C}^{m\\times n}$. This also implies that all the basis sets for a given complex vector space have the same number of vectors in them."
   ]
  },
  {
   "cell_type": "markdown",
   "metadata": {
    "cell_details": {
     "cell_ID": "m5-Quiz-5.2",
     "cell_alternates": [
      "m5-Quiz-5.2-interactive"
     ],
     "cell_concepts": [
      "Basis and Dimension"
     ],
     "cell_estimated_time": "3",
     "cell_interactive": "true",
     "cell_outcomes": [
      "Verify that given sets are basis for ℂ2"
     ],
     "cell_prereqs": [
      "m5-Basis",
      "m5-Dimension"
     ],
     "cell_title": "Self Assessment Quiz 2",
     "cell_type": [
      "quiz"
     ],
     "module_outcomes": [
      "Understand advanced concepts in complex vector spaces including linear combinations, independence, basis, and dimensions",
      "Develop the ability to analyze complex vector spaces in terms of these advanced concepts"
     ],
     "module_prereqs": [
      "Linear Algebra",
      "Complex Numbers",
      "Introduction to Programming",
      "Python Basics",
      "Complex Vector Spaces"
     ],
     "module_title": [
      "Complex Vector Spaces: Linear Combination, Independence, Basis and Dimensions"
     ]
    },
    "editable": true,
    "slideshow": {
     "slide_type": "slide"
    },
    "tags": []
   },
   "source": [
    "## Quiz 5.2 Self Assessment Quiz\n",
    "<b>Maybe used for in-class hands-on practice.</b>\n",
    "\n",
    "1. Verify that the following are basis for $\\mathbb{C}^2$\n",
    "\n",
    "    a. $B_1$ = $\\left\\{\\begin{bmatrix}1\\\\0\\end{bmatrix}, \\begin{bmatrix}0\\\\1\\end{bmatrix}\\right\\}$\n",
    "<br><br>\n",
    "    b. $B_2$ = $\\left\\{\\begin{bmatrix}1\\\\1\\end{bmatrix}, \\begin{bmatrix}1\\\\-1\\end{bmatrix}\\right\\}$\n",
    "<br><br>\n"
   ]
  },
  {
   "cell_type": "code",
   "execution_count": null,
   "metadata": {
    "cell_details": {
     "cell_ID": "m5-Quiz-5.2-interactive",
     "cell_alternates": [
      "m5-Quiz-5.2"
     ],
     "cell_concepts": [
      "Basis and Dimensions"
     ],
     "cell_estimated_time": "5",
     "cell_interactive": "true",
     "cell_outcomes": [
      "Verify that given sets are basis for ℂ2"
     ],
     "cell_prereqs": [
      "m5-Basis"
     ],
     "cell_title": "Self Assessment Quiz 2 interactive",
     "cell_type": [
      "quiz"
     ],
     "module_outcomes": [
      "Understand advanced concepts in complex vector spaces including linear combinations, independence, basis, and dimensions",
      "Develop the ability to analyze complex vector spaces in terms of these advanced concepts"
     ],
     "module_prereqs": [
      "Linear Algebra",
      "Complex Numbers",
      "Introduction to Programming",
      "Python Basics",
      "Complex Vector Spaces"
     ],
     "module_title": [
      "Complex Vector Spaces: Linear Combination, Independence, Basis and Dimensions"
     ]
    },
    "editable": true,
    "slideshow": {
     "slide_type": "slide"
    },
    "tags": []
   },
   "outputs": [],
   "source": [
    "%run pyfiles/saquiz5_2  #This runs the file that has the quiz code\n",
    "createQuiz5_2()"
   ]
  },
  {
   "cell_type": "markdown",
   "metadata": {
    "cell_details": {
     "cell_ID": "m5-TransitionMatrices",
     "cell_alternates": [],
     "cell_concepts": [
      "Transition Matrices"
     ],
     "cell_estimated_time": "5",
     "cell_interactive": "false",
     "cell_outcomes": [
      "Understand the concept of transition matrices and their application in changing basis of vectors",
      "Identify the role of Hadamard matrix in quantum computing for basis conversion"
     ],
     "cell_prereqs": [
      "m4-MatrixMultiplication",
      "m5-Basis",
      "m5-Dimension",
      "m5-Quiz-5.2",
      "m5-Quiz-5.2-interactive"
     ],
     "cell_title": "Transition Matrices",
     "cell_type": [
      "text"
     ],
     "module_outcomes": [
      "Understand advanced concepts in complex vector spaces including linear combinations, independence, basis, and dimensions",
      "Develop the ability to analyze complex vector spaces in terms of these advanced concepts",
      "Learn the application of transition matrices in the context of quantum computing"
     ],
     "module_prereqs": [
      "Linear Algebra",
      "Complex Numbers",
      "Introduction to Programming",
      "Python Basics",
      "Complex Vector Spaces"
     ],
     "module_title": [
      "Complex Vector Spaces: Linear Combination, Independence, Basis and Dimensions"
     ]
    },
    "editable": true,
    "slideshow": {
     "slide_type": "slide"
    },
    "tags": []
   },
   "source": [
    "## 5.5 Transition Matrices\n",
    "\n",
    "A transition matrix allows us to change the basis of a vector. For example, if a complex vector space has two bases $B$ and $B'$ then we can write a vector $V$ with respect to both the bases. However, the two representations would differ in coefficients. The transition matrix helps us convert between these coefficients.\n",
    "\n",
    "<b>Example: </b>\n",
    "Consider the two bases for $\\mathbb{C}^2$,\n",
    "$$B=\\left\\{\\begin{bmatrix} 1\\\\0 \\end{bmatrix}, \\begin{bmatrix} 0\\\\1 \\end{bmatrix}\\right\\} \\mbox{ and }\n",
    "B'=\\left\\{\\frac{1}{\\sqrt{2}}\\begin{bmatrix} 1\\\\1 \\end{bmatrix}, \\frac{1}{\\sqrt{2}}\\begin{bmatrix} 1\\\\-1 \\end{bmatrix}\\right\\}$$\n",
    "\n",
    "A vector $\\begin{bmatrix}\\frac{1}{2}\\\\\\frac{\\sqrt{3}i}{2}\\end{bmatrix}$ can be written with respect to basis $B$ as $\\frac{1}{2}\\begin{bmatrix}1\\\\0\\end{bmatrix}+\\frac{\\sqrt{3}i}{2}\\begin{bmatrix}0\\\\1\\end{bmatrix}$.\n",
    "\n",
    "The representation, however, of the same vector with respect to basis $B'$ is given by\n",
    "$\\frac{1+\\sqrt{3}i}{2\\sqrt{2}}\\cdot\\frac{1}{\\sqrt{2}}\\begin{bmatrix}1\\\\1\\end{bmatrix}+\\frac{1-\\sqrt{3}i}{2\\sqrt{2}}\\cdot\\frac{1}{\\sqrt{2}}\\begin{bmatrix}1\\\\-1\\end{bmatrix}$.\n",
    "\n",
    "The transition matrix, in the above example, that will allow for converting the coefficients with respect to one basis to another is the famous Hadamard matrix $H=\\frac{1}{\\sqrt{2}}\\begin{bmatrix}1&1\\\\1&-1\\end{bmatrix}$.\n",
    "\n",
    "Therefore, we can get the new coefficients with respect to basis $B'$ as follows,\n",
    "$$\\frac{1}{2\\sqrt{2}}\\begin{bmatrix}1+\\sqrt{3}i\\\\1-\\sqrt{3}i\\end{bmatrix}=\\frac{1}{\\sqrt{2}}\\begin{bmatrix}1&1\\\\1&-1\\end{bmatrix}\\cdot\\begin{bmatrix}\\frac{1}{2}\\\\ \\frac{\\sqrt{3}i}{2}\\end{bmatrix}$$\n",
    "\n",
    "Transition matrices are a way of getting coefficients with respect to a new basis given the coefficients with respect to another basis.\n",
    "\n",
    "Due to their frequency of occurrence and usefulness in quantum computing, the two bases discussed above have been given special names,\n",
    "\n",
    "1. Basis set $B$ is called rectilinear, standard or computational basis.\n",
    "\n",
    "2. Basis set $B'$ is called diagonal or Hadamard basis.\n",
    "\n",
    "It will turn out that sometimes calculations can be performed more efficiently in the diagonal basis and hence will use the Hadamard matrix to covert to this basis, perform the calculations, and then use the Hadamard basis again to covert back to our standard rectilinear basis. Note that the Hadamard transformation acts as an inverse of itself."
   ]
  },
  {
   "cell_type": "markdown",
   "metadata": {
    "cell_details": {
     "cell_ID": "m5-Quiz-5.3",
     "cell_alternates": [
      "m5-Quiz-5.3-interactive"
     ],
     "cell_concepts": [
      "Transition Matrices"
     ],
     "cell_estimated_time": "25",
     "cell_interactive": "true",
     "cell_outcomes": [
      "Represent vectors in the Hadamard basis",
      "Prove that the Hadamard matrix is its own inverse"
     ],
     "cell_prereqs": [
      "m5-TransitionMatrices"
     ],
     "cell_title": "Self Assessment Quiz 3",
     "cell_type": [
      "quiz"
     ],
     "module_outcomes": [
      "Understand advanced concepts in complex vector spaces including linear combinations, independence, basis, and dimensions",
      "Develop the ability to analyze complex vector spaces in terms of these advanced concepts",
      "Learn the application of transition matrices in the context of quantum computing"
     ],
     "module_prereqs": [
      "Linear Algebra",
      "Complex Numbers",
      "Introduction to Programming",
      "Python Basics",
      "Complex Vector Spaces"
     ],
     "module_title": [
      "Complex Vector Spaces: Linear Combination, Independence, Basis and Dimensions"
     ]
    },
    "editable": true,
    "slideshow": {
     "slide_type": "slide"
    },
    "tags": []
   },
   "source": [
    "## Quiz 5.3 Self Assessment Quiz\n",
    "<b>Maybe used for in-class hands-on practice.</b>\n",
    "\n",
    "1. Represent the following vectors with respect to Hadamard basis,\n",
    "\n",
    "    a. $\\begin{bmatrix}\\frac{\\sqrt{2}}{2}\\\\\\frac{\\sqrt{2}}{2}\\end{bmatrix}$\n",
    "\n",
    "    b. $\\begin{bmatrix}\\frac{i}{\\sqrt{3}}\\\\\\frac{\\sqrt{2}}{\\sqrt{3}}\\end{bmatrix}$\n",
    "<br><br>\n",
    "\n",
    "2. Prove that Hadamard matrix is its own inverse.\n"
   ]
  },
  {
   "cell_type": "code",
   "execution_count": null,
   "metadata": {
    "cell_details": {
     "cell_ID": "m5-Quiz-5.3-interactive",
     "cell_alternates": [
      "m5-Quiz-5.3"
     ],
     "cell_concepts": [
      "Transition Matrices"
     ],
     "cell_estimated_time": "25",
     "cell_interactive": "true",
     "cell_outcomes": [
      "Represent vectors in the Hadamard basis",
      "Prove that the Hadamard matrix is its own inverse"
     ],
     "cell_prereqs": [
      "m5-TransitionMatrices"
     ],
     "cell_title": "Self Assessment Quiz 3 interactive",
     "cell_type": [
      "quiz"
     ],
     "module_outcomes": [
      "Understand advanced concepts in complex vector spaces including linear combinations, independence, basis, and dimensions",
      "Develop the ability to analyze complex vector spaces in terms of these advanced concepts",
      "Learn the application of transition matrices in the context of quantum computing"
     ],
     "module_prereqs": [
      "Linear Algebra",
      "Complex Numbers",
      "Introduction to Programming",
      "Python Basics",
      "Complex Vector Spaces"
     ],
     "module_title": [
      "Complex Vector Spaces: Linear Combination, Independence, Basis and Dimensions"
     ]
    },
    "editable": true,
    "slideshow": {
     "slide_type": "slide"
    },
    "tags": []
   },
   "outputs": [],
   "source": [
    "%run pyfiles/saquiz5_3  #This runs the file that has the quiz code\n",
    "createQuiz5_3()"
   ]
  },
  {
   "cell_type": "markdown",
   "metadata": {
    "cell_details": {
     "cell_ID": "m5-Conclusions",
     "cell_alternates": [],
     "cell_concepts": [
      "Conclusions"
     ],
     "cell_estimated_time": "2",
     "cell_interactive": "false",
     "cell_outcomes": [
      "Summarize the concepts of linear dependence and independence, basis, dimension, and transition matrices in complex vector spaces",
      "Prepare for the upcoming lessons on inner product, norm, orthogonal vectors, and projections"
     ],
     "cell_prereqs": [],
     "cell_title": "Conclusions",
     "cell_type": [
      "text"
     ],
     "module_outcomes": [
      "Understand advanced concepts in complex vector spaces including linear combinations, independence, basis, and dimensions",
      "Develop the ability to analyze complex vector spaces in terms of these advanced concepts",
      "Learn the application of transition matrices in the context of quantum computing"
     ],
     "module_prereqs": [
      "Linear Algebra",
      "Complex Numbers",
      "Introduction to Programming",
      "Python Basics",
      "Complex Vector Spaces"
     ],
     "module_title": [
      "Complex Vector Spaces: Linear Combination, Independence, Basis and Dimensions"
     ]
    },
    "editable": true,
    "slideshow": {
     "slide_type": "slide"
    },
    "tags": []
   },
   "source": [
    "## 5.6 Conclusions\n",
    "\n",
    "In this lesson we learned about the notions of linear dependence and independence, basis and dimension of a complex vector spaces and transition matrices. In the next lesson we will learn a few more definitions and operations such as the inner product of vectors, norm of a vector, orthogonal vectors and projections."
   ]
  },
  {
   "cell_type": "markdown",
   "metadata": {
    "cell_details": {
     "cell_ID": "m5-finalQuiz-information",
     "cell_alternates": [],
     "cell_concepts": [],
     "cell_estimated_time": "1",
     "cell_interactive": "false",
     "cell_outcomes": [
      "Know the information about the final Quiz of this module"
     ],
     "cell_prereqs": [],
     "cell_title": "final Quiz 5",
     "cell_type": [
      "text"
     ],
     "module_outcomes": [
      "Understand advanced concepts in complex vector spaces including linear combinations, independence, basis, and dimensions",
      "Develop the ability to analyze complex vector spaces in terms of these advanced concepts",
      "Learn the application of transition matrices in the context of quantum computing"
     ],
     "module_prereqs": [
      "Linear Algebra",
      "Complex Numbers",
      "Introduction to Programming",
      "Python Basics",
      "Complex Vector Spaces"
     ],
     "module_title": [
      "Complex Vector Spaces: Linear Combination, Independence, Basis and Dimensions"
     ]
    },
    "editable": true,
    "slideshow": {
     "slide_type": "slide"
    },
    "tags": []
   },
   "source": [
    "#### Final Quiz 5  is in a separate notebook with filename: finalquiz5.ipynb.\n",
    "\n",
    "Final quiz is intended to be completed and submitted to the instructor for grading. Solutions to the final quiz are available to instructors upon request."
   ]
  }
 ],
 "metadata": {
  "celltoolbar": "Slideshow",
  "kernelspec": {
   "display_name": "Python 3 (ipykernel)",
   "language": "python",
   "name": "python3"
  },
  "language_info": {
   "codemirror_mode": {
    "name": "ipython",
    "version": 3
   },
   "file_extension": ".py",
   "mimetype": "text/x-python",
   "name": "python",
   "nbconvert_exporter": "python",
   "pygments_lexer": "ipython3",
   "version": "3.12.2"
  },
  "module_details": {
   "module_concepts": [
    "Linear Dependence and Independence",
    "Basis and Dimension",
    "Transition Matrices"
   ],
   "module_outcomes": [
    "Students will understand and apply the concept of linear independence.",
    "Students will understand and apply the concept of basis and dimension of a complex vector space.",
    "Students will understand and the apply the concept of transisition Matrices."
   ],
   "module_outcomes_mapping": [
    [
     "m5-LinearDependenceIndependence",
     "m5-ExamplesLinearDependenceIndependence",
     "m5-Quiz-5.1",
     "m5-Quiz-5.1-interactive"
    ],
    [
     "m5-Basis",
     "m5-Dimension",
     "m5-Quiz-5.2",
     "m5-Quiz-5.2-interactive"
    ],
    [
     "m5-TransitionMatrices",
     "m5-Quiz-5.3",
     "m5-Quiz-5.3-interactive"
    ]
   ],
   "module_prereqs": [
    "Linear Algebra",
    "Complex Numbers",
    "Introduction to Programming",
    "Python Basics",
    "Complex Vector Spaces"
   ],
   "module_title": [
    "Complex Vector Spaces: Linear Combination, Independence, Basis and Dimensions"
   ]
  }
 },
 "nbformat": 4,
 "nbformat_minor": 4
}
