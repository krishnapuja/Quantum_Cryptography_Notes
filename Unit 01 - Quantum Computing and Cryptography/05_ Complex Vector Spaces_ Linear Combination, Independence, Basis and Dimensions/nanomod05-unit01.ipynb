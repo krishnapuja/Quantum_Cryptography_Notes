{
 "cells": [
  {
   "cell_type": "markdown",
   "metadata": {
    "slideshow": {
     "slide_type": "slide"
    }
   },
   "source": [
    "# 5. Complex Vector Spaces: Linear Combination, Independence, Basis and Dimensions\n",
    "\n",
    "### This lesson belongs to nanomodule 5 - unit 1\n",
    "\n",
    "\n",
    "<b>Learning Outcomes: </b>\n",
    "\n",
    "Upon completion of this lesson:\n",
    "\n",
    "5.1\tStudents will understand and apply the concept of linear independence.\n",
    "\n",
    "5.2\tStudents will understand and apply the concept of basis and dimension of a complex vector space.\n"
   ]
  },
  {
   "cell_type": "markdown",
   "metadata": {
    "slideshow": {
     "slide_type": "slide"
    }
   },
   "source": [
    "## 5.1 Linear Dependence and Independence\n",
    "\n",
    "<b>Linear Combination:</b> Given a complex vector space $\\mathbb{V}$, a vector $V$ is said to be a <b>linear combination</b> of the vectors $V_0, V_1, \\ldots, V_{n-1}$ if it can be written as,\n",
    "\n",
    "$$V=c_0\\cdot V_0+c_1\\cdot V_1+\\ldots+c_{n-1}\\cdot V_{n-1}$$\n",
    "\n",
    "for some complex coefficients $c_0, c_1,\\ldots, c_{n-1}$ in $\\mathbb{C}$.\n",
    "\n",
    "<b>Linear Independence:</b> Given a complex vector space $\\mathbb{V}$, a set of vectors $\\{V_0, V_1,\\ldots, V_{n-1}\\}$ are said to be <b>linearly independent</b> if the only way a linear combinations of these vectors results in $\\textbf{0}$ if all the coefficients are set to zero. \n",
    "\n",
    "That is, $c_0\\cdot V_0+c_1\\cdot V_1+\\ldots+c_{n-1}\\cdot V_{n-1}= \\mathbf{0}$ if and only if $c_0=c_1=\\ldots=c_{n-1}=0$."
   ]
  },
  {
   "cell_type": "markdown",
   "metadata": {
    "slideshow": {
     "slide_type": "slide"
    }
   },
   "source": [
    "## 5.2 Examples of Linear Dependence and Independence\n",
    "\n",
    "<b>Example 1:</b> The set of vectors $$\\left\\{\\begin{bmatrix}1\\\\1\\\\1\\end{bmatrix},\\begin{bmatrix}0\\\\1\\\\1\\end{bmatrix},\\begin{bmatrix}0\\\\0\\\\1\\end{bmatrix}\\right\\}$$\n",
    "is linearly independent but set of vectors\n",
    "$$\\left\\{\\begin{bmatrix}1\\\\1\\\\1\\end{bmatrix},\\begin{bmatrix}1\\\\1\\\\0\\end{bmatrix},\\begin{bmatrix}2\\\\2\\\\1\\end{bmatrix}\\right\\}$$\n",
    "is not linearly independent.\n",
    "\n",
    "It is left to the reader as an exercise to figure out how to determine if a set of vectors is linearly independent or not."
   ]
  },
  {
   "cell_type": "markdown",
   "metadata": {
    "slideshow": {
     "slide_type": "slide"
    }
   },
   "source": [
    "## Quiz 5.1 Self Assessment Quiz\n",
    "<b>Maybe used for in-class hands-on practice.</b>\n",
    "\n",
    "Show that the following set of vectors is not linearly independent,\n",
    "\n",
    "1. $\\begin{bmatrix}1\\\\1\\\\0\\end{bmatrix}$, $\\begin{bmatrix}1\\\\2\\\\-1\\end{bmatrix}$, $\\begin{bmatrix}1\\\\0\\\\1\\end{bmatrix}$\n",
    "<br><br>\n",
    "\n",
    "2. $\\begin{bmatrix}2\\\\-1\\\\1\\end{bmatrix}$, $\\begin{bmatrix}3\\\\-4\\\\-2\\end{bmatrix}$, $\\begin{bmatrix}5\\\\-10\\\\-8\\end{bmatrix}$\n"
   ]
  },
  {
   "cell_type": "code",
   "execution_count": 1,
   "metadata": {
    "slideshow": {
     "slide_type": "slide"
    }
   },
   "outputs": [
    {
     "data": {
      "application/vnd.jupyter.widget-view+json": {
       "model_id": "9987efc1ca6b4758a20e0e328318f7e2",
       "version_major": 2,
       "version_minor": 0
      },
      "text/plain": [
       "VBox(children=(HTML(value='<b><font size=\"+2\">Quiz 5.1 Self Assessment Quiz'), HTML(value='<b><font size=\"-1\"<…"
      ]
     },
     "metadata": {},
     "output_type": "display_data"
    },
    {
     "data": {
      "application/vnd.jupyter.widget-view+json": {
       "model_id": "673f538a7c344b4791eb269a0c3b5d97",
       "version_major": 2,
       "version_minor": 0
      },
      "text/plain": [
       "HTMLMath(value='<font size=\"+1\">Show that the following set of vectors is not linearly independent,')"
      ]
     },
     "metadata": {},
     "output_type": "display_data"
    },
    {
     "data": {
      "application/vnd.jupyter.widget-view+json": {
       "model_id": "db362e5be0bf45ed88340385d190d42c",
       "version_major": 2,
       "version_minor": 0
      },
      "text/plain": [
       "HTMLMath(value='<font size=\"+0\">&emsp;1. $\\\\begin{bmatrix}1\\\\\\\\1\\\\\\\\0\\\\end{bmatrix}$, $\\\\begin{bmatrix}1\\\\\\\\2\\…"
      ]
     },
     "metadata": {},
     "output_type": "display_data"
    },
    {
     "data": {
      "application/vnd.jupyter.widget-view+json": {
       "model_id": "bb93231a8793412b9927fc06f72f62a3",
       "version_major": 2,
       "version_minor": 0
      },
      "text/plain": [
       "VBox(children=(VBox(children=(HBox(children=(HTML(value=' '), Label(value='')), layout=Layout(height='40px')),…"
      ]
     },
     "metadata": {},
     "output_type": "display_data"
    },
    {
     "data": {
      "application/vnd.jupyter.widget-view+json": {
       "model_id": "4cd17091d60f4a9688b360732cb04220",
       "version_major": 2,
       "version_minor": 0
      },
      "text/plain": [
       "HTMLMath(value='<font size=\"+0\">&emsp;2. $\\\\begin{bmatrix}2\\\\\\\\-1\\\\\\\\1\\\\end{bmatrix}$, $\\\\begin{bmatrix}3\\\\\\\\-…"
      ]
     },
     "metadata": {},
     "output_type": "display_data"
    },
    {
     "data": {
      "application/vnd.jupyter.widget-view+json": {
       "model_id": "b71082bde0a64663b60acc0e53523aa4",
       "version_major": 2,
       "version_minor": 0
      },
      "text/plain": [
       "VBox(children=(VBox(children=(HBox(children=(HTML(value=' '), Label(value='')), layout=Layout(height='40px')),…"
      ]
     },
     "metadata": {},
     "output_type": "display_data"
    }
   ],
   "source": [
    "%run pyfiles/saquiz5_1  #This runs the file that has the quiz code\n",
    "createQuiz5_1()"
   ]
  },
  {
   "cell_type": "markdown",
   "metadata": {
    "slideshow": {
     "slide_type": "slide"
    }
   },
   "source": [
    "## 5.3 Basis\n",
    "\n",
    "<b>Definition:</b> A set of linearly independent vectors $B=\\{V_0, V_1, \\ldots,V_{n-1}\\}$ is called a <b>basis</b> of a complex vector space $\\mathbb{V}$ if every element in the vector space can be written as a linear combination of the vectors in the basis set $B$.\n",
    "\n",
    "For example,\n",
    "$$\\left\\{\\begin{bmatrix}1\\\\1\\\\1\\end{bmatrix},\\begin{bmatrix}0\\\\1\\\\1\\end{bmatrix},\\begin{bmatrix}0\\\\0\\\\1\\end{bmatrix}\\right\\}, \\mbox{ and }\n",
    "\\left\\{\\begin{bmatrix}1\\\\0\\\\0\\end{bmatrix},\\begin{bmatrix}0\\\\1\\\\0\\end{bmatrix},\\begin{bmatrix}0\\\\0\\\\1\\end{bmatrix}\\right\\}$$\n",
    "are two examples of a basis set for $\\mathbb{C}^3$.\n",
    "\n",
    "As seen above, basis for a given complex vector space is not unique. However, while there are many bases for a given complex vector space we will mostly work with orthonormal bases. That is, bases whose elements are of length 1 and are orthogonal to each other. In the examples above the second set is an orthonormal basis set."
   ]
  },
  {
   "cell_type": "markdown",
   "metadata": {
    "slideshow": {
     "slide_type": "slide"
    }
   },
   "source": [
    "## 5.4 Dimension\n",
    "\n",
    "<b>Definition:</b> The <b>dimension</b> of a complex vector space is the number of vectors in a basis of the vector space.\n",
    "\n",
    "For example, a complex vector space given by $\\mathbb{C}^n$ has dimension $n$ and $mn$ is the dimension of complex vector space given by $\\mathbb{C}^{m\\times n}$. This also implies that all the basis sets for a given complex vector space have the same number of vectors in them."
   ]
  },
  {
   "cell_type": "markdown",
   "metadata": {
    "slideshow": {
     "slide_type": "slide"
    }
   },
   "source": [
    "## Quiz 5.2 Self Assessment Quiz\n",
    "<b>Maybe used for in-class hands-on practice.</b>\n",
    "\n",
    "1. Verify that the following are basis for $\\mathbb{C}^2$\n",
    "\n",
    "    a. $B_1$ = $\\left\\{\\begin{bmatrix}1\\\\0\\end{bmatrix}, \\begin{bmatrix}0\\\\1\\end{bmatrix}\\right\\}$\n",
    "<br><br>\n",
    "    b. $B_2$ = $\\left\\{\\begin{bmatrix}1\\\\1\\end{bmatrix}, \\begin{bmatrix}1\\\\-1\\end{bmatrix}\\right\\}$\n",
    "<br><br>\n"
   ]
  },
  {
   "cell_type": "code",
   "execution_count": 2,
   "metadata": {
    "slideshow": {
     "slide_type": "slide"
    }
   },
   "outputs": [
    {
     "data": {
      "application/vnd.jupyter.widget-view+json": {
       "model_id": "a99e1d55ff1d47ab8905ec8a1057005b",
       "version_major": 2,
       "version_minor": 0
      },
      "text/plain": [
       "VBox(children=(HTML(value='<b><font size=\"+2\">Quiz 5.2 Self Assessment Quiz'), HTML(value='<b><font size=\"-1\"<…"
      ]
     },
     "metadata": {},
     "output_type": "display_data"
    },
    {
     "data": {
      "application/vnd.jupyter.widget-view+json": {
       "model_id": "bab589871dda4482a4a25f9a4527d4b4",
       "version_major": 2,
       "version_minor": 0
      },
      "text/plain": [
       "HTMLMath(value='<font size=\"+1\"> Verify that the following are basis for $\\\\mathbb{C}^2$')"
      ]
     },
     "metadata": {},
     "output_type": "display_data"
    },
    {
     "data": {
      "application/vnd.jupyter.widget-view+json": {
       "model_id": "e0170c95b7e24ce08299111b056b105d",
       "version_major": 2,
       "version_minor": 0
      },
      "text/plain": [
       "HTMLMath(value='<font size=\"+0\">&emsp;a.&emsp; $B_1$ =&emsp; $\\\\left\\\\{\\\\begin{bmatrix}1\\\\\\\\0\\\\end{bmatrix}, \\…"
      ]
     },
     "metadata": {},
     "output_type": "display_data"
    },
    {
     "data": {
      "application/vnd.jupyter.widget-view+json": {
       "model_id": "e23cd9999e694662a69c58f4bd08b8da",
       "version_major": 2,
       "version_minor": 0
      },
      "text/plain": [
       "VBox(children=(VBox(children=(HBox(children=(HTML(value=' '), Label(value='')), layout=Layout(height='40px')),…"
      ]
     },
     "metadata": {},
     "output_type": "display_data"
    },
    {
     "data": {
      "application/vnd.jupyter.widget-view+json": {
       "model_id": "957ee483c7844777915e619a51cb1628",
       "version_major": 2,
       "version_minor": 0
      },
      "text/plain": [
       "HTMLMath(value='<font size=\"+0\">&emsp;b.&emsp; $B_2$ = &emsp;$\\\\left\\\\{\\\\begin{bmatrix}1\\\\\\\\1\\\\end{bmatrix}, \\…"
      ]
     },
     "metadata": {},
     "output_type": "display_data"
    },
    {
     "data": {
      "application/vnd.jupyter.widget-view+json": {
       "model_id": "6c4df2c4618146ce8cd52622297ce488",
       "version_major": 2,
       "version_minor": 0
      },
      "text/plain": [
       "VBox(children=(VBox(children=(HBox(children=(HTML(value=' '), Label(value='')), layout=Layout(height='40px')),…"
      ]
     },
     "metadata": {},
     "output_type": "display_data"
    }
   ],
   "source": [
    "%run pyfiles/saquiz5_2  #This runs the file that has the quiz code\n",
    "createQuiz5_2()"
   ]
  },
  {
   "cell_type": "markdown",
   "metadata": {
    "slideshow": {
     "slide_type": "slide"
    }
   },
   "source": [
    "## 5.5 Transition Matrices\n",
    "\n",
    "A transition matrix allows us to change the basis of a vector. For example, if a complex vector space has two bases $B$ and $B'$ then we can write a vector $V$ with respect to both the bases. However, the two representations would differ in coefficients. The transition matrix helps us convert between these coefficients.\n",
    "\n",
    "<b>Example: </b>\n",
    "Consider the two bases for $\\mathbb{C}^2$,\n",
    "$$B=\\left\\{\\begin{bmatrix} 1\\\\0 \\end{bmatrix}, \\begin{bmatrix} 0\\\\1 \\end{bmatrix}\\right\\} \\mbox{ and }\n",
    "B'=\\left\\{\\frac{1}{\\sqrt{2}}\\begin{bmatrix} 1\\\\1 \\end{bmatrix}, \\frac{1}{\\sqrt{2}}\\begin{bmatrix} 1\\\\-1 \\end{bmatrix}\\right\\}$$\n",
    "\n",
    "A vector $\\begin{bmatrix}\\frac{1}{2}\\\\\\frac{\\sqrt{3}i}{2}\\end{bmatrix}$ can be written with respect to basis $B$ as $\\frac{1}{2}\\begin{bmatrix}1\\\\0\\end{bmatrix}+\\frac{\\sqrt{3}i}{2}\\begin{bmatrix}0\\\\1\\end{bmatrix}$.\n",
    "\n",
    "The representation, however, of the same vector with respect to basis $B'$ is given by\n",
    "$\\frac{1+\\sqrt{3}i}{2\\sqrt{2}}\\cdot\\frac{1}{\\sqrt{2}}\\begin{bmatrix}1\\\\1\\end{bmatrix}+\\frac{1-\\sqrt{3}i}{2\\sqrt{2}}\\cdot\\frac{1}{\\sqrt{2}}\\begin{bmatrix}1\\\\-1\\end{bmatrix}$."
   ]
  },
  {
   "cell_type": "markdown",
   "metadata": {
    "slideshow": {
     "slide_type": "slide"
    }
   },
   "source": [
    "The transition matrix, in the above example, that will allow for converting the coefficients with respect to one basis to another is the famous Hadamard matrix $H=\\frac{1}{\\sqrt{2}}\\begin{bmatrix}1&1\\\\1&-1\\end{bmatrix}$.\n",
    "\n",
    "Therefore, we can get the new coefficients with respect to basis $B'$ as follows,\n",
    "$$\\frac{1}{2\\sqrt{2}}\\begin{bmatrix}1+\\sqrt{3}i\\\\1-\\sqrt{3}i\\end{bmatrix}=\\frac{1}{\\sqrt{2}}\\begin{bmatrix}1&1\\\\1&-1\\end{bmatrix}\\cdot\\begin{bmatrix}\\frac{1}{2}\\\\ \\frac{\\sqrt{3}i}{2}\\end{bmatrix}$$"
   ]
  },
  {
   "cell_type": "markdown",
   "metadata": {
    "slideshow": {
     "slide_type": "slide"
    }
   },
   "source": [
    "Transition matrices are a way of getting coefficients with respect to a new basis given the coefficients with respect to another basis.\n",
    "\n",
    "Due to their frequency of occurrence and usefulness in quantum computing, the two bases discussed above have been given special names,\n",
    "\n",
    "1. Basis set $B$ is called rectilinear, standard or computational basis.\n",
    "\n",
    "2. Basis set $B'$ is called diagonal or Hadamard basis.\n",
    "\n",
    "It will turn out that sometimes calculations can be performed more efficiently in the diagonal basis and hence will use the Hadamard matrix to covert to this basis, perform the calculations, and then use the Hadamard basis again to covert back to our standard rectilinear basis. Note that the Hadamard transformation acts as an inverse of itself.\n"
   ]
  },
  {
   "cell_type": "markdown",
   "metadata": {
    "slideshow": {
     "slide_type": "slide"
    }
   },
   "source": [
    "## Quiz 5.3 Self Assessment Quiz\n",
    "<b>Maybe used for in-class hands-on practice.</b>\n",
    "\n",
    "1. Represent the following vectors with respect to Hadamard basis,\n",
    "\n",
    "    a. $\\begin{bmatrix}\\frac{\\sqrt{2}}{2}\\\\\\frac{\\sqrt{2}}{2}\\end{bmatrix}$\n",
    "\n",
    "    b. $\\begin{bmatrix}\\frac{i}{\\sqrt{3}}\\\\\\frac{\\sqrt{2}}{\\sqrt{3}}\\end{bmatrix}$\n",
    "<br><br>\n",
    "\n",
    "2. Prove that Hadamard matrix is its own inverse.\n"
   ]
  },
  {
   "cell_type": "code",
   "execution_count": 3,
   "metadata": {
    "slideshow": {
     "slide_type": "slide"
    }
   },
   "outputs": [
    {
     "data": {
      "application/vnd.jupyter.widget-view+json": {
       "model_id": "5acf729091ed46bf85d92e37a214bdfe",
       "version_major": 2,
       "version_minor": 0
      },
      "text/plain": [
       "VBox(children=(HTML(value='<b><font size=\"+2\">Quiz 5.3 Self Assessment Quiz'), HTML(value='<b><font size=\"-1\"<…"
      ]
     },
     "metadata": {},
     "output_type": "display_data"
    },
    {
     "data": {
      "application/vnd.jupyter.widget-view+json": {
       "model_id": "87267a2cf1b6465298a317e5ee504a10",
       "version_major": 2,
       "version_minor": 0
      },
      "text/plain": [
       "HTMLMath(value='<font size=\"+1\">1. Represent the following vectors with respect to Hadamard basis,')"
      ]
     },
     "metadata": {},
     "output_type": "display_data"
    },
    {
     "data": {
      "application/vnd.jupyter.widget-view+json": {
       "model_id": "7ccd531f625b4be7a06d1dcbc244e735",
       "version_major": 2,
       "version_minor": 0
      },
      "text/plain": [
       "HTMLMath(value='<font size=\"+0\">&emsp;a. $\\\\begin{bmatrix}\\\\frac{\\\\sqrt{2}}{2}\\\\\\\\\\\\frac{\\\\sqrt{2}}{2}\\\\end{bm…"
      ]
     },
     "metadata": {},
     "output_type": "display_data"
    },
    {
     "data": {
      "application/vnd.jupyter.widget-view+json": {
       "model_id": "407a7cd888ae4f7497f224481c7104c4",
       "version_major": 2,
       "version_minor": 0
      },
      "text/plain": [
       "VBox(children=(VBox(children=(HBox(children=(HTML(value=' '), Label(value='')), layout=Layout(height='40px')),…"
      ]
     },
     "metadata": {},
     "output_type": "display_data"
    },
    {
     "data": {
      "application/vnd.jupyter.widget-view+json": {
       "model_id": "21a7ad5870b7453eb738995a05a3002b",
       "version_major": 2,
       "version_minor": 0
      },
      "text/plain": [
       "HTMLMath(value='<font size=\"+0\">&emsp;b. $\\\\begin{bmatrix}\\\\frac{i}{\\\\sqrt{3}}\\\\\\\\\\\\frac{\\\\sqrt{2}}{\\\\sqrt{3}}…"
      ]
     },
     "metadata": {},
     "output_type": "display_data"
    },
    {
     "data": {
      "application/vnd.jupyter.widget-view+json": {
       "model_id": "aa778fac753448af843e28ac23458f5d",
       "version_major": 2,
       "version_minor": 0
      },
      "text/plain": [
       "VBox(children=(VBox(children=(HBox(children=(HTML(value=' '), Label(value='')), layout=Layout(height='40px')),…"
      ]
     },
     "metadata": {},
     "output_type": "display_data"
    },
    {
     "data": {
      "application/vnd.jupyter.widget-view+json": {
       "model_id": "01793adaceb649cb8d05bc539a5a0467",
       "version_major": 2,
       "version_minor": 0
      },
      "text/plain": [
       "HTMLMath(value='<font size=\"+0\">&emsp;2. Prove that Hadamard matrix is its own inverse.')"
      ]
     },
     "metadata": {},
     "output_type": "display_data"
    },
    {
     "data": {
      "application/vnd.jupyter.widget-view+json": {
       "model_id": "a12b5f439d084a83beea65a2c76468ef",
       "version_major": 2,
       "version_minor": 0
      },
      "text/plain": [
       "VBox(children=(VBox(children=(HBox(children=(HTML(value=' '), Label(value='')), layout=Layout(height='40px')),…"
      ]
     },
     "metadata": {},
     "output_type": "display_data"
    }
   ],
   "source": [
    "%run pyfiles/saquiz5_3  #This runs the file that has the quiz code\n",
    "createQuiz5_3()"
   ]
  },
  {
   "cell_type": "markdown",
   "metadata": {
    "slideshow": {
     "slide_type": "slide"
    }
   },
   "source": [
    "## 5.6 Conclusions\n",
    "\n",
    "In this lesson we learned about the notions of linear dependence and independence, basis and dimension of a complex vector spaces and transition matrices. In the next lesson we will learn a few more definitions and operations such as the inner product of vectors, norm of a vector, orthogonal vectors and projections."
   ]
  },
  {
   "cell_type": "markdown",
   "metadata": {
    "slideshow": {
     "slide_type": "slide"
    }
   },
   "source": [
    "#### Final Quiz 5  is in a separate notebook with filename: finalquiz5.ipynb.\n",
    "\n",
    "Final quiz is intended to be completed and submitted to the instructor for grading. Solutions to the final quiz are available to instructors upon request."
   ]
  }
 ],
 "metadata": {
  "celltoolbar": "Slideshow",
  "kernelspec": {
   "display_name": "Python 3 (ipykernel)",
   "language": "python",
   "name": "python3"
  },
  "language_info": {
   "codemirror_mode": {
    "name": "ipython",
    "version": 3
   },
   "file_extension": ".py",
   "mimetype": "text/x-python",
   "name": "python",
   "nbconvert_exporter": "python",
   "pygments_lexer": "ipython3",
   "version": "3.11.7"
  }
 },
 "nbformat": 4,
 "nbformat_minor": 4
}
