{
 "cells": [
  {
   "cell_type": "markdown",
   "metadata": {
    "cell_details": {
     "cell_ID": "m8-LearningOutcomes",
     "cell_alternates": [],
     "cell_concepts": [
      "Learning Outcomes"
     ],
     "cell_estimated_time": "1",
     "cell_interactive": "false",
     "cell_outcomes": [
      "Prove properties of tensor products of matrices and vectors",
      "Compute tensor products",
      "Implement a program to compute the tensor product of two matrices"
     ],
     "cell_prereqs": [],
     "cell_title": "Learning Outcomes",
     "cell_type": [
      "text"
     ],
     "module_outcomes": [
      "Gain a foundational understanding of tensor analysis",
      "Develop the ability to work with tensor products in mathematical and computational contexts"
     ],
     "module_prereqs": [
      "Linear Algebra",
      "Complex Numbers",
      "Introduction to Programming",
      "Python Basics"
     ],
     "module_title": [
      "Overview of Tensor Analysis"
     ]
    },
    "editable": true,
    "slideshow": {
     "slide_type": "slide"
    },
    "tags": []
   },
   "source": [
    "# 8. Overview of Tensor Analysis\n",
    "\n",
    "### This lesson belongs to nanomodule 8 - unit 1\n",
    "\n",
    "<b>Learning Outcomes: </b>\n",
    "\n",
    "Upon completion of this lesson:\n",
    "\n",
    "8.1\tStudents will prove properties Tensor products of matrices and vectors.\n",
    "\n",
    "8.2\tStudents will be able to compute tensor products.\n",
    "\n",
    "8.3\tStudents will implement a program that computes the Tensor product of two matrices.\n"
   ]
  },
  {
   "cell_type": "markdown",
   "metadata": {
    "cell_details": {
     "cell_ID": "m8-TensorProduct",
     "cell_alternates": [],
     "cell_concepts": [
      "Tensor Products"
     ],
     "cell_estimated_time": "3",
     "cell_interactive": "false",
     "cell_outcomes": [
      "Understand the use of tensor products in describing joint states of quantum systems",
      "Identify the components and structure of a tensor product",
      "Learn the properties of tensor products, including distribution over addition and respect for scalar multiplication"
     ],
     "cell_prereqs": [
      "m4-OperationsComplexVectors",
      "m4-OperationsScalar",
      "m4-AdditiveIdentityInverse",
      "m4-quiz-4.1",
      "m4-quiz-4.1-interactive"
     ],
     "cell_title": "Tensor Product",
     "cell_type": [
      "text"
     ],
     "module_outcomes": [
      "Gain a foundational understanding of tensor analysis",
      "Develop the ability to work with tensor products in mathematical and computational contexts"
     ],
     "module_prereqs": [
      "Linear Algebra",
      "Complex Numbers",
      "Introduction to Programming",
      "Python Basics"
     ],
     "module_title": [
      "Overview of Tensor Analysis"
     ]
    },
    "editable": true,
    "slideshow": {
     "slide_type": "slide"
    },
    "tags": []
   },
   "source": [
    "## 8.1 Tensor Product\n",
    "\n",
    "Tensor products are used to describe the joint state of two or more systems. For example, if the state of one quantum system is described by $\\mathbb{V}$ and the state of another quantum system is decribed by $\\mathbb{V}'$ then $\\mathbb{V}\\otimes\\mathbb{V}'$ describes the joint state of the two systems.\n",
    "\n",
    "More concretely if $V_0, V_1, \\ldots, V_{q}$ are vectors in $\\mathbb{V}$ and $V'_0, V'_1,\\ldots, V'_{p}$ are vectors in $\\mathbb{V}'$ then the tensor product is given by the set of \"tensors\" of all vectors in the two spaces.\n",
    "$$\\{V\\otimes V'|V\\in\\mathbb{V}\\mbox{ and }V'\\in\\mathbb{V'}\\}$$\n",
    "\n",
    "Tensor product distributes over addition and respects scalar multiplication."
   ]
  },
  {
   "cell_type": "markdown",
   "metadata": {
    "cell_details": {
     "cell_ID": "m8-JointBasis",
     "cell_alternates": [],
     "cell_concepts": [
      "Tensor Products"
     ],
     "cell_estimated_time": "2",
     "cell_interactive": "false",
     "cell_outcomes": [
      "Understand the concept of a joint basis for tensor product spaces",
      "Determine the basis for the tensor product of two vector spaces",
      "Comprehend how the dimension of the tensor product space is calculated"
     ],
     "cell_prereqs": [
      "m5-Basis",
      "m8-TensorProduct"
     ],
     "cell_title": "Joint Basis of 2 complex systems",
     "cell_type": [
      "text"
     ],
     "module_outcomes": [
      "Gain a foundational understanding of tensor analysis",
      "Develop the ability to work with tensor products in mathematical and computational contexts"
     ],
     "module_prereqs": [
      "Linear Algebra",
      "Complex Numbers",
      "Introduction to Programming",
      "Python Basics"
     ],
     "module_title": [
      "Overview of Tensor Analysis"
     ]
    },
    "editable": true,
    "slideshow": {
     "slide_type": "slide"
    },
    "tags": []
   },
   "source": [
    "## 8.2 Joint Basis for $\\mathbb{V}$ and $\\mathbb{V'}$\n",
    "\n",
    "If $B=\\{B_0,B_1,\\ldots,B_{m-1}\\}$ is the basis for $\\mathbb{V}$ and $B'=\\{B'_0,B'_1,\\ldots,B'_{n-1}\\}$ is the basis for $\\mathbb{V'}$, then the basis for $\\mathbb{V}\\otimes\\mathbb{V'}$ is given by,\n",
    "\n",
    "$$\\{B_j\\otimes B'_k|j=0,1,\\ldots,m-1 \\mbox{ and } k=0,1,\\ldots,n-1\\}$$\n",
    "\n",
    "As mentioned before the dimension of $\\mathbb{V}\\otimes\\mathbb{V'}$ is the dimension of $\\mathbb{V}$ times the dimension of $\\mathbb{V'}$"
   ]
  },
  {
   "cell_type": "markdown",
   "metadata": {
    "cell_details": {
     "cell_ID": "m8-ExampleTensorProduct",
     "cell_alternates": [],
     "cell_concepts": [
      "Tensor Product"
     ],
     "cell_estimated_time": "3",
     "cell_interactive": "false",
     "cell_outcomes": [
      "Demonstrate the calculation of tensor products through examples",
      "Apply the concept of tensor products to vectors",
      "Visualize the structure of a tensor product of two vectors"
     ],
     "cell_prereqs": [
      "m8-TensorProduct",
      "m8-JointBasis"
     ],
     "cell_title": "Example Tensor Product",
     "cell_type": [
      "text"
     ],
     "module_outcomes": [
      "Gain a foundational understanding of tensor analysis",
      "Develop the ability to work with tensor products in mathematical and computational contexts"
     ],
     "module_prereqs": [
      "Linear Algebra",
      "Complex Numbers",
      "Introduction to Programming",
      "Python Basics"
     ],
     "module_title": [
      "Overview of Tensor Analysis"
     ]
    },
    "editable": true,
    "slideshow": {
     "slide_type": "slide"
    },
    "tags": []
   },
   "source": [
    "## 8.3 Examples: Tensor Product\n",
    "\n",
    "Let us look at some concrete examples of Tensor product of vectors,\n",
    "\n",
    "$$\\begin{bmatrix}a_0\\\\a_1\\\\a_2\\end{bmatrix}\\otimes\n",
    "\\begin{bmatrix}b_0\\\\b_1\\end{bmatrix} = \\begin{bmatrix}\n",
    "a_0\\cdot\\begin{bmatrix}b_0\\\\b_1\\end{bmatrix}\\\\\n",
    "a_1\\cdot\\begin{bmatrix}b_0\\\\b_1\\end{bmatrix}\\\\\n",
    "a_2\\cdot\\begin{bmatrix}b_0\\\\b_1\\end{bmatrix}\\end{bmatrix}=\\begin{bmatrix}\n",
    "a_0b_0\\\\\n",
    "a_0b_1\\\\\n",
    "a_1b_0\\\\\n",
    "a_1b_1\\\\\n",
    "a_2b_0\\\\\n",
    "a_2b_1\\end{bmatrix}$$"
   ]
  },
  {
   "cell_type": "markdown",
   "metadata": {
    "cell_details": {
     "cell_ID": "m8-ExampleTensorProductComplex",
     "cell_alternates": [],
     "cell_concepts": [
      "Tensor Product"
     ],
     "cell_estimated_time": "3",
     "cell_interactive": "false",
     "cell_outcomes": [
      "Calculate the tensor product of complex vectors",
      "Understand the effect of complex numbers in tensor product calculations",
      "Visualize the result of a tensor product involving complex vectors"
     ],
     "cell_prereqs": [
      "m8-TensorProduct",
      "m8-JointBasis",
      "m8-ExampleTensorProduct"
     ],
     "cell_title": "Example Tensor Product",
     "cell_type": [
      "text"
     ],
     "module_outcomes": [
      "Gain a foundational understanding of tensor analysis",
      "Develop the ability to work with tensor products in mathematical and computational contexts, including those involving complex numbers"
     ],
     "module_prereqs": [
      "Linear Algebra",
      "Complex Numbers",
      "Introduction to Programming",
      "Python Basics"
     ],
     "module_title": [
      "Overview of Tensor Analysis"
     ]
    },
    "editable": true,
    "slideshow": {
     "slide_type": "slide"
    },
    "tags": []
   },
   "source": [
    "<b>Example:</b> Consider the vectors $V=\\begin{bmatrix}1\\\\2i\\end{bmatrix}$ and $W=\\begin{bmatrix}2+3i\\\\4\\end{bmatrix}$\n",
    "\n",
    "The Tensor product $V\\otimes W$ is given by,\n",
    "\n",
    "$$\\begin{bmatrix}1\\\\2i\\end{bmatrix}\\otimes\\begin{bmatrix}2+3i\\\\4\\end{bmatrix}=\\begin{bmatrix}1\\cdot\\begin{bmatrix}2+3i\\\\4\\end{bmatrix}\\\\2i\\cdot\\begin{bmatrix}2+3i\\\\4\\end{bmatrix}\\end{bmatrix}=\\begin{bmatrix}2+3i\\\\4\\\\-6+4i\\\\8i\\end{bmatrix}$$"
   ]
  },
  {
   "cell_type": "markdown",
   "metadata": {
    "cell_details": {
     "cell_ID": "m8-Quiz-8.1",
     "cell_alternates": [
      "m8-Quiz-8.1-interactive"
     ],
     "cell_concepts": [
      "Tensor Product"
     ],
     "cell_estimated_time": "10",
     "cell_interactive": "true",
     "cell_outcomes": [
      "Calculate tensor products involving both real and complex vectors",
      "Apply knowledge of vector operations to solve tensor product problems",
      "Self-assess understanding of tensor products and their properties"
     ],
     "cell_prereqs": [
      "m8-TensorProduct",
      "m8-JointBasis",
      "m8-ExampleTensorProduct",
      "m8-ExampleTensorProductComplex"
     ],
     "cell_title": "Self Assessment Quiz 1",
     "cell_type": [
      "quiz"
     ],
     "module_outcomes": [
      "Gain a foundational understanding of tensor analysis",
      "Develop the ability to work with tensor products in mathematical and computational contexts"
     ],
     "module_prereqs": [
      "Linear Algebra",
      "Complex Numbers",
      "Introduction to Programming",
      "Python Basics"
     ],
     "module_title": [
      "Overview of Tensor Analysis"
     ]
    },
    "editable": true,
    "slideshow": {
     "slide_type": "slide"
    },
    "tags": []
   },
   "source": [
    "## Quiz 8.1 Self Assessment Quiz\n",
    "\n",
    "Calculate the tensor product for the following,\n",
    "\n",
    "1. $\\begin{bmatrix}5\\\\4\\\\10\\end{bmatrix}\\otimes\\begin{bmatrix}-1\\\\2\\end{bmatrix}$\n",
    "<br><br>\n",
    "\n",
    "2. $\\begin{bmatrix}2+3i\\\\10-4i\\end{bmatrix}\\otimes\\begin{bmatrix}4\\\\-1+i\\end{bmatrix}$"
   ]
  },
  {
   "cell_type": "code",
   "execution_count": null,
   "metadata": {
    "cell_details": {
     "cell_ID": "m8-Quiz-8.1-interactive",
     "cell_alternates": [
      "m8-Quiz-8.1"
     ],
     "cell_concepts": [
      "Tensor Product"
     ],
     "cell_estimated_time": "10",
     "cell_interactive": "true",
     "cell_outcomes": [
      "Calculate tensor products involving both real and complex vectors",
      "Apply knowledge of vector operations to solve tensor product problems",
      "Self-assess understanding of tensor products and their properties"
     ],
     "cell_prereqs": [
      "m8-TensorProduct",
      "m8-JointBasis",
      "m8-ExampleTensorProduct",
      "m8-ExampleTensorProductComplex"
     ],
     "cell_title": "Self Assessment Quiz 1 interactive",
     "cell_type": [
      "quiz"
     ],
     "module_outcomes": [
      "Gain a foundational understanding of tensor analysis",
      "Develop the ability to work with tensor products in mathematical and computational contexts"
     ],
     "module_prereqs": [
      "Linear Algebra",
      "Complex Numbers",
      "Introduction to Programming",
      "Python Basics"
     ],
     "module_title": [
      "Overview of Tensor Analysis"
     ]
    },
    "editable": true,
    "slideshow": {
     "slide_type": "slide"
    },
    "tags": []
   },
   "outputs": [],
   "source": [
    "%run pyfiles/saquiz8_1  #This runs the file that has the quiz code\n",
    "createQuiz8_1()"
   ]
  },
  {
   "cell_type": "markdown",
   "metadata": {
    "cell_details": {
     "cell_ID": "m8-Entanglement",
     "cell_alternates": [],
     "cell_concepts": [
      "Tensor Products"
     ],
     "cell_estimated_time": "1",
     "cell_interactive": "false",
     "cell_outcomes": [
      "Understand the concept of entanglement in the context of tensor products",
      "Identify systems that cannot be decomposed into tensor products of smaller vectors",
      "Recognize the implications of entanglement for quantum systems"
     ],
     "cell_prereqs": [
      "m8-TensorProduct",
      "m8-JointBasis",
      "m8-ExampleTensorProduct",
      "m8-ExampleTensorProductComplex",
      "m8-Quiz-8.1",
      "m8-Quiz-8.1-interactive"
     ],
     "cell_title": "Inseperability of Systems",
     "cell_type": [
      "text"
     ],
     "module_outcomes": [
      "Gain a foundational understanding of tensor analysis",
      "Develop the ability to work with tensor products in mathematical and computational contexts"
     ],
     "module_prereqs": [
      "Linear Algebra",
      "Complex Numbers",
      "Introduction to Programming",
      "Python Basics"
     ],
     "module_title": [
      "Overview of Tensor Analysis"
     ]
    },
    "editable": true,
    "slideshow": {
     "slide_type": "slide"
    },
    "tags": []
   },
   "source": [
    "## 8.4 Inseparability of Systems (Entanglement)\n",
    "\n",
    "While some systems can clearly be written as Tensor product of two or more vectors, other systems cannot. For example, consider a system represented by a $4\\times1$ matrix,\n",
    "\n",
    "$$\\begin{bmatrix}\n",
    "2\\\\0\\\\0\\\\1\n",
    "\\end{bmatrix}$$\n",
    "\n",
    "The above vector cannot be represented as a Tensor product of two different $2\\times1$ vectors. In such a case we say that the two vectors are entangled and therefore the systems these vectors represent are entangled as well."
   ]
  },
  {
   "cell_type": "markdown",
   "metadata": {
    "cell_details": {
     "cell_ID": "m8-TensorProductMatrices",
     "cell_alternates": [],
     "cell_concepts": [
      "Tensor Product Matrices"
     ],
     "cell_estimated_time": "3",
     "cell_interactive": "false",
     "cell_outcomes": [
      "Extend the concept of tensor products to matrices",
      "Construct operators for joint system states using tensor products",
      "Understand how to perform tensor product operations on matrices"
     ],
     "cell_prereqs": [
      "m4-MatrixMultiplication",
      "m8-TensorProduct",
      "m8-Entanglement"
     ],
     "cell_title": "Tensor Product of matrices",
     "cell_type": [
      "text"
     ],
     "module_outcomes": [
      "Gain a foundational understanding of tensor analysis",
      "Develop the ability to work with tensor products in mathematical and computational contexts"
     ],
     "module_prereqs": [
      "Linear Algebra",
      "Complex Numbers",
      "Introduction to Programming",
      "Python Basics"
     ],
     "module_title": [
      "Overview of Tensor Analysis"
     ]
    },
    "editable": true,
    "slideshow": {
     "slide_type": "slide"
    },
    "tags": []
   },
   "source": [
    "## 8.5 Tensor Product of Matrices\n",
    "\n",
    "The definition of Tensor product can be readily extended to matrices as well. We will need to do this in order to construct operators for joint system states. For example, consider a $2\\times2$ matrix applied to vector $V$ in $\\mathbb{V}$ and a $3\\times3$ matrix applied to vector $V'$ in $\\mathbb{V'}$. Then the joint matrix operation is given by $A\\otimes B$. More specifically, \n",
    "\n",
    "$$A=\\begin{bmatrix}a_{0,0}&a_{0,1}\\\\a_{1,0}&a_{1,1}\\end{bmatrix}$$ and\n",
    "$$B=\\begin{bmatrix}b_{0,0}&b_{0,1}&b_{0,2}\\\\b_{1,0}&b_{1,1}&b_{1,2}\\\\b_{2,0}&b_{2,1}&b_{2,2}\\end{bmatrix}$$\n",
    "\n",
    "The tensor product $A\\otimes B$ is the matrix that has every element of $A$, scalar multiplied with the entire matrix $B$. Therefore,\n",
    "\n",
    "$$A\\otimes B=\\begin{bmatrix}a_{0,0}\\cdot\\begin{bmatrix}b_{0,0}&b_{0,1}&b_{0,2}\\\\b_{1,0}&b_{1,1}&b_{1,2}\\\\b_{2,0}&b_{2,1}&b_{2,2}\\end{bmatrix}&\n",
    "a_{0,1}\\cdot\\begin{bmatrix}b_{0,0}&b_{0,1}&b_{0,2}\\\\b_{1,0}&b_{1,1}&b_{1,2}\\\\b_{2,0}&b_{2,1}&b_{2,2}\\end{bmatrix}\\\\\n",
    "a_{1,0}\\cdot\\begin{bmatrix}b_{0,0}&b_{0,1}&b_{0,2}\\\\b_{1,0}&b_{1,1}&b_{1,2}\\\\b_{2,0}&b_{2,1}&b_{2,2}\\end{bmatrix}&\n",
    "a_{1,1}\\cdot\\begin{bmatrix}b_{0,0}&b_{0,1}&b_{0,2}\\\\b_{1,0}&b_{1,1}&b_{1,2}\\\\b_{2,0}&b_{2,1}&b_{2,2}\\end{bmatrix}\\end{bmatrix}$$"
   ]
  },
  {
   "cell_type": "markdown",
   "metadata": {
    "cell_details": {
     "cell_ID": "m8-ExamplesTensorProductMatrices",
     "cell_alternates": [],
     "cell_concepts": [
      "Tensor Product Matrices"
     ],
     "cell_estimated_time": "4",
     "cell_interactive": "false",
     "cell_outcomes": [
      "Demonstrate the calculation of tensor products of matrices including complex numbers",
      "Visualize the process of scalar multiplying a matrix by each element of another matrix in the context of tensor products",
      "Apply the concept of tensor products to complex matrices"
     ],
     "cell_prereqs": [
      "m8-TensorProductMatrices"
     ],
     "cell_title": "Example of Tensor Product of Matrices",
     "cell_type": [
      "text"
     ],
     "module_outcomes": [
      "Gain a foundational understanding of tensor analysis",
      "Develop the ability to work with tensor products in mathematical and computational contexts"
     ],
     "module_prereqs": [
      "Linear Algebra",
      "Complex Numbers",
      "Introduction to Programming",
      "Python Basics"
     ],
     "module_title": [
      "Overview of Tensor Analysis"
     ]
    },
    "editable": true,
    "slideshow": {
     "slide_type": "slide"
    },
    "tags": []
   },
   "source": [
    "## 8.6 Examples of Tensor Product of Matrices\n",
    "\n",
    "Let $A=\\begin{bmatrix}3&4i\\\\1+7i&0\\end{bmatrix}$ and $B=\\begin{bmatrix}2-17i\\\\4\\end{bmatrix}$. The tensor product is,\n",
    "\n",
    "$$A\\otimes B=\\begin{bmatrix}3\\cdot\\begin{bmatrix}2-17i\\\\4\\end{bmatrix}& 4i\\cdot\\begin{bmatrix}2-17i\\\\4\\end{bmatrix}\\\\(1+7i)\\cdot\\begin{bmatrix}2-17i\\\\4\\end{bmatrix}&0\\cdot\\begin{bmatrix}2-17i\\\\4\\end{bmatrix}\\end{bmatrix}=\\begin{bmatrix}6-51i&8i+68\\\\12&16i\\\\ 121-3i& 0\\\\4+28i&0\\end{bmatrix}$$"
   ]
  },
  {
   "cell_type": "markdown",
   "metadata": {
    "cell_details": {
     "cell_ID": "m8-PropertiesTensorProductMatrices",
     "cell_alternates": [],
     "cell_concepts": [
      "Tensor Product Matrices"
     ],
     "cell_estimated_time": "1",
     "cell_interactive": "false",
     "cell_outcomes": [
      "Understand and apply the associativity property of tensor products of matrices",
      "Learn how the tensor product respects the adjoint operation",
      "Identify key properties of tensor products in the context of matrix operations"
     ],
     "cell_prereqs": [
      "m8-TensorProductMatrices",
      "m8-ExamplesTensorProductMatrices"
     ],
     "cell_title": "Properties of Tensor Product of Matrices",
     "cell_type": [
      "text"
     ],
     "module_outcomes": [
      "Gain a foundational understanding of tensor analysis",
      "Develop the ability to work with tensor products in mathematical and computational contexts"
     ],
     "module_prereqs": [
      "Linear Algebra",
      "Complex Numbers",
      "Introduction to Programming",
      "Python Basics"
     ],
     "module_title": [
      "Overview of Tensor Analysis"
     ]
    },
    "editable": true,
    "slideshow": {
     "slide_type": "slide"
    },
    "tags": []
   },
   "source": [
    "## 8.7 Properties of Tensor Product of Matrices\n",
    "\n",
    "<b>Associativity:</b> For three matrices $A, B$ and $C$, $A\\otimes(B\\otimes C)=(A\\otimes B)\\otimes C$\n",
    "\n",
    "<b>Respects adjoint operation:</b> $(A\\otimes B)^\\dagger=A^\\dagger\\otimes B^\\dagger$"
   ]
  }
 ],
 "metadata": {
  "celltoolbar": "Slideshow",
  "kernelspec": {
   "display_name": "Python 3 (ipykernel)",
   "language": "python",
   "name": "python3"
  },
  "language_info": {
   "codemirror_mode": {
    "name": "ipython",
    "version": 3
   },
   "file_extension": ".py",
   "mimetype": "text/x-python",
   "name": "python",
   "nbconvert_exporter": "python",
   "pygments_lexer": "ipython3",
   "version": "3.12.2"
  },
  "module_details": {
   "module_concepts": [
    "Tensor Product",
    "Tensor Product Matrices"
   ],
   "module_outcomes": [
    "Students will understand the definition of Tensor Product and the joint Basis for two systems.",
    "Students will be able to perform tensor of matrices and vectors.",
    "Students will understand the Inseperability of quantum systems in context of tensor products.",
    "Students will understand computing tensor products.",
    "Students will learn the properties of Tensor Product of Matrices.",
    "Students will implement a program that computes the Tensor product of two matrices."
   ],
   "module_outcomes_mapping": [
    [
     "m8-TensorProduct",
     "m8-JointBasis",
     "m8-ExampleTensorProduct"
    ],
    [
     "m8-Quiz-8.1"
    ],
    [
     "m8-Entanglement"
    ],
    [
     "m8-TensorProductMatrices",
     "m8-ExamplesTensorProductMatrices"
    ],
    [
     "m8-PropertiesTensorProductMatrices"
    ],
    [
     "m8-final-quiz"
    ]
   ],
   "module_prereqs": [
    "Linear Algebra",
    "Complex Numbers",
    "Introduction to Programming",
    "Python Basics"
   ],
   "module_title": [
    "Overview of Tensor Analysis"
   ]
  }
 },
 "nbformat": 4,
 "nbformat_minor": 4
}
