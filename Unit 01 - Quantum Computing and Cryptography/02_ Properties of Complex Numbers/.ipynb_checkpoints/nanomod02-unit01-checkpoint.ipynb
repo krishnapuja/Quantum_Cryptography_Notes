{
 "cells": [
  {
   "cell_type": "markdown",
   "metadata": {
    "cell_details": {
     "cell_ID": "m2-LearningOutcomes",
     "cell_alternates": [],
     "cell_concepts": [
      "Learning Outcomes"
     ],
     "cell_estimated_time": "1",
     "cell_interactive": "false",
     "cell_outcomes": [
      "Know the outcomes of learning Basics of Complex Numbers"
     ],
     "cell_prereqs": [],
     "cell_title": "Learning Outcomes",
     "cell_type": [
      "text"
     ],
     "module_outcomes": [
      "Master the concept of complex number representations",
      "Understand and apply basic properties of complex numbers",
      "Perform operations like addition, multiplication, division on complex numbers",
      "Compute modulus and conjugate of complex numbers",
      "Implement Python programs for complex number operations including addition, multiplication, division, computing modulus, and conjugate"
     ],
     "module_prereqs": [
      "Algebra",
      "Introduction to Programming",
      "Python Basics"
     ],
     "module_title": [
      "Properties of Complex Numbers"
     ]
    },
    "editable": true,
    "slideshow": {
     "slide_type": "slide"
    },
    "tags": []
   },
   "source": [
    "# 2. Properties of Complex Numbers\n",
    "\n",
    "### This lesson belongs to nanomodule 2 - unit 1\n",
    "\n",
    "<b>Learning Outcomes: </b>\n",
    "\n",
    "Upon completion of this lesson:\n",
    "\n",
    "2.1\tStudents will be able to represent complex numbers as ordered pairs.\n",
    "\n",
    "2.2\tStudents will know some of the basic properties of complex numbers and operations on them.\n",
    "\n",
    "2.3\tStudents will be able to compute the modulus and conjugate of complex numbers.\n",
    "\n",
    "2.4\tStudents will be able to prove basic properties of modulus and conjugate operations.\n",
    "\n",
    "2.5\tStudents will be able to implement programs to divide two complex numbers, compute the modulus and conjugate.\n"
   ]
  },
  {
   "cell_type": "markdown",
   "metadata": {
    "cell_details": {
     "cell_ID": "m2-background",
     "cell_alternates": [],
     "cell_concepts": [
      "Properties of Complex Numbers"
     ],
     "cell_estimated_time": "2",
     "cell_interactive": "false",
     "cell_outcomes": [
      "Develop intuition for complex numbers through geometric representation",
      "Represent complex numbers as ordered pairs",
      "Perform addition and multiplication on complex numbers represented as ordered pairs"
     ],
     "cell_prereqs": [
      "m1-complexNumbers"
     ],
     "cell_title": "Complex Number Reprenstation",
     "cell_type": [
      "text"
     ],
     "module_outcomes": [
      "Master the concept of complex number representations",
      "Understand and apply basic properties of complex numbers",
      "Perform operations like addition, multiplication, division on complex numbers",
      "Compute modulus and conjugate of complex numbers",
      "Implement Python programs for complex number operations including addition, multiplication, division, computing modulus, and conjugate"
     ],
     "module_prereqs": [
      "Algebra",
      "Introduction to Programming",
      "Python Basics"
     ],
     "module_title": [
      "Properties of Complex Numbers"
     ]
    },
    "editable": true,
    "slideshow": {
     "slide_type": "slide"
    },
    "tags": []
   },
   "source": [
    "## 2.1 Background\n",
    "\n",
    "One way to develop an intuition for complex numbers is to look at them geometrically in a 2-dimensional plane. From the definition of complex numbers, we learned that complex numbers have two real numbers within them besides the imaginary number that we've invented, $i = \\sqrt{-1}$.\n",
    "\n",
    "We can omit writing $i$ by simply representing complex numbers as ordered pairs, $c\\rightarrow (a,b)$, where $a$ and $b$ are the real and imaginary parts of $c=a+bi$. It is easy to see that real numbers are simply $(a,0)$ and imaginary numbers are $(0,b)$.\n",
    "\n",
    "Let $c_1\\rightarrow(a_1,b_1)$ and $c_2\\rightarrow(a_2,b_2)$. Then the two operations that we've seen so far may be rewritten as follows: \n",
    "$$c_1+c_2 = (a_1,b_1)+(a_2,b_2) = (a_1+a_2, b_1+b_2)$$ and \n",
    "$$c_1\\times c_2 = (a_1a_2-b_1b_2, a_1b_2+b_1a_2)$$"
   ]
  },
  {
   "cell_type": "markdown",
   "metadata": {
    "cell_details": {
     "cell_ID": "m2-properties",
     "cell_alternates": [],
     "cell_concepts": [
      "Properties of Complex Numbers"
     ],
     "cell_estimated_time": "2",
     "cell_interactive": "false",
     "cell_outcomes": [
      "Understand the commutative and associative properties of addition and multiplication with complex numbers"
     ],
     "cell_prereqs": [
      "m2-background"
     ],
     "cell_title": "Properties of Complex Numbers",
     "cell_type": [
      "text"
     ],
     "module_outcomes": [
      "Master the concept of complex number representations",
      "Understand and apply basic properties of complex numbers",
      "Perform operations like addition, multiplication, division on complex numbers",
      "Compute modulus and conjugate of complex numbers",
      "Implement Python programs for complex number operations including addition, multiplication, division, computing modulus, and conjugate"
     ],
     "module_prereqs": [
      "Algebra",
      "Introduction to Programming",
      "Python Basics"
     ],
     "module_title": [
      "Properties of Complex Numbers"
     ]
    },
    "editable": true,
    "slideshow": {
     "slide_type": "slide"
    },
    "tags": []
   },
   "source": [
    "## 2.2 Properties of Complex Numbers \n",
    "\n",
    "Addition is both <b>commutative</b> and <b>associative</b>. Therefore,\n",
    "\n",
    "$$c_1+c_2 = c_2+c_1$$\n",
    "and \n",
    "$$(c_1+c_2)+c_3 = c_1+(c_2+c_3)$$\n",
    "\n",
    "Multiplication is both commutative and associative. Consequently,\n",
    "\n",
    "$$c_1\\times c_2 = c_2\\times c_1$$\n",
    "and\n",
    "$$(c_1\\times c_2)\\times c_3 = c_1\\times(c_2\\times c_3)$$"
   ]
  },
  {
   "cell_type": "markdown",
   "metadata": {
    "cell_details": {
     "cell_ID": "m2-propertiesContd",
     "cell_alternates": [],
     "cell_concepts": [
      "Properties of Complex Numbers"
     ],
     "cell_estimated_time": "2",
     "cell_interactive": "false",
     "cell_outcomes": [
      "Understand the distributive property of multiplication over addition with complex numbers",
      "Apply negation to complex numbers",
      "Perform subtraction of complex numbers",
      "Understand and perform division of complex numbers"
     ],
     "cell_prereqs": [
      "m2-background",
      "m2-properties"
     ],
     "cell_type": [
      "text"
     ],
     "module_outcomes": [
      "Master the concept of complex number representations",
      "Understand and apply basic properties of complex numbers",
      "Perform operations like addition, multiplication, division on complex numbers",
      "Compute modulus and conjugate of complex numbers",
      "Implement Python programs for complex number operations including addition, multiplication, division, computing modulus, and conjugate"
     ],
     "module_prereqs": [
      "Algebra",
      "Introduction to Programming",
      "Python Basics"
     ],
     "module_title": [
      "Properties of Complex Numbers"
     ]
    },
    "editable": true,
    "slideshow": {
     "slide_type": "slide"
    },
    "tags": []
   },
   "source": [
    "## 2.3 Properties of Complex Numbers Contd.\n",
    "\n",
    "<b> Distributivity:</b> Multiplication over addition\n",
    "\n",
    "$$ c_1\\times(c_2+c_3) = (c_1\\times c_2)+(c_1\\times c_3)$$\n",
    "\n",
    "<b> Negation:</b> Negation simply distributes -1 over a complex number using the above property. Therefore, $-c_1=-1\\times c_1=-1\\times(a+bi)=-a-bi$.\n",
    "\n",
    "<b> Subtraction:</b> Subtraction is the same as adding $c_1$ and $-c_2$. Therefore,\n",
    "\n",
    "$$c_1-c_2 = c_1+(-c_2)=(a_1,b_1)-(a_2,b_2)=(a_1,b_1)+(-a_2,-b_2)=(a_1-a_2, b_1-b_2)$$\n",
    "\n",
    "<b> Division:</b> Division requires solving for $x$ and $y$, where $(x,y) = \\frac{(a_1,b_1)}{(a_2,b_2)}$.\n",
    "\n",
    "The result is, $x=\\frac{a_1a_2+b_1b_2}{a_2^2+b_2^2}$ and $y=\\frac{a_2b_1-a_1b_2}{a_2^2+b_2^2}$, where $\\frac{c_1}{c_2}=(x,y)=x+yi$"
   ]
  },
  {
   "cell_type": "markdown",
   "metadata": {
    "cell_details": {
     "cell_ID": "m2-quiz-2.1",
     "cell_alternates": [
      "m2-quiz-2.1-interactive"
     ],
     "cell_concepts": [
      "Properties of Complex Numbers"
     ],
     "cell_estimated_time": "10",
     "cell_interactive": "false",
     "cell_outcomes": [
      "Compute the product of complex numbers in cartesian representation",
      "Numerically verify the distributive property of multiplication over addition with complex numbers",
      "Compute division of complex numbers in cartesian representation"
     ],
     "cell_prereqs": [
      "m2-properties",
      "m2-propertiesContd"
     ],
     "cell_title": "Self Assessment Quiz 1",
     "cell_type": [
      "quiz",
      "text"
     ],
     "module_outcomes": [
      "Master the concept of complex number representations",
      "Understand and apply basic properties of complex numbers",
      "Perform operations like addition, multiplication, division on complex numbers",
      "Compute modulus and conjugate of complex numbers",
      "Implement Python programs for complex number operations including addition, multiplication, division, computing modulus, and conjugate"
     ],
     "module_prereqs": [
      "Algebra",
      "Introduction to Programming",
      "Python Basics"
     ],
     "module_title": [
      "Properties of Complex Numbers"
     ]
    },
    "editable": true,
    "slideshow": {
     "slide_type": "slide"
    },
    "tags": []
   },
   "source": [
    "## Quiz 2.1 Self Assessment Quiz\n",
    "<b>Maybe used for in-class hands-on practice.</b>\n",
    "\n",
    "<b><i>Run the code in the next cell to generate a interactive version of this quiz.</i></b>\n",
    "\n",
    "Solve the following using cartesian representation. Given that $c_1=3i+4$, $c_2=5+11i$ and $c_3=4i$.\n",
    "\n",
    "1. Compute: $c_1\\times c_2$\n",
    "2. Numerically verify that: $c_1\\times(c_2+c_3)=(c_1\\times c_2)+(c_1\\times c_3)$\n",
    "3. Compute: $\\frac{c_2}{c_1}$ and $\\frac{c_1}{c_3}$"
   ]
  },
  {
   "cell_type": "code",
   "execution_count": null,
   "metadata": {
    "cell_details": {
     "cell_ID": "m2-quiz-2.1-interactive",
     "cell_alternates": [
      "m2-quiz-2.1"
     ],
     "cell_concepts": [
      "Properties of Complex Numbers"
     ],
     "cell_estimated_time": "10",
     "cell_interactive": "false",
     "cell_outcomes": [
      "Compute the product of complex numbers in cartesian representation",
      "Numerically verify the distributive property of multiplication over addition with complex numbers",
      "Compute division of complex numbers in cartesian representation"
     ],
     "cell_prereqs": [
      "m2-properties",
      "m2-propertiesContd"
     ],
     "cell_title": "Self Assessment Quiz 1 interactive",
     "cell_type": [
      "quiz",
      "text"
     ],
     "module_outcomes": [
      "Master the concept of complex number representations",
      "Understand and apply basic properties of complex numbers",
      "Perform operations like addition, multiplication, division on complex numbers",
      "Compute modulus and conjugate of complex numbers",
      "Implement Python programs for complex number operations including addition, multiplication, division, computing modulus, and conjugate"
     ],
     "module_prereqs": [
      "Algebra",
      "Introduction to Programming",
      "Python Basics"
     ],
     "module_title": [
      "Properties of Complex Numbers"
     ]
    },
    "editable": true,
    "slideshow": {
     "slide_type": "slide"
    },
    "tags": []
   },
   "outputs": [],
   "source": [
    "%run pyfiles/saquiz2_1  #This runs the file that has the quiz code\n",
    "createQuiz2_1()"
   ]
  },
  {
   "cell_type": "markdown",
   "metadata": {
    "cell_details": {
     "cell_ID": "m2-modulusConjugation",
     "cell_alternates": [],
     "cell_concepts": [
      "Modulus and Conjugation"
     ],
     "cell_estimated_time": "3",
     "cell_interactive": "false",
     "cell_outcomes": [
      "Understand the concept of modulus of a complex number",
      "Compute the modulus of complex numbers",
      "Understand the concept of conjugate of a complex number",
      "Compute the conjugate of complex numbers"
     ],
     "cell_prereqs": [
      "m1-complexNumbers"
     ],
     "cell_title": "Modulus and Conjugation",
     "cell_type": [
      "text"
     ],
     "module_outcomes": [
      "Master the concept of complex number representations",
      "Understand and apply basic properties of complex numbers",
      "Perform operations like addition, multiplication, division on complex numbers",
      "Compute modulus and conjugate of complex numbers",
      "Implement Python programs for complex number operations including addition, multiplication, division, computing modulus, and conjugate"
     ],
     "module_prereqs": [
      "Algebra",
      "Introduction to Programming",
      "Python Basics"
     ],
     "module_title": [
      "Properties of Complex Numbers"
     ]
    },
    "editable": true,
    "slideshow": {
     "slide_type": "slide"
    },
    "tags": []
   },
   "source": [
    "## 2.4 Modulus and Conjugation\n",
    "\n",
    "### Modulus\n",
    "\n",
    "The <b>modulus</b> of a complex number is given by $\\rvert c\\rvert=\\rvert a+bi\\rvert=+\\sqrt{a^2+b^2}$. Note that we are only concerned with the positive square roots.\n",
    "\n",
    "<b>Example: </b>Modulus of $c=5+7i$ is $\\rvert c\\rvert=\\sqrt{5^2+7^2}=\\sqrt{25+49}=\\sqrt{74}$.\n",
    "\n",
    "\n",
    "### Conjugate\n",
    "\n",
    "Conjugate of a complex number, $c=a+bi$, is computed by simply changing the sign of the imaginary part. Therefore the conjugate is given by $\\overline{c}=a-bi$. In the later lessons, we will sometimes denote the conjugate with an asterisk as $c^*$.\n",
    "\n",
    "<b>Example: </b>The conjugate of $c=2-3i$ is $\\overline{c}=2+3i$."
   ]
  },
  {
   "cell_type": "markdown",
   "metadata": {
    "cell_details": {
     "cell_ID": "m2-quiz-2.2",
     "cell_alternates": [
      "m2-quiz-2.2-interactive"
     ],
     "cell_concepts": [
      "Modulus and Conjugation"
     ],
     "cell_estimated_time": "5",
     "cell_interactive": "false",
     "cell_outcomes": [
      "Compute the modulus of given complex numbers",
      "Compute the conjugate of given complex numbers"
     ],
     "cell_prereqs": [
      "m2-modulusConjugation"
     ],
     "cell_title": "Self Assessment Quiz 2",
     "cell_type": [
      "quiz"
     ],
     "module_outcomes": [
      "Master the concept of complex number representations",
      "Understand and apply basic properties of complex numbers",
      "Perform operations like addition, multiplication, division on complex numbers",
      "Compute modulus and conjugate of complex numbers",
      "Implement Python programs for complex number operations including addition, multiplication, division, computing modulus, and conjugate"
     ],
     "module_prereqs": [
      "Algebra",
      "Introduction to Programming",
      "Python Basics"
     ],
     "module_title": [
      "Properties of Complex Numbers"
     ]
    },
    "editable": true,
    "slideshow": {
     "slide_type": "slide"
    },
    "tags": []
   },
   "source": [
    "## Quiz 2.2 Self Assessment Quiz\n",
    "<b>Maybe used for in-class hands-on practice.</b>\n",
    "\n",
    "<b><i>Run the code in the next cell to generate a interactive version of this quiz.</i></b>\n",
    "\n",
    "Compute the modulus for the following complex numbers.\n",
    "\n",
    "1. $c=3+1i$\n",
    "2. $c=1+21i$\n",
    "3. $c=10+10i$\n",
    "\n",
    "Compute the conjugate for the following complex numbers.\n",
    "\n",
    "1. $c=-101i$\n",
    "2. $c=20+1i$\n",
    "3. $c=-1+441i$"
   ]
  },
  {
   "cell_type": "code",
   "execution_count": null,
   "metadata": {
    "cell_details": {
     "cell_ID": "m2-quiz-2.2-interactive",
     "cell_alternates": [
      "m2-quiz-2.2"
     ],
     "cell_concepts": [
      "Modulus and Conjugation"
     ],
     "cell_estimated_time": "10",
     "cell_interactive": "true",
     "cell_outcomes": [
      "Compute the modulus of given complex numbers",
      "Compute the conjugate of given complex numbers"
     ],
     "cell_prereqs": [
      "m2-modulusConjugation"
     ],
     "cell_title": "Self Assessment Quiz 2 interactive",
     "cell_type": [
      "quiz"
     ],
     "module_outcomes": [
      "Master the concept of complex number representations",
      "Understand and apply basic properties of complex numbers",
      "Perform operations like addition, multiplication, division on complex numbers",
      "Compute modulus and conjugate of complex numbers",
      "Implement Python programs for complex number operations including addition, multiplication, division, computing modulus, and conjugate"
     ],
     "module_prereqs": [
      "Algebra",
      "Introduction to Programming",
      "Python Basics"
     ],
     "module_title": [
      "Properties of Complex Numbers"
     ]
    },
    "editable": true,
    "slideshow": {
     "slide_type": "slide"
    },
    "tags": []
   },
   "outputs": [],
   "source": [
    "%run pyfiles/saquiz2_2   \"cell_title\": \"Self Assessment Quiz 1\",\n",
    "createQuiz2_2()"
   ]
  },
  {
   "cell_type": "markdown",
   "metadata": {
    "cell_details": {
     "cell_ID": "m2-summary",
     "cell_alternates": [],
     "cell_concepts": [],
     "cell_estimated_time": "2",
     "cell_interactive": "false",
     "cell_outcomes": [
      "Summarize the properties and basic operations on complex numbers"
     ],
     "cell_prereqs": [],
     "cell_title": "Summary",
     "cell_type": [
      "text"
     ],
     "module_outcomes": [
      "Master the concept of complex number representations",
      "Understand and apply basic properties of complex numbers",
      "Perform operations like addition, multiplication, division on complex numbers",
      "Compute modulus and conjugate of complex numbers",
      "Implement Python programs for complex number operations including addition, multiplication, division, computing modulus, and conjugate"
     ],
     "module_prereqs": [
      "Algebra",
      "Introduction to Programming",
      "Python Basics"
     ],
     "module_title": [
      "Properties of Complex Numbers"
     ]
    },
    "editable": true,
    "slideshow": {
     "slide_type": "slide"
    },
    "tags": []
   },
   "source": [
    "## 2.5 Summary\n",
    "\n",
    "In this lesson, we reviewed various properties of complex numbers and few basic operations. The properties can be summarized as follows,\n",
    "\n",
    "* Addition is commutative and associative\n",
    "* Multiplication is commutative and associative\n",
    "* Multiplication distributes over addition\n",
    "* Negation and subtraction are defined\n",
    "* Division is defined for non-zero divisors\n",
    "* Modulus of $c$ is given by $\\rvert c\\rvert=+\\sqrt{a^2+b^2}$\n",
    "* Conjugate of $c$ is given by $c^*=\\overline{c}=a-bi$\n",
    "\n",
    "In the next lesson we will discuss the cartesian and polar representations of complex numbers."
   ]
  },
  {
   "cell_type": "markdown",
   "metadata": {
    "cell_details": {
     "cell_ID": "m2-finalQuiz-information",
     "cell_alternates": [],
     "cell_concepts": [],
     "cell_estimated_time": "1",
     "cell_interactive": "false",
     "cell_outcomes": [
      "Know the information about the final Quiz of this module"
     ],
     "cell_prereqs": [],
     "cell_title": "final quiz 2",
     "cell_type": [
      "text"
     ],
     "module_outcomes": [
      "Master the concept of complex number representations",
      "Perform basic additive and multiplicative operations on complex numbers",
      "Implement Python programs for addition and multiplication on complex numbers"
     ],
     "module_prereqs": [
      "Algebra",
      "Introduction to Programming",
      "Python Basics"
     ],
     "module_title": [
      "The Basics of Complex Numbers"
     ]
    },
    "editable": true,
    "slideshow": {
     "slide_type": "slide"
    },
    "tags": []
   },
   "source": [
    "#### Final Quiz 2 is in a separate notebook with filename: finalquiz2.ipynb.\n",
    "\n",
    "Final quiz is intended to be completed and submitted to the instructor for grading. Solutions for the final quiz are available to course instructors upon request."
   ]
  }
 ],
 "metadata": {
  "celltoolbar": "Slideshow",
  "kernelspec": {
   "display_name": "Python 3 (ipykernel)",
   "language": "python",
   "name": "python3"
  },
  "language_info": {
   "codemirror_mode": {
    "name": "ipython",
    "version": 3
   },
   "file_extension": ".py",
   "mimetype": "text/x-python",
   "name": "python",
   "nbconvert_exporter": "python",
   "pygments_lexer": "ipython3",
   "version": "3.12.2"
  },
  "module_details": {
   "module_concepts": [
    "Properties of Complex Numbers",
    "Modulus and Conjugation"
   ],
   "module_outcomes": [
    "Students will be able to represent complex numbers as ordered pairs.",
    "Students will know some of the basic properties of complex numbers and operations on them.",
    "Students will be able to compute the modulus and conjugate of complex numbers.",
    "Students will be able to prove basic properties of modulus and conjugate operations.",
    "Students will be able to implement programs to divide two complex numbers, compute the modulus and conjugate."
   ],
   "module_outcomes_mapping": [
    [
     "m2-background"
    ],
    [
     "m2-background",
     "m2-properties ",
     "m2-propertiesContd",
     "m2-quiz-2.1",
     "m2-quiz-2.1-interactive"
    ],
    [
     "m2-modulusConjugation",
     "m2-quiz-2.2",
     "m2-quiz-2.2-interactive"
    ],
    [
     "m2-modulusConjugation",
     "m2-quiz-2.2",
     "m2-quiz-2.2-interactive"
    ],
    [
     "m2-final-quiz"
    ]
   ],
   "module_prereqs": [
    "Algebra",
    "Introduction to Programming",
    "Python Basics"
   ],
   "module_title": "Properties of Complex Numbers"
  }
 },
 "nbformat": 4,
 "nbformat_minor": 4
}
