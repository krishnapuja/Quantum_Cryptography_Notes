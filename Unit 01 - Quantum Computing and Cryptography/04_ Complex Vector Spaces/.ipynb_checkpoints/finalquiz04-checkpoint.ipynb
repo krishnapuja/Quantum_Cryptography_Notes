{
 "cells": [
  {
   "cell_type": "markdown",
   "metadata": {
    "nbgrader": {
     "grade": false,
     "grade_id": "cell-18ab85c1c8c6c144",
     "locked": true,
     "schema_version": 1,
     "solution": false
    }
   },
   "source": [
    "# Final Quiz 4\n",
    "\n",
    "### nanomodule 4"
   ]
  },
  {
   "cell_type": "markdown",
   "metadata": {
    "nbgrader": {
     "grade": true,
     "grade_id": "cell-ac588cdcb2647d37",
     "locked": false,
     "points": 6,
     "schema_version": 1,
     "solution": true
    }
   },
   "source": [
    "<b>4.1 (6 points) True/False:</b>\n",
    "1. Complex vectors of same dimensions can be added together.\n",
    "2. In a complex vector space, adding the additive identity to itself produces the additive identity.<br>\n",
    "3. Scalar multiplication distributes over addition of complex vectors.\n",
    "4. Complex matrices also form complex vector spaces.\n",
    "5. Dagger operation is only defined on a square matrix.\n",
    "6. $(c\\cdot A)^\\dagger = c^\\dagger\\cdot A^\\dagger$ (Check if the equality holds)"
   ]
  },
  {
   "cell_type": "raw",
   "metadata": {},
   "source": [
    "1.\n",
    "2.\n",
    "3.\n",
    "4.\n",
    "5.\n",
    "6."
   ]
  },
  {
   "cell_type": "markdown",
   "metadata": {
    "nbgrader": {
     "grade": true,
     "grade_id": "cell-d9cb0b7c411ca1db",
     "locked": false,
     "points": 5,
     "schema_version": 1,
     "solution": true
    }
   },
   "source": [
    "<b>4.2 (5 points) Prove that $(c_1+c_2)\\cdot V=c_1\\cdot V+c_2\\cdot V$, where $c_1$ and $c_2$ are scalars and $V$ is a complex vector.</b>"
   ]
  },
  {
   "cell_type": "raw",
   "metadata": {},
   "source": []
  },
  {
   "cell_type": "markdown",
   "metadata": {
    "nbgrader": {
     "grade": true,
     "grade_id": "cell-7f0b2f12c04ed3fc",
     "locked": false,
     "points": 5,
     "schema_version": 1,
     "solution": true
    }
   },
   "source": [
    "<b>4.3 (5 points) Prove that $(c\\cdot A)^T=c\\cdot A^T$, where $c$ is a scalar and $A$ is a complex matrix.</b>"
   ]
  },
  {
   "cell_type": "raw",
   "metadata": {},
   "source": []
  },
  {
   "cell_type": "markdown",
   "metadata": {
    "nbgrader": {
     "grade": true,
     "grade_id": "cell-9b6677e4b7ed9691",
     "locked": false,
     "points": 5,
     "schema_version": 1,
     "solution": true
    }
   },
   "source": [
    "<b>4.4 (5 points) Verify the property that $\\overline{c\\cdot A}=\\overline{c}\\cdot\\overline{A}$, where $c$ is a scalar and $A$ is a complex matrix.</b>"
   ]
  },
  {
   "cell_type": "raw",
   "metadata": {},
   "source": []
  },
  {
   "cell_type": "markdown",
   "metadata": {
    "nbgrader": {
     "grade": true,
     "grade_id": "cell-a4c1252ce4a17901",
     "locked": false,
     "points": 5,
     "schema_version": 1,
     "solution": true
    }
   },
   "source": [
    "<b>4.5 (5 points) Verify the property that $(c\\cdot A)^\\dagger = \\overline{c}\\cdot A^\\dagger$, where $c$ is a scalar and $A$ is a complex matrix.</b>"
   ]
  },
  {
   "cell_type": "raw",
   "metadata": {},
   "source": []
  },
  {
   "cell_type": "markdown",
   "metadata": {
    "nbgrader": {
     "grade": true,
     "grade_id": "cell-895a0f6676e07554",
     "locked": false,
     "points": 5,
     "schema_version": 1,
     "solution": true
    }
   },
   "source": [
    "<b>4.6 (5 points) Write a Python function that takes two equal dimensioned complex vectors/matrices as its inputs and returns a vector/matrix that is obtained by adding its two inputs.</b>"
   ]
  },
  {
   "cell_type": "code",
   "execution_count": null,
   "metadata": {},
   "outputs": [],
   "source": [
    "import numpy\n",
    "def matAdd(m1,m2):\n",
    "    #Complete the function\n",
    "    \n",
    "#Example execution    \n",
    "assert numpy.allclose(matAdd([[4,6],[0,0]],[[1,2],[3,4]]), [[5,8],[3,4]])"
   ]
  },
  {
   "cell_type": "markdown",
   "metadata": {
    "nbgrader": {
     "grade": true,
     "grade_id": "cell-af6978decf1bd6ef",
     "locked": false,
     "points": 5,
     "schema_version": 1,
     "solution": true
    }
   },
   "source": [
    "<b>4.7 (5 points) Write a Python function that takes a scalar and a complex vector/matrix as its two inputs and outputs a vector/matrix that is a product of its two inputs.</b>"
   ]
  },
  {
   "cell_type": "code",
   "execution_count": null,
   "metadata": {},
   "outputs": [],
   "source": [
    "def scalarMatMult(m1,m2):\n",
    "    #Complete the function\n",
    "    \n",
    "#Example execution    \n",
    "assert numpy.allclose(scalarMatMult([[1,3,4],[4,5,6j],[7,8,9]],[[9,8,7],[6,5,4],[3,2,1]]), [[(39+0j), (31+0j), (23+0j)], [(66+18j), (57+12j), (48+6j)], [(138+0j), (114+0j), (90+0j)]])"
   ]
  },
  {
   "cell_type": "markdown",
   "metadata": {
    "nbgrader": {
     "grade": true,
     "grade_id": "cell-016adb93faab8954",
     "locked": false,
     "points": 5,
     "schema_version": 1,
     "solution": true
    }
   },
   "source": [
    "<b>4.8 (5 points) Write a Python function that takes a well-formed matrix/vector as its input and outputs the transpose of its input.</b>"
   ]
  },
  {
   "cell_type": "code",
   "execution_count": null,
   "metadata": {},
   "outputs": [],
   "source": [
    "import numpy\n",
    "def transpose(m):\n",
    "    #Complete the function\n",
    "    \n",
    "#Example execution    \n",
    "assert numpy.allclose(transpose([[1,3,4],[4,5,6j],[7,8,9]]), [[1, 4, 7], [3, 5, 8], [4, 6j, 9]])"
   ]
  },
  {
   "cell_type": "markdown",
   "metadata": {
    "nbgrader": {
     "grade": true,
     "grade_id": "cell-8eea8b78d6491cac",
     "locked": false,
     "points": 5,
     "schema_version": 1,
     "solution": true
    }
   },
   "source": [
    "<b>4.9 (5 points) Write a Python function that takes a well formed matrix/vector as its input and outputs the conjugate of its input.</b>"
   ]
  },
  {
   "cell_type": "code",
   "execution_count": null,
   "metadata": {},
   "outputs": [],
   "source": [
    "def conjugate(m1):\n",
    "    #Complete the function\n",
    "    \n",
    "#Example execution    \n",
    "assert numpy.allclose(conjugate([[5+2j,6-1j],[7,8+3j]]), [[(5-2j), (6+1j)], [(7-0j), (8-3j)]])"
   ]
  },
  {
   "cell_type": "markdown",
   "metadata": {
    "nbgrader": {
     "grade": true,
     "grade_id": "cell-0d5f6636c0d01a27",
     "locked": false,
     "points": 5,
     "schema_version": 1,
     "solution": true
    }
   },
   "source": [
    "<b>4.10 (5 points) Write a Python function that applies the dagger operation on a matrix/vector and returns the result.</b>"
   ]
  },
  {
   "cell_type": "code",
   "execution_count": null,
   "metadata": {},
   "outputs": [],
   "source": [
    "def conjugTranspose(m1):\n",
    "    #Complete the function\n",
    "    \n",
    "#Example execution    \n",
    "assert numpy.allclose(conjugTranspose([[4+2j,5+6j],[6+1j,7]]), [[(4-2j), (6-1j)], [(5-6j), (7-0j)]])"
   ]
  },
  {
   "cell_type": "markdown",
   "metadata": {
    "nbgrader": {
     "grade": false,
     "grade_id": "cell-ca817b1feea3b0f5",
     "locked": true,
     "schema_version": 1,
     "solution": false
    }
   },
   "source": [
    "***\n",
    "#### End of Quiz 4\n",
    "***"
   ]
  }
 ],
 "metadata": {
  "kernelspec": {
   "display_name": "Python 3 (ipykernel)",
   "language": "python",
   "name": "python3"
  },
  "language_info": {
   "codemirror_mode": {
    "name": "ipython",
    "version": 3
   },
   "file_extension": ".py",
   "mimetype": "text/x-python",
   "name": "python",
   "nbconvert_exporter": "python",
   "pygments_lexer": "ipython3",
   "version": "3.12.2"
  },
  "module_details": {
   "module_prereqs": [
    "m4-quiz-4.1",
    "m4-quiz-4.2",
    "m4-quiz-4.3"
   ],
   "module_title": [
    "m4-final-quiz"
   ]
  }
 },
 "nbformat": 4,
 "nbformat_minor": 4
}
