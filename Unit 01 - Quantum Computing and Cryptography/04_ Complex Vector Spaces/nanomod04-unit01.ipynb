{
 "cells": [
  {
   "cell_type": "markdown",
   "metadata": {
    "cell_details": {
     "cell_ID": "m4-LearningOutcomes",
     "cell_alternates": [],
     "cell_concepts": [
      "Learning Outcomes"
     ],
     "cell_estimated_time": "1",
     "cell_interactive": "false",
     "cell_outcomes": [
      "Know the outcomes of learning Complex Vector Spaces"
     ],
     "cell_prereqs": [],
     "cell_title": "Learning Outcomes",
     "cell_type": [
      "text"
     ],
     "module_outcomes": [
      "Understand the concept of vector spaces in the context of complex numbers",
      "Learn basic operations within Complex Vector Spaces",
      "Understand and apply matrix operations in Complex Vector Spaces",
      "Develop programming skills for operations on complex vectors and matrices"
     ],
     "module_prereqs": [
      "Linear Algebra",
      "Complex Numbers",
      "Introduction to Programming",
      "Python Basics"
     ],
     "module_title": [
      "Complex Vector Spaces"
     ]
    },
    "editable": true,
    "slideshow": {
     "slide_type": "slide"
    },
    "tags": []
   },
   "source": [
    "# 4. Complex Vector Spaces\n",
    "\n",
    "### This lesson belongs to nanomodule 4 - unit 1\n",
    "\n",
    "<b>Learning Outcomes: </b>\n",
    "\n",
    "Upon completion of this lesson:\n",
    "\n",
    "4.1\tStudents will understand the concept and definition of Complex Vector Spaces.\n",
    "\n",
    "4.2\tStudents will be able to perform basic operation in Complex Vector Spaces.\n",
    "\n",
    "4.3\tStudents will prove properties of Complex Vector Spaces and operations.\n",
    "\n",
    "4.4\tStudents will be able to perform matrix operations and understand and use their properties.\n",
    "\n",
    "4.5\tStudent will be able to implement programs that performs addition, multiplication, transpose, conjugate and dagger operations on vectors and matrices.\n"
   ]
  },
  {
   "cell_type": "markdown",
   "metadata": {
    "cell_details": {
     "cell_ID": "m4-Background",
     "cell_alternates": [],
     "cell_concepts": [
      "Complex Vector Spaces"
     ],
     "cell_estimated_time": "2",
     "cell_interactive": "false",
     "cell_outcomes": [
      "Understand the concept of complex vector spaces",
      "Identify examples of complex vectors in different dimensions"
     ],
     "cell_prereqs": [
      "m1-complexNumbers"
     ],
     "cell_title": "Complex Vector Space ",
     "cell_type": [
      "text"
     ],
     "module_outcomes": [
      "Understand the concept of vector spaces in the context of complex numbers",
      "Learn basic operations within Complex Vector Spaces",
      "Understand and apply matrix operations in Complex Vector Spaces",
      "Develop programming skills for operations on complex vectors and matrices"
     ],
     "module_prereqs": [
      "Linear Algebra",
      "Complex Numbers",
      "Introduction to Programming",
      "Python Basics"
     ],
     "module_title": [
      "Complex Vector Spaces"
     ]
    },
    "editable": true,
    "slideshow": {
     "slide_type": "slide"
    },
    "tags": []
   },
   "source": [
    "## 4.1 Background\n",
    "\n",
    "In short, a set of vectors of fixed lengths with complex entries forms a complex vector space. These vectors will represent the state of a quantum system. When we say $\\mathbb{C}^n$ we intend to describe a complex vector space of $n^{th}$ dimension. Following are examples of complex vector spaces of 2, 3 and 4 dimensions respectively,\n",
    "\n",
    "$$\\begin{bmatrix}4+3i\\\\ 2\\end{bmatrix}, \\begin{bmatrix}7i\\\\ 0\\\\ 4\\end{bmatrix}, \\mbox{ and } \\begin{bmatrix}4\\\\ 4+1i\\\\ 9\\\\ 10\\end{bmatrix}$$"
   ]
  },
  {
   "cell_type": "markdown",
   "metadata": {
    "cell_details": {
     "cell_ID": "m4-OperationsComplexVectors",
     "cell_alternates": [],
     "cell_concepts": [
      "Operations with Complex Vector Spaces"
     ],
     "cell_estimated_time": "3",
     "cell_interactive": "false",
     "cell_outcomes": [
      "Understand and perform addition of complex vectors",
      "Apply commutative and associative properties in vector addition"
     ],
     "cell_prereqs": [
      "m4-Background"
     ],
     "cell_title": "Operations of Complex Vectors",
     "cell_type": [
      "text"
     ],
     "module_outcomes": [
      "Understand the concept of vector spaces in the context of complex numbers",
      "Learn basic operations within Complex Vector Spaces",
      "Understand and apply matrix operations in Complex Vector Spaces",
      "Develop programming skills for operations on complex vectors and matrices"
     ],
     "module_prereqs": [
      "Linear Algebra",
      "Complex Numbers",
      "Introduction to Programming",
      "Python Basics"
     ],
     "module_title": [
      "Complex Vector Spaces"
     ]
    },
    "editable": true,
    "slideshow": {
     "slide_type": "slide"
    },
    "tags": []
   },
   "source": [
    "## 4.2 Operations of Complex Vectors\n",
    "\n",
    "<b>Addition:</b> We can add the vectors that have the same dimensions. For example, given,\n",
    "$$X=\\begin{bmatrix}7i\\\\ 0\\\\ 4\\end{bmatrix} \\mbox{ and } Y=\\begin{bmatrix}1-2i\\\\ 5+1i\\\\ -3\\end{bmatrix}$$\n",
    "then $X+Y$ amounts to elementwise addition.\n",
    "$$Z=X+Y=\\begin{bmatrix}(7i)+(1-2i)\\\\ (0)+(5+1i)\\\\ (4)+(-3)\\end{bmatrix}=\\begin{bmatrix}1+5i\\\\5+1i\\\\1\\end{bmatrix}$$\n",
    "\n",
    "Further addition is <b>commutative</b>. Therefore, $X+Y = Y+X$.\n",
    "\n",
    "And <b>associative</b>, i.e., for three vectors $X, Y$ and $Z$: $(X+Y)+Z=X+(Y+Z)$."
   ]
  },
  {
   "cell_type": "markdown",
   "metadata": {
    "cell_details": {
     "cell_ID": "m4-OperationsScalar",
     "cell_alternates": [],
     "cell_concepts": [
      "Operations with Complex Vector Spaces"
     ],
     "cell_estimated_time": "3",
     "cell_interactive": "false",
     "cell_outcomes": [
      "Understand and perform addition of complex vectors as a scalar"
     ],
     "cell_prereqs": [
      "m4-Background"
     ],
     "cell_title": "Opeartions with a scalar",
     "cell_type": [
      "text"
     ],
     "module_outcomes": [
      "Understand the concept of vector spaces in the context of complex numbers",
      "Learn basic operations within Complex Vector Spaces",
      "Understand and apply matrix operations in Complex Vector Spaces",
      "Develop programming skills for operations on complex vectors and matrices"
     ],
     "module_prereqs": [
      "Linear Algebra",
      "Complex Numbers",
      "Introduction to Programming",
      "Python Basics"
     ],
     "module_title": [
      "Complex Vector Spaces"
     ]
    },
    "editable": true,
    "jp-MarkdownHeadingCollapsed": true,
    "slideshow": {
     "slide_type": "slide"
    },
    "tags": []
   },
   "source": [
    "## 4.3 Operations with a scalar\n",
    "\n",
    "We will call a complex number $c=a+bi$ a <b>scalar</b>. To multiply a vector with a scalar we simply multiply every element of the vector with the scalar.\n",
    "\n",
    "For example, let $c=2+5i$, then $c\\cdot X = (2+5i)\\cdot\\begin{bmatrix}7i\\\\0\\\\4\\end{bmatrix}=\\begin{bmatrix}(2+5i)\\cdot7i\\\\(2+5i)\\cdot0\\\\(2+5i)\\cdot4\\end{bmatrix}=\\begin{bmatrix}14i-35\\\\0\\\\8+20i\\end{bmatrix}$\n",
    "\n",
    "Properties of scalar multiplication include associativity and distributivity over addition."
   ]
  },
  {
   "cell_type": "markdown",
   "metadata": {
    "cell_details": {
     "cell_ID": "m4-AdditiveIdentityInverse",
     "cell_alternates": [],
     "cell_concepts": [
      "Operations with Complex Vector Spaces"
     ],
     "cell_estimated_time": "1",
     "cell_interactive": "false",
     "cell_outcomes": [
      "Understand the concept of additive identity and additive inverse in complex vector spaces",
      "Compute the additive inverse of complex vectors"
     ],
     "cell_prereqs": [
      "m4-Background"
     ],
     "cell_title": "Additive Identity and Inverse",
     "cell_type": [
      "text"
     ],
     "module_outcomes": [
      "Understand the concept of vector spaces in the context of complex numbers",
      "Learn basic operations within Complex Vector Spaces",
      "Understand and apply matrix operations in Complex Vector Spaces",
      "Develop programming skills for operations on complex vectors and matrices"
     ],
     "module_prereqs": [
      "Linear Algebra",
      "Complex Numbers",
      "Introduction to Programming",
      "Python Basics"
     ],
     "module_title": [
      "Complex Vector Spaces"
     ]
    },
    "editable": true,
    "slideshow": {
     "slide_type": "slide"
    },
    "tags": []
   },
   "source": [
    "## 4.4 Additive Identity and Inverse\n",
    "\n",
    "The zero vector, denoted by $\\mathbf{0}$ (in bold) acts as the <b>additive identity</b>. For example additive identity for $\\mathbb{C}^3$ is $[0, 0, 0]^T$; here, $T$ in the superscript denotes the transpose operation.\n",
    "\n",
    "Similarly, we have an <b>additive inverse</b> for every vector in a given complex vector space. The additive inverse is simply the negative of the vector that when added to it will make the result $\\mathbf{0}$. \n",
    "\n",
    "For vector $X$ above, the additive inverse is $-X = (-1)\\cdot X =\\begin{bmatrix}-7i\\\\ 0\\\\ -4\\end{bmatrix}$ and $X+(-X)=$ $\\mathbf{0}$."
   ]
  },
  {
   "cell_type": "markdown",
   "metadata": {
    "cell_details": {
     "cell_ID": "m4-quiz-4.1",
     "cell_alternates": [
      "m4-quiz-4.1-interactive"
     ],
     "cell_concepts": [
      "Operations with Complex Vector Spaces"
     ],
     "cell_estimated_time": "5",
     "cell_interactive": "true",
     "cell_outcomes": [
      "Compute addition and subtraction of complex vectors",
      "Perform scalar multiplication on complex vectors",
      "Verify properties of complex vector spaces numerically"
     ],
     "cell_prereqs": [
      "m4-OperationsComplexVectors",
      "m4-OperationsScalar",
      "m4-AdditiveIdentityInverse"
     ],
     "cell_title": "Self Assessment Quiz 1",
     "cell_type": [
      "quiz"
     ],
     "module_outcomes": [
      "Understand the concept of vector spaces in the context of complex numbers",
      "Learn basic operations within Complex Vector Spaces",
      "Understand and apply matrix operations in Complex Vector Spaces",
      "Develop programming skills for operations on complex vectors and matrices"
     ],
     "module_prereqs": [
      "Linear Algebra",
      "Complex Numbers",
      "Introduction to Programming",
      "Python Basics"
     ],
     "module_title": [
      "Complex Vector Spaces"
     ]
    },
    "editable": true,
    "slideshow": {
     "slide_type": "slide"
    },
    "tags": []
   },
   "source": [
    "## Quiz 4.1 Self Assessment Quiz\n",
    "<b>Maybe used for in-class hands-on practice.</b>\n",
    "\n",
    "<b><i>Run the code in the next cell to generate a interactive version of this quiz.</i></b>\n",
    "\n",
    "Let $c_1=2+7i$, $c_2=1-5i$ and $X=\\begin{bmatrix}5i\\\\5-1i\\\\7+10i\\end{bmatrix}$ and $Y=\\begin{bmatrix}-2i\\\\3+5i\\\\12\\end{bmatrix}$\n",
    "\n",
    "1. Compute the following,\n",
    "\n",
    "    a. $X+Y$\n",
    "\n",
    "    b. $X-Y$\n",
    "\n",
    "    c. $c_1X+c_2Y$\n",
    "2. Numerically verify the following properties,\n",
    "\n",
    "    a. $c_1\\cdot(c_2\\cdot X) = (c_1\\times c_2)\\cdot X$\n",
    "\n",
    "    b. $c\\cdot(X+Y)=c\\cdot X+c\\cdot Y$\n",
    "\n",
    "    c. $(c_1+c_2)\\cdot X=c_1\\cdot V+c_2\\cdot X$\n",
    "<br><br>\n",
    "3. If for some complex number $c$ we have $c\\cdot X=X$, then $c= ?$"
   ]
  },
  {
   "cell_type": "code",
   "execution_count": null,
   "metadata": {
    "cell_details": {
     "cell_ID": "m4-quiz-4.1-interactive",
     "cell_alternates": [
      "m4-quiz-4.1"
     ],
     "cell_concepts": [
      "Operations with Complex Vector Spaces"
     ],
     "cell_estimated_time": "10",
     "cell_interactive": "true",
     "cell_outcomes": [
      "Compute addition and subtraction of complex vectors",
      "Perform scalar multiplication on complex vectors",
      "Verify properties of complex vector spaces numerically"
     ],
     "cell_prereqs": [
      "m4-OperationsComplexVectors",
      "m4-OperationsScalar",
      "m4-AdditiveIdentityInverse"
     ],
     "cell_title": "Self Assessment Quiz 1 interactive",
     "cell_type": [
      "quiz"
     ],
     "module_outcomes": [
      "Understand the concept of vector spaces in the context of complex numbers",
      "Learn basic operations within Complex Vector Spaces",
      "Understand and apply matrix operations in Complex Vector Spaces",
      "Develop programming skills for operations on complex vectors and matrices"
     ],
     "module_prereqs": [
      "Linear Algebra",
      "Complex Numbers",
      "Introduction to Programming",
      "Python Basics"
     ],
     "module_title": [
      "Complex Vector Spaces"
     ]
    },
    "editable": true,
    "slideshow": {
     "slide_type": "slide"
    },
    "tags": []
   },
   "outputs": [],
   "source": [
    "%run pyfiles/saquiz4_1  #This runs the file that has the quiz code\n",
    "createQuiz4_1()"
   ]
  },
  {
   "cell_type": "markdown",
   "metadata": {
    "cell_details": {
     "cell_ID": "m4-ComplexVectorSpaces",
     "cell_alternates": [],
     "cell_concepts": [
      "Operations with Complex Vector Spaces"
     ],
     "cell_estimated_time": "3",
     "cell_interactive": "false",
     "cell_outcomes": [
      "Understand the definition of complex vector spaces",
      "Identify operations and properties in complex vector spaces"
     ],
     "cell_prereqs": [
      "m4-OperationsComplexVectors",
      "m4-OperationsScalar",
      "m4-AdditiveIdentityInverse",
      "m4-quiz-4.1",
      "m4-quiz-4.1-interactive"
     ],
     "cell_title": "Complex Vector Spaces Properties",
     "cell_type": [
      "text"
     ],
     "module_outcomes": [
      "Understand the concept of vector spaces in the context of complex numbers",
      "Learn basic operations within Complex Vector Spaces",
      "Understand and apply matrix operations in Complex Vector Spaces",
      "Develop programming skills for operations on complex vectors and matrices"
     ],
     "module_prereqs": [
      "Linear Algebra",
      "Complex Numbers",
      "Introduction to Programming",
      "Python Basics"
     ],
     "module_title": [
      "Complex Vector Spaces"
     ]
    },
    "editable": true,
    "slideshow": {
     "slide_type": "slide"
    },
    "tags": []
   },
   "source": [
    "## 4.5 Complex Vector Spaces\n",
    "\n",
    "We mentioned before that a nonempty set of vectors, denoted $\\mathbb{V}$, with complex entries and fixed length forms a complex vector space. The set accommodates the following operations: addition, negation and multiplication with a scalar. Further, it also has a special zero vector that forms the additive identity. We denote this vector by $\\textbf{0}$.\n",
    "\n",
    "Further, the vectors and operations in complex vector space satisfy the following properties:\n",
    "1. Addition is commutative and associative\n",
    "2. Every vector has a additive inverse: $X+(-X)=\\textbf{0}$\n",
    "3. Scalar multiplication distributes over addition and is associative."
   ]
  },
  {
   "cell_type": "markdown",
   "metadata": {
    "cell_details": {
     "cell_ID": "m4-MatricesComplexVectorSpaces",
     "cell_alternates": [],
     "cell_concepts": [
      "Matrices and Complex Vector Spaces"
     ],
     "cell_estimated_time": "4",
     "cell_interactive": "false",
     "cell_outcomes": [
      "Understand matrices as complex vector spaces",
      "Identify and perform additional operations for matrices: transpose, conjugate, and dagger"
     ],
     "cell_prereqs": [
      "m4-Background",
      "m4-ComplexVectorSpaces"
     ],
     "cell_title": "Matrices and Complex Vector Spaces",
     "cell_type": [
      "text"
     ],
     "module_outcomes": [
      "Understand the concept of vector spaces in the context of complex numbers",
      "Learn basic operations within Complex Vector Spaces",
      "Understand and apply matrix operations in Complex Vector Spaces",
      "Develop programming skills for operations on complex vectors and matrices"
     ],
     "module_prereqs": [
      "Linear Algebra",
      "Complex Numbers",
      "Introduction to Programming",
      "Python Basics"
     ],
     "module_title": [
      "Complex Vector Spaces"
     ]
    },
    "editable": true,
    "slideshow": {
     "slide_type": "slide"
    },
    "tags": []
   },
   "source": [
    "## 4.6 Matrices and Complex Vector Spaces\n",
    "\n",
    "So far we've seen complex vector spaces formed using a set of vectors. By simple extension one can see that the set of $m\\times n$ matrices with complex entries also forms a complex vector space. We will leave it to the reader to explore the extension of properties, we've discussed for vectors, to matrices and verify that matrices satisfy the definition of complex vector spaces.\n",
    "\n",
    "There are three additional operations that we must discuss. Note that vectors are just matrices with one column. For a matrix $P$, $P[j,k]$ is the element in $j^{th}$ row and $k^{th}$ column.\n",
    "\n",
    "1. <b>Transpose</b> is defined as $P^T[j,k]=P[k,j]$.\n",
    "2. <b>Conjugate</b>, denoted $\\overline{P}$ or $P^*$ is a new matrix $\\overline{P}[j,k]=\\overline{P[j,k]}$, i.e. the complex conjugate of a matrix is a matrix where we've taken the complex conjugate of every element of the original matrix.\n",
    "3. <b>Dagger/Adjoint:</b> When we take both the complex conjugate and transpose of a matrix, we call the combined operation as adjoint or dagger operation. The new matrix is denoted as $P^\\dagger$, where $P^\\dagger=(\\overline{P})^T=\\overline{(P^T)}$ or $P^\\dagger[j,k]=\\overline{P[k,j]}$."
   ]
  },
  {
   "cell_type": "markdown",
   "metadata": {
    "cell_details": {
     "cell_ID": "m4-PropertiesTransposeConjugateDagger",
     "cell_alternates": [],
     "cell_concepts": [
      "Properties of Transpose, Conjugate and Dagger Operations"
     ],
     "cell_estimated_time": "4",
     "cell_interactive": "false",
     "cell_outcomes": [
      "Understand the properties of transpose, conjugate, and dagger operations",
      "Apply properties of these operations to complex matrices"
     ],
     "cell_prereqs": [
      "m4-MatricesComplexVectorSpaces"
     ],
     "cell_title": "Properties of Transpose, Conjugate and Dagger Operations",
     "cell_type": [
      "text"
     ],
     "module_outcomes": [
      "Understand the concept of vector spaces in the context of complex numbers",
      "Learn basic operations within Complex Vector Spaces",
      "Understand and apply matrix operations in Complex Vector Spaces",
      "Develop programming skills for operations on complex vectors and matrices"
     ],
     "module_prereqs": [
      "Linear Algebra",
      "Complex Numbers",
      "Introduction to Programming",
      "Python Basics"
     ],
     "module_title": [
      "Complex Vector Spaces"
     ]
    },
    "slideshow": {
     "slide_type": "slide"
    }
   },
   "source": [
    "## 4.7 Properties of Transpose, Conjugate and Dagger Operations\n",
    "\n",
    "These operations satisfy the following properties for all $c\\in\\mathbb{C}$ and for all $P$, $Q\\in\\mathbb{C}^{m\\times n}$:\n",
    "\n",
    "1. Transpose, conjugate and adjoint are idempotent. Therefore,\n",
    "$$(P^T)^T=P$$\n",
    "$$\\overline{\\overline{P}}=P$$\n",
    "$$(P^\\dagger)^\\dagger = P$$\n",
    "<br>\n",
    "2. Transpose, conjugate and adjoint respect addition. Therefore, $$(P+Q)^T=P^T+Q^T$$\n",
    "$$(P+Q)^\\dagger=P^\\dagger+Q^\\dagger$$ $$\\overline{P+Q}=\\overline{P}+\\overline{Q}$$\n",
    "<br>\n",
    "3. Transpose, conjugate and adjoint respect scalar multiplication. Therefore, $$(c\\cdot P)^T=c\\cdot P^T$$\n",
    "$$\\overline{c\\cdot P}=\\overline{c}\\cdot\\overline{P}$$\n",
    "$$(c\\cdot P)^\\dagger = \\overline{c}\\cdot P^\\dagger$$\n"
   ]
  },
  {
   "cell_type": "markdown",
   "metadata": {
    "cell_details": {
     "cell_ID": "m4-quiz-4.2",
     "cell_alternates": [
      "m4-quiz-4.2-interactive"
     ],
     "cell_concepts": [
      "Properties of Transpose, Conjugate and Dagger Operations"
     ],
     "cell_estimated_time": "20",
     "cell_interactive": "false",
     "cell_outcomes": [
      "Numerically verify the properties of transpose, conjugate, and dagger operations for complex matrices"
     ],
     "cell_prereqs": [
      "m4-ComplexVectorSpaces",
      "m4-MatricesComplexVectorSpaces",
      "m4-PropertiesTransposeConjugateDagger"
     ],
     "cell_title": "Self Assessment Quiz 2",
     "cell_type": [
      "quiz"
     ],
     "module_outcomes": [
      "Understand the concept of vector spaces in the context of complex numbers",
      "Learn basic operations within Complex Vector Spaces",
      "Understand and apply matrix operations in Complex Vector Spaces",
      "Develop programming skills for operations on complex vectors and matrices"
     ],
     "module_prereqs": [
      "Linear Algebra",
      "Complex Numbers",
      "Introduction to Programming",
      "Python Basics"
     ],
     "module_title": [
      "Complex Vector Spaces"
     ]
    },
    "slideshow": {
     "slide_type": "slide"
    }
   },
   "source": [
    "## Quiz 4.2 Self Assessment Quiz\n",
    "<b>Maybe used for in-class hands-on practice.</b>\n",
    "\n",
    "<b><i>Run the code in the next cell to generate a interactive version of this quiz.</i></b>\n",
    "\n",
    "Given $A=\\begin{bmatrix}1+i&2\\\\-3&1-i\\end{bmatrix}$ and $B=\\begin{bmatrix}-1&5i\\\\6+11i&5-9i\\end{bmatrix}$, verify the following properties numerically,\n",
    "\n",
    "1. $(A+B)^T = A^T+B^T$\n",
    "\n",
    "2. $\\overline{A+B}=\\overline{A}+\\overline{B}$\n",
    "\n",
    "3. $(A+B)^\\dagger = A^\\dagger+B^\\dagger$"
   ]
  },
  {
   "cell_type": "code",
   "execution_count": null,
   "metadata": {
    "cell_details": {
     "cell_ID": "m4-quiz-4.2-interactive",
     "cell_alternates": [
      "m4-quiz-4.2"
     ],
     "cell_concepts": [
      "Properties of Transpose, Conjugate and Dagger Operations"
     ],
     "cell_estimated_time": "20",
     "cell_interactive": "false",
     "cell_outcomes": [
      "Numerically verify the properties of transpose, conjugate, and dagger operations for complex matrices"
     ],
     "cell_prereqs": [
      "m4-ComplexVectorSpaces",
      "m4-MatricesComplexVectorSpaces",
      "m4-PropertiesTransposeConjugateDagger"
     ],
     "cell_title": "Self Assessment Quiz 2 interactive",
     "cell_type": [
      "quiz"
     ],
     "module_outcomes": [
      "Understand the concept of vector spaces in the context of complex numbers",
      "Learn basic operations within Complex Vector Spaces",
      "Understand and apply matrix operations in Complex Vector Spaces",
      "Develop programming skills for operations on complex vectors and matrices"
     ],
     "module_prereqs": [
      "Linear Algebra",
      "Complex Numbers",
      "Introduction to Programming",
      "Python Basics"
     ],
     "module_title": [
      "Complex Vector Spaces"
     ]
    },
    "editable": true,
    "slideshow": {
     "slide_type": "slide"
    },
    "tags": []
   },
   "outputs": [],
   "source": [
    "%run pyfiles/saquiz4_2  #This runs the file that has the quiz code\n",
    "createQuiz4_2()"
   ]
  },
  {
   "cell_type": "markdown",
   "metadata": {
    "cell_details": {
     "cell_ID": "m4-MatrixMultiplication",
     "cell_alternates": [],
     "cell_concepts": [
      "Matrix Multiplication and Properties"
     ],
     "cell_estimated_time": "4",
     "cell_interactive": "false",
     "cell_outcomes": [
      "Understand and perform matrix multiplication in complex vector spaces",
      "Recognize the non-commutative nature of matrix multiplication"
     ],
     "cell_prereqs": [
      "m4-OperationsComplexVectors"
     ],
     "cell_title": "Matrix Multiplication",
     "cell_type": [
      "text"
     ],
     "module_outcomes": [
      "Understand the concept of vector spaces in the context of complex numbers",
      "Learn basic operations within Complex Vector Spaces",
      "Understand and apply matrix operations in Complex Vector Spaces",
      "Develop programming skills for operations on complex vectors and matrices"
     ],
     "module_prereqs": [
      "Linear Algebra",
      "Complex Numbers",
      "Introduction to Programming",
      "Python Basics"
     ],
     "module_title": [
      "Complex Vector Spaces"
     ]
    },
    "editable": true,
    "slideshow": {
     "slide_type": "slide"
    },
    "tags": []
   },
   "source": [
    "## 4.8 Matrix Multiplication\n",
    "\n",
    "In order to multiply two matrices, the number of columns in the first matrix must be equal to the number of rows in the second matrix. For example,\n",
    "\n",
    "$$P = \\begin{bmatrix}3+2i& 1& 2i\\\\ 4& 6+1i& 0\\\\ 2i& 5i& -1\\end{bmatrix} \\mbox{ and }\n",
    "Q = \\begin{bmatrix}0& 1\\\\ 1i& 6-4i\\\\ 2i& 1\\end{bmatrix}$$\n",
    "\n",
    "Then $R = P\\cdot Q = \\begin{bmatrix}(3+2i)(0)+(1)(1i)+(2i)(2i)&\n",
    "(3+2i)(1)+(1)(6-4i)+(2i)(1)\\\\\n",
    "(4)(0)+(6+1i)(1i)+(0)(2i)&\n",
    "(4)(1)+(6+1i)(6-4i)+(0)(1)\\\\\n",
    "(2i)(0)+(5i)(1i)+(-1)(2i)&\n",
    "(2i)(1)+(5i)(6-4i)+(-1)(1)\n",
    "\\end{bmatrix}=\\begin{bmatrix}\n",
    "-4+i & 9\\\\\n",
    "-1+6i & 44-18i\\\\\n",
    "-5-2i & 19+32i\\end{bmatrix}$\n",
    "\n",
    "Therefore, matrix multiplication maps two complex vector spaces into a third one as follows: $\\mathbb{C}^{m\\times n}\\times\\mathbb{C}^{n\\times p}\\rightarrow\\mathbb{C}^{m\\times p}$; here $\\times$ denotes cartesian product.\n",
    "\n",
    "It is to be noted that, in general, matrix multiplication does <b>not</b> commute. That is, $P\\cdot Q$ may not always be equal to $Q\\cdot P$."
   ]
  },
  {
   "cell_type": "markdown",
   "metadata": {
    "cell_details": {
     "cell_ID": "m4-IdentityMatrix",
     "cell_alternates": [],
     "cell_concepts": [
      "Matrix Multiplication and Properties"
     ],
     "cell_estimated_time": "2",
     "cell_interactive": "false",
     "cell_outcomes": [
      "Understand the role of the identity matrix in matrix multiplication",
      "Identify the identity matrix and its properties within complex vector spaces"
     ],
     "cell_prereqs": [
      "m4-MatrixMultiplication"
     ],
     "cell_title": "Identity Matrix",
     "cell_type": [
      "text"
     ],
     "module_outcomes": [
      "Understand the concept of vector spaces in the context of complex numbers",
      "Learn basic operations within Complex Vector Spaces",
      "Understand and apply matrix operations in Complex Vector Spaces",
      "Develop programming skills for operations on complex vectors and matrices"
     ],
     "module_prereqs": [
      "Linear Algebra",
      "Complex Numbers",
      "Introduction to Programming",
      "Python Basics"
     ],
     "module_title": [
      "Complex Vector Spaces"
     ]
    },
    "editable": true,
    "slideshow": {
     "slide_type": "slide"
    },
    "tags": []
   },
   "source": [
    "## 4.9 Identity Matrix\n",
    "\n",
    "There is a special $n\\times n$ square matrix that acts as a <b>multiplicative identity</b>. The identity matrix is denoted by $I_n$ and has the following structure,\n",
    "\n",
    "$$I_n=\\begin{bmatrix}1& 0&\\ldots& 0\\\\\n",
    "0& 1& \\ldots & 0\\\\\n",
    "\\vdots &\\vdots &\\ddots& \\vdots\\\\\n",
    "0& 0& \\ldots & 1\\end{bmatrix}$$\n",
    "\n",
    "Often, the dimension $n$ is implied and not written out explicitly in the subscript."
   ]
  },
  {
   "cell_type": "markdown",
   "metadata": {
    "cell_details": {
     "cell_ID": "m4-PropertiesMatrixMultiplication",
     "cell_alternates": [],
     "cell_concepts": [
      "Matrix Multiplication and Properties"
     ],
     "cell_estimated_time": "4",
     "cell_interactive": "false",
     "cell_outcomes": [
      "Understand and apply the properties of matrix multiplication within complex vector spaces"
     ],
     "cell_prereqs": [
      "m4-MatrixMultiplication",
      "m4-IdentityMatrix"
     ],
     "cell_title": "Properties of Matrix Multiplication",
     "cell_type": [
      "text"
     ],
     "module_outcomes": [
      "Understand the concept of vector spaces in the context of complex numbers",
      "Learn basic operations within Complex Vector Spaces",
      "Understand and apply matrix operations in Complex Vector Spaces",
      "Develop programming skills for operations on complex vectors and matrices"
     ],
     "module_prereqs": [
      "Linear Algebra",
      "Complex Numbers",
      "Introduction to Programming",
      "Python Basics"
     ],
     "module_title": [
      "Complex Vector Spaces"
     ]
    },
    "editable": true,
    "slideshow": {
     "slide_type": "slide"
    },
    "tags": []
   },
   "source": [
    "## 4.10 Properties of Matrix Multiplication\n",
    "\n",
    "Matrix multiplication satisfies the following properties: For all $P$, $Q$ and $R$ in $\\mathbb{C}^{n\\times n}$.\n",
    "\n",
    "1. Associativity: $(P\\cdot Q)\\cdot R = P\\cdot(Q\\cdot R)$.\n",
    "2. Identity exists for square matrices: $I\\cdot P = P\\cdot I$.\n",
    "3. Distributivity: Multiplication distributes over addition: $P\\cdot(Q+R)=(P\\cdot Q)+(P\\cdot R)$.\n",
    "4. Matrix multiplication respects scalar: $c\\cdot(P\\cdot Q) = (c\\cdot P)\\cdot Q = P\\cdot(c\\cdot Q)$.\n",
    "5. Transpose relationship: $(P\\cdot Q)^T = Q^T\\cdot P^T$.\n",
    "6. Matrix multiplication respects the conjugation: $\\overline{P\\cdot Q}=\\overline{P}\\cdot\\overline{Q}$.\n",
    "7. Matrix multiplication relates to adjoint: $(P\\cdot Q)^\\dagger = Q^\\dagger\\cdot P^\\dagger$."
   ]
  },
  {
   "cell_type": "markdown",
   "metadata": {
    "cell_details": {
     "cell_ID": "m4-quiz-4.3",
     "cell_alternates": [
      "m4-quiz-4.3-interactive"
     ],
     "cell_concepts": [
      "Matrix Multiplication and Properties"
     ],
     "cell_estimated_time": "25",
     "cell_interactive": "false",
     "cell_outcomes": [
      "Numerically verify the properties of matrix multiplication within complex vector spaces"
     ],
     "cell_prereqs": [
      "m4-MatrixMultiplication",
      "m4-IdentityMatrix",
      "m4-PropertiesMatrixMultiplication",
      "m4-quiz-4.2",
      "m4-quiz-4.2-interactive"
     ],
     "cell_title": "Self Assessment Quiz 3",
     "cell_type": [
      "quiz"
     ],
     "module_outcomes": [
      "Understand the concept of vector spaces in the context of complex numbers",
      "Learn basic operations within Complex Vector Spaces",
      "Understand and apply matrix operations in Complex Vector Spaces",
      "Develop programming skills for operations on complex vectors and matrices"
     ],
     "module_prereqs": [
      "Linear Algebra",
      "Complex Numbers",
      "Introduction to Programming",
      "Python Basics"
     ],
     "module_title": [
      "Complex Vector Spaces"
     ]
    },
    "editable": true,
    "slideshow": {
     "slide_type": "slide"
    },
    "tags": []
   },
   "source": [
    "## Quiz 4.3 Self Assessment Quiz\n",
    "<b>Maybe used for in-class hands-on practice.</b>\n",
    "\n",
    "<b><i>Run the code in the next cell to generate a interactive version of this quiz.</i></b>\n",
    "\n",
    "Let $A=\\begin{bmatrix}2& 1-3i\\\\-1-3i& 4\\end{bmatrix}$, $B=\\begin{bmatrix}i&-i\\\\ 4+1i& 5i\\end{bmatrix}$,\n",
    "$C=\\begin{bmatrix}10-1i&0\\\\-1&1\\end{bmatrix}$ and $c=5-5i$.\n",
    "\n",
    "Verify the following properties:\n",
    "\n",
    "1. $(A\\cdot B)\\cdot C = A\\cdot(B\\cdot C)$\n",
    "\n",
    "2. $A\\cdot(B+C) = (A\\cdot B)+(A\\cdot C)$\n",
    "\n",
    "3. $c\\cdot(A\\cdot B) = (c\\cdot A)\\cdot B = A\\cdot(c\\cdot B)$"
   ]
  },
  {
   "cell_type": "code",
   "execution_count": null,
   "metadata": {
    "cell_details": {
     "cell_ID": "m4-quiz-4.3-interactive",
     "cell_alternates": [
      "m4-quiz-4.3"
     ],
     "cell_concepts": [
      "Matrix Multiplication and Properties"
     ],
     "cell_estimated_time": "25",
     "cell_interactive": "false",
     "cell_outcomes": [
      "Numerically verify the properties of matrix multiplication within complex vector spaces"
     ],
     "cell_prereqs": [
      "m4-MatrixMultiplication",
      "m4-IdentityMatrix",
      "m4-PropertiesMatrixMultiplication",
      "m4-Quiz-4.2"
     ],
     "cell_title": "Self Assessment Quiz 3 interactive",
     "cell_type": [
      "quiz"
     ],
     "module_outcomes": [
      "Understand the concept of vector spaces in the context of complex numbers",
      "Learn basic operations within Complex Vector Spaces",
      "Understand and apply matrix operations in Complex Vector Spaces",
      "Develop programming skills for operations on complex vectors and matrices"
     ],
     "module_prereqs": [
      "Linear Algebra",
      "Complex Numbers",
      "Introduction to Programming",
      "Python Basics"
     ],
     "module_title": [
      "Complex Vector Spaces"
     ]
    },
    "editable": true,
    "slideshow": {
     "slide_type": "slide"
    },
    "tags": []
   },
   "outputs": [],
   "source": [
    "%run pyfiles/saquiz4_3  #This runs the file that has the quiz code\n",
    "createQuiz4_3()"
   ]
  },
  {
   "cell_type": "markdown",
   "metadata": {
    "cell_details": {
     "cell_ID": "m4-Conclusions",
     "cell_alternates": [],
     "cell_concepts": [
      "Conclusions"
     ],
     "cell_estimated_time": "2",
     "cell_interactive": "false",
     "cell_outcomes": [
      "Summarize the concepts of complex vector spaces and their operations",
      "Prepare for the upcoming lessons on linear independence and basis for complex vector spaces"
     ],
     "cell_prereqs": [],
     "cell_title": "Conclusions",
     "cell_type": [
      "text"
     ],
     "module_outcomes": [
      "Understand the concept of vector spaces in the context of complex numbers",
      "Learn basic operations within Complex Vector Spaces",
      "Understand and apply matrix operations in Complex Vector Spaces",
      "Develop programming skills for operations on complex vectors and matrices"
     ],
     "module_prereqs": [
      "Linear Algebra",
      "Complex Numbers",
      "Introduction to Programming",
      "Python Basics"
     ],
     "module_title": [
      "Complex Vector Spaces"
     ]
    },
    "editable": true,
    "slideshow": {
     "slide_type": "slide"
    },
    "tags": []
   },
   "source": [
    "## 4.11 Conclusions\n",
    "\n",
    "In this lesson, we introduced complex vectors spaces formed out of fixed dimensional vectors and matrices. We discussed the various operations and properties of these operations that elements of a complex vector space satisfy. In the next lesson we will discuss the notion of linear independence and basis for a complex vector space."
   ]
  },
  {
   "cell_type": "markdown",
   "metadata": {
    "cell_details": {
     "cell_ID": "m4-finalQuiz-information",
     "cell_alternates": [],
     "cell_concepts": [],
     "cell_estimated_time": "1",
     "cell_interactive": "false",
     "cell_outcomes": [
      "Know the information about the final Quiz of this module"
     ],
     "cell_prereqs": [],
     "cell_title": "final Quiz 4",
     "cell_type": [
      "text"
     ],
     "module_outcomes": [
      "Master the concept of complex number representations",
      "Perform basic additive and multiplicative operations on complex numbers",
      "Implement Python programs for addition and multiplication on complex numbers"
     ],
     "module_prereqs": [
      "Algebra",
      "Introduction to Programming",
      "Python Basics"
     ],
     "module_title": [
      "The Basics of Complex Numbers"
     ]
    },
    "editable": true,
    "slideshow": {
     "slide_type": "slide"
    },
    "tags": []
   },
   "source": [
    "#### Final Quiz 4 is in a separate notebook with filename: finalquiz4.ipynb.\n",
    "\n",
    "Final quiz is intended to be completed and submitted to the instructor for grading. Solutions of final quizzes are available to instructors upon request."
   ]
  }
 ],
 "metadata": {
  "celltoolbar": "Slideshow",
  "kernelspec": {
   "display_name": "Python 3 (ipykernel)",
   "language": "python",
   "name": "python3"
  },
  "language_info": {
   "codemirror_mode": {
    "name": "ipython",
    "version": 3
   },
   "file_extension": ".py",
   "mimetype": "text/x-python",
   "name": "python",
   "nbconvert_exporter": "python",
   "pygments_lexer": "ipython3",
   "version": "3.12.2"
  },
  "module_details": {
   "module_concepts": [
    "Complex Vector Spaces",
    "Operations with Complex Vector Spaces",
    "Matrices and Complex Vector Spaces",
    "Properties of Transpose, Conjugate and Dagger Operations",
    "Matrix Multiplication and Properties"
   ],
   "module_outcomes": [
    "Students will understand the concept and definition of Complex Vector Spaces.",
    "Students will be able to perform basic operation in Complex Vector Spaces.",
    "Students will prove properties of Complex Vector Spaces and operations.",
    "Students will be able to perform matrix operations and understand and use their properties.",
    "Student will be able to implement programs that performs addition, multiplication, transpose, conjugate and dagger operations on vectors and matrices."
   ],
   "module_outcomes_mapping": [
    [
     "m4-Background"
    ],
    [
     "m4-OperationsComplexVectors",
     "m4-OperationsScalar"
    ],
    [
     "m4-quiz-4.1",
     "m4-quiz-4.1-interactive",
     "m4-ComplexVectorSpaces",
     "m4-MatricesComplexVectorSpaces",
     "m4-PropertiesTransposeConjugateDagger",
     "m4-quiz-4.2",
     "m4-quiz-4.2-interactive"
    ],
    [
     "m4-MatrixMultiplication",
     "m4-IdentityMatrix",
     "m4-PropertiesMatrixMultiplication",
     "m4-quiz-4.3",
     "m4-quiz-4.3-interactive"
    ],
    [
     "m4-final-quiz"
    ]
   ],
   "module_prereqs": [
    "Linear Algebra",
    "Complex Numbers",
    "Introduction to Programming",
    "Python Basics"
   ],
   "module_title": [
    "Complex Vector Spaces"
   ]
  }
 },
 "nbformat": 4,
 "nbformat_minor": 4
}
