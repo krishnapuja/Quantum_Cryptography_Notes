{
 "cells": [
  {
   "cell_type": "markdown",
   "metadata": {
    "slideshow": {
     "slide_type": "slide"
    }
   },
   "source": [
    "# 6. Properties and Operations on Vectors and Matrices in Complex Vector Spaces\n",
    "\n",
    "### This lesson belongs to nanomodule 6 - unit 1\n",
    "\n",
    "<b>Learning Outcomes: </b>\n",
    "\n",
    "Upon completion of this lesson:\n",
    "\n",
    "6.1\tStudents will understand the definition and properties of inner product of vectors and matrices.\n",
    "\n",
    "6.2\tStudents will be able to compute the inner product.\n",
    "\n",
    "6.3\tStudents will be able to compute the norm of a vector.\n",
    "\n",
    "6.4\tStudents will understand and apply the concept of orthogonal/orthonormal vectors and basis.\n",
    "\n",
    "6.5\tStudents will be able to represent a vector using a given basis set.\n",
    "\n",
    "6.6\tStudents will understand and apply the projection of one vector onto another vector.\n",
    "\n",
    "6.7\tStudent will synthesize concepts to write Python programs to determine the norm and inner product of vectors and matrices.\n"
   ]
  },
  {
   "cell_type": "markdown",
   "metadata": {
    "slideshow": {
     "slide_type": "slide"
    }
   },
   "source": [
    "## 6.1 Inner Product\n",
    "\n",
    "<b>Definition: </b> An inner product (also called a dot product or scalar product) on a complex vector space $\\mathbb{V}$ is a function that takes two vectors and produces a complex number as output.\n",
    "\n",
    "The inner product of vectors is given by $\\left<V_1,V_2\\right> = V_1^\\dagger\\cdot V_2$ for both $\\mathbb{R}^n$ and $\\mathbb{C}^n$.\n",
    "\n",
    "The inner product of matrices is given by $\\left<P,Q\\right>=Trace(P^\\dagger\\cdot Q)$.\n",
    "\n",
    "Note that for vectors and matrices belonging to $\\mathbb{R}^n$, the adjoint operation is equivalent to taking the transpose.\n",
    "\n"
   ]
  },
  {
   "cell_type": "markdown",
   "metadata": {
    "slideshow": {
     "slide_type": "slide"
    }
   },
   "source": [
    "## 6.2 Properties of Inner Product\n",
    "\n",
    "1. $\\left<V,V\\right> \\geq 0$ with equality only if $V=\\textbf{0}$   \n",
    "2. $\\left<V_1+V_2,V_3\\right> = \\left<V_1,V_3\\right>+\\left<V_2,V_3\\right>$<br>\n",
    "3. $\\left<V_1,V_2+V_3\\right> = \\left<V_1,V_2\\right>+\\left<V_1,V_3\\right>$\n",
    "4. $\\left<c\\cdot V_1,V_2\\right>=\\overline{c}\\times\\left<V_1,V_2\\right>$\n",
    "5. $\\left<V_1,c\\cdot V_2\\right>=c\\cdot\\left<V_1,V_2\\right>$\n",
    "6. $\\left<V_1,V_2\\right>=\\overline{\\left<V_2,V_1\\right>}$\n",
    "\n"
   ]
  },
  {
   "cell_type": "markdown",
   "metadata": {
    "slideshow": {
     "slide_type": "slide"
    }
   },
   "source": [
    "## 6.3 Examples: Inner Product\n",
    "\n",
    "<b>Example 1:</b> The inner product of $V_1=\\begin{bmatrix}1\\\\2\\\\3\\end{bmatrix}$ and $V_2=\\begin{bmatrix}4\\\\-5\\\\6\\end{bmatrix}$ is computed as follows,\n",
    "\n",
    "$$\\left<V_1,V_2\\right>=V_1^\\dagger\\cdot V_2=\\begin{bmatrix}1&2&3\\end{bmatrix}\\begin{bmatrix}4\\\\-5\\\\6\\end{bmatrix}=12$$"
   ]
  },
  {
   "cell_type": "markdown",
   "metadata": {
    "slideshow": {
     "slide_type": "slide"
    }
   },
   "source": [
    "<b>Example 2:</b> The inner product of $V_1=\\begin{bmatrix}1+2i\\\\-2\\\\4i\\end{bmatrix}$ and $V_2=\\begin{bmatrix}i\\\\-5+3i\\\\7\\end{bmatrix}$ is computed as follows,\n",
    "\n",
    "$$\\left<V_1,V_2\\right>=V_1^\\dagger\\cdot V_2=\\begin{bmatrix}1-2i&-2&-4i\\end{bmatrix}\\begin{bmatrix}i\\\\-5+3i\\\\7\\end{bmatrix}=12-33i$$"
   ]
  },
  {
   "cell_type": "markdown",
   "metadata": {
    "slideshow": {
     "slide_type": "slide"
    }
   },
   "source": [
    "<b>Example 3:</b> Inner product two matrices: $A=\\begin{bmatrix}1+2i& 3+4i& 5\\\\ i& -1&-i-1\\\\ 4& 4-5i& 3\\end{bmatrix}$ and $B=\\begin{bmatrix}-2i& 1& -5+7i\\\\ 1& -i+2&-1\\\\ 1& 0& 3+4i\\end{bmatrix}$ is given by,\n",
    "\n",
    "$$\\left<A,B\\right>=Trace(A^\\dagger\\cdot B)=(-3i)+(1-3i)+(-15+46i)=-14+40i$$"
   ]
  },
  {
   "cell_type": "markdown",
   "metadata": {
    "collapsed": true,
    "jupyter": {
     "outputs_hidden": true
    },
    "slideshow": {
     "slide_type": "slide"
    }
   },
   "source": [
    "## Quiz 6.1 Self Assessment Quiz\n",
    "<b>Maybe used for in-class hands-on practice.</b>\n",
    "\n",
    "1. Compute the inner product of the following.\n",
    "\n",
    "    a. $V_1=\\begin{bmatrix}3\\\\4\\\\-10i\\end{bmatrix}$ and $V_2=\\begin{bmatrix}3-2i\\\\0\\\\1+i\\end{bmatrix}$\n",
    "\n",
    "    b. $V_1=\\begin{bmatrix}-3\\\\-4\\\\10i\\end{bmatrix}$ and $V_2=\\begin{bmatrix}-3+2i\\\\0\\\\-1-i\\end{bmatrix}$\n",
    "\n",
    "    c. $A=\\begin{bmatrix}-2i& 0& 5+4i\\\\ 1& -1&-i-1\\\\ 0& 4-5i& 1\\end{bmatrix}$ and $B=\\begin{bmatrix}4-2i& 1& -5\\\\ i& -i+2&1\\\\ 1& 0& 3+4i\\end{bmatrix}$\n",
    "<br><br>\n",
    "2. Prove the following properties\n",
    "\n",
    "    a. $\\left<V_1,c\\cdot V_2\\right>=\\overline{c}\\left<V_1,V_2\\right>$\n",
    "\n",
    "    b. $\\left<V_1,V_2\\right>=\\overline{\\left<V_2,V_1\\right>}$"
   ]
  },
  {
   "cell_type": "code",
   "execution_count": 1,
   "metadata": {
    "slideshow": {
     "slide_type": "slide"
    }
   },
   "outputs": [
    {
     "data": {
      "application/vnd.jupyter.widget-view+json": {
       "model_id": "dfbf4cabfffa486ea9594a47eba33d22",
       "version_major": 2,
       "version_minor": 0
      },
      "text/plain": [
       "VBox(children=(HTML(value='<b><font size=\"+2\">Quiz 6.1 Self Assessment Quiz'), HTML(value='<b><font size=\"-1\"<…"
      ]
     },
     "metadata": {},
     "output_type": "display_data"
    },
    {
     "data": {
      "application/vnd.jupyter.widget-view+json": {
       "model_id": "108e769dee314438b3bfe04e51bcbe2e",
       "version_major": 2,
       "version_minor": 0
      },
      "text/plain": [
       "HTMLMath(value='<font size=\"+1\">1. Compute the inner product of the following.')"
      ]
     },
     "metadata": {},
     "output_type": "display_data"
    },
    {
     "data": {
      "application/vnd.jupyter.widget-view+json": {
       "model_id": "285565d42c57461e87d0c2f63b9602cc",
       "version_major": 2,
       "version_minor": 0
      },
      "text/plain": [
       "HTMLMath(value='<font size=\"+0\">a. $V_1=\\\\begin{bmatrix}3\\\\\\\\4\\\\\\\\-10i\\\\end{bmatrix}$ and $V_2=\\\\begin{bmatrix…"
      ]
     },
     "metadata": {},
     "output_type": "display_data"
    },
    {
     "data": {
      "application/vnd.jupyter.widget-view+json": {
       "model_id": "47117b0445074403885c768a3a7fd931",
       "version_major": 2,
       "version_minor": 0
      },
      "text/plain": [
       "HBox(children=(Label(value='', layout=Layout(width='40px')), Text(value='', layout=Layout(width='130px'), plac…"
      ]
     },
     "metadata": {},
     "output_type": "display_data"
    },
    {
     "data": {
      "application/vnd.jupyter.widget-view+json": {
       "model_id": "92b69f6f4f664d0b976c842dca2141fa",
       "version_major": 2,
       "version_minor": 0
      },
      "text/plain": [
       "HTMLMath(value='<font size=\"+0\">b. $V_1=\\\\begin{bmatrix}-3\\\\\\\\-4\\\\\\\\10i\\\\end{bmatrix}$ and $V_2=\\\\begin{bmatri…"
      ]
     },
     "metadata": {},
     "output_type": "display_data"
    },
    {
     "data": {
      "application/vnd.jupyter.widget-view+json": {
       "model_id": "8b57a33e4a2b46088086936e28942afa",
       "version_major": 2,
       "version_minor": 0
      },
      "text/plain": [
       "HBox(children=(Label(value='', layout=Layout(width='40px')), Text(value='', layout=Layout(width='130px'), plac…"
      ]
     },
     "metadata": {},
     "output_type": "display_data"
    },
    {
     "data": {
      "application/vnd.jupyter.widget-view+json": {
       "model_id": "6921f3bcb5fe46ccb3399088683ede54",
       "version_major": 2,
       "version_minor": 0
      },
      "text/plain": [
       "HTMLMath(value='<font size=\"+0\">c. A&emsp;=&emsp;$\\\\begin{bmatrix}-2i& 0& 5+4i\\\\\\\\ 1& -1&-i-1\\\\\\\\ 0& 4-5i& 1\\\\…"
      ]
     },
     "metadata": {},
     "output_type": "display_data"
    },
    {
     "data": {
      "application/vnd.jupyter.widget-view+json": {
       "model_id": "37d519db9c10468599f8b9eed94aee68",
       "version_major": 2,
       "version_minor": 0
      },
      "text/plain": [
       "HBox(children=(Label(value='', layout=Layout(width='40px')), Text(value='', layout=Layout(width='130px'), plac…"
      ]
     },
     "metadata": {},
     "output_type": "display_data"
    },
    {
     "data": {
      "application/vnd.jupyter.widget-view+json": {
       "model_id": "f19792a60b3e485bbad1973047ecf0dc",
       "version_major": 2,
       "version_minor": 0
      },
      "text/plain": [
       "VBox(children=(Button(button_style='success', description='Check Answers', icon='check', style=ButtonStyle(fon…"
      ]
     },
     "metadata": {},
     "output_type": "display_data"
    },
    {
     "data": {
      "application/vnd.jupyter.widget-view+json": {
       "model_id": "5c498a8dec1440f08a7faf9cd3a9e809",
       "version_major": 2,
       "version_minor": 0
      },
      "text/plain": [
       "HTMLMath(value='<font size=\"+0\">&emsp;a. $\\\\left&#60;V_1,c\\\\cdot V_2\\\\right&#62;=\\\\overline{c}\\\\left&#60;V_1,V…"
      ]
     },
     "metadata": {},
     "output_type": "display_data"
    },
    {
     "data": {
      "application/vnd.jupyter.widget-view+json": {
       "model_id": "e35a086988e348d6a81f57546bdbea0f",
       "version_major": 2,
       "version_minor": 0
      },
      "text/plain": [
       "VBox(children=(VBox(children=(HBox(children=(HTML(value=' '), Label(value='')), layout=Layout(height='40px')),…"
      ]
     },
     "metadata": {},
     "output_type": "display_data"
    },
    {
     "data": {
      "application/vnd.jupyter.widget-view+json": {
       "model_id": "8f6cf3a24b074e3ebdb9dac55659a402",
       "version_major": 2,
       "version_minor": 0
      },
      "text/plain": [
       "HTMLMath(value='<font size=\"+0\">&emsp;b. $\\\\left&#60;V_1,V_2\\\\right&#62;=\\\\overline{\\\\left&#60;V_2,V_1\\\\right&…"
      ]
     },
     "metadata": {},
     "output_type": "display_data"
    },
    {
     "data": {
      "application/vnd.jupyter.widget-view+json": {
       "model_id": "e1913579e9e046348d2e44427e5bf12b",
       "version_major": 2,
       "version_minor": 0
      },
      "text/plain": [
       "VBox(children=(VBox(children=(HBox(children=(HTML(value=' '), Label(value='')), layout=Layout(height='40px')),…"
      ]
     },
     "metadata": {},
     "output_type": "display_data"
    }
   ],
   "source": [
    "%run pyfiles/saquiz6_1  #This runs the file that has the quiz code\n",
    "createQuiz6_1()"
   ]
  },
  {
   "cell_type": "markdown",
   "metadata": {
    "slideshow": {
     "slide_type": "slide"
    }
   },
   "source": [
    "## 6.4 Norm of a Vector\n",
    "\n",
    "The norm of a vector is also called its length and is computed as $|V|=\\sqrt{\\left<V,V\\right>}$, where $\\left<V,V\\right>$ is the inner product of vector $V$ with itself. \n",
    "\n",
    "Further, we see that since the length of a vector must be non-negative and real, the inner product of a vector with itself is always a non-negative real number.\n",
    "\n",
    "<b>Examples:</b> Let $V=\\begin{bmatrix}9&4&-10\\end{bmatrix}^T$. Then,\n",
    "\n",
    "$$|V|=\\left|\\begin{bmatrix}9\\\\4\\\\-10\\end{bmatrix}\\right|=\\sqrt{\\left<\\begin{bmatrix}9\\\\4\\\\-10\\end{bmatrix},\\begin{bmatrix}9\\\\4\\\\-10\\end{bmatrix}\\right>}=\\sqrt{9^2+4^2+(-10)^2}=\\sqrt{197}$$"
   ]
  },
  {
   "cell_type": "markdown",
   "metadata": {
    "slideshow": {
     "slide_type": "slide"
    }
   },
   "source": [
    "## Quiz 6.2 Self Assessment Quiz\n",
    "<b>Maybe used for in-class hands-on practice.</b>\n",
    "\n",
    "Given $V_1=\\begin{bmatrix}3\\\\4\\\\-10i\\end{bmatrix} \\mbox{ and } V_2=\\begin{bmatrix}8i\\\\0\\\\1\\end{bmatrix}$, verify the following numerically:\n",
    "1. $\\rvert V_1+V_2\\rvert\\leq\\rvert V_1\\rvert+\\rvert V_2\\rvert$</li>\n",
    "2. $\\rvert c\\cdot V_1\\rvert=\\rvert c\\rvert\\times\\rvert V_1\\rvert$. Let $c=5-5i$.\n",
    "</ol>"
   ]
  },
  {
   "cell_type": "code",
   "execution_count": 2,
   "metadata": {
    "slideshow": {
     "slide_type": "slide"
    }
   },
   "outputs": [
    {
     "data": {
      "application/vnd.jupyter.widget-view+json": {
       "model_id": "b564f5342f9445a590beed9fe484efc2",
       "version_major": 2,
       "version_minor": 0
      },
      "text/plain": [
       "VBox(children=(HTML(value='<b><font size=\"+2\">Quiz 6.2 Self Assessment Quiz'), HTML(value='<b><font size=\"-1\"<…"
      ]
     },
     "metadata": {},
     "output_type": "display_data"
    },
    {
     "data": {
      "application/vnd.jupyter.widget-view+json": {
       "model_id": "107c4788d94a454a952ba9d49cf99e88",
       "version_major": 2,
       "version_minor": 0
      },
      "text/plain": [
       "HTMLMath(value='<font size=\"+1\">Given $V_1=\\\\begin{bmatrix}3\\\\\\\\4\\\\\\\\-10i\\\\end{bmatrix} \\\\mbox{ and } V_2=\\\\be…"
      ]
     },
     "metadata": {},
     "output_type": "display_data"
    },
    {
     "data": {
      "application/vnd.jupyter.widget-view+json": {
       "model_id": "e088dc20d372481ba26af2be62c45535",
       "version_major": 2,
       "version_minor": 0
      },
      "text/plain": [
       "HTMLMath(value='<font size=\"+0\">&emsp;1. $\\\\rvert V_1+V_2\\\\rvert\\\\leq\\\\rvert V_1\\\\rvert+\\\\rvert V_2\\\\rvert$')"
      ]
     },
     "metadata": {},
     "output_type": "display_data"
    },
    {
     "data": {
      "application/vnd.jupyter.widget-view+json": {
       "model_id": "d8a2bdc6c19c47db9f6850caeb126d7b",
       "version_major": 2,
       "version_minor": 0
      },
      "text/plain": [
       "VBox(children=(VBox(children=(HBox(children=(HTML(value=' '), Label(value='')), layout=Layout(height='40px')),…"
      ]
     },
     "metadata": {},
     "output_type": "display_data"
    },
    {
     "data": {
      "application/vnd.jupyter.widget-view+json": {
       "model_id": "7594ae623d3e4959836cee055ecc8a73",
       "version_major": 2,
       "version_minor": 0
      },
      "text/plain": [
       "HTMLMath(value='<font size=\"+0\">&emsp;2. $\\\\rvert c\\\\cdot V_1\\\\rvert=\\\\rvert c\\\\rvert\\\\times\\\\rvert V_1\\\\rvert…"
      ]
     },
     "metadata": {},
     "output_type": "display_data"
    },
    {
     "data": {
      "application/vnd.jupyter.widget-view+json": {
       "model_id": "b18dd1f5df3f408eb326f25c54ec2e5a",
       "version_major": 2,
       "version_minor": 0
      },
      "text/plain": [
       "VBox(children=(VBox(children=(HBox(children=(HTML(value=' '), Label(value='')), layout=Layout(height='40px')),…"
      ]
     },
     "metadata": {},
     "output_type": "display_data"
    }
   ],
   "source": [
    "%run pyfiles/saquiz6_2  #This runs the file that has the quiz code\n",
    "createQuiz6_2()"
   ]
  },
  {
   "cell_type": "markdown",
   "metadata": {
    "slideshow": {
     "slide_type": "slide"
    }
   },
   "source": [
    "## 6.5 Orthogonal Vectors\n",
    "\n",
    "Two vectors $V_1$ and $V_2$ are said to be orthogonal to each other if their inner product, $\\left<V_1,V_2\\right>$, is 0. In other words, orthogonal vectors are perpendicular to each other.\n",
    "\n",
    "<b>Examples</b>\n",
    "\n",
    "1. Vectors $V_1=\\begin{bmatrix}1&0&-1\\end{bmatrix}^T$ and $V_2=\\begin{bmatrix}1&\\sqrt{2}&1\\end{bmatrix}^T$ are orthogonal.\n",
    "\n",
    "2. Vectors $V_1=\\begin{bmatrix}1&2\\end{bmatrix}^T$ and $V_2=\\begin{bmatrix}2&-1\\end{bmatrix}^T$ are orthogonal."
   ]
  },
  {
   "cell_type": "markdown",
   "metadata": {
    "slideshow": {
     "slide_type": "slide"
    }
   },
   "source": [
    "## 6.6 Orthogonal Basis\n",
    "\n",
    "<b>Definition:</b> Given a basis $B=\\{V_0,V_1,\\ldots,V_{n-1}\\}$ for a complex vector space if $j\\neq k$ implies $\\left<V_j,V_k\\right>=0$, then we say that basis $B$ is an <b>orthogonal basis</b> for the complex vector space.\n",
    "\n",
    "An <b>orthonormal basis</b> is an orthogonal basis if every vector in the basis set has length 1, i.e. $\\left<V_j,V_k\\right>=1$ when $j=k$."
   ]
  },
  {
   "cell_type": "markdown",
   "metadata": {
    "slideshow": {
     "slide_type": "slide"
    }
   },
   "source": [
    "## 6.7 Projection\n",
    "\n",
    "From trigonometry we see that if vectors $V_1$ and $V_2$ make an angle of $\\theta$ with each other as shown in the figure, then their inner product can be written as,\n",
    "\n",
    "$$\\left<V_1,V_2\\right>=\\rvert V_1\\rvert\\rvert V_2\\rvert\\cdot cos\\theta$$\n",
    "\n",
    "If $\\rvert V_2\\rvert=1$, then $\\left<V_1,V_2\\right>=\\rvert V_1\\rvert\\cdot cos\\theta$\n",
    "\n",
    "Therefore, when $\\rvert V_2\\rvert=1$ the inner product of $V_1$ and $V_2$ represents the length of the projection of $V_1$ onto the direction of $V_2$ and therefore scales $V_2$.\n",
    "\n",
    "![Figure1. Illustration of Projection of $V_1$ on $V_2$](nanomod6-fig1.png)\n"
   ]
  },
  {
   "cell_type": "markdown",
   "metadata": {
    "collapsed": true,
    "jupyter": {
     "outputs_hidden": true
    },
    "slideshow": {
     "slide_type": "slide"
    }
   },
   "source": [
    "#### Final Quiz 6  is in a separate notebook with filename: finalquiz6.ipynb.\n",
    "\n",
    "Final quiz is intended to be completed and submitted to the instructor for grading. Solutions are available to instructors upon request."
   ]
  }
 ],
 "metadata": {
  "celltoolbar": "Slideshow",
  "kernelspec": {
   "display_name": "Python 3 (ipykernel)",
   "language": "python",
   "name": "python3"
  },
  "language_info": {
   "codemirror_mode": {
    "name": "ipython",
    "version": 3
   },
   "file_extension": ".py",
   "mimetype": "text/x-python",
   "name": "python",
   "nbconvert_exporter": "python",
   "pygments_lexer": "ipython3",
   "version": "3.11.7"
  }
 },
 "nbformat": 4,
 "nbformat_minor": 4
}
