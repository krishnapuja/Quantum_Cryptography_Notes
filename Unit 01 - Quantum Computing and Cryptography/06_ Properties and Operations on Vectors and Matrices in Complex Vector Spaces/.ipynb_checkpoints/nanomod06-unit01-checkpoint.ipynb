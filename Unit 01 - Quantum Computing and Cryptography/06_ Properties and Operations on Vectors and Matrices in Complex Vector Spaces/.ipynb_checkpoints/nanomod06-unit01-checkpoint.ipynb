{
 "cells": [
  {
   "cell_type": "markdown",
   "metadata": {
    "cell_details": {
     "cell_ID": "m6-LearningOutcomes",
     "cell_alternates": [],
     "cell_concepts": [
      "Learning Outcomes"
     ],
     "cell_estimated_time": "1",
     "cell_interactive": "false",
     "cell_outcomes": [
      "Understand the definition and properties of inner product",
      "Compute the inner product of vectors and matrices",
      "Compute the norm of a vector",
      "Understand and apply the concept of orthogonal/orthonormal vectors and basis",
      "Represent a vector using a given basis set",
      "Understand and apply the concept of projection of one vector onto another",
      "Write Python programs to determine the norm and inner product"
     ],
     "cell_prereqs": [
      "Complex Vector Spaces: Linear Combination, Independence, Basis and Dimensions"
     ],
     "cell_title": "Learning Outcomes",
     "cell_type": [
      "text"
     ],
     "module_outcomes": [
      "Master the operations on vectors and matrices in complex vector spaces",
      "Develop the skills to apply these operations in practical scenarios"
     ],
     "module_prereqs": [
      "Linear Algebra",
      "Complex Numbers",
      "Introduction to Programming",
      "Python Basics",
      "Complex Vector Spaces"
     ],
     "module_title": [
      "Properties and Operations on Vectors and Matrices in Complex Vector Spaces"
     ]
    },
    "editable": true,
    "slideshow": {
     "slide_type": "slide"
    },
    "tags": []
   },
   "source": [
    "# 6. Properties and Operations on Vectors and Matrices in Complex Vector Spaces\n",
    "\n",
    "### This lesson belongs to nanomodule 6 - unit 1\n",
    "\n",
    "<b>Learning Outcomes: </b>\n",
    "\n",
    "Upon completion of this lesson:\n",
    "\n",
    "6.1\tStudents will understand the definition and properties of inner product of vectors and matrices.\n",
    "\n",
    "6.2\tStudents will be able to compute the inner product.\n",
    "\n",
    "6.3\tStudents will be able to compute the norm of a vector.\n",
    "\n",
    "6.4\tStudents will understand and apply the concept of orthogonal/orthonormal vectors and basis.\n",
    "\n",
    "6.5\tStudents will be able to represent a vector using a given basis set.\n",
    "\n",
    "6.6\tStudents will understand and apply the projection of one vector onto another vector.\n",
    "\n",
    "6.7\tStudent will synthesize concepts to write Python programs to determine the norm and inner product of vectors and matrices.\n"
   ]
  },
  {
   "cell_type": "markdown",
   "metadata": {
    "cell_details": {
     "cell_ID": "m6-InnerProduct",
     "cell_alternates": [],
     "cell_concepts": [
      "Inner Product and Properties"
     ],
     "cell_estimated_time": "3",
     "cell_interactive": "false",
     "cell_outcomes": [
      "Understand the definition of inner product for complex vector spaces",
      "Distinguish the inner product calculation for vectors and matrices"
     ],
     "cell_prereqs": [
      "m4-ComplexVectorSpaces"
     ],
     "cell_type": [
      "text"
     ],
     "module_outcomes": [
      "Master the operations on vectors and matrices in complex vector spaces",
      "Develop the skills to apply these operations in practical scenarios"
     ],
     "module_prereqs": [
      "Linear Algebra",
      "Complex Numbers",
      "Introduction to Programming",
      "Python Basics",
      "Complex Vector Spaces"
     ],
     "module_title": [
      "Properties and Operations on Vectors and Matrices in Complex Vector Spaces"
     ]
    },
    "editable": true,
    "slideshow": {
     "slide_type": "slide"
    },
    "tags": []
   },
   "source": [
    "## 6.1 Inner Product\n",
    "\n",
    "<b>Definition: </b> An inner product (also called a dot product or scalar product) on a complex vector space $\\mathbb{V}$ is a function that takes two vectors and produces a complex number as output.\n",
    "\n",
    "The inner product of vectors is given by $\\left<V_1,V_2\\right> = V_1^\\dagger\\cdot V_2$ for both $\\mathbb{R}^n$ and $\\mathbb{C}^n$.\n",
    "\n",
    "The inner product of matrices is given by $\\left<P,Q\\right>=Trace(P^\\dagger\\cdot Q)$.\n",
    "\n",
    "Note that for vectors and matrices belonging to $\\mathbb{R}^n$, the adjoint operation is equivalent to taking the transpose.\n",
    "\n"
   ]
  },
  {
   "cell_type": "markdown",
   "metadata": {
    "cell_details": {
     "cell_ID": "m6-PropertiesInnerProduct",
     "cell_alternates": [],
     "cell_concepts": [
      "Inner Product and Properties"
     ],
     "cell_estimated_time": "3",
     "cell_interactive": "false",
     "cell_outcomes": [
      "Understand and apply the properties of inner product in complex vector spaces"
     ],
     "cell_prereqs": [
      "m6-InnerProduct"
     ],
     "cell_title": "Properties of Inner Product",
     "cell_type": [
      "text"
     ],
     "module_outcomes": [
      "Master the operations on vectors and matrices in complex vector spaces",
      "Develop the skills to apply these operations in practical scenarios"
     ],
     "module_prereqs": [
      "Linear Algebra",
      "Complex Numbers",
      "Introduction to Programming",
      "Python Basics",
      "Complex Vector Spaces"
     ],
     "module_title": [
      "Properties and Operations on Vectors and Matrices in Complex Vector Spaces"
     ]
    },
    "editable": true,
    "slideshow": {
     "slide_type": "slide"
    },
    "tags": []
   },
   "source": [
    "## 6.2 Properties of Inner Product\n",
    "\n",
    "1. $\\left<V,V\\right> \\geq 0$ with equality only if $V=\\textbf{0}$   \n",
    "2. $\\left<V_1+V_2,V_3\\right> = \\left<V_1,V_3\\right>+\\left<V_2,V_3\\right>$<br>\n",
    "3. $\\left<V_1,V_2+V_3\\right> = \\left<V_1,V_2\\right>+\\left<V_1,V_3\\right>$\n",
    "4. $\\left<c\\cdot V_1,V_2\\right>=\\overline{c}\\times\\left<V_1,V_2\\right>$\n",
    "5. $\\left<V_1,c\\cdot V_2\\right>=c\\cdot\\left<V_1,V_2\\right>$\n",
    "6. $\\left<V_1,V_2\\right>=\\overline{\\left<V_2,V_1\\right>}$\n",
    "\n"
   ]
  },
  {
   "cell_type": "markdown",
   "metadata": {
    "cell_details": {
     "cell_ID": "m6-ExamplesInnerProduct",
     "cell_alternates": [],
     "cell_concepts": [
      "Inner Product and Properties"
     ],
     "cell_estimated_time": "5",
     "cell_interactive": "false",
     "cell_outcomes": [
      "Calculate the inner product for given vector and matrix examples"
     ],
     "cell_prereqs": [
      "m6-InnerProduct",
      "m6-PropertiesInnerProduct"
     ],
     "cell_title": "Examples of Inner Product",
     "cell_type": [
      "text"
     ],
     "module_outcomes": [
      "Master the operations on vectors and matrices in complex vector spaces",
      "Develop the skills to apply these operations in practical scenarios"
     ],
     "module_prereqs": [
      "Linear Algebra",
      "Complex Numbers",
      "Introduction to Programming",
      "Python Basics",
      "Complex Vector Spaces"
     ],
     "module_title": [
      "Properties and Operations on Vectors and Matrices in Complex Vector Spaces"
     ]
    },
    "editable": true,
    "slideshow": {
     "slide_type": "slide"
    },
    "tags": []
   },
   "source": [
    "## 6.3 Examples: Inner Product\n",
    "\n",
    "<b>Example 1:</b> The inner product of $V_1=\\begin{bmatrix}1\\\\2\\\\3\\end{bmatrix}$ and $V_2=\\begin{bmatrix}4\\\\-5\\\\6\\end{bmatrix}$ is computed as follows,\n",
    "\n",
    "$$\\left<V_1,V_2\\right>=V_1^\\dagger\\cdot V_2=\\begin{bmatrix}1&2&3\\end{bmatrix}\\begin{bmatrix}4\\\\-5\\\\6\\end{bmatrix}=12$$\n",
    "\n",
    "<b>Example 2:</b> The inner product of $V_1=\\begin{bmatrix}1+2i\\\\-2\\\\4i\\end{bmatrix}$ and $V_2=\\begin{bmatrix}i\\\\-5+3i\\\\7\\end{bmatrix}$ is computed as follows,\n",
    "\n",
    "$$\\left<V_1,V_2\\right>=V_1^\\dagger\\cdot V_2=\\begin{bmatrix}1-2i&-2&-4i\\end{bmatrix}\\begin{bmatrix}i\\\\-5+3i\\\\7\\end{bmatrix}=12-33i$$\n",
    "\n",
    "<b>Example 3:</b> Inner product two matrices: $A=\\begin{bmatrix}1+2i& 3+4i& 5\\\\ i& -1&-i-1\\\\ 4& 4-5i& 3\\end{bmatrix}$ and $B=\\begin{bmatrix}-2i& 1& -5+7i\\\\ 1& -i+2&-1\\\\ 1& 0& 3+4i\\end{bmatrix}$ is given by,\n",
    "\n",
    "$$\\left<A,B\\right>=Trace(A^\\dagger\\cdot B)=(-3i)+(1-3i)+(-15+46i)=-14+40i$$"
   ]
  },
  {
   "cell_type": "markdown",
   "metadata": {
    "cell_details": {
     "cell_ID": "m6-Quiz-6.1",
     "cell_alternates": [
      "m6-Quiz-6.1-interactive"
     ],
     "cell_concepts": [
      "Inner Product and Properties"
     ],
     "cell_estimated_time": "10",
     "cell_interactive": "true",
     "cell_outcomes": [
      "Compute the inner product for given vectors and matrices",
      "Prove specific properties of the inner product"
     ],
     "cell_prereqs": [
      "m6-InnerProduct",
      "m6-PropertiesInnerProduct",
      "m6-ExamplesInnerProduct"
     ],
     "cell_title": "Self Assessment Quiz 1",
     "cell_type": [
      "quiz"
     ],
     "module_outcomes": [
      "Master the operations on vectors and matrices in complex vector spaces",
      "Develop the skills to apply these operations in practical scenarios"
     ],
     "module_prereqs": [
      "Linear Algebra",
      "Complex Numbers",
      "Introduction to Programming",
      "Python Basics",
      "Complex Vector Spaces"
     ],
     "module_title": [
      "Properties and Operations on Vectors and Matrices in Complex Vector Spaces"
     ]
    },
    "collapsed": true,
    "editable": true,
    "jupyter": {
     "outputs_hidden": true
    },
    "slideshow": {
     "slide_type": "slide"
    },
    "tags": []
   },
   "source": [
    "## Quiz 6.1 Self Assessment Quiz\n",
    "<b>Maybe used for in-class hands-on practice.</b>\n",
    "\n",
    "1. Compute the inner product of the following.\n",
    "\n",
    "    a. $V_1=\\begin{bmatrix}3\\\\4\\\\-10i\\end{bmatrix}$ and $V_2=\\begin{bmatrix}3-2i\\\\0\\\\1+i\\end{bmatrix}$\n",
    "\n",
    "    b. $V_1=\\begin{bmatrix}-3\\\\-4\\\\10i\\end{bmatrix}$ and $V_2=\\begin{bmatrix}-3+2i\\\\0\\\\-1-i\\end{bmatrix}$\n",
    "\n",
    "    c. $A=\\begin{bmatrix}-2i& 0& 5+4i\\\\ 1& -1&-i-1\\\\ 0& 4-5i& 1\\end{bmatrix}$ and $B=\\begin{bmatrix}4-2i& 1& -5\\\\ i& -i+2&1\\\\ 1& 0& 3+4i\\end{bmatrix}$\n",
    "2. Prove the following properties\n",
    "\n",
    "    a. $\\left<V_1,c\\cdot V_2\\right>=\\overline{c}\\left<V_1,V_2\\right>$\n",
    "\n",
    "    b. $\\left<V_1,V_2\\right>=\\overline{\\left<V_2,V_1\\right>}$"
   ]
  },
  {
   "cell_type": "code",
   "execution_count": 1,
   "metadata": {
    "cell_details": {
     "cell_ID": "m6-Quiz-6.1-interactive",
     "cell_alternates": [
      "m6-Quiz-6.1"
     ],
     "cell_concepts": [
      "Inner Product and Properties"
     ],
     "cell_estimated_time": "15",
     "cell_interactive": "true",
     "cell_outcomes": [
      "Compute the inner product for given vectors and matrices",
      "Prove specific properties of the inner product"
     ],
     "cell_prereqs": [
      "m6-InnerProduct",
      "m6-PropertiesInnerProduct",
      "m6-ExamplesInnerProduct"
     ],
     "cell_title": "Self Assessment Quiz 1 interactive",
     "cell_type": [
      "quiz"
     ],
     "module_outcomes": [
      "Master the operations on vectors and matrices in complex vector spaces",
      "Develop the skills to apply these operations in practical scenarios"
     ],
     "module_prereqs": [
      "Linear Algebra",
      "Complex Numbers",
      "Introduction to Programming",
      "Python Basics",
      "Complex Vector Spaces"
     ],
     "module_title": [
      "Properties and Operations on Vectors and Matrices in Complex Vector Spaces"
     ]
    },
    "editable": true,
    "slideshow": {
     "slide_type": "slide"
    },
    "tags": []
   },
   "outputs": [
    {
     "data": {
      "application/vnd.jupyter.widget-view+json": {
       "model_id": "7e43e516414c484580ba0d77220e05b1",
       "version_major": 2,
       "version_minor": 0
      },
      "text/plain": [
       "VBox(children=(HTML(value='<b><font size=\"+2\">Quiz 6.1 Self Assessment Quiz'), HTML(value='<b><font size=\"-1\"<…"
      ]
     },
     "metadata": {},
     "output_type": "display_data"
    },
    {
     "data": {
      "application/vnd.jupyter.widget-view+json": {
       "model_id": "20dfaed430a7415fb8e6182d0adde5fb",
       "version_major": 2,
       "version_minor": 0
      },
      "text/plain": [
       "HTMLMath(value='<font size=\"+1\">1. Compute the inner product of the following.')"
      ]
     },
     "metadata": {},
     "output_type": "display_data"
    },
    {
     "data": {
      "application/vnd.jupyter.widget-view+json": {
       "model_id": "184b23cf42024706add1ff59e5dcf170",
       "version_major": 2,
       "version_minor": 0
      },
      "text/plain": [
       "HTMLMath(value='<font size=\"+0\">a. $V_1=\\\\begin{bmatrix}3\\\\\\\\4\\\\\\\\-10i\\\\end{bmatrix}$ and $V_2=\\\\begin{bmatrix…"
      ]
     },
     "metadata": {},
     "output_type": "display_data"
    },
    {
     "data": {
      "application/vnd.jupyter.widget-view+json": {
       "model_id": "c17a86529a954defb674796f463754ec",
       "version_major": 2,
       "version_minor": 0
      },
      "text/plain": [
       "HBox(children=(Label(value='', layout=Layout(width='40px')), Text(value='', layout=Layout(width='130px'), plac…"
      ]
     },
     "metadata": {},
     "output_type": "display_data"
    },
    {
     "data": {
      "application/vnd.jupyter.widget-view+json": {
       "model_id": "5b3e79f17901420f933f8f1cc1fb8fad",
       "version_major": 2,
       "version_minor": 0
      },
      "text/plain": [
       "HTMLMath(value='<font size=\"+0\">b. $V_1=\\\\begin{bmatrix}-3\\\\\\\\-4\\\\\\\\10i\\\\end{bmatrix}$ and $V_2=\\\\begin{bmatri…"
      ]
     },
     "metadata": {},
     "output_type": "display_data"
    },
    {
     "data": {
      "application/vnd.jupyter.widget-view+json": {
       "model_id": "ef78810e5a224279ad69fd7e1276e799",
       "version_major": 2,
       "version_minor": 0
      },
      "text/plain": [
       "HBox(children=(Label(value='', layout=Layout(width='40px')), Text(value='', layout=Layout(width='130px'), plac…"
      ]
     },
     "metadata": {},
     "output_type": "display_data"
    },
    {
     "data": {
      "application/vnd.jupyter.widget-view+json": {
       "model_id": "375e9319ac3c4fbe8887206c46ce3a97",
       "version_major": 2,
       "version_minor": 0
      },
      "text/plain": [
       "HTMLMath(value='<font size=\"+0\">c. A&emsp;=&emsp;$\\\\begin{bmatrix}-2i& 0& 5+4i\\\\\\\\ 1& -1&-i-1\\\\\\\\ 0& 4-5i& 1\\\\…"
      ]
     },
     "metadata": {},
     "output_type": "display_data"
    },
    {
     "data": {
      "application/vnd.jupyter.widget-view+json": {
       "model_id": "d40411dc88024f8db149318e4019fdbf",
       "version_major": 2,
       "version_minor": 0
      },
      "text/plain": [
       "HBox(children=(Label(value='', layout=Layout(width='40px')), Text(value='', layout=Layout(width='130px'), plac…"
      ]
     },
     "metadata": {},
     "output_type": "display_data"
    },
    {
     "data": {
      "application/vnd.jupyter.widget-view+json": {
       "model_id": "c5ac43236bfc435ba16556e425bb6e58",
       "version_major": 2,
       "version_minor": 0
      },
      "text/plain": [
       "VBox(children=(Button(button_style='success', description='Check Answers', icon='check', style=ButtonStyle(fon…"
      ]
     },
     "metadata": {},
     "output_type": "display_data"
    },
    {
     "data": {
      "application/vnd.jupyter.widget-view+json": {
       "model_id": "90431bfc5f4141bb83de27c752c9c9e6",
       "version_major": 2,
       "version_minor": 0
      },
      "text/plain": [
       "HTMLMath(value='<font size=\"+0\">&emsp;a. $\\\\left&#60;V_1,c\\\\cdot V_2\\\\right&#62;=\\\\overline{c}\\\\left&#60;V_1,V…"
      ]
     },
     "metadata": {},
     "output_type": "display_data"
    },
    {
     "data": {
      "application/vnd.jupyter.widget-view+json": {
       "model_id": "9c261678219b4d559f121ad6006d99f9",
       "version_major": 2,
       "version_minor": 0
      },
      "text/plain": [
       "VBox(children=(VBox(children=(HBox(children=(HTML(value=' '), Label(value='')), layout=Layout(height='40px')),…"
      ]
     },
     "metadata": {},
     "output_type": "display_data"
    },
    {
     "data": {
      "application/vnd.jupyter.widget-view+json": {
       "model_id": "d669f493f36144be90994078d1039533",
       "version_major": 2,
       "version_minor": 0
      },
      "text/plain": [
       "HTMLMath(value='<font size=\"+0\">&emsp;b. $\\\\left&#60;V_1,V_2\\\\right&#62;=\\\\overline{\\\\left&#60;V_2,V_1\\\\right&…"
      ]
     },
     "metadata": {},
     "output_type": "display_data"
    },
    {
     "data": {
      "application/vnd.jupyter.widget-view+json": {
       "model_id": "594b5266034048aaa8191a0b92c7d69d",
       "version_major": 2,
       "version_minor": 0
      },
      "text/plain": [
       "VBox(children=(VBox(children=(HBox(children=(HTML(value=' '), Label(value='')), layout=Layout(height='40px')),…"
      ]
     },
     "metadata": {},
     "output_type": "display_data"
    }
   ],
   "source": [
    "%run pyfiles/saquiz6_1  #This runs the file that has the quiz code\n",
    "createQuiz6_1()"
   ]
  },
  {
   "cell_type": "markdown",
   "metadata": {
    "cell_details": {
     "cell_ID": "m6-NormVector",
     "cell_alternates": [],
     "cell_concepts": [
      "Norm of a Vector"
     ],
     "cell_estimated_time": "3",
     "cell_interactive": "false",
     "cell_outcomes": [
      "Understand and compute the norm of a vector using the inner product",
      "Apply the concept of norm to determine the length of vectors in complex vector spaces"
     ],
     "cell_prereqs": [
      "m6-InnerProduct",
      "m6-PropertiesInnerProduct",
      "m6-ExamplesInnerProduct",
      "m6-Quiz-6.1",
      "m6-Quiz-6.1-interactive"
     ],
     "cell_title": "Norm of a Vector",
     "cell_type": [
      "text"
     ],
     "module_outcomes": [
      "Master the operations on vectors and matrices in complex vector spaces",
      "Develop the skills to apply these operations in practical scenarios"
     ],
     "module_prereqs": [
      "Linear Algebra",
      "Complex Numbers",
      "Introduction to Programming",
      "Python Basics",
      "Complex Vector Spaces"
     ],
     "module_title": [
      "Properties and Operations on Vectors and Matrices in Complex Vector Spaces"
     ]
    },
    "editable": true,
    "slideshow": {
     "slide_type": "slide"
    },
    "tags": []
   },
   "source": [
    "## 6.4 Norm of a Vector\n",
    "\n",
    "The norm of a vector is also called its length and is computed as $|V|=\\sqrt{\\left<V,V\\right>}$, where $\\left<V,V\\right>$ is the inner product of vector $V$ with itself. \n",
    "\n",
    "Further, we see that since the length of a vector must be non-negative and real, the inner product of a vector with itself is always a non-negative real number.\n",
    "\n",
    "<b>Examples:</b> Let $V=\\begin{bmatrix}9&4&-10\\end{bmatrix}^T$. Then,\n",
    "\n",
    "$$|V|=\\left|\\begin{bmatrix}9\\\\4\\\\-10\\end{bmatrix}\\right|=\\sqrt{\\left<\\begin{bmatrix}9\\\\4\\\\-10\\end{bmatrix},\\begin{bmatrix}9\\\\4\\\\-10\\end{bmatrix}\\right>}=\\sqrt{9^2+4^2+(-10)^2}=\\sqrt{197}$$"
   ]
  },
  {
   "cell_type": "markdown",
   "metadata": {
    "cell_details": {
     "cell_ID": "m6-Quiz-6.2",
     "cell_alternates": [
      "m6-Quiz-6.2-interactive"
     ],
     "cell_concepts": [
      "Norm of a Vector"
     ],
     "cell_estimated_time": "10",
     "cell_interactive": "true",
     "cell_outcomes": [
      "Numerically verify the norm properties for given vectors",
      "Apply the concepts of vector addition and scalar multiplication to verify norm properties"
     ],
     "cell_prereqs": [
      "m6-NormVector"
     ],
     "cell_title": "Self Assessment Quiz 2",
     "cell_type": [
      "quiz"
     ],
     "module_outcomes": [
      "Master the operations on vectors and matrices in complex vector spaces",
      "Develop the skills to apply these operations in practical scenarios"
     ],
     "module_prereqs": [
      "Linear Algebra",
      "Complex Numbers",
      "Introduction to Programming",
      "Python Basics",
      "Complex Vector Spaces"
     ],
     "module_title": [
      "Properties and Operations on Vectors and Matrices in Complex Vector Spaces"
     ]
    },
    "editable": true,
    "slideshow": {
     "slide_type": "slide"
    },
    "tags": []
   },
   "source": [
    "## Quiz 6.2 Self Assessment Quiz\n",
    "<b>Maybe used for in-class hands-on practice.</b>\n",
    "\n",
    "Given $V_1=\\begin{bmatrix}3\\\\4\\\\-10i\\end{bmatrix} \\mbox{ and } V_2=\\begin{bmatrix}8i\\\\0\\\\1\\end{bmatrix}$, verify the following numerically:\n",
    "1. $\\rvert V_1+V_2\\rvert\\leq\\rvert V_1\\rvert+\\rvert V_2\\rvert$</li>\n",
    "2. $\\rvert c\\cdot V_1\\rvert=\\rvert c\\rvert\\times\\rvert V_1\\rvert$. Let $c=5-5i$.\n",
    "</ol>"
   ]
  },
  {
   "cell_type": "code",
   "execution_count": null,
   "metadata": {
    "cell_details": {
     "cell_ID": "m6-Quiz-6.2-interactive",
     "cell_alternates": [
      "m6-Quiz-6.2"
     ],
     "cell_concepts": [
      "Norm of a Vector"
     ],
     "cell_estimated_time": "15",
     "cell_interactive": "true",
     "cell_outcomes": [
      "Numerically verify the norm properties for given vectors",
      "Apply the concepts of vector addition and scalar multiplication to verify norm properties"
     ],
     "cell_prereqs": [
      "m6-NormVector"
     ],
     "cell_title": "Self Assessment Quiz 2 interactive",
     "cell_type": [
      "quiz"
     ],
     "module_outcomes": [
      "Master the operations on vectors and matrices in complex vector spaces",
      "Develop the skills to apply these operations in practical scenarios"
     ],
     "module_prereqs": [
      "Linear Algebra",
      "Complex Numbers",
      "Introduction to Programming",
      "Python Basics",
      "Complex Vector Spaces"
     ],
     "module_title": [
      "Properties and Operations on Vectors and Matrices in Complex Vector Spaces"
     ]
    },
    "editable": true,
    "slideshow": {
     "slide_type": "slide"
    },
    "tags": []
   },
   "outputs": [],
   "source": [
    "%run pyfiles/saquiz6_2  #This runs the file that has the quiz code\n",
    "createQuiz6_2()"
   ]
  },
  {
   "cell_type": "markdown",
   "metadata": {
    "cell_details": {
     "cell_ID": "m6-OrthogonalVectors",
     "cell_alternates": [],
     "cell_concepts": [
      "Orthogonal Vectors"
     ],
     "cell_estimated_time": "3",
     "cell_interactive": "false",
     "cell_outcomes": [
      "Understand the concept of orthogonal vectors and their characteristics",
      "Identify orthogonal vectors through inner product calculations"
     ],
     "cell_prereqs": [
      "m6-InnerProduct",
      "m6-PropertiesInnerProduct",
      "m6-ExamplesInnerProduct",
      "m6-Quiz-6.1",
      "m6-Quiz-6.1-interactive"
     ],
     "cell_title": "Orthogonal Vectors",
     "cell_type": [
      "text"
     ],
     "module_outcomes": [
      "Master the operations on vectors and matrices in complex vector spaces",
      "Develop the skills to apply these operations in practical scenarios"
     ],
     "module_prereqs": [
      "Linear Algebra",
      "Complex Numbers",
      "Introduction to Programming",
      "Python Basics",
      "Complex Vector Spaces"
     ],
     "module_title": [
      "Properties and Operations on Vectors and Matrices in Complex Vector Spaces"
     ]
    },
    "editable": true,
    "slideshow": {
     "slide_type": "slide"
    },
    "tags": []
   },
   "source": [
    "## 6.5 Orthogonal Vectors\n",
    "\n",
    "Two vectors $V_1$ and $V_2$ are said to be orthogonal to each other if their inner product, $\\left<V_1,V_2\\right>$, is 0. In other words, orthogonal vectors are perpendicular to each other.\n",
    "\n",
    "<b>Examples</b>\n",
    "\n",
    "1. Vectors $V_1=\\begin{bmatrix}1&0&-1\\end{bmatrix}^T$ and $V_2=\\begin{bmatrix}1&\\sqrt{2}&1\\end{bmatrix}^T$ are orthogonal.\n",
    "\n",
    "2. Vectors $V_1=\\begin{bmatrix}1&2\\end{bmatrix}^T$ and $V_2=\\begin{bmatrix}2&-1\\end{bmatrix}^T$ are orthogonal."
   ]
  },
  {
   "cell_type": "markdown",
   "metadata": {
    "cell_details": {
     "cell_ID": "m6-OrthogonalBasis",
     "cell_alternates": [],
     "cell_concepts": [
      "Orthogonal Vectors"
     ],
     "cell_estimated_time": "3",
     "cell_interactive": "false",
     "cell_outcomes": [
      "Understand the concept of orthogonal and orthonormal basis in complex vector spaces",
      "Identify basis sets that are orthogonal and/or orthonormal"
     ],
     "cell_prereqs": [
      "m5-Basis",
      "m5-Dimension",
      "m6-OrthogonalVectors"
     ],
     "cell_title": "Orthogonal Basis",
     "cell_type": [
      "text"
     ],
     "module_outcomes": [
      "Master the operations on vectors and matrices in complex vector spaces",
      "Develop the skills to apply these operations in practical scenarios"
     ],
     "module_prereqs": [
      "Linear Algebra",
      "Complex Numbers",
      "Introduction to Programming",
      "Python Basics",
      "Complex Vector Spaces"
     ],
     "module_title": [
      "Properties and Operations on Vectors and Matrices in Complex Vector Spaces"
     ]
    },
    "editable": true,
    "slideshow": {
     "slide_type": "slide"
    },
    "tags": []
   },
   "source": [
    "## 6.6 Orthogonal Basis\n",
    "\n",
    "<b>Definition:</b> Given a basis $B=\\{V_0,V_1,\\ldots,V_{n-1}\\}$ for a complex vector space if $j\\neq k$ implies $\\left<V_j,V_k\\right>=0$, then we say that basis $B$ is an <b>orthogonal basis</b> for the complex vector space.\n",
    "\n",
    "An <b>orthonormal basis</b> is an orthogonal basis if every vector in the basis set has length 1, i.e. $\\left<V_j,V_k\\right>=1$ when $j=k$."
   ]
  },
  {
   "cell_type": "markdown",
   "metadata": {
    "cell_details": {
     "cell_ID": "m6-Projection",
     "cell_alternates": [],
     "cell_concepts": [
      "Orthogonal Vectors"
     ],
     "cell_estimated_time": "3",
     "cell_interactive": "false",
     "cell_outcomes": [
      "Understand the concept of projection in the context of inner product and vector spaces",
      "Apply the inner product to calculate the projection of one vector onto another"
     ],
     "cell_prereqs": [
      "m3-polarRepresentation",
      "m6-InnerProduct",
      "m6-PropertiesInnerProduct",
      "m6-ExamplesInnerProduct",
      "m6-Quiz-6.1",
      "m6-Quiz-6.1-interactive",
      "m6-NormVector",
      "m6-Quiz-6.2",
      "m6-Quiz-6.2-interactive",
      "m6-OrthogonalBasis"
     ],
     "cell_title": "Projection",
     "cell_type": [
      "text"
     ],
     "module_outcomes": [
      "Master the operations on vectors and matrices in complex vector spaces",
      "Develop the skills to apply these operations in practical scenarios"
     ],
     "module_prereqs": [
      "Linear Algebra",
      "Complex Numbers",
      "Introduction to Programming",
      "Python Basics",
      "Complex Vector Spaces"
     ],
     "module_title": [
      "Properties and Operations on Vectors and Matrices in Complex Vector Spaces"
     ]
    },
    "editable": true,
    "slideshow": {
     "slide_type": "slide"
    },
    "tags": []
   },
   "source": [
    "## 6.7 Projection\n",
    "\n",
    "From trigonometry we see that if vectors $V_1$ and $V_2$ make an angle of $\\theta$ with each other as shown in the figure, then their inner product can be written as,\n",
    "\n",
    "$$\\left<V_1,V_2\\right>=\\rvert V_1\\rvert\\rvert V_2\\rvert\\cdot cos\\theta$$\n",
    "\n",
    "If $\\rvert V_2\\rvert=1$, then $\\left<V_1,V_2\\right>=\\rvert V_1\\rvert\\cdot cos\\theta$\n",
    "\n",
    "Therefore, when $\\rvert V_2\\rvert=1$ the inner product of $V_1$ and $V_2$ represents the length of the projection of $V_1$ onto the direction of $V_2$ and therefore scales $V_2$.\n",
    "\n",
    "![Figure1. Illustration of Projection of $V_1$ on $V_2$](images/nanomod6-fig1.png)\n"
   ]
  },
  {
   "cell_type": "markdown",
   "metadata": {
    "cell_details": {
     "cell_ID": "m6-finalQuiz-information",
     "cell_alternates": [],
     "cell_concepts": [],
     "cell_estimated_time": "1",
     "cell_interactive": "false",
     "cell_outcomes": [
      "Know the information about the final Quiz of this module"
     ],
     "cell_prereqs": [],
     "cell_title": "final Quiz 6",
     "cell_type": [
      "text"
     ],
     "module_outcomes": [
      "Master the operations on vectors and matrices in complex vector spaces",
      "Develop the skills to apply these operations in practical scenarios"
     ],
     "module_prereqs": [
      "Linear Algebra",
      "Complex Numbers",
      "Introduction to Programming",
      "Python Basics",
      "Complex Vector Spaces"
     ],
     "module_title": [
      "Properties and Operations on Vectors and Matrices in Complex Vector Spaces"
     ]
    },
    "collapsed": true,
    "editable": true,
    "jupyter": {
     "outputs_hidden": true
    },
    "slideshow": {
     "slide_type": "slide"
    },
    "tags": []
   },
   "source": [
    "#### Final Quiz 6  is in a separate notebook with filename: finalquiz6.ipynb.\n",
    "\n",
    "Final quiz is intended to be completed and submitted to the instructor for grading. Solutions are available to instructors upon request."
   ]
  }
 ],
 "metadata": {
  "celltoolbar": "Slideshow",
  "kernelspec": {
   "display_name": "Python 3 (ipykernel)",
   "language": "python",
   "name": "python3"
  },
  "language_info": {
   "codemirror_mode": {
    "name": "ipython",
    "version": 3
   },
   "file_extension": ".py",
   "mimetype": "text/x-python",
   "name": "python",
   "nbconvert_exporter": "python",
   "pygments_lexer": "ipython3",
   "version": "3.12.2"
  },
  "module_details": {
   "module_concepts": [
    "Inner Product and Properties",
    "Norm of a Vector",
    "Orthogonal Vectors"
   ],
   "module_outcomes": [
    "Students will understand the definition and properties of inner product of vectors and matrices.",
    "Students will be able to compute the inner product.",
    "Students will be able to compute the norm of a vector.",
    "Students will understand and apply the concept of orthogonal/orthonormal vectors and basis.",
    "Students will be able to represent a vector using a given basis set.",
    "Students will understand and apply the projection of one vector onto another vector.",
    "Student will synthesize concepts to write Python programs to determine the norm and inner product of vectors and matrices."
   ],
   "module_outcomes_mapping": [
    [
     "m6-InnerProduct",
     "m6-PropertiesInnerProduct",
     "m6-ExamplesInnerProduct"
    ],
    [
     "m6-Quiz-6.1",
     "m6-Quiz-6.1-interactive"
    ],
    [
     "m6-NormVector",
     "m6-Quiz-6.2",
     "m6-Quiz-6.2-interactive"
    ],
    [
     "m6-OrthogonalVectors",
     "m6-OrthogonalBasis"
    ],
    [
     "m6-OrthogonalBasis"
    ],
    [
     "m6-Projection"
    ],
    [
     "m6-final-quiz"
    ]
   ],
   "module_prereqs": [
    "Linear Algebra",
    "Complex Numbers",
    "Introduction to Programming",
    "Python Basics",
    "Complex Vector Spaces"
   ],
   "module_title": [
    "Properties and Operations on Vectors and Matrices in Complex Vector Spaces"
   ]
  }
 },
 "nbformat": 4,
 "nbformat_minor": 4
}
