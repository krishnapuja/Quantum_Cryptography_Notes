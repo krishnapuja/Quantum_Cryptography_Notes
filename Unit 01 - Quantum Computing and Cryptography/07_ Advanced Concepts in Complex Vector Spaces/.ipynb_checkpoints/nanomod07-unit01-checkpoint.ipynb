{
 "cells": [
  {
   "cell_type": "markdown",
   "metadata": {
    "cell_details": {
     "cell_ID": "m7-LearningOutcomes",
     "cell_alternates": [],
     "cell_concepts": [
      "Learning Outcomes"
     ],
     "cell_estimated_time": "1",
     "cell_interactive": "false",
     "cell_outcomes": [
      "Understand eigenvalues and eigenvectors and compute them",
      "Prove properties of Hermitian and unitary matrices",
      "Verify properties of unitary and Hermitian matrices",
      "Understand the implication of unitary matrices in quantum computing",
      "Implement Python programs to check for Hermitian or unitary matrices"
     ],
     "cell_prereqs": [],
     "cell_title": "Learning Outcomes",
     "cell_type": [
      "text"
     ],
     "module_outcomes": [
      "Master advanced concepts in complex vector spaces",
      "Develop the ability to analyze and apply advanced mathematical concepts in practical scenarios, particularly in quantum computing"
     ],
     "module_prereqs": [
      "Linear Algebra",
      "Complex Numbers",
      "Introduction to Programming",
      "Python Basics",
      "Complex Vector Spaces"
     ],
     "module_title": [
      "Advanced Concepts in Complex Vector Spaces"
     ]
    },
    "collapsed": true,
    "editable": true,
    "jupyter": {
     "outputs_hidden": true
    },
    "slideshow": {
     "slide_type": "slide"
    },
    "tags": []
   },
   "source": [
    "# 7. Advanced Concepts in Complex Vector Spaces\n",
    "\n",
    "### This lesson belongs to nanonodule 7- unit 1\n",
    "\n",
    "\n",
    "<b>Learning Outcomes: </b>\n",
    "\n",
    "Upon completion of this lesson:\n",
    "\n",
    "7.1\tStudents will understand the definition and meaning of eigenvalues and eigenvectors and compute them.\n",
    "\n",
    "7.2\tStudents will prove properties of Hermitian and unitary matrices.\n",
    "\n",
    "7.3\tStudents will be able to verify properties of unitary and Hermitian matrices.\n",
    "\n",
    "7.4\tStudents will know the implication of unitary matrices as transformations in quantum computing.\n",
    "\n",
    "7.5\tStudents will be able to implement Python programs that check if a given matrix is Hermitian or unitary.\n"
   ]
  },
  {
   "cell_type": "markdown",
   "metadata": {
    "cell_details": {
     "cell_ID": "m7-EigenvaluesEigenvectors",
     "cell_alternates": [],
     "cell_concepts": [
      "Eigenvalues and Eigenvectors"
     ],
     "cell_estimated_time": "3",
     "cell_interactive": "false",
     "cell_outcomes": [
      "Understand the concept of eigenvalues and eigenvectors",
      "Identify examples of eigenvalues and eigenvectors"
     ],
     "cell_prereqs": [
      "m4-OperationsScalar",
      "m4-MatrixMultiplication"
     ],
     "cell_title": "Eigen Values and Eigen Vectors",
     "cell_type": [
      "text"
     ],
     "module_outcomes": [
      "Master advanced concepts in complex vector spaces",
      "Develop the ability to analyze and apply advanced mathematical concepts in practical scenarios, particularly in quantum computing"
     ],
     "module_prereqs": [
      "Linear Algebra",
      "Complex Numbers",
      "Introduction to Programming",
      "Python Basics",
      "Complex Vector Spaces"
     ],
     "module_title": [
      "Advanced Concepts in Complex Vector Spaces"
     ]
    },
    "editable": true,
    "slideshow": {
     "slide_type": "slide"
    },
    "tags": []
   },
   "source": [
    "## 7.1 Eigenvalues and Eigenvectors\n",
    "\n",
    "<b>Examples: </b>Consider the following $2\\times2$ matrix\n",
    "\n",
    "$$\\begin{bmatrix}6&-1.5\\\\3&1.5\\end{bmatrix}$$\n",
    "\n",
    "We see that\n",
    "\n",
    "$$\\begin{bmatrix}6&-1.5\\\\3&1.5\\end{bmatrix}\\begin{bmatrix}1\\\\1\\end{bmatrix}=\\begin{bmatrix}4.5\\\\4.5\\end{bmatrix}=4.5\\begin{bmatrix}1\\\\1\\end{bmatrix}$$\n",
    "\n",
    "Therefore, multiplying the matrix with the vector is equivalent to scaling the vector. Although this is not true for all the matrices and vectors, when this does happen we call the vector eigenvectors of the matrix and the scalar is called eigenvalue corresponding to the eigenvector."
   ]
  },
  {
   "cell_type": "markdown",
   "metadata": {
    "cell_details": {
     "cell_ID": "m7-DefinitionEigenvectorsEigenvalues",
     "cell_alternates": [],
     "cell_concepts": [
      "Eigenvalues and Eigenvectors"
     ],
     "cell_estimated_time": "3",
     "cell_interactive": "false",
     "cell_outcomes": [
      "Define eigenvectors and eigenvalues and understand their relationship to complex matrices",
      "Identify examples of eigenvectors and eigenvalues"
     ],
     "cell_prereqs": [
      "m7-EigenvaluesEigenvectors"
     ],
     "cell_title": "Definition of Eigen Vectors and Eigen Values",
     "cell_type": [
      "text"
     ],
     "module_outcomes": [
      "Master advanced concepts in complex vector spaces",
      "Develop the ability to analyze and apply advanced mathematical concepts in practical scenarios, particularly in quantum computing"
     ],
     "module_prereqs": [
      "Linear Algebra",
      "Complex Numbers",
      "Introduction to Programming",
      "Python Basics",
      "Complex Vector Spaces"
     ],
     "module_title": [
      "Advanced Concepts in Complex Vector Spaces"
     ]
    },
    "collapsed": true,
    "editable": true,
    "jupyter": {
     "outputs_hidden": true
    },
    "slideshow": {
     "slide_type": "slide"
    },
    "tags": []
   },
   "source": [
    "## 7.2 Definition: Eigenvectors and eigenvalues\n",
    "\n",
    "Given a complex matrix $A\\in \\mathbb{C}$ and a complex vector $V\\neq0$ if,\n",
    "\n",
    "$$A\\cdot V = c\\cdot V$$\n",
    "\n",
    "where $c$ is a complex scalar, then $V$ is called the eigenvector of $A$ corresponding to the eigenvalue $c$.\n",
    "\n",
    "<b>Example:</b> Matrix $A=\\begin{bmatrix}0&1\\\\-2&-3\\end{bmatrix}$ has eigenvectors $v_1=\\begin{bmatrix}\\frac{1}{\\sqrt{2}}\\\\-\\frac{1}{\\sqrt{2}}\\end{bmatrix}$ and $v_2=\\begin{bmatrix}-\\frac{1}{\\sqrt{5}}\\\\\\frac{2}{\\sqrt{5}}\\end{bmatrix}$. The corresponding eigenvalues are $c_1=-1$ and $c_2=-2$, respectively."
   ]
  },
  {
   "cell_type": "markdown",
   "metadata": {
    "cell_details": {
     "cell_ID": "m7-HermitianMatrices",
     "cell_alternates": [],
     "cell_concepts": [
      "Hermitian Matrices"
     ],
     "cell_estimated_time": "3",
     "cell_interactive": "false",
     "cell_outcomes": [
      "Understand the definition and properties of Hermitian matrices",
      "Identify examples of Hermitian matrices"
     ],
     "cell_prereqs": [
      "m4-MatricesComplexVectorSpaces"
     ],
     "cell_title": "Hermitian Matrices",
     "cell_type": [
      "text"
     ],
     "module_outcomes": [
      "Master advanced concepts in complex vector spaces",
      "Develop the ability to analyze and apply advanced mathematical concepts in practical scenarios, particularly in quantum computing"
     ],
     "module_prereqs": [
      "Linear Algebra",
      "Complex Numbers",
      "Introduction to Programming",
      "Python Basics",
      "Complex Vector Spaces"
     ],
     "module_title": [
      "Advanced Concepts in Complex Vector Spaces"
     ]
    },
    "editable": true,
    "slideshow": {
     "slide_type": "slide"
    },
    "tags": []
   },
   "source": [
    "## 7.3 Hermitian Matrices\n",
    "\n",
    "For a matrix $A$, if $A^T=A$ then we say that $A$ is a symmetric matrix. If we generalize this notion to matrices with complex number then we need to take not just the transpose but also the conjugate of matrix $A$. Further, we have a different name for these matrices.\n",
    "\n",
    "<b>Hermitian matrix: </b>An $n\\times n$ matrix $A$ is called <b>hermitian</b> if $A^\\dagger=A$.\n",
    "\n",
    "<b>Examples:</b> $A=\\begin{bmatrix}1&2-i\\\\2+i&0\\end{bmatrix}$ and $B=\\begin{bmatrix}-1& 1-2i& 0\\\\1+2i& 0 &i\\\\0&-i&1\\end{bmatrix}$ are hermitian.\n",
    "\n"
   ]
  },
  {
   "cell_type": "markdown",
   "metadata": {
    "cell_details": {
     "cell_ID": "m7-Quiz-7.1",
     "cell_alternates": [
      "m7-Quiz-7.1-interactive"
     ],
     "cell_concepts": [
      "Hermitian Matrices"
     ],
     "cell_estimated_time": "25",
     "cell_interactive": "true",
     "cell_outcomes": [
      "Compute eigenvectors and eigenvalues for given matrices",
      "Verify Hermitian property for given matrices"
     ],
     "cell_prereqs": [
      "m7-EigenvaluesEigenvectors",
      "m7-DefinitionEigenvectorsEigenvalues",
      "m7-HermitianMatrices"
     ],
     "cell_title": "Self Assessment Quiz 1",
     "cell_type": [
      "quiz"
     ],
     "module_outcomes": [
      "Master advanced concepts in complex vector spaces",
      "Develop the ability to analyze and apply advanced mathematical concepts in practical scenarios, particularly in quantum computing"
     ],
     "module_prereqs": [
      "Linear Algebra",
      "Complex Numbers",
      "Introduction to Programming",
      "Python Basics",
      "Complex Vector Spaces"
     ],
     "module_title": [
      "Advanced Concepts in Complex Vector Spaces"
     ]
    },
    "editable": true,
    "slideshow": {
     "slide_type": "slide"
    },
    "tags": []
   },
   "source": [
    "## Quiz 7.1 Self Assessment Quiz\n",
    "\n",
    "1. Compute the eigenvectors and eigenvalues associated with the following matrices.\n",
    "\n",
    "    a. $\\begin{bmatrix}2&-4\\\\-1&-1\\end{bmatrix}$\n",
    "\n",
    "    b. $\\begin{bmatrix}3&-2\\\\4&-1\\end{bmatrix}$\n",
    "2. Verify that the following matrices are Hermitian.\n",
    "\n",
    "    a. $\\begin{bmatrix}2&-i\\\\i&1\\end{bmatrix}$\n",
    "\n",
    "    b. $\\begin{bmatrix}1&1+i&2i\\\\1-i&5&-3\\\\-2i&-3&0\\end{bmatrix}$\n"
   ]
  },
  {
   "cell_type": "code",
   "execution_count": null,
   "metadata": {
    "cell_details": {
     "cell_ID": "m7-Quiz-7.1-interactive",
     "cell_alternates": [
      "m7-Quiz-7.1"
     ],
     "cell_concepts": [
      "Hermitian Matrices"
     ],
     "cell_estimated_time": "25",
     "cell_interactive": "true",
     "cell_outcomes": [
      "Compute eigenvectors and eigenvalues for given matrices",
      "Verify Hermitian property for given matrices"
     ],
     "cell_prereqs": [
      "m7-EigenvaluesEigenvectors",
      "m7-DefinitionEigenvectorsEigenvalues",
      "m7-HermitianMatrices"
     ],
     "cell_title": "Self Assessment Quiz 7 interactive",
     "cell_type": [
      "quiz"
     ],
     "module_outcomes": [
      "Master advanced concepts in complex vector spaces",
      "Develop the ability to analyze and apply advanced mathematical concepts in practical scenarios, particularly in quantum computing"
     ],
     "module_prereqs": [
      "Linear Algebra",
      "Complex Numbers",
      "Introduction to Programming",
      "Python Basics",
      "Complex Vector Spaces"
     ],
     "module_title": [
      "Advanced Concepts in Complex Vector Spaces"
     ]
    },
    "editable": true,
    "slideshow": {
     "slide_type": "slide"
    },
    "tags": []
   },
   "outputs": [],
   "source": [
    "%run pyfiles/saquiz7_1  #This runs the file that has the quiz code\n",
    "createQuiz7_1()"
   ]
  },
  {
   "cell_type": "markdown",
   "metadata": {
    "cell_details": {
     "cell_ID": "m7-UnitaryMatrices",
     "cell_alternates": [],
     "cell_concepts": [
      "Unitary Matrices"
     ],
     "cell_estimated_time": "3",
     "cell_interactive": "false",
     "cell_outcomes": [
      "Understand the definition and properties of unitary matrices",
      "Identify examples of unitary matrices"
     ],
     "cell_prereqs": [
      "m7-HermitianMatrices"
     ],
     "cell_title": "Unitary Matrices",
     "cell_type": [
      "text"
     ],
     "module_outcomes": [
      "Master advanced concepts in complex vector spaces",
      "Develop the ability to analyze and apply advanced mathematical concepts in practical scenarios, particularly in quantum computing"
     ],
     "module_prereqs": [
      "Linear Algebra",
      "Complex Numbers",
      "Introduction to Programming",
      "Python Basics",
      "Complex Vector Spaces"
     ],
     "module_title": [
      "Advanced Concepts in Complex Vector Spaces"
     ]
    },
    "editable": true,
    "slideshow": {
     "slide_type": "slide"
    },
    "tags": []
   },
   "source": [
    "## 7.4 Unitary Matrices\n",
    "\n",
    "Recall that a matrix is said to be invertible if there exists a matrix $B$ such that $A\\cdot B=I$ where $I$ is the identity matrix. $B$ is often denoted as $A^{-1}$. Unitary matrices are a type of invertible matrices with the following definition,\n",
    "\n",
    "<b>Unitary Matrix:</b> An $n\\times n$ matrix $U$ is unitary if $U U^\\dagger=U^\\dagger U=I$.\n",
    "\n",
    "<b>Examples:</b>\n",
    "\n",
    "$$\\begin{bmatrix}cos\\theta&-sin\\theta\\\\sin\\theta&cos\\theta\\end{bmatrix} \\mbox{ and }\\frac{1}{2}\\begin{bmatrix}1&-i&-1+i\\\\i&1&1+i\\\\1+i&-1+i&0\\end{bmatrix}$$\n"
   ]
  },
  {
   "cell_type": "markdown",
   "metadata": {
    "cell_details": {
     "cell_ID": "m7-ImplicationUnitaryTransformations",
     "cell_alternates": [],
     "cell_concepts": [
      "Unitary Matrices",
      "Implications of Unitary Transformations"
     ],
     "cell_estimated_time": "3",
     "cell_interactive": "false",
     "cell_outcomes": [
      "Understand the implications of unitary transformations on quantum systems",
      "Apply the concept of reversibility to quantum state operations"
     ],
     "cell_prereqs": [
      "m7-UnitaryMatrices"
     ],
     "cell_title": "Implication of Unitary Transformations",
     "cell_type": [
      "text"
     ],
     "module_outcomes": [
      "Master advanced concepts in complex vector spaces",
      "Develop the ability to analyze and apply advanced mathematical concepts in practical scenarios, particularly in quantum computing"
     ],
     "module_prereqs": [
      "Linear Algebra",
      "Complex Numbers",
      "Introduction to Programming",
      "Python Basics",
      "Complex Vector Spaces"
     ],
     "module_title": [
      "Advanced Concepts in Complex Vector Spaces"
     ]
    },
    "editable": true,
    "slideshow": {
     "slide_type": "slide"
    },
    "tags": []
   },
   "source": [
    "## 7.5 Implication of Unitary Transformations\n",
    "\n",
    "Since unitary matrices preserve the geometry of a vector space, if we have a system that evolves according to unitary operations then we can always undo the operation and return the system to its initial state. For example, if unitary operation $U$ acts on a system represented by state $V$, then the new state is given by $V'=U\\cdot V$. However, since $U$ is unitary that means $U^\\dagger U=I$. Therefore, we can multiply both sides with $U^\\dagger$ and get $U^\\dagger V' = U^\\dagger U\\cdot V=V$. In other words, $U^\\dagger$ undoes the action of $U$. \n",
    "\n",
    "It turn out that the only operations allowable on a quantum state are unitary operations and therefore the quantum systems are <b>reversible</b> systems."
   ]
  },
  {
   "cell_type": "markdown",
   "metadata": {
    "cell_details": {
     "cell_ID": "m7-Quiz-7.2",
     "cell_alternates": [
      "m7-Quiz-7.2-interactive"
     ],
     "cell_concepts": [
      "Implications of Unitary Transformations"
     ],
     "cell_estimated_time": "10",
     "cell_interactive": "true",
     "cell_outcomes": [
      "Verify unitary property for given matrices",
      "Prove preservation of inner product under unitary transformation"
     ],
     "cell_prereqs": [
      "m7-UnitaryMatrices",
      "m7-ImplicationUnitaryTransformations"
     ],
     "cell_title": "Self Assessment Quiz 2",
     "cell_type": [
      "quiz"
     ],
     "module_outcomes": [
      "Master advanced concepts in complex vector spaces",
      "Develop the ability to analyze and apply advanced mathematical concepts in practical scenarios, particularly in quantum computing"
     ],
     "module_prereqs": [
      "Linear Algebra",
      "Complex Numbers",
      "Introduction to Programming",
      "Python Basics",
      "Complex Vector Spaces"
     ],
     "module_title": [
      "Advanced Concepts in Complex Vector Spaces"
     ]
    },
    "editable": true,
    "slideshow": {
     "slide_type": "slide"
    },
    "tags": []
   },
   "source": [
    "## Quiz 7.2 Self Assessment Quiz\n",
    "\n",
    "1. Verify that the following matrices are unitary,\n",
    "\n",
    "    a. $\\frac{1}{2}\\begin{bmatrix}1+i& 1+i\\\\1-i&-1+i\\end{bmatrix}$\n",
    "<br><br>\n",
    "    b. $\\begin{bmatrix}cos\\theta&-sin\\theta&0\\\\sin\\theta&cos\\theta&0\\\\0&0&1\\end{bmatrix}$\n",
    "<br><br>\n",
    "2. Prove the following. For a unitary matrix $U$,\n",
    "$\\left<UV,UV'\\right>=\\left<V,V'\\right>$"
   ]
  },
  {
   "cell_type": "code",
   "execution_count": null,
   "metadata": {
    "cell_details": {
     "cell_ID": "m7-Quiz-7.2-interactive",
     "cell_alternates": [
      "m7-Quiz-7.2"
     ],
     "cell_concepts": [
      "Implications of Unitary Transformations"
     ],
     "cell_estimated_time": "15",
     "cell_interactive": "true",
     "cell_outcomes": [
      "Verify unitary property for given matrices",
      "Prove preservation of inner product under unitary transformation"
     ],
     "cell_prereqs": [
      "m7-UnitaryMatrices",
      "m7-ImplicationUnitaryTransformations"
     ],
     "cell_title": "Self Assessment Quiz 2 interactive",
     "cell_type": [
      "quiz"
     ],
     "module_outcomes": [
      "Master advanced concepts in complex vector spaces",
      "Develop the ability to analyze and apply advanced mathematical concepts in practical scenarios, particularly in quantum computing"
     ],
     "module_prereqs": [
      "Linear Algebra",
      "Complex Numbers",
      "Introduction to Programming",
      "Python Basics",
      "Complex Vector Spaces"
     ],
     "module_title": [
      "Advanced Concepts in Complex Vector Spaces"
     ]
    },
    "editable": true,
    "slideshow": {
     "slide_type": "slide"
    },
    "tags": []
   },
   "outputs": [],
   "source": [
    "%run pyfiles/saquiz7_2  #This runs the file that has the quiz code\n",
    "createQuiz7_2()"
   ]
  },
  {
   "cell_type": "markdown",
   "metadata": {
    "cell_details": {
     "cell_ID": "m7-finalQuiz-information",
     "cell_alternates": [],
     "cell_concepts": [],
     "cell_estimated_time": "1",
     "cell_interactive": "false",
     "cell_outcomes": [
      "Know the information about the final Quiz of this module"
     ],
     "cell_prereqs": [],
     "cell_title": "final Quiz 7",
     "cell_type": [
      "text"
     ],
     "module_outcomes": [
      "Master advanced concepts in complex vector spaces",
      "Develop the ability to analyze and apply advanced mathematical concepts in practical scenarios, particularly in quantum computing"
     ],
     "module_prereqs": [
      "Linear Algebra",
      "Complex Numbers",
      "Introduction to Programming",
      "Python Basics",
      "Complex Vector Spaces"
     ],
     "module_title": [
      "Advanced Concepts in Complex Vector Spaces"
     ]
    },
    "editable": true,
    "slideshow": {
     "slide_type": "slide"
    },
    "tags": []
   },
   "source": [
    "#### Final Quiz 7  is in a separate notebook with filename: finalquiz7.ipynb.\n",
    "\n",
    "Final quiz is intended to be completed and submitted to the instructor for grading. Solutions are available to instructors upon request."
   ]
  }
 ],
 "metadata": {
  "celltoolbar": "Slideshow",
  "kernelspec": {
   "display_name": "Python 3 (ipykernel)",
   "language": "python",
   "name": "python3"
  },
  "language_info": {
   "codemirror_mode": {
    "name": "ipython",
    "version": 3
   },
   "file_extension": ".py",
   "mimetype": "text/x-python",
   "name": "python",
   "nbconvert_exporter": "python",
   "pygments_lexer": "ipython3",
   "version": "3.12.2"
  },
  "module_details": {
   "module_concepts": [
    "Eigenvalues and Eigenvectors",
    "Hermitian Matrices",
    "Unitary Matrices",
    "Implications of Unitary Transformations"
   ],
   "module_outcomes": [
    "Students will understand the definition and meaning of eigenvalues and eigenvectors and compute them.",
    "Students will prove properties of Hermitian and unitary matrices.",
    "Students will be able to verify properties of unitary and Hermitian matrices.",
    "Students will know the implication of unitary matrices as transformations in quantum computing.",
    "Students will be able to implement Python programs that check if a given matrix is Hermitian or unitary."
   ],
   "module_outcomes_mapping": [
    [
     "m7-EigenvaluesEigenvectors",
     "m7-DefinitionEigenvectorsEigenvalues",
     "m7-Quiz-7.1",
     "m7-Quiz-7.1-interactive"
    ],
    [
     "m7-HermitianMatrices",
     "m7-Quiz-7.1",
     "m7-Quiz-7.1-interactive",
     "m7-UnitaryMatrices"
    ],
    [
     "m7-Quiz-7.2",
     "m7-Quiz-7.2-interactive"
    ],
    [
     "m7-ImplicationUnitaryTransformations"
    ],
    [
     "m7-final-quiz"
    ]
   ],
   "module_prereqs": [
    "Linear Algebra",
    "Complex Numbers",
    "Introduction to Programming",
    "Python Basics",
    "Complex Vector Spaces"
   ],
   "module_title": [
    "Advanced Concepts in Complex Vector Spaces"
   ]
  }
 },
 "nbformat": 4,
 "nbformat_minor": 4
}
