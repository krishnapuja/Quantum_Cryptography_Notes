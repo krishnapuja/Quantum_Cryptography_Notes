{
 "cells": [
  {
   "cell_type": "markdown",
   "metadata": {
    "slideshow": {
     "slide_type": "slide"
    }
   },
   "source": [
    "# 3. Complex Numbers on a Plane\n",
    "\n",
    "### This lesson belongs to nanomodule 3 - unit 1\n",
    "\n",
    "\n",
    "<b>Learning Outcomes: </b>\n",
    "\n",
    "Upon completion of this lesson:\n",
    "\n",
    "3.1\tStudents will be able to represent complex numbers as Cartesian coordinates and plot them on the complex plane.\n",
    "\n",
    "3.2\tStudents will be able to represent complex numbers using polar representations and plot them on the complex plane.\n",
    "\n",
    "3.3\tStudents will be able to convert back and forth between Cartesian and polar representations.\n",
    "\n",
    "3.4\tStudents will be able to implement programs that convert between Cartesian and polar representations.\n"
   ]
  },
  {
   "cell_type": "markdown",
   "metadata": {
    "slideshow": {
     "slide_type": "slide"
    }
   },
   "source": [
    "## 3.1 Cartesian Representation of Complex Numbers\n",
    "\n",
    "Writing complex numbers as ordered pairs $c\\rightarrow(a,b)$, makes them very similar to $(x,y)$ coordinate. We will call the plane on which we plot these complex numbers as the <b>complex plane</b> or the <b>Argand plane</b>. The imaginary part of the complex number will be plotted along the $y$-axis and the real part of the complex number will be plotted along the $x$-axis.\n",
    "\n",
    "The modulus, therefore, becomes the <b>length</b> of the vector based on Pythagoras's theorem. Figure below depicts $c=2+4i$.\n",
    "\n",
    "$$\\rvert c\\rvert=length(c) = \\sqrt{2^2+4^2} = \\sqrt{4+16} = \\sqrt{20}$$\n",
    "\n",
    "![nanomod3-fig1.png](nanomod3-fig1.png)\n",
    "\n",
    "<b>Figure 1.</b> Complex number drawn as a vector.\n",
    "\n",
    "Often representing complex numbers as $(x,y)$ coordinates is called <b>Cartesian representation</b>."
   ]
  },
  {
   "cell_type": "markdown",
   "metadata": {
    "slideshow": {
     "slide_type": "slide"
    }
   },
   "source": [
    "## 3.2 Polar Representation of Complex Numbers\n",
    "\n",
    "Vectors in a plane can also be represented using the magnitude of the vector (modulus $\\rho$) and the angle $\\theta$ it makes with the $x$-axis. This is known as the <b>polar representation</b>.\n",
    "\n",
    "$$(a,b)\\rightarrow(\\rho,\\theta)$$\n",
    "\n",
    "where, $\\rho=\\sqrt{a^2+b^2}$ and $\\theta=tan^{-1}(\\frac{b}{a})$\n",
    "\n",
    "Going back to Cartesian representation: $a =\\rho cos (\\theta)$ and $b = \\rho sin(\\theta)$. Therefore, $a$ and $b$ are the projections of the vector on the $x$ and $y$ axes, respectively."
   ]
  },
  {
   "cell_type": "markdown",
   "metadata": {
    "slideshow": {
     "slide_type": "slide"
    }
   },
   "source": [
    "<b> Example:</b> The polar representation for $c=-2+2i$ can be computed as follows,\n",
    "\n",
    "$$\\rho = \\sqrt{(-2)^2+2^2} = \\sqrt{4+4} = \\sqrt{8}$$\n",
    "\n",
    "$$\\theta = tan^{-1}(\\frac{2}{-2}) = tan^{-1}(-1) = \\frac{3\\pi}{4}$$\n",
    "\n",
    "![nanomod3-fig2.png](nanomod3-fig2.png)\n",
    "<b>Figure 2.</b> Complex number drawn using polar representation."
   ]
  },
  {
   "cell_type": "markdown",
   "metadata": {
    "slideshow": {
     "slide_type": "slide"
    }
   },
   "source": [
    "## 3.3 Multiplication using Polar Coordinates\n",
    "\n",
    "Recall that multiplication of complex numbers is somewhat complicated using cartesian coordinates. However, multiplication becomes very simple in polar coordinates. Given two complex numbers, $c_1\\rightarrow(\\rho_1,\\theta_1)$ and $c_2=(\\rho_2,\\theta_2)$, $c_1\\times c_2 = (\\rho_1\\rho_2, \\theta_1+\\theta_2)$.\n",
    "\n",
    "In other words, graphically the first vector is rotated by the angle of the second vector and its length multiplied by the length of the second vector."
   ]
  },
  {
   "cell_type": "markdown",
   "metadata": {
    "slideshow": {
     "slide_type": "skip"
    }
   },
   "source": [
    "## Quiz 3.1 Self Assessment Quiz\n",
    "<b>Maybe used for in-class hands-on practice.</b>\n",
    "\n",
    "<b><i>Run the code in the next cell to generate a interactive version of this quiz.</i></b>\n",
    "\n",
    "1. Convert the following into polar representations.\n",
    "\n",
    "    a. $c=1+i$\n",
    "\n",
    "    b. $c=21+48i$\n",
    "\n",
    "    c. $c=3-45i$\n",
    "<br><br>\n",
    "2. Convert the following polar representations into cartesian representations.\n",
    "\n",
    "    a. $\\rho=25$ and $\\theta=60^\\circ$\n",
    "\n",
    "    b. $\\rho=15$ and $\\theta=45^\\circ$\n",
    "\n",
    "    c. $\\rho=$45 and $\\theta=30^\\circ$\n",
    "<br><br>\n",
    "3. Multiply the following using polar representation.\n",
    "\n",
    "    a. $c_1=1+2i$ and $c_2=4i$\n",
    "\n",
    "    b. $c_1=2-4i$ and $c_2=3-2i$\n"
   ]
  },
  {
   "cell_type": "code",
   "execution_count": 1,
   "metadata": {},
   "outputs": [
    {
     "data": {
      "application/vnd.jupyter.widget-view+json": {
       "model_id": "81ad9a1b1a8c4b0085cb57b354079fb8",
       "version_major": 2,
       "version_minor": 0
      },
      "text/plain": [
       "Output()"
      ]
     },
     "metadata": {},
     "output_type": "display_data"
    },
    {
     "data": {
      "application/vnd.jupyter.widget-view+json": {
       "model_id": "1c454c6f9cea40f08a3c9eee7d75f8ca",
       "version_major": 2,
       "version_minor": 0
      },
      "text/plain": [
       "HBox(children=(Label(value='Real $=$'), FloatText(value=0.0, disabled=True, layout=Layout(width='90px')), Labe…"
      ]
     },
     "metadata": {},
     "output_type": "display_data"
    },
    {
     "data": {
      "application/vnd.jupyter.widget-view+json": {
       "model_id": "5d702b647e8c400697b61a0906207bf9",
       "version_major": 2,
       "version_minor": 0
      },
      "text/plain": [
       "Button(button_style='warning', description='Clear', icon='check', layout=Layout(width='25%'), style=ButtonStyl…"
      ]
     },
     "metadata": {},
     "output_type": "display_data"
    },
    {
     "data": {
      "application/vnd.jupyter.widget-view+json": {
       "model_id": "631800e8ef5248f6b551fa0a65f7ddbe",
       "version_major": 2,
       "version_minor": 0
      },
      "text/plain": [
       "VBox(children=(HTML(value='<b><font size=\"+2\">Quiz 3.1 Self Assessment Quiz'), HTML(value='<b><font size=\"-1\"<…"
      ]
     },
     "metadata": {},
     "output_type": "display_data"
    },
    {
     "data": {
      "application/vnd.jupyter.widget-view+json": {
       "model_id": "a5db204416d74f14b00d40de1a1021af",
       "version_major": 2,
       "version_minor": 0
      },
      "text/plain": [
       "HTMLMath(value='<font size=\"+1\">1. Convert the following into polar representations.')"
      ]
     },
     "metadata": {},
     "output_type": "display_data"
    },
    {
     "data": {
      "application/vnd.jupyter.widget-view+json": {
       "model_id": "463da2cf92d348d88dc17453c94befc4",
       "version_major": 2,
       "version_minor": 0
      },
      "text/plain": [
       "HTMLMath(value='<font size=\"+0\">a. $c$ = 1+$i$')"
      ]
     },
     "metadata": {},
     "output_type": "display_data"
    },
    {
     "data": {
      "application/vnd.jupyter.widget-view+json": {
       "model_id": "a44f4adaf0904e6e825cf0f98408a662",
       "version_major": 2,
       "version_minor": 0
      },
      "text/plain": [
       "HBox(children=(Label(value='$\\\\rho$ $=$'), FloatText(value=0.0, layout=Layout(width='90px')), Label(value=',$\\…"
      ]
     },
     "metadata": {},
     "output_type": "display_data"
    },
    {
     "data": {
      "application/vnd.jupyter.widget-view+json": {
       "model_id": "4c4313b20f5542fda7b7de9e641acee9",
       "version_major": 2,
       "version_minor": 0
      },
      "text/plain": [
       "HTMLMath(value='<font size=\"+0\">b. $c$ = 21+48$i$')"
      ]
     },
     "metadata": {},
     "output_type": "display_data"
    },
    {
     "data": {
      "application/vnd.jupyter.widget-view+json": {
       "model_id": "fce0194bbd834ce09d3f7eb8fe5c5370",
       "version_major": 2,
       "version_minor": 0
      },
      "text/plain": [
       "HBox(children=(Label(value='$\\\\rho$ $=$'), FloatText(value=0.0, layout=Layout(width='90px')), Label(value=',$\\…"
      ]
     },
     "metadata": {},
     "output_type": "display_data"
    },
    {
     "data": {
      "application/vnd.jupyter.widget-view+json": {
       "model_id": "8c42fe9939134bbc9e5734fbb330566e",
       "version_major": 2,
       "version_minor": 0
      },
      "text/plain": [
       "HTMLMath(value='<font size=\"+0\">c. $c$ = 3-45$i$')"
      ]
     },
     "metadata": {},
     "output_type": "display_data"
    },
    {
     "data": {
      "application/vnd.jupyter.widget-view+json": {
       "model_id": "03ffb9a20a964d2db253487103821d11",
       "version_major": 2,
       "version_minor": 0
      },
      "text/plain": [
       "HBox(children=(Label(value='$\\\\rho$ $=$'), FloatText(value=0.0, layout=Layout(width='90px')), Label(value=',$\\…"
      ]
     },
     "metadata": {},
     "output_type": "display_data"
    },
    {
     "data": {
      "application/vnd.jupyter.widget-view+json": {
       "model_id": "f6f8deb614d64d2b95193927bd3fd842",
       "version_major": 2,
       "version_minor": 0
      },
      "text/plain": [
       "HTMLMath(value='<font size=\"+1\">2. Convert the following polar representations into cartesian representations.…"
      ]
     },
     "metadata": {},
     "output_type": "display_data"
    },
    {
     "data": {
      "application/vnd.jupyter.widget-view+json": {
       "model_id": "11517e97ed714375b1f9cae686273fe2",
       "version_major": 2,
       "version_minor": 0
      },
      "text/plain": [
       "HTMLMath(value='<font size=\"+0\">a. $\\\\rho=25$ and $\\\\theta=60^\\\\circ$')"
      ]
     },
     "metadata": {},
     "output_type": "display_data"
    },
    {
     "data": {
      "application/vnd.jupyter.widget-view+json": {
       "model_id": "5660b72762694873a9688592ef539e07",
       "version_major": 2,
       "version_minor": 0
      },
      "text/plain": [
       "HBox(children=(Label(value='  ('), FloatText(value=0.0, layout=Layout(width='55px')), Label(value=' , '), Floa…"
      ]
     },
     "metadata": {},
     "output_type": "display_data"
    },
    {
     "data": {
      "application/vnd.jupyter.widget-view+json": {
       "model_id": "0f2ffb5dc4934dfb987a61715e8c7648",
       "version_major": 2,
       "version_minor": 0
      },
      "text/plain": [
       "HTMLMath(value='<font size=\"+0\">b. $\\\\rho=15$ and $\\\\theta=45^\\\\circ$')"
      ]
     },
     "metadata": {},
     "output_type": "display_data"
    },
    {
     "data": {
      "application/vnd.jupyter.widget-view+json": {
       "model_id": "efc9d1d70ac64a97be12c811ee1ca54e",
       "version_major": 2,
       "version_minor": 0
      },
      "text/plain": [
       "HBox(children=(Label(value='  ('), FloatText(value=0.0, layout=Layout(width='55px')), Label(value=' , '), Floa…"
      ]
     },
     "metadata": {},
     "output_type": "display_data"
    },
    {
     "data": {
      "application/vnd.jupyter.widget-view+json": {
       "model_id": "7792380c693248aeb722453d9d080fb6",
       "version_major": 2,
       "version_minor": 0
      },
      "text/plain": [
       "HTMLMath(value='<font size=\"+0\">c. $\\\\rho=45$ and $\\\\theta=30^\\\\circ$')"
      ]
     },
     "metadata": {},
     "output_type": "display_data"
    },
    {
     "data": {
      "application/vnd.jupyter.widget-view+json": {
       "model_id": "a9300cdf924e4e01a4a0b9a631c31bf5",
       "version_major": 2,
       "version_minor": 0
      },
      "text/plain": [
       "HBox(children=(Label(value='  ('), FloatText(value=0.0, layout=Layout(width='55px')), Label(value=' , '), Floa…"
      ]
     },
     "metadata": {},
     "output_type": "display_data"
    },
    {
     "data": {
      "application/vnd.jupyter.widget-view+json": {
       "model_id": "8c5b6646cc4743b58131ab10e8284f78",
       "version_major": 2,
       "version_minor": 0
      },
      "text/plain": [
       "HTMLMath(value='<font size=\"+1\">3. Multiply the following using polar representations.')"
      ]
     },
     "metadata": {},
     "output_type": "display_data"
    },
    {
     "data": {
      "application/vnd.jupyter.widget-view+json": {
       "model_id": "b0d28f66da494b52b4f89d6c44a3c4dc",
       "version_major": 2,
       "version_minor": 0
      },
      "text/plain": [
       "HTMLMath(value='<font size=\"+0\">a. $c_1$=1+2$i$ and $c_2$=4$i$')"
      ]
     },
     "metadata": {},
     "output_type": "display_data"
    },
    {
     "data": {
      "application/vnd.jupyter.widget-view+json": {
       "model_id": "6ae9352cc2f140bc9bee03b527622dbe",
       "version_major": 2,
       "version_minor": 0
      },
      "text/plain": [
       "HBox(children=(Label(value='$\\\\rho$ $=$'), FloatText(value=0.0, layout=Layout(width='90px')), Label(value=',$\\…"
      ]
     },
     "metadata": {},
     "output_type": "display_data"
    },
    {
     "data": {
      "application/vnd.jupyter.widget-view+json": {
       "model_id": "cfb1ce33891548e2b43c99e332864f0d",
       "version_major": 2,
       "version_minor": 0
      },
      "text/plain": [
       "HTMLMath(value='<font size=\"+0\">b. $c_1$=2-4$i$ and $c_2$=3-2$i$')"
      ]
     },
     "metadata": {},
     "output_type": "display_data"
    },
    {
     "data": {
      "application/vnd.jupyter.widget-view+json": {
       "model_id": "ac6b0368853d4d5bb651ae7b4f5e9096",
       "version_major": 2,
       "version_minor": 0
      },
      "text/plain": [
       "HBox(children=(Label(value='$\\\\rho$ $=$'), FloatText(value=0.0, layout=Layout(width='90px')), Label(value=',$\\…"
      ]
     },
     "metadata": {},
     "output_type": "display_data"
    },
    {
     "data": {
      "application/vnd.jupyter.widget-view+json": {
       "model_id": "6e4849e8ae02428da8b4e524b6d12b85",
       "version_major": 2,
       "version_minor": 0
      },
      "text/plain": [
       "VBox(children=(Button(button_style='success', description='Check Answers', icon='check', style=ButtonStyle(fon…"
      ]
     },
     "metadata": {},
     "output_type": "display_data"
    }
   ],
   "source": [
    "%run pyfiles/saquiz3_1  #This runs the file that has the quiz code\n",
    "createQuiz3_1()"
   ]
  },
  {
   "cell_type": "markdown",
   "metadata": {
    "slideshow": {
     "slide_type": "slide"
    }
   },
   "source": [
    "## 3.4 Conclusions\n",
    "\n",
    "In last three nanomodules we reviewed the concept of complex numbers, operations they support and their properties. We learned about the modulus, complex conjugate, and cartesian and polar representation of complex numbers and how to go back and forth between these representations. This concludes our brief survey of complex numbers.\n",
    "\n",
    "In the next few nanomodules, we will learn about complex vector spaces."
   ]
  },
  {
   "cell_type": "markdown",
   "metadata": {
    "slideshow": {
     "slide_type": "slide"
    }
   },
   "source": [
    "#### Final Quiz 3 is in a separate notebook with filename: finalquiz3.ipynb.\n",
    "\n",
    "Final quiz is intended to be completed and submitted to the instructor for grading. Solutions to final quizzes are available to instructors upon request."
   ]
  }
 ],
 "metadata": {
  "celltoolbar": "Slideshow",
  "kernelspec": {
   "display_name": "Python 3 (ipykernel)",
   "language": "python",
   "name": "python3"
  },
  "language_info": {
   "codemirror_mode": {
    "name": "ipython",
    "version": 3
   },
   "file_extension": ".py",
   "mimetype": "text/x-python",
   "name": "python",
   "nbconvert_exporter": "python",
   "pygments_lexer": "ipython3",
   "version": "3.11.7"
  }
 },
 "nbformat": 4,
 "nbformat_minor": 4
}
