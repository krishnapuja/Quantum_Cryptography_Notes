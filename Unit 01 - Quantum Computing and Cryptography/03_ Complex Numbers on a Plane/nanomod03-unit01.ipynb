{
 "cells": [
  {
   "cell_type": "markdown",
   "metadata": {
    "cell_details": {
     "cell_ID": "m3-learningOutcomes",
     "cell_alternates": [],
     "cell_concepts": [
      "Learning Outcomes"
     ],
     "cell_estimated_time": "1",
     "cell_interactive": "false",
     "cell_outcomes": [
      "Know the outcomes of learning module complex numbers on a plane"
     ],
     "cell_prereqs": [],
     "cell_title": "Learning Outcomes",
     "cell_type": [
      "text"
     ],
     "module_outcomes": [
      "Understand the geometric representation of complex numbers",
      "Learn to represent complex numbers in Cartesian and polar coordinates",
      "Convert between Cartesian and polar representations of complex numbers",
      "Implement Python programs for representation and conversion of complex numbers"
     ],
     "module_prereqs": [
      "Algebra",
      "Trigonometry",
      "Introduction to Programming",
      "Python Basics",
      "The Basics of Complex Numbers"
     ],
     "module_title": [
      "Complex Numbers on a Plane"
     ]
    },
    "editable": true,
    "slideshow": {
     "slide_type": "slide"
    },
    "tags": []
   },
   "source": [
    "# 3. Complex Numbers on a Plane\n",
    "\n",
    "### This lesson belongs to nanomodule 3 - unit 1\n",
    "\n",
    "\n",
    "<b>Learning Outcomes: </b>\n",
    "\n",
    "Upon completion of this lesson:\n",
    "\n",
    "3.1\tStudents will be able to represent complex numbers as Cartesian coordinates and plot them on the complex plane.\n",
    "\n",
    "3.2\tStudents will be able to represent complex numbers using polar representations and plot them on the complex plane.\n",
    "\n",
    "3.3\tStudents will be able to convert back and forth between Cartesian and polar representations.\n",
    "\n",
    "3.4\tStudents will be able to implement programs that convert between Cartesian and polar representations.\n"
   ]
  },
  {
   "cell_type": "markdown",
   "metadata": {
    "cell_details": {
     "cell_ID": "m3-cartesianRepresentation",
     "cell_alternates": [],
     "cell_concepts": [
      "Cartesian Representation of Complex Number"
     ],
     "cell_estimated_time": "3",
     "cell_interactive": "false",
     "cell_outcomes": [
      "Understand the Cartesian representation of complex numbers",
      "Plot complex numbers on the Argand (complex) plane",
      "Compute the modulus of complex numbers using Cartesian representation"
     ],
     "cell_prereqs": [
      "m2-modulusConjugation",
      "m2-quiz-2.2",
      "m2-quiz-2.2-interactive"
     ],
     "cell_title": "Cartesian Representation of Complex Number",
     "cell_type": [
      "text"
     ],
     "module_outcomes": [
      "Understand the geometric representation of complex numbers",
      "Learn to represent complex numbers in Cartesian and polar coordinates",
      "Convert between Cartesian and polar representations of complex numbers",
      "Implement Python programs for representation and conversion of complex numbers"
     ],
     "module_prereqs": [
      "Algebra",
      "Trigonometry",
      "Introduction to Programming",
      "Python Basics",
      "The Basics of Complex Numbers"
     ],
     "module_title": [
      "Complex Numbers on a Plane"
     ]
    },
    "editable": true,
    "slideshow": {
     "slide_type": "slide"
    },
    "tags": []
   },
   "source": [
    "## 3.1 Cartesian Representation of Complex Numbers\n",
    "\n",
    "Writing complex numbers as ordered pairs $c\\rightarrow(a,b)$, makes them very similar to $(x,y)$ coordinate. We will call the plane on which we plot these complex numbers as the <b>complex plane</b> or the <b>Argand plane</b>. The imaginary part of the complex number will be plotted along the $y$-axis and the real part of the complex number will be plotted along the $x$-axis.\n",
    "\n",
    "The modulus, therefore, becomes the <b>length</b> of the vector based on Pythagoras's theorem. Figure below depicts $c=2+4i$.\n",
    "\n",
    "$$\\rvert c\\rvert=length(c) = \\sqrt{2^2+4^2} = \\sqrt{4+16} = \\sqrt{20}$$\n",
    "\n",
    "![images/nanomod3-fig1.png](images/nanomod3-fig1.png)\n",
    "\n",
    "<b>Figure 1.</b> Complex number drawn as a vector.\n",
    "\n",
    "Often representing complex numbers as $(x,y)$ coordinates is called <b>Cartesian representation</b>."
   ]
  },
  {
   "cell_type": "markdown",
   "metadata": {
    "cell_details": {
     "cell_ID": "m3-polarRepresentation",
     "cell_alternates": [],
     "cell_concepts": [
      "Polar Representation of Complex Numbers"
     ],
     "cell_estimated_time": "3",
     "cell_interactive": "false",
     "cell_outcomes": [
      "Understand the polar representation of complex numbers",
      "Convert complex numbers from Cartesian to polar representation and vice versa",
      "Compute the magnitude and angle of complex numbers in polar representation"
     ],
     "cell_prereqs": [
      "m2-modulusConjugation",
      "m2-quiz-2.2",
      "m2-quiz-2.2-interactive"
     ],
     "cell_title": "Polar Representation of Complex Numbers",
     "cell_type": [
      "text"
     ],
     "module_outcomes": [
      "Understand the geometric representation of complex numbers",
      "Learn to represent complex numbers in Cartesian and polar coordinates",
      "Convert between Cartesian and polar representations of complex numbers",
      "Implement Python programs for representation and conversion of complex numbers"
     ],
     "module_prereqs": [
      "Algebra",
      "Trigonometry",
      "Introduction to Programming",
      "Python Basics",
      "The Basics of Complex Numbers"
     ],
     "module_title": [
      "Complex Numbers on a Plane"
     ]
    },
    "editable": true,
    "slideshow": {
     "slide_type": "slide"
    },
    "tags": []
   },
   "source": [
    "## 3.2 Polar Representation of Complex Numbers\n",
    "\n",
    "Vectors in a plane can also be represented using the magnitude of the vector (modulus $\\rho$) and the angle $\\theta$ it makes with the $x$-axis. This is known as the <b>polar representation</b>.\n",
    "\n",
    "$$(a,b)\\rightarrow(\\rho,\\theta)$$\n",
    "\n",
    "where, $\\rho=\\sqrt{a^2+b^2}$ and $\\theta=tan^{-1}(\\frac{b}{a})$\n",
    "\n",
    "Going back to Cartesian representation: $a =\\rho cos (\\theta)$ and $b = \\rho sin(\\theta)$. Therefore, $a$ and $b$ are the projections of the vector on the $x$ and $y$ axes, respectively."
   ]
  },
  {
   "cell_type": "markdown",
   "metadata": {
    "cell_details": {
     "cell_ID": "m3-polarRepresentationExample",
     "cell_alternates": [],
     "cell_concepts": [
      "Polar Representation of Complex Numbers"
     ],
     "cell_estimated_time": "3",
     "cell_interactive": "false",
     "cell_outcomes": [
      "Understand the polar representation of complex numbers",
      "Convert complex numbers from Cartesian to polar representation and vice versa",
      "Compute the magnitude and angle of complex numbers in polar representation"
     ],
     "cell_prereqs": [
      "m3-polarRepresentation"
     ],
     "cell_title": "Example of Polar Representation",
     "cell_type": [
      "text"
     ],
     "module_outcomes": [
      "Understand the geometric representation of complex numbers",
      "Learn to represent complex numbers in Cartesian and polar coordinates",
      "Convert between Cartesian and polar representations of complex numbers",
      "Implement Python programs for representation and conversion of complex numbers"
     ],
     "module_prereqs": [
      "Algebra",
      "Trigonometry",
      "Introduction to Programming",
      "Python Basics",
      "The Basics of Complex Numbers"
     ],
     "module_title": [
      "Complex Numbers on a Plane"
     ]
    },
    "editable": true,
    "slideshow": {
     "slide_type": "slide"
    },
    "tags": []
   },
   "source": [
    "<b> Example:</b> The polar representation for $c=-2+2i$ can be computed as follows,\n",
    "\n",
    "$$\\rho = \\sqrt{(-2)^2+2^2} = \\sqrt{4+4} = \\sqrt{8}$$\n",
    "\n",
    "$$\\theta = tan^{-1}(\\frac{2}{-2}) = tan^{-1}(-1) = \\frac{3\\pi}{4}$$\n",
    "\n",
    "![nanomod3-fig2.png](images/nanomod3-fig2.png)\n",
    "<b>Figure 2.</b> Complex number drawn using polar representation."
   ]
  },
  {
   "cell_type": "markdown",
   "metadata": {
    "cell_details": {
     "cell_ID": "m3-multiplicationPolar",
     "cell_alternates": [],
     "cell_concepts": [
      "Polar Representation of Complex Numbers"
     ],
     "cell_estimated_time": "2",
     "cell_interactive": "false",
     "cell_outcomes": [
      "Understand the process of multiplying complex numbers in polar coordinates",
      "Perform multiplication of complex numbers using polar coordinates"
     ],
     "cell_prereqs": [
      "m3-polarRepresentation"
     ],
     "cell_title": "Multiplication using Polar Coordinates",
     "cell_type": [
      "text"
     ],
     "module_outcomes": [
      "Understand the geometric representation of complex numbers",
      "Learn to represent complex numbers in Cartesian and polar coordinates",
      "Convert between Cartesian and polar representations of complex numbers",
      "Simplify complex number operations using polar coordinates",
      "Implement Python programs for representation and conversion of complex numbers, including multiplication in polar coordinates"
     ],
     "module_prereqs": [
      "Algebra",
      "Trigonometry",
      "Introduction to Programming",
      "Python Basics",
      "The Basics of Complex Numbers"
     ],
     "module_title": [
      "Complex Numbers on a Plane"
     ]
    },
    "editable": true,
    "slideshow": {
     "slide_type": "slide"
    },
    "tags": []
   },
   "source": [
    "## 3.3 Multiplication using Polar Coordinates\n",
    "\n",
    "Recall that multiplication of complex numbers is somewhat complicated using cartesian coordinates. However, multiplication becomes very simple in polar coordinates. Given two complex numbers, $c_1\\rightarrow(\\rho_1,\\theta_1)$ and $c_2=(\\rho_2,\\theta_2)$, $c_1\\times c_2 = (\\rho_1\\rho_2, \\theta_1+\\theta_2)$.\n",
    "\n",
    "In other words, graphically the first vector is rotated by the angle of the second vector and its length multiplied by the length of the second vector."
   ]
  },
  {
   "cell_type": "markdown",
   "metadata": {
    "cell_details": {
     "cell_ID": "m3-quiz-3.1",
     "cell_alternates": [
      "m3-quiz-3.1-interactive"
     ],
     "cell_concepts": [
      "Polar Representation of Complex Numbers"
     ],
     "cell_estimated_time": "10",
     "cell_interactive": "false",
     "cell_outcomes": [
      "Convert complex numbers from Cartesian to polar representations",
      "Convert complex numbers from polar to Cartesian representations",
      "Multiply complex numbers using polar representations"
     ],
     "cell_prereqs": [
      "m3-cartesianRepresentation",
      "m3-polarRepresentation",
      "m3-multiplicationPolar"
     ],
     "cell_title": "Self Assessment Quiz 1",
     "cell_type": [
      "quiz"
     ],
     "module_outcomes": [
      "Understand the geometric representation of complex numbers",
      "Learn to represent complex numbers in Cartesian and polar coordinates",
      "Convert between Cartesian and polar representations of complex numbers",
      "Simplify complex number operations using polar coordinates",
      "Implement Python programs for representation and conversion of complex numbers, including multiplication in polar coordinates"
     ],
     "module_prereqs": [
      "Algebra",
      "Trigonometry",
      "Introduction to Programming",
      "Python Basics",
      "The Basics of Complex Numbers"
     ],
     "module_title": [
      "Complex Numbers on a Plane"
     ]
    },
    "editable": true,
    "slideshow": {
     "slide_type": "skip"
    },
    "tags": []
   },
   "source": [
    "## Quiz 3.1 Self Assessment Quiz\n",
    "<b>Maybe used for in-class hands-on practice.</b>\n",
    "\n",
    "<b><i>Run the code in the next cell to generate a interactive version of this quiz.</i></b>\n",
    "\n",
    "1. Convert the following into polar representations.\n",
    "\n",
    "    a. $c=1+i$\n",
    "\n",
    "    b. $c=21+48i$\n",
    "\n",
    "    c. $c=3-45i$\n",
    "2. Convert the following polar representations into cartesian representations.\n",
    "\n",
    "    a. $\\rho=25$ and $\\theta=60^\\circ$\n",
    "\n",
    "    b. $\\rho=15$ and $\\theta=45^\\circ$\n",
    "\n",
    "    c. $\\rho=$45 and $\\theta=30^\\circ$\n",
    "3. Multiply the following using polar representation.\n",
    "\n",
    "    a. $c_1=1+2i$ and $c_2=4i$\n",
    "\n",
    "    b. $c_1=2-4i$ and $c_2=3-2i$\n"
   ]
  },
  {
   "cell_type": "code",
   "execution_count": null,
   "metadata": {
    "cell_details": {
     "cell_ID": "m3-quiz-3.1-interactive",
     "cell_alternates": [
      "m3-quiz-3.1"
     ],
     "cell_concepts": [
      "Polar Representation of Complex Numbers"
     ],
     "cell_estimated_time": "15",
     "cell_interactive": "true",
     "cell_outcomes": [
      "Convert complex numbers from Cartesian to polar representations",
      "Convert complex numbers from polar to Cartesian representations",
      "Multiply complex numbers using polar representations"
     ],
     "cell_prereqs": [
      "m3-cartesianRepresentation",
      "m3-polarRepresentation",
      "m3-multiplicationPolar"
     ],
     "cell_title": "Self Assessment Quiz 1 interactive",
     "cell_type": [
      "quiz"
     ],
     "module_outcomes": [
      "Understand the geometric representation of complex numbers",
      "Learn to represent complex numbers in Cartesian and polar coordinates",
      "Convert between Cartesian and polar representations of complex numbers",
      "Simplify complex number operations using polar coordinates",
      "Implement Python programs for representation and conversion of complex numbers, including multiplication in polar coordinates"
     ],
     "module_prereqs": [
      "Algebra",
      "Trigonometry",
      "Introduction to Programming",
      "Python Basics",
      "The Basics of Complex Numbers"
     ],
     "module_title": [
      "Complex Numbers on a Plane"
     ]
    },
    "editable": true,
    "slideshow": {
     "slide_type": ""
    },
    "tags": []
   },
   "outputs": [],
   "source": [
    "%run pyfiles/saquiz3_1  #This runs the file that has the quiz code\n",
    "createQuiz3_1()"
   ]
  },
  {
   "cell_type": "markdown",
   "metadata": {
    "cell_details": {
     "cell_ID": "m3-conclusions",
     "cell_alternates": [],
     "cell_concepts": [
      "Conclusions"
     ],
     "cell_estimated_time": "2",
     "cell_interactive": "false",
     "cell_outcomes": [
      "Summarize the key concepts and operations related to complex numbers",
      "Understand the transition between Cartesian and polar representations"
     ],
     "cell_prereqs": [],
     "cell_title": "Conclusions",
     "cell_type": [
      "text"
     ],
     "module_outcomes": [
      "Understand the geometric representation of complex numbers",
      "Learn to represent complex numbers in Cartesian and polar coordinates",
      "Convert between Cartesian and polar representations of complex numbers",
      "Simplify complex number operations using polar coordinates",
      "Implement Python programs for representation and conversion of complex numbers, including multiplication in polar coordinates"
     ],
     "module_prereqs": [
      "Algebra",
      "Trigonometry",
      "Introduction to Programming",
      "Python Basics",
      "The Basics of Complex Numbers"
     ],
     "module_title": [
      "Complex Numbers on a Plane"
     ]
    },
    "editable": true,
    "slideshow": {
     "slide_type": "slide"
    },
    "tags": []
   },
   "source": [
    "## 3.4 Conclusions\n",
    "\n",
    "In last three nanomodules we reviewed the concept of complex numbers, operations they support and their properties. We learned about the modulus, complex conjugate, and cartesian and polar representation of complex numbers and how to go back and forth between these representations. This concludes our brief survey of complex numbers.\n",
    "\n",
    "In the next few nanomodules, we will learn about complex vector spaces."
   ]
  },
  {
   "cell_type": "markdown",
   "metadata": {
    "cell_details": {
     "cell_ID": "m3-finalQuiz-information",
     "cell_alternates": [],
     "cell_concepts": [],
     "cell_estimated_time": "1",
     "cell_interactive": "false",
     "cell_outcomes": [
      "Know the information about the final Quiz of this module"
     ],
     "cell_prereqs": [],
     "cell_title": "final Quiz 3",
     "cell_type": [
      "text"
     ],
     "module_outcomes": [
      "Master the concept of complex number representations",
      "Perform basic additive and multiplicative operations on complex numbers",
      "Implement Python programs for addition and multiplication on complex numbers"
     ],
     "module_prereqs": [
      "Algebra",
      "Introduction to Programming",
      "Python Basics"
     ],
     "module_title": [
      "The Basics of Complex Numbers"
     ]
    },
    "editable": true,
    "slideshow": {
     "slide_type": "slide"
    },
    "tags": []
   },
   "source": [
    "#### Final Quiz 3 is in a separate notebook with filename: finalquiz3.ipynb.\n",
    "\n",
    "Final quiz is intended to be completed and submitted to the instructor for grading. Solutions to final quizzes are available to instructors upon request."
   ]
  }
 ],
 "metadata": {
  "celltoolbar": "Slideshow",
  "kernelspec": {
   "display_name": "Python 3 (ipykernel)",
   "language": "python",
   "name": "python3"
  },
  "language_info": {
   "codemirror_mode": {
    "name": "ipython",
    "version": 3
   },
   "file_extension": ".py",
   "mimetype": "text/x-python",
   "name": "python",
   "nbconvert_exporter": "python",
   "pygments_lexer": "ipython3",
   "version": "3.12.2"
  },
  "module_details": {
   "module_concepts": [
    "Cartesian Representation of Complex Number",
    "Polar Representation of Complex Numbers"
   ],
   "module_outcomes": [
    "Students will be able to represent complex numbers as Cartesian coordinates and plot them on the complex plane.",
    "Students will be able to represent complex numbers using polar representations and plot them on the complex plane.",
    "Students will be able to convert back and forth between Cartesian and polar representations.",
    "Students will be able to implement programs that convert between Cartesian and polar representations."
   ],
   "module_outcomes_mapping": [
    [
     "m3-cartesianRepresentation"
    ],
    [
     "m3-polarRepresentation",
     "m3-polarRepresentationExample",
     "m3-multiplicationPolar"
    ],
    [
     "m3-quiz-3.1",
     "m3-quiz-3.1-interactive"
    ],
    [
     "m3-final-quiz"
    ]
   ],
   "module_prereqs": [
    "Algebra",
    "Trigonometry",
    "Introduction to Programming",
    "Python Basics",
    "The Basics of Complex Numbers"
   ],
   "module_title": "Complex Numbers on a Plane"
  }
 },
 "nbformat": 4,
 "nbformat_minor": 4
}
