{
 "cells": [
  {
   "cell_type": "markdown",
   "id": "a501bc26",
   "metadata": {
    "my_metadata": "This is a markdown cell"
   },
   "source": [
    "## This is a Markdown Cell"
   ]
  },
  {
   "cell_type": "code",
   "execution_count": null,
   "id": "e370d35a",
   "metadata": {
    "execution": {
     "status": "ready"
    },
    "my_metadata": "This is a code cell"
   },
   "outputs": [],
   "source": [
    "print(\"Hello, world!\")"
   ]
  },
  {
   "cell_type": "markdown",
   "id": "14c9fc53",
   "metadata": {
    "editable": true,
    "slideshow": {
     "slide_type": ""
    },
    "tags": [
     "hidden-cell"
    ]
   },
   "source": [
    "test"
   ]
  }
 ],
 "metadata": {
  "kernelspec": {
   "display_name": "Python 3",
   "language": "python",
   "name": "python3"
  },
  "language_info": {
   "name": "python",
   "version": "3.8.5"
  }
 },
 "nbformat": 4,
 "nbformat_minor": 5
}
