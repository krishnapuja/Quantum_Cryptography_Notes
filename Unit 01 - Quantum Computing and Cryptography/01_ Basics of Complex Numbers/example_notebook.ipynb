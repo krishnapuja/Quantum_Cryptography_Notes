{
 "cells": [
  {
   "cell_type": "markdown",
   "id": "a501bc26",
   "metadata": {
    "my_metadata": "This is a markdown cell"
   },
   "source": [
    "## This is a Markdown Cell"
   ]
  },
  {
   "cell_type": "code",
   "execution_count": null,
   "id": "e370d35a",
   "metadata": {
    "execution": {
     "status": "ready"
    },
    "my_metadata": "This is a code cell"
   },
   "outputs": [],
   "source": [
    "print(\"Hello, world!\")"
   ]
  },
  {
   "cell_type": "markdown",
   "id": "14c9fc53",
   "metadata": {
    "editable": true,
    "slideshow": {
     "slide_type": ""
    },
    "tags": [
     "hidden-cell"
    ]
   },
   "source": [
    "test"
   ]
  }
 ],
 "metadata": {
  "kernelspec": {
   "display_name": "Python 3 (ipykernel)",
   "language": "python",
   "name": "python3"
  },
  "language_info": {
   "codemirror_mode": {
    "name": "ipython",
    "version": 3
   },
   "file_extension": ".py",
   "mimetype": "text/x-python",
   "name": "python",
   "nbconvert_exporter": "python",
   "pygments_lexer": "ipython3",
   "version": "3.11.8"
  }
 },
 "nbformat": 4,
 "nbformat_minor": 5
}
