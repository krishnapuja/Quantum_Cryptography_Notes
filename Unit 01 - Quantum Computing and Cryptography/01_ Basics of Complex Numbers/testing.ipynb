{
 "cells": [
  {
   "cell_type": "code",
   "execution_count": null,
   "metadata": {
    "editable": true,
    "slideshow": {
     "slide_type": ""
    },
    "tags": []
   },
   "outputs": [],
   "source": [
    "import io, os, sys, types\n",
    "from nbformat import read\n",
    "from pygments import highlight\n",
    "from pygments.lexers import PythonLexer\n",
    "from pygments.formatters import HtmlFormatter\n",
    "from IPython.display import display, JSON\n",
    "\n",
    "from IPython.display import display, HTML\n",
    "def show_notebook(fname):\n",
    "    \"\"\"display a short summary of the cells of a notebook\"\"\"\n",
    "    with io.open(fname, 'r', encoding='utf-8') as f:\n",
    "        nb = read(f, 4)\n",
    "    html = []\n",
    "    el = [x for x in nb.cells if hasattr(x, 'metadata') and hasattr (x.metadata, 'tags') and \"hidden-cell\" in x.metadata.tags][0]\n",
    "    # for cell in nb.cells:\n",
    "    #     #display(nb.cells)\n",
    "        \n",
    "    #     #display(el)\n",
    "    #     # html.append(\"<h4>%s cell</h4>\" % cell.cell_type)\n",
    "    #     # if cell.cell_type == 'code':\n",
    "    #     #     html.append(highlight(cell.source, lexer, formatter))\n",
    "    #     # else:\n",
    "    #     #     html.append(\"<pre>%s</pre>\" % cell.source)\n",
    "    # display(HTML('\\n'.join(html)))\n",
    "\n",
    "\n",
    "show_notebook(os.path.join(\"testing.ipynb\"))\n"
   ]
  },
  {
   "cell_type": "code",
   "execution_count": 11,
   "metadata": {},
   "outputs": [
    {
     "data": {
      "application/vnd.jupyter.widget-view+json": {
       "model_id": "bf59b8faf3894c6e940dd346e56ea233",
       "version_major": 2,
       "version_minor": 0
      },
      "text/plain": [
       "VBox(children=(HBox(children=(SelectMultiple(description='Modules', layout=Layout(height='200px', width='1000p…"
      ]
     },
     "execution_count": 11,
     "metadata": {},
     "output_type": "execute_result"
    }
   ],
   "source": [
    "%run pyfiles/output  #This runs the file that has the quiz code\n",
    "Course_Selector"
   ]
  },
  {
   "cell_type": "code",
   "execution_count": null,
   "metadata": {},
   "outputs": [],
   "source": [
    "def hide_code_in_cell():\n",
    "    \"\"\"\n",
    "    Hides the code in the Jupyter cell where this function is called.\n",
    "    \"\"\"\n",
    "    # Create a JSON object with the desired metadata changes\n",
    "    display(JSON({'application/vnd.jupyter.cells.hidden+json': True}), raw=True)"
   ]
  },
  {
   "cell_type": "code",
   "execution_count": null,
   "metadata": {
    "editable": true,
    "slideshow": {
     "slide_type": ""
    },
    "tags": []
   },
   "outputs": [],
   "source": [
    "%run test.py"
   ]
  },
  {
   "cell_type": "markdown",
   "metadata": {
    "editable": true,
    "slideshow": {
     "slide_type": ""
    },
    "tags": []
   },
   "source": [
    "```{toggle}\n",
    "Some hidden toggle content!\n",
    "\n",
    "![](../images/cool.jpg)\n",
    "```"
   ]
  },
  {
   "cell_type": "code",
   "execution_count": null,
   "metadata": {
    "editable": true,
    "scrolled": true,
    "slideshow": {
     "slide_type": ""
    },
    "tags": []
   },
   "outputs": [],
   "source": [
    "from ipywidgets import Button, Output\n",
    "from IPython.display import display, Javascript, HTML\n",
    "\n",
    "# Create a cell with metadata to control programmatically\n",
    "cell_index = 2  # Replace with the index of the cell you want to control\n",
    "cell_metadata = {\n",
    "    \"tags\": [\"hidden-cell\"],  # Add a custom tag to identify the cell\n",
    "}\n",
    "\n",
    "# Define a JavaScript function to show/hide the cell\n",
    "javascript_code = f\"\"\"\n",
    "var cell_index = {cell_index};\n",
    "var cells = Jupyter.notebook.get_cells();\n",
    "var cell = cells[cell_index];\n",
    "if (cell.metadata.tags && cell.metadata.tags.includes('hidden-cell')) {{\n",
    "    if (cell.element.is(':hidden')) {{\n",
    "        cell.element.show();\n",
    "    }} else {{\n",
    "        cell.element.hide();\n",
    "    }}\n",
    "}}\n",
    "\"\"\"\n",
    "\n",
    "# Display a button to trigger the JavaScript function\n",
    "button = Button(description=\"Toggle Cell Visibility\")\n",
    "output = Output()\n",
    "\n",
    "def toggle_cell_visibility(button):\n",
    "    with output:\n",
    "        display(Javascript(javascript_code))\n",
    "\n",
    "button.on_click(toggle_cell_visibility)\n",
    "\n",
    "display(button, output)\n"
   ]
  },
  {
   "cell_type": "markdown",
   "metadata": {
    "editable": true,
    "slideshow": {
     "slide_type": ""
    },
    "tags": [
     "hidden-cell"
    ]
   },
   "source": [
    "test"
   ]
  },
  {
   "cell_type": "code",
   "execution_count": null,
   "metadata": {
    "editable": true,
    "slideshow": {
     "slide_type": ""
    },
    "tags": []
   },
   "outputs": [],
   "source": [
    "HTML('''<script>\n",
    "code_show=true; \n",
    "function code_toggle() {\n",
    "    if (code_show){\n",
    "        $('div.jp-Cell.jp-MarkdownCell.jp-Cell-inputWrapper').hide();\n",
    "    } else {\n",
    "        $('div.jp-Cell.jp-MarkdownCell.jp-Cell-inputWrapper').show();\n",
    "    }\n",
    "    code_show = !code_show\n",
    "} \n",
    "\n",
    "$( document ).ready(code_toggle);\n",
    "</script>\n",
    "\n",
    "To show/hide this cell's raw code input, click <a href=\"javascript:code_toggle()\">here</a>.''')\n",
    "\n",
    "# Define a JavaScript function to show/hide the cell\n",
    "javascript_code = f\"\"\"\n",
    "code_show=true;\n",
    "    if (code_show){\n",
    "        global.document.getElementsByClassName('jp-MarkdownCell')[0].hide();\n",
    "    } else {\n",
    "        global.document.getElementsByClassName('jp-MarkdownCell')[0].show();\n",
    "    }\n",
    "    code_show = !code_show\n",
    "\"\"\"\n",
    "\n",
    "# Display a button to trigger the JavaScript function\n",
    "button = Button(description=\"Toggle Cell Visibility\")\n",
    "output = Output()\n",
    "\n",
    "def toggle_cell_visibility(button):\n",
    "    with output:\n",
    "        display(Javascript(javascript_code))\n",
    "\n",
    "button.on_click(toggle_cell_visibility)\n",
    "\n",
    "display(button, output)"
   ]
  },
  {
   "cell_type": "code",
   "execution_count": null,
   "metadata": {
    "editable": true,
    "jupyterlab-hide-cells:hidden": true,
    "slideshow": {
     "slide_type": ""
    },
    "tags": []
   },
   "outputs": [],
   "source": [
    "x = 1\n",
    "y = 2\n",
    "print('Result is {} + {}'.format(x, y))\n",
    "\n",
    "hide_toggle()\n"
   ]
  },
  {
   "cell_type": "code",
   "execution_count": null,
   "metadata": {
    "editable": true,
    "slideshow": {
     "slide_type": ""
    },
    "tags": []
   },
   "outputs": [],
   "source": [
    "from IPython.display import HTML\n",
    "import random\n",
    "\n",
    "def hide_toggle(for_next=False):\n",
    "    this_cell = \"\"\"$('div.cell.code_cell.rendered.selected')\"\"\"\n",
    "    with io.open(\"testing.ipynb\", 'r', encoding='utf-8') as f:\n",
    "        nb = read(f, 4)\n",
    "    html = []\n",
    "    el = [x for x in nb.cells if hasattr(x, 'metadata') and hasattr (x.metadata, 'tags') and \"hidden-cell\" in x.metadata.tags][0]\n",
    "    display(el)\n",
    "    next_cell = el;\n",
    "\n",
    "    toggle_text = 'Toggle show/hide'  # text shown on toggle link\n",
    "    target_cell = this_cell  # target cell to control with toggle\n",
    "    js_hide_current = ''  # bit of JS to permanently hide code in current cell (only when toggling next cell)\n",
    "\n",
    "    if for_next:\n",
    "        target_cell = next_cell\n",
    "        toggle_text += ' next cell'\n",
    "        js_hide_current = this_cell + '.find(\"div.input\").hide();'\n",
    "\n",
    "    js_f_name = 'code_toggle_{}'.format(str(random.randint(1,2**64)))\n",
    "\n",
    "    html = \"\"\"\n",
    "        <script>\n",
    "            function {f_name}() {{\n",
    "                {cell_selector}.find('div.input').toggle();\n",
    "            }}\n",
    "\n",
    "            {js_hide_current}\n",
    "        </script>\n",
    "\n",
    "        <a href=\"javascript:{f_name}()\">{toggle_text}</a>\n",
    "    \"\"\".format(\n",
    "        f_name=js_f_name,\n",
    "         cell_selector=target_cell,\n",
    "        js_hide_current=js_hide_current, \n",
    "        toggle_text=toggle_text\n",
    "    )\n",
    "\n",
    "    return HTML(html)"
   ]
  },
  {
   "cell_type": "code",
   "execution_count": null,
   "metadata": {
    "editable": true,
    "slideshow": {
     "slide_type": ""
    },
    "tags": []
   },
   "outputs": [],
   "source": [
    "import matplotlib \n",
    "\n",
    "%matplotlib widget\n",
    "from IPython.display import HTML\n",
    "\n",
    "HTML('''\n",
    "<html>\n",
    "<head>\n",
    "    <title>Example</title>\n",
    "    <script src=\"https://code.jquery.com/jquery-3.6.0.min.js\"></script>\n",
    "</head>\n",
    "<body>\n",
    "    <button id=\"myButton\">Click me</button>\n",
    "    <script>\n",
    "        $(document).ready(function() {\n",
    "            $('#myButton').click(function() {\n",
    "                alert('Button clicked!');\n",
    "            });\n",
    "        });\n",
    "    </script>\n",
    "    <script>\n",
    "code_show=true; \n",
    "function code_toggle() {\n",
    " if (code_show){\n",
    " $('#myoutput').hide();\n",
    " } else {\n",
    " $('#myoutput').show();\n",
    " }\n",
    " code_show = !code_show\n",
    "} \n",
    "$( document ).ready(code_toggle);\n",
    "</script>\n",
    "<form action=\"javascript:code_toggle()\"><input type=\"submit\" value=\"Click here to toggle on/off the raw code.\"></form>\n",
    "</body>\n",
    "</html>\n",
    "from IPython.display import display, Javascript, HTML''')"
   ]
  },
  {
   "cell_type": "code",
   "execution_count": null,
   "metadata": {
    "editable": true,
    "id": "ddd",
    "slideshow": {
     "slide_type": ""
    },
    "tags": []
   },
   "outputs": [],
   "source": [
    "from IPython.display import display, Javascript, HTML\n",
    "\n",
    "Javascript('this.element.attr(\"id\", \"myoutput\")')\n"
   ]
  },
  {
   "cell_type": "code",
   "execution_count": null,
   "metadata": {
    "editable": true,
    "slideshow": {
     "slide_type": ""
    },
    "tags": []
   },
   "outputs": [],
   "source": []
  }
 ],
 "metadata": {
  "celltoolbar": "Slideshow",
  "kernelspec": {
   "display_name": "Python 3 (ipykernel)",
   "language": "python",
   "name": "python3"
  },
  "language_info": {
   "codemirror_mode": {
    "name": "ipython",
    "version": 3
   },
   "file_extension": ".py",
   "mimetype": "text/x-python",
   "name": "python",
   "nbconvert_exporter": "python",
   "pygments_lexer": "ipython3",
   "version": "3.11.8"
  },
  "toc": {
   "base_numbering": 3
  }
 },
 "nbformat": 4,
 "nbformat_minor": 4
}
