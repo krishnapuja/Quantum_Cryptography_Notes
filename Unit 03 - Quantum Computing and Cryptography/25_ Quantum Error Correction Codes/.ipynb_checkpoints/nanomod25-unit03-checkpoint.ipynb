{
 "cells": [
  {
   "cell_type": "markdown",
   "metadata": {
    "slideshow": {
     "slide_type": "slide"
    }
   },
   "source": [
    "# 25. Quantum Error Correction Codes\n",
    "\n",
    "### This is nanomodule 25 - unit 3\n",
    "\n",
    "\n",
    "<b>Learning Objectives:</b>\n",
    "\n",
    "25.1 Students will learn about various types of quantum errors.\n",
    "\n",
    "25.2 Students will be able to construct quantum error correction codes.\n",
    "\n",
    "25.3 Students will understand larger implications of correcting errors in quantum computing.\n"
   ]
  },
  {
   "cell_type": "markdown",
   "metadata": {
    "slideshow": {
     "slide_type": "slide"
    }
   },
   "source": [
    "## 25.1 Introduction\n",
    "\n",
    "Coding theory and cryptography are two most intricately connected subjects. In several cases, cryptosystems are simply error correction codes for which the decoding matrix forms the key. For example, the post-quantum encryption algorithm called McEllice cryptosystem is based on Goppa codes. There are numerous other examples where polynomial arithmetic is used for encryption and key management. Therefore, it is important for anyone learning cryptography (or quantum cryptography) to be familiar with the theory of quantum error correction codes. This lesson will provide a brief introduction to the topic in order to wet the appetite of the reader. For further details, the reader should refer to books mentioned in the preface of this unit.\n",
    "\n",
    "Qubits are prone to errors during transit from sender to receiver. In classical communication, we only concern ourselves with bit flip errors where a transmitted 0 changes to 1 and vice versa. With qubits we have to theoretically worry about infinite number of possible errors because a qubit is a continuum state described by $\\alpha|0\\rangle+\\beta|1\\rangle$ with $\\alpha$ and $\\beta$ being complex numbers. An error in such a qubit would amount to $\\alpha$ changing to some $\\alpha'$ and $\\beta$ changing to $\\beta'$. For the longest time it was believed that such errors cannot be corrected because every value of $\\alpha$ and $\\beta$ is possible and, therefore, one cannot distinguish between a valid state and an invalid state. However, in 1995 Peter Shor proved everyone wrong by inventing quantum error correction and providing a 9-qubit coding scheme that can correct any arbitrary single qubit error. Later this code was refined to 7-qubit and 5-qubit schemes where the latter is the most efficient a single qubit error correction scheme can be. \n",
    "\n",
    "Besides errors that can happen during qubits transit, a qubit can also suffer with errors because of imperfect implementation of hardware that creates these error correcting codes. Correcting such errors falls under the field of fault-tolerant quantum computing and will not concern us here.\n",
    "\n",
    "\n"
   ]
  },
  {
   "cell_type": "markdown",
   "metadata": {
    "slideshow": {
     "slide_type": "slide"
    }
   },
   "source": [
    "## 25.2 Errors in Qubits\n",
    "\n",
    "The two types of errors that immediately come to mind are bit flip errors and phase flip errors. When a bit flip error occurs a qubit $|\\psi\\rangle=\\alpha|0\\rangle+\\beta|1\\rangle$ becomes $|\\psi\\rangle=\\beta|0\\rangle+\\alpha|1\\rangle$. In a phase flip error, the relative sign between $\\alpha$ and $\\beta$ switches, i.e. $|\\psi\\rangle=\\alpha|0\\rangle+\\beta|1\\rangle$ becomes $|\\psi\\rangle=\\alpha|0\\rangle-\\beta|1\\rangle$.\n",
    "\n",
    "First, we will discuss how to correct these basic errors separately and then together in a combined scheme. Later, we will show that any arbitrary qubit error can be converted into a bit flip or a phase flip error and therefore, correcting these two types of errors suffices for all purposes. This is quite a surprising result because although there are infinite number of errors possible, they can be discretized to just two types of simple errors."
   ]
  },
  {
   "cell_type": "markdown",
   "metadata": {
    "slideshow": {
     "slide_type": "slide"
    }
   },
   "source": [
    "## 25.3 Unique Challenges in Quantum Error Correction\n",
    "\n",
    "While thinking in terms of bit-flip and phase-flip errors in nice, correcting these errors is not as straight forward. Features that we saw help enable quantum cryptography become the main hurdles here. \n",
    "\n",
    "1. No-cloning: The simplest method of implementing error correction with classical bits is repetition codes. Errors can then be corrected using a majority voting mechanism. These work for classical bits because a classical bit can be read and copied as many times as we want. Qubits on the other hand are destroyed (collapse) once they are read (measured). Further, measurement of a single qubit only reveals a bit 0 or a bit 1 and never the actual values of $\\alpha$ and $\\beta$. Since one cannot determine the values of $\\alpha$ and $\\beta$ from a single qubit, it cannot be copied and repetition codes fail.\n",
    "\n",
    "2. Phase-flip error: This has no analogue in classical error correction and therefore not as easy to construct a correction mechanism for.\n",
    "\n",
    "3. Arbitrary errors: Bit-flip and phase-flip errors are \"large\" errors leading to a completely opposite state. Errors in qubits, however, can be small and perturb $\\alpha$ and $\\beta$ values only slightly by $\\epsilon$. \n",
    "\n",
    "4. No-measurement allowed: Not only that no-cloning theorem prohibits copying of qubits, one cannot make any kind of measurement on the original qubit you want to protect from errors. This will collapse the qubit and original information contained in it can never be recovered. "
   ]
  },
  {
   "cell_type": "markdown",
   "metadata": {
    "slideshow": {
     "slide_type": "slide"
    }
   },
   "source": [
    "## 25.4 Correcting the Quantum Bit-flip Error\n",
    "\n",
    "Consider a single qubit in state $|0\\rangle$ or $|1\\rangle$. To implement a repetition code for these qubits, we would like to map the qubits to logical qubits as shown below,\n",
    "\n",
    "$|0\\rangle\\rightarrow|000\\rangle$ and\n",
    "$|1\\rangle\\rightarrow|111\\rangle$\n",
    "\n",
    "Therefore, given an arbitrary qubit $|\\psi\\rangle=\\alpha|0\\rangle+\\beta|1\\rangle$ we can introduce redundancy in the system (quite similar to classical error correction codes) by simply entangling the qubits with two other ancillary qubits using a CNOT gate. This will result in the logical mapping we desire.\n",
    "\n",
    "$|\\psi\\rangle\\rightarrow\\alpha|000\\rangle+\\beta|111\\rangle$\n",
    "\n",
    "We'll denote this new logical qubit as $|\\psi_l\\rangle$"
   ]
  },
  {
   "cell_type": "markdown",
   "metadata": {
    "slideshow": {
     "slide_type": "slide"
    }
   },
   "source": [
    "Assuming at most one bit-flip error occurs during transmission the final received logical qubit $|\\psi'_l\\rangle$ will be in one of the following three states,\n",
    "\n",
    "$\\alpha|100\\rangle+\\beta|011\\rangle$ or\n",
    "$\\alpha|010\\rangle+\\beta|101\\rangle$ or\n",
    "$\\alpha|001\\rangle+\\beta|110\\rangle$\n",
    "\n",
    "Now three parities can be checked (1,2), (2,3) and (1,3), i.e. between qubits 1 and 2, 2 and 3 and 1 and 3. Since at most one qubit is assumed to be in error two of these parity checks are enough. Our main goal is to distinguish which qubit is different. For example if we check (1,2) and (2,3) and the first parity check results in a 1 and the second in a 0, then we know that the first qubit is different from the second qubit and the second and third qubits are identical. Recall that CNOT is equivalent to an XOR operation and is used to implement these parity checks. However, these XOR operations cannot be done in place and we need a \"blank slate\" to write the results on. Therefore, the receiver uses two additional ancillary qubits to determine the error syndrome."
   ]
  },
  {
   "cell_type": "markdown",
   "metadata": {
    "slideshow": {
     "slide_type": "slide"
    }
   },
   "source": [
    "<b>Example:</b> Let the received logical qubit be $\\alpha|100\\rangle+\\beta|011\\rangle$. We use two ancillary qubits both in the state $|0\\rangle$. Therefore the combined system state is given by $\\alpha|1_10_20_30_40_5\\rangle+\\beta|0_11_21_30_40_5\\rangle$. Subscripts are shown here for easy tracking of qubits.\n",
    "\n",
    "We can now apply a CNOT between the first and the fourth qubits and then between the second and the fourth qubits. The final state of the fourth qubit after the two CNOT operations will be 1.\n",
    "\n",
    "Similarly, CNOT is now applied between the second and the fifth qubit and then between third and the fifth qubit. The final state of the fifth qubit will be 0.\n",
    "\n",
    "The new ancilla qubits are still unentangled and can be measured directly in computational basis without affecting the logical qubit. The error syndrome in the above example is 10 indicating that the first qubit is in error. This can be fixed by simply applying $X$ gate to the qubit 1 resulting in $|\\psi\\rangle$. Similarly, all three possibilities for bit flip errors can be corrected using the $X$ gate."
   ]
  },
  {
   "cell_type": "markdown",
   "metadata": {
    "slideshow": {
     "slide_type": "slide"
    }
   },
   "source": [
    "Once the original logical qubit is retrieved, CNOT operations between the first and second and first and third qubits will unentangle the three qubits giving us the corrected state $|\\psi\\rangle$."
   ]
  },
  {
   "cell_type": "markdown",
   "metadata": {
    "slideshow": {
     "slide_type": "slide"
    }
   },
   "source": [
    "## 25.5 Correcting the Quantum Phase-flip Error\n",
    "\n",
    "Interestingly phase-flip errors can be converted to bit-flip errors by a simple change of basis and we already know how to correct bit-flip errors. Recall that $|+\\rangle = H|0\\rangle=\\frac{1}{\\sqrt{2}}|0\\rangle+|1\\rangle$ and $|-\\rangle = H|1\\rangle=\\frac{1}{\\sqrt{2}}|0\\rangle-|1\\rangle$. Therefore, in the Hadamard basis a phase-flip error transforms $|+\\rangle$ to $|-\\rangle$ and visa versa. \n",
    "\n",
    "A simple trick to protect against phase-flip errors then is to transmit the qubits in Hadamard basis. Using the above formulation, if we want to transmit a qubit $|\\psi\\rangle=\\alpha|0\\rangle+\\beta|1\\rangle$, we map it to a logical qubit $|\\psi_l\\rangle=\\alpha|000\\rangle+\\beta|111\\rangle$ as before. Then we apply Hadamard gate, $H$, to all the qubits transforming the logical qubit into $|\\psi_l\\rangle=\\alpha|+++\\rangle+\\beta|---\\rangle$.\n"
   ]
  },
  {
   "cell_type": "markdown",
   "metadata": {
    "slideshow": {
     "slide_type": "slide"
    }
   },
   "source": [
    "Now a phase-flip error will have three possibilities as before,\n",
    "\n",
    "$\\alpha|-++\\rangle+\\beta|+--\\rangle$ or\n",
    "$\\alpha|+-+\\rangle+\\beta|-+-\\rangle$ or\n",
    "$\\alpha|++-\\rangle+\\beta|--+\\rangle$.\n",
    "\n",
    "When a Hadamard operation is applied to these qubits at the receiving end, they will transform to the same three possibilities that existed for the bit-flip error before and can be corrected as before."
   ]
  },
  {
   "cell_type": "markdown",
   "metadata": {
    "slideshow": {
     "slide_type": "slide"
    }
   },
   "source": [
    "## 25.6 Combining the Phase-flip and Bit-flip Error Correction Codes\n",
    "\n",
    "We see that a three-qubit code can correct either a bit-flip or a phase-flip error. What if there is a chance of both errors happening? We can correct these with a 9-qubit error correction code.\n",
    "\n",
    "The first is to encode the qubits as we did in phase-flip error correction codes. Therefore, $|0\\rangle$ is mapped to $|+++\\rangle$ and $|1\\rangle$ is mapped to $|---\\rangle$. And in general we obtain $|\\psi_1\\rangle=\\alpha|+++\\rangle+\\beta|---\\rangle$. \n",
    "\n",
    "In the next step we will encode the qubits for bit-flip error correction. Recall that $\\alpha|0\\rangle+\\beta|1\\rangle$ is encoded as $\\alpha|000\\rangle+\\beta|111\\rangle$. Also, recall that $|+\\rangle=\\frac{1}{\\sqrt{2}}(|0\\rangle+|1\\rangle)$. Therefore, $|+\\rangle$ is encoded as $\\frac{1}{\\sqrt{2}}(|000\\rangle+|111\\rangle)$ and $|-\\rangle$ is encoded as $\\frac{1}{\\sqrt{2}}(|000\\rangle-|111\\rangle)$. Therefore, the resulting $|\\psi_2\\rangle$ that is transmitted becomes\n",
    "\n",
    "$\\frac{\\alpha}{2\\sqrt{2}}(|000\\rangle+|111\\rangle)(|000\\rangle+|111\\rangle)(|000\\rangle+|111\\rangle)+\\frac{\\beta}{2\\sqrt{2}}(|000\\rangle-|111\\rangle)(|000\\rangle-|111\\rangle)(|000\\rangle-|111\\rangle)$"
   ]
  },
  {
   "cell_type": "markdown",
   "metadata": {
    "slideshow": {
     "slide_type": "slide"
    }
   },
   "source": [
    "Here we have three groups of three qubits. In order to check for a bit flip error we had to do two parity checks, namely (1,2) and (2,3). Here we will follow the same logic and do six parity checks. These will be between qubits (1,2), (2,3), (4,5), (5,6), and (7,8) and (8,9). Correcting any errors found follows the same procedure as before. Further, we would need six ancilla qubits for these parity checks. Once the bit-flip error correction is done, one can simply apply CNOT operations and return the received state $|\\psi_2\\rangle$ to $|\\psi_1\\rangle$. \n",
    "\n",
    "Now, we have reduced our system to the one similar to phase-flip error correction case discussed above and the same procedure can be applied to correct any phase-flips that may have happened.\n",
    "\n",
    "Therefore, Shor's 9-qubit error correction code can correct bit-flip, phase-flip as well as a combination of bit-flip and phase-flip errors. However, the power of Shor's code goes much beyond this and can correct any arbitrary qubit error as our following analysis will show."
   ]
  },
  {
   "cell_type": "markdown",
   "metadata": {
    "slideshow": {
     "slide_type": "slide"
    }
   },
   "source": [
    "## 25.7 Correcting Arbitrary Errors\n",
    "\n",
    "We mentioned before that any arbitrary quantum error can be converted to either bit-flip or phase-flip error. This is wonderful because we already know who to correct the latter two types of errors. Let's look at the details of why we say such a conversion is possible.\n",
    "\n",
    "Recall the Pauli matrices that we discussed before. These are shown below,\n",
    "\n",
    "${\\begin{aligned}X=\\sigma _{x}&={\\begin{pmatrix}0&1\\\\1&0\\end{pmatrix}}\\\\Y=\\sigma _{y}&={\\begin{pmatrix}0&-i\\\\i&0\\end{pmatrix}}\\\\Z=\\sigma _{z}&={\\begin{pmatrix}1&0\\\\0&-1\\end{pmatrix}}\\,\\end{aligned}}$\n",
    "\n",
    "Pauli matrices along with the identity matrix can be used to represent any $2\\times2$ arbitrary matrix. This coupled with the fact that arbitrary single qubit error can be described by a single qubit operation $U=\\begin{pmatrix}u_{11}&u_{12}\\\\u_{21}&u_{22}\\end{pmatrix}$, we see that we can decompose $U$ in terms of Pauli matrices. \n",
    "\n",
    "Note that Pauli matrix $X$ is a bit-flip matrix, $Z$ is a phase-flip matrix and $ZX=iY$ is the combination of the two."
   ]
  },
  {
   "cell_type": "markdown",
   "metadata": {
    "slideshow": {
     "slide_type": "slide"
    }
   },
   "source": [
    "Now it is easy to see that $I, X, Z$ and $XZ$ are linearly independent and span the $2\\times2$ matrix space. Therefore, an arbitrary single qubit operation $U$ can be written as,\n",
    "\n",
    "$U=\\begin{pmatrix}u_{11}&u_{12}\\\\u_{21}&u_{22}\\end{pmatrix}=\\frac{u_{11}+u_{12}}{2}I +\\frac{u_{12}+u_{21}}{2}X +\\frac{u_{11}-u_{22}}{2}Z +\\frac{u_{12}-u_{21}}{2}ZX$.\n",
    "\n",
    "Therefore, if the error matrix $U$ acts on a state $|\\psi\\rangle$ then the new state $|\\psi'\\rangle=U|\\psi\\rangle=\\frac{u_{11}+u_{12}}{2}I|\\psi\\rangle +\\frac{u_{12}+u_{21}}{2}X|\\psi\\rangle +\\frac{u_{11}-u_{22}}{2}Z|\\psi\\rangle +\\frac{u_{12}-u_{21}}{2}ZX|\\psi\\rangle$\n",
    "\n",
    "Upon measuring the error syndrome the superposition will collapse to one of the four possibilities and can be corrected by the application of gates X, Z or ZX or by doing nothing in the case of no errors."
   ]
  },
  {
   "cell_type": "markdown",
   "metadata": {
    "slideshow": {
     "slide_type": "slide"
    }
   },
   "source": [
    "## 25.8 Conclusions\n",
    "\n",
    "In this lesson, we've discussed basic quantum error correction techniques. Although Shor's code is quite powerful it is not optimal. It requires more qubits than necessary to correct the errors. Later Calderbank, Shor and Steane developed a 7-qubit code, called CSS code, that does the same. This was further optimized to just 5-qubits by Laflamme, Miguel, Paz and Zurek.\n",
    "\n",
    "Here, obviously, we've assumed that the encoding and decoding processes are perfectly free of error. In practice this is never the case and is addressed by the theory of fault-tolerant quantum computing."
   ]
  }
 ],
 "metadata": {
  "celltoolbar": "Slideshow",
  "kernelspec": {
   "display_name": "Python 3",
   "language": "python",
   "name": "python3"
  },
  "language_info": {
   "codemirror_mode": {
    "name": "ipython",
    "version": 3
   },
   "file_extension": ".py",
   "mimetype": "text/x-python",
   "name": "python",
   "nbconvert_exporter": "python",
   "pygments_lexer": "ipython3",
   "version": "3.6.4"
  }
 },
 "nbformat": 4,
 "nbformat_minor": 2
}
